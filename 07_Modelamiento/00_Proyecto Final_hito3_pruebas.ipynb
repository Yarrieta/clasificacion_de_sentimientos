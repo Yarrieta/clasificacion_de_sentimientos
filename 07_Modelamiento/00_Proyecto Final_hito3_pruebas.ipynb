{
 "cells": [
  {
   "cell_type": "markdown",
   "metadata": {},
   "source": [
    "\n",
    "<br><br>\n",
    "<img src=\"Logo.png\" width=150 height=150 align= left >\n",
    "<div class=\"alert alert-block alert-success\">\n",
    "<br><br>\n",
    "    <h1 style=\"text-align: center; color: #000000\"><u>SENTI-TRUSTER</u></h1>\n",
    "<h2 style=\"text-align: center; color: #000000\">Clasificación de sentimientos en base a comentarios de compradores en tiendas <br> E-Commerce</h2>\n",
    "</div>"
   ]
  },
  {
   "cell_type": "markdown",
   "metadata": {},
   "source": [
    "### Fecha: 28-01-2021\n",
    "### Curso: G17\n",
    "### Docentes: Andrea, Gianina Salomó"
   ]
  },
  {
   "cell_type": "markdown",
   "metadata": {},
   "source": [
    "---------------------------"
   ]
  },
  {
   "cell_type": "markdown",
   "metadata": {},
   "source": [
    "<H1 align=\"center\"> <div class=\"alert alert-block alert-info\"><b></b> 1. Equipo de Trabajo</div></H1>"
   ]
  },
  {
   "cell_type": "markdown",
   "metadata": {},
   "source": [
    "### Lider de equipo y Desarrollador Front-End: \n",
    "#### Sebastian Veloso\n",
    "\n",
    "- **`Descripción de cargo Lider de equipo:`** Gestionar la continuidad de las etapas del proyecto, administrando la información de cada proceso, desde la definición del tema de trabajo hasta la entrega del producto terminado al cliente de acuerdo con lo planificado.\n",
    "- **Funciones principales:**\n",
    "    - Supervisar la continuidad de la operación, organizando y dando seguimiento a la ejecución de los trabajos de acuerdo a la planificación, según las especificaciones definidas en el sistema de calidad.\t\t\t\t\t\n",
    "    - Brindar apoyo y generar recomendaciones al equipo, para la optimización de los procesos, herramientas y resultados del trabajo.\n",
    "    - Supervisar la información final de la documentación de cada uno de los hitos.\n",
    "    \n",
    "- **`Descripción de cargo Desarrollador Front-End:`** Diseñar y programar la herramienta o plataforma para la visualización del proyecto dentro de los plazos definidos.\n",
    "\n",
    "- **Funciones principales:**\n",
    "    - Analizar posibles soluciones para generar una visualización apropiada para el proyecto.\t\t\t\t\n",
    "\t- Crear e implementar la vista de la aplicación del modelo, considerando la experiencia del usuario.\n",
    "\n",
    "### Ingeniero de Datos (Extracción): \n",
    "#### Pablo Brierley\n",
    "- **`Descripción de cargo Ingeniero de Datos:`** Asegurar la disponibilidad de los datos requeridos para la posterior etapa de modelación, y diseño de modelos de datos para el proceso de programas claves y entidades de datos.\n",
    "- **Funciones principales:**\n",
    "    - Crear, validar y mantener soluciones ETL escalables y robustas mediante el web scraping. \n",
    "    - Aplicación de técnicas de transformación de datos a un formato estructurado como .csv\n",
    "\n",
    "### Ingeniera de Modelamiento y Ingeniera de Datos (Backup): \n",
    "#### Maite Astete\n",
    "- **`Descripción de cargo Ingeniera de Modelamiento:`** Proponer, desarrollar e implementar los modelos de machine learning de acuerdo a las características del problema, evaluando resultados y realizando ajustes para obtener un modelo satisfactorio.\n",
    "- **Funciones principales:**\n",
    "    - Implementar y documentar las etapas específicas de los modelos de Machine Learning.\n",
    "    - Construir reportes del modelamiento, y mantenerlos en Google colab.\n",
    "    - Calcular indicadores que midan el impacto de los productos, apoyando metodológicamente las mediciones del impacto del producto en desarrollo.\n",
    "\n",
    "- **`Descripción de cargo Ingeniera de Datos:`** Asegurar la disponibilidad de los datos requeridos para la posterior etapa de modelación, y diseño de modelos de datos para el proceso de programas claves y entidades de datos.\n",
    "- **Funciones principales:**\n",
    "    - Crear, validar y mantener soluciones ETL escalables y robustas mediante el web scraping. \n",
    "    - Aplicación de técnicas de transformación de datos a un formato estructurado como .csv\n",
    "\n",
    "### Ingeniera de pre-procesamiento y Analista de Datos: \n",
    "#### Yessika Arrieta\n",
    "- **`Descripción de cargo Analista de Datos:`** El analista de datos tiene la misión de explorar los hechos a partir de los datos con preguntas específicas, facilitando la compresión de los fenómenos a partir de visualizaciones precisas\n",
    "- **Funciones principales:**\n",
    "    - Realización de consultas a sistemas de bases de bases de datos.\n",
    "    - Realización de estadísticas descriptivas de los datos.\n",
    "    - Generación de reportes de visualización de datos, buscando visualizaciones óptimas para la compresión de cada fenómeno.\n",
    "                            \n",
    "\n",
    "### Documentador, Control de Calidad y Validación de Datos: \n",
    "#### Danny Blanco\n",
    "\n",
    "- **`Descripción de cargo Documentador:`** Asegurar la correcta documentación y cumplimiento de los requerimientos de los hitos. Brindar un buen servicio, respuesta e información al equipo y clientes.\n",
    "\n",
    "- **Funciones principales:**\n",
    "    - Ingreso y control de la documentación.\n",
    "    - Revisión de los requerimientos de los hitos para asegurar su completitud, respondiendo a un orden logico de organización y en forma.\n",
    "    - Asegurar la claridad de la información documentada.\n",
    "    - Asegurar el ingreso del desarrollo de cada uno de los hitos a la plataforma de presentación empresarial\n",
    "                        \n",
    "- **`Descripción de cargo Control de Calidad:`** Establecer y custodiar el proceso de ingeniería de datos y control de calidad para el repositorio de datos. Velar por la seguridad, linaje y transformaciones que debe tener la información dentro de la plataforma\n",
    "\n",
    "- **Funciones principales:**\n",
    "    - Asegurar la consistencia de información entre los diferentes repositorios.\n",
    "    - Reportar la estabilidad y robustez de los procesos de datos y de la información.\n",
    "    - Velar que se cumpla la estructura y modelo de datos documentados.\n",
    "    - Establecer métricas y seguimiento para asegurar la calidad de la información.\n",
    "    - Construir modelos y automatizar las validaciones de información.\n",
    "    - Verificar y analizar los resultados de las pruebas.\n",
    "    - Coordinar y efectuar seguimiento hasta la validación con el usuario.\n",
    "    - Ejecutar pruebas, categorizar y priorizar la resolución de incidencias detectadas"
   ]
  },
  {
   "cell_type": "markdown",
   "metadata": {},
   "source": [
    "-------------------------------------------------------"
   ]
  },
  {
   "cell_type": "markdown",
   "metadata": {},
   "source": [
    "<H1 align=\"center\"> <div class=\"alert alert-block alert-info\"><b></b>2. Descripción del tema</div></H1>"
   ]
  },
  {
   "cell_type": "markdown",
   "metadata": {},
   "source": [
    "La mayoría de las grandes ideas nacen de pensar en soluciones a problemas rutinarios y de las necesidades no resueltas. El 2020 fue un año de cambios radicales, acelerando la movilización y transformación digital,\n",
    "definitivamente fue el año en que el E-Commerce empujó a todos los incrédulos evidenciando los grandes problemas del mercado digital. \n",
    "\n",
    "Si integramos ambas visiones expuestas, hoy hemos decidido salir a la búsqueda de soluciones y aportar nuestro grano de arena ayudando a los usuarios a tener aquella información que todos almacenamos en los sitios web en donde compramos nuestros productos, pero normalmente es invisibilizada por las compañías de E-Commerce. Con esto, no hablamos más que de los miles o quizás millones de comentarios que dejamos a diario en los sitios web en donde compramos y que es el foco y tema de nuestra investigación"
   ]
  },
  {
   "cell_type": "markdown",
   "metadata": {},
   "source": [
    "<H1 align=\"center\"> <div class=\"alert alert-block alert-info\"><b></b> 3. Nuestro proceso</div></H1>"
   ]
  },
  {
   "cell_type": "markdown",
   "metadata": {},
   "source": [
    "<img src=\"diagrama_proceso.png\" width=800 height=500 align= center >"
   ]
  },
  {
   "cell_type": "markdown",
   "metadata": {},
   "source": [
    "1. **Obtención de los datos:** Los datos han sido obtenidos a través del método web scraping utilizando programas como: ``Fiddler web debuger``, ``Helium web scrapper``, ``Htmlfind procesador de textos``, ``Grepwin corrector de palabras``, ``Notepad++`` , los sitios web explorados son: **www.linio.cl , www.ripley.cl , www.paris.cl**."
   ]
  },
  {
   "cell_type": "markdown",
   "metadata": {},
   "source": [
    "2. **Entendimiento del negocio:** Hasta hoy, la estrategia normal de clasificación de productos es en base a una escala numérica representada por estrellas y es la herramienta más habitual para proporcionar información de calidad de productos a futuros compradores, sin olvidar que hoy existen herramientas innovadoras como el \"análisis de sentimientos\".\n",
    "\n",
    "``**¿Qué nos aporta el análisis de sentimientos como nueva herramienta de calificación?**`` \n",
    "\n",
    "``**¿El sistema de estrellas y comentarios proporciona información para satisfacer las decisiones de compra de los usuarios de e-commerce?**``\n",
    "\n",
    "La clasificación a través del análisis de sentimientos es una herramienta incipiente para comprender las opiniones y expectativas detalladas del cliente y permiten identificar con mayor precisión los nuevos requerimientos de los usuarios.\n",
    "\n",
    "Para efectos de este análisis el ``el vector objetivo`` será la calificación de estrellas y será considerada como etiquetas de sentimientos para los comentarios de las personas las cuales serán convertidas a conceptos.\n",
    "\n",
    "Considerando las limitaciones al acceso de los datos se trabajará con una muestra de las empresas de retail Linio, Paris y Ripley de categorías tales como: Videojuegos, Belleza, Deportes entre otras.\n",
    "\n",
    "No se visualiza la existencia de datos sensibles puesto que los datos extraídos contempla información abierta a todo usuario en la web.\n",
    "\n",
    "Los datos nulos, en blanco o perdidos serán explorados solo con fines analíticos y posteriormente serán eliminados.\n",
    "\n",
    "A nivel exploratorio la mayoría de los atributos corresponden a texto mientras que los atributos numéricos se asocian al precio y la calificación en estrellas.\n",
    "\n",
    "Las estrategias analíticas a nivel descriptivo a utilizar fue un análisis de frecuencia de las palabras que componen los comentarios depurados también se reviso el balance de clases.\n",
    "\n",
    "La modelación corresponde a un problema de clasificación de carácter supervisado en donde se implementaron algoritmos que de acuerdo a la literatura son apropiados para análisis de texto. LinearSVC, MultinomialNB,RandomForestClassifier, Decisiontreeclassifier, AdaBoostClassifier, GradientBoostingClassifier, xgBoostClassifier. Se evaluará en función de la métrica F1.La modelación corresponde a un problema de clasificación de carácter supervisado en donde se implementaron algoritmos que de acuerdo a la literatura son apropiados para análisis de texto. LinearSVC, MultinomialNB,RandomForestClassifier, Decisiontreeclassifier, AdaBoostClassifier, GradientBoostingClassifier, xgBoostClassifier. Se evaluará en función de la métrica F1."
   ]
  },
  {
   "cell_type": "markdown",
   "metadata": {},
   "source": [
    "3. **Entendimiento de los datos:** Este proceso es liderado por el Ingeniero de Datos acompañado del Líder de Proyecto. Corresponde a las primeras exploraciones tras la obtención de los primeros volúmenes de datos, a fin de establecer la estrategia de Transformación o Pre-procesamiento."
   ]
  },
  {
   "cell_type": "markdown",
   "metadata": {},
   "source": [
    "4. **Preparación de los datos:** La información extraida fue almacenada en Google Drive para revisión por parte del área de “Control de Calidad y Validación” en donde se garantizo la fidelidad de los datos.\n",
    "\n",
    "Se cuentan con 85.487 registros, de 15 categorías de productos: Celulares y tablets, computación, consolas y videojuegos, hogar, electrodomésticos, ferretería y automotriz, belleza y cuidado personal, salud y bienestar, moda, deportes, libros y música, juguetes, niños y bebés, , productos a importar, supermercado y más; tv, audio y fotografía. \n",
    "\n",
    "Cada uno de los registros contaría con los siguientes atributos: categoría, código interno o\n",
    "SKU, nombre del producto, precio, URL de la foto del producto, vendedor, marca, modelo, tamaño, descripción, precio internet, precio oferta, autor del comentario, comentarios del 1 al 10, rating del 1 al 10.\n",
    "\n",
    "``Transformación de la datos``\n",
    "Para efectos de limpieza y transformación de los datos en bruto, se procederá con la etapa de normalización, que consiste en la revisión y eliminación de caracteres especiales, previa validación de control de calidad, excepto aquellos que corresponden a emoticones o que den cuenta de un sentimiento o posición respecto al producto, puesto que aportan valor a la datos. Este proceso se realizará con “HTMLFIND procesador de textos”, “Grepwin corrector de palabras” y “Notepad++”.\n",
    "\n",
    "Posterior a la refinación y preprocesamiento de las palabras, en la etapa de tokenización, se busca representar cada oración en una matriz (o corpus) que refleja la cantidad de ocurrencias de palabra en un registro. Para ello, se utilizarán los métodos de scikitlearn “CountVectorizer” y/o “ TfidfVectorizer”, obteniendo un conjunto de características mediante la frecuencia de ocurrencia de una palabra o término en el texto analizado. Luego, se agregarán los stopwords para eliminar alta ocurrencia de palabras comunes que no contribuyen al análisis, utilizando la librería nltk (Natural Language ToolKit) o similar.\n",
    "\n",
    "Finalmente, como medida de control de overfitting se procederá con la lematización, que consiste en la reducción de aquellas palabras que cuentan con un tronco léxico común; ejemplo: Organización, Organiza, y Organizado presentan “organi_” como tronco léxico en comúm) o, alternativamente con Stemming, que comprende la reducción de una palabra a una expresión generalizable. Cabe destacar que ésta última carece de análisis morfológico del lenguaje.\n",
    "\n",
    "``Carga de la datos`` Los datos transformados se guardarán en formato “.csv” u otro ad hoc, para ser sometida a control de calidad. Posteriormente, y considerando el feedback entregado luego de la revisión, se efectuarán los cambios requeridos, hasta la carga final y disponibilización de los datos para su análisis.4. **Preparación de los datos:** La información extraida fue almacenada en Google Drive para revisión por parte del área de “Control de Calidad y Validación” en donde se garantizo la fidelidad de los datos.\n",
    "\n",
    "Se cuentan con 85.487 registros, de 15 categorías de productos: Celulares y tablets, computación, consolas y videojuegos, hogar, electrodomésticos, ferretería y automotriz, belleza y cuidado personal, salud y bienestar, moda, deportes, libros y música, juguetes, niños y bebés, , productos a importar, supermercado y más; tv, audio y fotografía. \n",
    "\n",
    "Cada uno de los registros contaría con los siguientes atributos: categoría, código interno o\n",
    "SKU, nombre del producto, precio, URL de la foto del producto, vendedor, marca, modelo, tamaño, descripción, precio internet, precio oferta, autor del comentario, comentarios del 1 al 10, rating del 1 al 10.\n",
    "\n",
    "``Transformación de la datos``\n",
    "Para efectos de limpieza y transformación de los datos en bruto, se procederá con la etapa de normalización, que consiste en la revisión y eliminación de caracteres especiales, previa validación de control de calidad, excepto aquellos que corresponden a emoticones o que den cuenta de un sentimiento o posición respecto al producto, puesto que aportan valor a la datos. Este proceso se realizará con “HTMLFIND procesador de textos”, “Grepwin corrector de palabras” y “Notepad++”.\n",
    "\n",
    "Posterior a la refinación y preprocesamiento de las palabras, en la etapa de tokenización, se busca representar cada oración en una matriz (o corpus) que refleja la cantidad de ocurrencias de palabra en un registro. Para ello, se utilizarán los métodos de scikitlearn “CountVectorizer” y/o “ TfidfVectorizer”, obteniendo un conjunto de características mediante la frecuencia de ocurrencia de una palabra o término en el texto analizado. Luego, se agregarán los stopwords para eliminar alta ocurrencia de palabras comunes que no contribuyen al análisis, utilizando la librería nltk (Natural Language ToolKit) o similar.\n",
    "\n",
    "Finalmente, como medida de control de overfitting se procederá con la lematización, que consiste en la reducción de aquellas palabras que cuentan con un tronco léxico común; ejemplo: Organización, Organiza, y Organizado presentan “organi_” como tronco léxico en comúm) o, alternativamente con Stemming, que comprende la reducción de una palabra a una expresión generalizable. Cabe destacar que ésta última carece de análisis morfológico del lenguaje.\n",
    "\n",
    "``Carga de la datos`` Los datos transformados se guardarán en formato “.csv” u otro ad hoc, para ser sometida a control de calidad. Posteriormente, y considerando el feedback entregado luego de la revisión, se efectuarán los cambios requeridos, hasta la carga final y disponibilización de los datos para su análisis."
   ]
  },
  {
   "cell_type": "markdown",
   "metadata": {},
   "source": [
    "5. **Analítica:** Se realizará a fin de comprender los atributos que conforman la data, su tipo, número de observaciones, distribución de las variables, concentraciones de valores, datos perdidos, outliers, entre otros. Para ello, se implementarán los siguientes pasos:\n",
    "    - Se importará la base de datos para explorar la información provista por el Ingeniero de datos y validada por control de calidad.\n",
    "    - Se construirá el vector objetivo, en base a la calificación de estrellas asociadas a cada producto.\n",
    "    - Se revisará la presencia y distribución de datos nulos para efectos de análisis y comprensión de la data, siendo posteriormente eliminados, ya que estos corresponderían a calificaciones asignadas que no poseen comentarios.\n",
    "    - Se explorará la frecuencia de las variables categóricas nominales y se aplicará la función \".describe()\" para las variables numéricas. \n",
    "    - Se revisará la distribución de las variables categóricas mediante gráficos de barras. Y para variables numéricas a través de histogramas.\n",
    "    - Se explorará la distribución de la variable continua, agrupada por una variable categórica.\n",
    "    - Se revisará la distribución de las clases en el vector objetivo.\n",
    "\n",
    "Para efectos del pre-procesamiento de Texto, el Analista de datos actuará como soporte del Ingeniero de Datos en sus requerimientos."
   ]
  },
  {
   "cell_type": "markdown",
   "metadata": {},
   "source": [
    "6. **Modelamiento:**  \n",
    "\n",
    "``Estrategia de división de muestras``\n",
    "Se procederá con la división de la muestra correspondiente al periodo julio – diciembre del 2020, aplicando el método train_test_split de la librería scikit learn, entrenando los modelos con el 70% del set de datos, y dejando un 30% como conjunto de \"test”. Se reservará la data obtenida para el 2021 como conjunto de validación.\n",
    "\n",
    "``Entrenamiento``\n",
    "Considerando que el problema corresponde a uno de clasificación de carácter supervisado, se propone la implementación de los siguientes modelos, en primera instancia, sin modificación de hiperparámetros: Support Vector Machine, MultinomialNB, Random Forest. Decission Tree Classifier, AdaBoost Classifier, Gradient Boosting Classifier.\n",
    "\n",
    "La definición del mejor modelo se basará en métricas obtenidas a partir de \"Classification Report\", a saber: Precision, Recall o F1; además de ponderar aspectos computacionales como el tiempo que toma entrenar el modelo. En particular, se evaluará “Precision” puesto que indicaría que tan confiable es el modelo al identificar la clase.Una vez entrenados los modelos, se procederá a evaluar las métricas obtenidas tanto en el set de entrenamiento como en el de testing, para identificar la capacidad de generalización de cada uno de los modelos y, por tanto, la existencia de overfitting y underfitting.\n",
    "\n",
    "``Optimización``\n",
    "Luego de haber implementado los modelos propuestos y analizar los resultados obtenidos, se definirá una grilla de hiperparámetros para cada uno, con miras a obtener un modelo predictivo con el mejor desempeño posible. Ello se implementará con GridSearch con validación cruzada. De la misma manera que en el punto anterior, se evaluarán las métricas de desempeño en el train y test set.\n",
    "\n",
    "``Validación``\n",
    "Posteriormente, se elaborará un ranking de los modelos en base a los resultados obtenidos en el proceso de optimización, descartando los 3 con menor desempeño, para pasar a la etapa de validación con la data de 2021, proceso del cual emergerá el mejor modelo para el problema propuesto.  \n",
    "En cada uno de los pasos mencionados se pondrá a disposición del equipo de “Control de calidad y Validación” los datos que sean requeridos, para su revisión y feedback para implementar ajustes."
   ]
  },
  {
   "cell_type": "markdown",
   "metadata": {},
   "source": [
    "7. **Evaluación:**   -----------------------------------------------------------"
   ]
  },
  {
   "cell_type": "markdown",
   "metadata": {},
   "source": [
    "8. **Implementación:** Dado lo relevante de la comunicación de resultados para cualquier estudio o proyecto, se implementará una plataforma piloto para que cualquier usuario pueda consultar y consumir el o los modelos desarrollados en el presente estudio. \n",
    "\n",
    "Para estos fines el front-end será construído utilizando la librería de código abierto en python llamda Streamlit (www.streamlit.io), la cual posee una alta compatibilidad con las principales librerias y frameworks de machine learning."
   ]
  },
  {
   "cell_type": "markdown",
   "metadata": {},
   "source": [
    "9. **Control de Calidad:**  El proceso de control de calidad vigila y supervisa el desarrollo de todos los procesos definidos para cumplir los objetivos. Para desarrollar la estrategia de calidad, se comenzará por el análisis de los requerimientos del negocio, los cuales son la base de las medidas de calidad.  Dado la complejidad detectada en el proceso de extracción de los datos, será una arista crítica  la calidad y validación de éstos, con el fin de comprobar  y determinar si representan la realidad de los datos contenidos en las fuentes de e-commerce. Este proceso de auditoría tiene por objetivos: \n",
    "\n",
    "    - Valorar la calidad de los datos notificados durante un periodo de evaluación dado.\n",
    "    - Valorar la capacidad de los sistemas de gestión de datos para recopilar, transmitir, documentar y notificar datos de calidad. \n",
    "\n",
    "En este caso, la evaluación de la calidad del dato se realiza mediante el cumplimiento de métricas de exactitud e integridad.Adicionalmente, calidad participará como un ente de garantía y acreditador en todos los procesos en que se realicen pruebas de validación, tales como: Modelamiento - Evaluación e implementación."
   ]
  },
  {
   "cell_type": "markdown",
   "metadata": {},
   "source": [
    "10. **Documentación:** Constituye una actividad clave, de carácter transversal y de soporte para todos los procesos del proyecto. Es preciso definir, en primer lugar, la estrategia documental para el proyecto, considerando las necesidades y requerimientos de cada fase.\n",
    "\n",
    "Para el apropiado almacenamiento y disponibilidad de la información, se utilizarán herramientas y plataformas digitales colaborativas como, por ejemplo, Google Drive.\n",
    "\n",
    "En el caso del registro de la información, se planificará la generación de reportes y/o documentos en cada etapa, en coordinación con los miembros del equipo, para su adecuado uso, actualización y estandarización en función de los avances alcanzados y parámetros de calidad definidos, asegurando el orden y control de versiones, evitando confusiones y errores en el flujo de la información.  Un caso que requiere especial cuidado es la documentación de los códigos, siendo clave dicha información a la hora de hacer la entrega final del producto.\n",
    "\n",
    "Como parte del proceso se contempla la revisión de los formatos de los diversos documentos emanados a lo largo del proceso, donde el orden lógico de lo expuesto cobra relevancia; así como también, el cumplimiento de los plazos programados para entregas oficiales de avances y resultados del proyecto."
   ]
  },
  {
   "cell_type": "markdown",
   "metadata": {},
   "source": [
    "<H1 align=\"center\"> <div class=\"alert alert-block alert-info\"><b></b> 4. Aspectos Computacionales</div></H1>"
   ]
  },
  {
   "cell_type": "code",
   "execution_count": 1,
   "metadata": {},
   "outputs": [],
   "source": [
    "#pip install xgboost"
   ]
  },
  {
   "cell_type": "code",
   "execution_count": 2,
   "metadata": {},
   "outputs": [],
   "source": [
    "#pip install catboost"
   ]
  },
  {
   "cell_type": "code",
   "execution_count": 253,
   "metadata": {},
   "outputs": [],
   "source": [
    "# Uso general y exploracion de data\n",
    "import pandas as pd\n",
    "import numpy as np\n",
    "import csv\n",
    "import missingno as msno\n",
    "import io\n",
    "\n",
    "# Procesamiento de Texto\n",
    "from spellchecker import SpellChecker\n",
    "spell = SpellChecker(language='es')\n",
    "from sklearn.feature_extraction.text import CountVectorizer\n",
    "import spacy\n",
    "nlp = spacy.load('es_core_news_sm', disable=[\"tagger\", \"parser\"])\n",
    "from nltk.corpus import stopwords\n",
    "from nltk.stem.snowball import SnowballStemmer\n",
    "stemmer = SnowballStemmer('spanish')\n",
    "from string import punctuation\n",
    "import re\n",
    "\n",
    "from nltk.stem import WordNetLemmatizer\n",
    "lemmatizer = WordNetLemmatizer()\n",
    "\n",
    "# Librerias Graficas\n",
    "from wordcloud import WordCloud\n",
    "import matplotlib.pyplot as plt\n",
    "import seaborn as sns\n",
    "import graphviz\n",
    "\n",
    "# Para implementar modelos de machine learning.\n",
    "from sklearn.svm import SVC, LinearSVC\n",
    "from sklearn.naive_bayes import MultinomialNB\n",
    "from sklearn.tree import DecisionTreeClassifier, plot_tree, export_graphviz\n",
    "from sklearn.ensemble import RandomForestClassifier, AdaBoostClassifier, GradientBoostingClassifier\n",
    "from sklearn.metrics import plot_confusion_matrix\n",
    "from sklearn.metrics import confusion_matrix\n",
    "from xgboost import XGBClassifier\n",
    "from catboost import CatBoostClassifier\n",
    "\n",
    "from sklearn.model_selection import train_test_split, GridSearchCV\n",
    "from sklearn.preprocessing import StandardScaler, PowerTransformer\n",
    "from sklearn.pipeline import Pipeline\n",
    "from sklearn.compose import ColumnTransformer\n",
    "from sklearn.impute import SimpleImputer\n",
    "from sklearn.metrics import classification_report, roc_curve\n",
    "from sklearn import set_config\n",
    "set_config(display = 'diagram')\n",
    "\n",
    "# Para recodificación de atributos\n",
    "from category_encoders import TargetEncoder, OrdinalEncoder, OneHotEncoder\n",
    "\n",
    "from datetime import datetime\n",
    "\n",
    "\n",
    "# funciones auxiliares\n",
    "import h2_funciones_auxiliares as fx\n",
    "\n",
    "# Para serialización\n",
    "import pickle\n",
    "\n",
    "# Excepciones y configuraciones generales y de entorno\n",
    "import warnings\n",
    "warnings.filterwarnings('ignore')"
   ]
  },
  {
   "cell_type": "markdown",
   "metadata": {},
   "source": [
    "<H1 align=\"center\"> <div class=\"alert alert-block alert-info\"><b></b> 5. Extracción de la Data</div></H1>"
   ]
  },
  {
   "cell_type": "markdown",
   "metadata": {},
   "source": [
    "<img src=\"extracción.jpg\" width=1200 height=1200 align= center >"
   ]
  },
  {
   "cell_type": "markdown",
   "metadata": {},
   "source": [
    "<H1 align=\"center\"> <div class=\"alert alert-block alert-info\"><b></b> 6. Ajustes Generales y Feature Engineering</div></H1>"
   ]
  },
  {
   "cell_type": "markdown",
   "metadata": {},
   "source": [
    "En este capítulo se aborda al importación de data proveniente del proceso de extracción. Una de las acciones principales desarrolladas correponde al denominado en el mundo de Machine Learning como Feature Engineering , lo cual corresponde a la etapa de pre-procesamiento de los atributos del fenomeno a modelar, a fin de tener una data óptima para el entrenamiento de modelos.\n",
    "\n",
    "\n",
    "Dada la complejidad de la data, el pre-procesamiento toma exactamente ese mismo nivel, desarrollándose múltiples acciones para cada una de las fuentes de información (Linio, Ripley y Paris). En términos generales el proceso aplicado es transversal, pero cada uno tuvo matices, dada la naturaleza de las estructuras de los sitios web propios de cada uno de los retail. A continuación se describen los pasos principales y comunes en este pre-procesamiento.\n",
    "\n",
    "\n",
    "1. Generación de atributo retail.\n",
    "2. Homologación preliminar deñ atributo categoria.\n",
    "3. Reconversión de la estructura del dataframe.\n",
    "4. Reemplazo de valores vacíos y algunos caracteres\n",
    "5. Cambios de tipos de variables para los atributos\n",
    "6. Modificación / Eliminación de datos corruptos\n",
    "7. Conversión de fecha.\n",
    "\n",
    "Finalmente este proceso termina con la concatenación de los dataframe provenientes de las tres retail."
   ]
  },
  {
   "cell_type": "markdown",
   "metadata": {},
   "source": [
    "# 6.1 Carga de la Data y Ajustes Generales"
   ]
  },
  {
   "cell_type": "markdown",
   "metadata": {},
   "source": [
    "## 6.1.1 Linio"
   ]
  },
  {
   "cell_type": "markdown",
   "metadata": {},
   "source": [
    "###  a) Carga de data"
   ]
  },
  {
   "cell_type": "code",
   "execution_count": 2,
   "metadata": {},
   "outputs": [],
   "source": [
    "# Carga de archivo .txt\n",
    "df_linio = pd.read_table('total_linio_con_cremillas_V3.txt', sep = \"','\", engine = 'python', names=fx.atrib_linio,\n",
    "                         index_col = False)"
   ]
  },
  {
   "cell_type": "code",
   "execution_count": 3,
   "metadata": {},
   "outputs": [
    {
     "name": "stdout",
     "output_type": "stream",
     "text": [
      "Wall time: 7.54 s\n"
     ]
    }
   ],
   "source": [
    "%%time\n",
    "df_linio_preproc = fx.preproc_lineo(df_linio)"
   ]
  },
  {
   "cell_type": "markdown",
   "metadata": {},
   "source": [
    "## 6.1.2 Ripley"
   ]
  },
  {
   "cell_type": "markdown",
   "metadata": {},
   "source": [
    "###  a) Carga de data"
   ]
  },
  {
   "cell_type": "code",
   "execution_count": 4,
   "metadata": {},
   "outputs": [],
   "source": [
    "# Carga de archivo .txt\n",
    "df_ripley= pd.read_table('20210120_ripley_V3.txt', sep = \"','\", engine = 'python', names = fx.atrib_ripley, index_col = False)"
   ]
  },
  {
   "cell_type": "markdown",
   "metadata": {},
   "source": [
    "### b) Pre-procesamiento"
   ]
  },
  {
   "cell_type": "code",
   "execution_count": 5,
   "metadata": {},
   "outputs": [
    {
     "name": "stdout",
     "output_type": "stream",
     "text": [
      "Wall time: 20.4 s\n"
     ]
    }
   ],
   "source": [
    "%%time\n",
    "df_ripley_preproc = fx.preproc_ripley(df_ripley)"
   ]
  },
  {
   "cell_type": "markdown",
   "metadata": {},
   "source": [
    "## 6.1.3 Paris"
   ]
  },
  {
   "cell_type": "markdown",
   "metadata": {},
   "source": [
    "###  a) Carga de data"
   ]
  },
  {
   "cell_type": "code",
   "execution_count": 6,
   "metadata": {},
   "outputs": [],
   "source": [
    "# Carga de archivo .txt\n",
    "df_paris = pd.read_table('20210120_14_16_paris_V2.txt', sep = \"','\", engine = 'python', names= fx.atrib_paris,\n",
    "                         index_col = False)"
   ]
  },
  {
   "cell_type": "markdown",
   "metadata": {},
   "source": [
    "### b) Pre-procesamiento"
   ]
  },
  {
   "cell_type": "code",
   "execution_count": 7,
   "metadata": {},
   "outputs": [
    {
     "name": "stdout",
     "output_type": "stream",
     "text": [
      "Wall time: 1.92 s\n"
     ]
    }
   ],
   "source": [
    "%%time\n",
    "df_paris_preproc = fx.preproc_paris(df_paris)"
   ]
  },
  {
   "cell_type": "markdown",
   "metadata": {},
   "source": [
    "## 6.1.4 Total Retail"
   ]
  },
  {
   "cell_type": "code",
   "execution_count": 8,
   "metadata": {},
   "outputs": [],
   "source": [
    "list_df = [df_linio_preproc, df_ripley_preproc, df_paris_preproc]\n",
    "df_retail = pd.concat(list_df, axis=0)"
   ]
  },
  {
   "cell_type": "code",
   "execution_count": 9,
   "metadata": {},
   "outputs": [
    {
     "data": {
      "text/html": [
       "<div>\n",
       "<style scoped>\n",
       "    .dataframe tbody tr th:only-of-type {\n",
       "        vertical-align: middle;\n",
       "    }\n",
       "\n",
       "    .dataframe tbody tr th {\n",
       "        vertical-align: top;\n",
       "    }\n",
       "\n",
       "    .dataframe thead th {\n",
       "        text-align: right;\n",
       "    }\n",
       "</style>\n",
       "<table border=\"1\" class=\"dataframe\">\n",
       "  <thead>\n",
       "    <tr style=\"text-align: right;\">\n",
       "      <th></th>\n",
       "      <th>retail</th>\n",
       "      <th>categoria</th>\n",
       "      <th>codigo</th>\n",
       "      <th>producto</th>\n",
       "      <th>precio_original</th>\n",
       "      <th>precio_internet</th>\n",
       "      <th>precio_oferta</th>\n",
       "      <th>comentario</th>\n",
       "      <th>rating</th>\n",
       "      <th>año</th>\n",
       "      <th>mes</th>\n",
       "    </tr>\n",
       "  </thead>\n",
       "  <tbody>\n",
       "    <tr>\n",
       "      <th>0</th>\n",
       "      <td>linio</td>\n",
       "      <td>belleza</td>\n",
       "      <td>TO171HB0KQWUCLACL</td>\n",
       "      <td>Productos de Belleza y Cuidado Personal - Lini...</td>\n",
       "      <td>36990.0</td>\n",
       "      <td>19990.0</td>\n",
       "      <td>32990.0</td>\n",
       "      <td>NaN</td>\n",
       "      <td>5.0</td>\n",
       "      <td>NaN</td>\n",
       "      <td>NaN</td>\n",
       "    </tr>\n",
       "    <tr>\n",
       "      <th>1</th>\n",
       "      <td>linio</td>\n",
       "      <td>belleza</td>\n",
       "      <td>AG139HB1LZQPCLACL</td>\n",
       "      <td>Productos de Belleza y Cuidado Personal - Lini...</td>\n",
       "      <td>19990.0</td>\n",
       "      <td>14990.0</td>\n",
       "      <td>39990.0</td>\n",
       "      <td>NaN</td>\n",
       "      <td>5.0</td>\n",
       "      <td>NaN</td>\n",
       "      <td>NaN</td>\n",
       "    </tr>\n",
       "    <tr>\n",
       "      <th>2</th>\n",
       "      <td>linio</td>\n",
       "      <td>belleza</td>\n",
       "      <td>LA185HB09U9G6LACL</td>\n",
       "      <td>Productos de Belleza y Cuidado Personal - Lini...</td>\n",
       "      <td>110000.0</td>\n",
       "      <td>75890.0</td>\n",
       "      <td>44990.0</td>\n",
       "      <td>NaN</td>\n",
       "      <td>5.0</td>\n",
       "      <td>NaN</td>\n",
       "      <td>NaN</td>\n",
       "    </tr>\n",
       "    <tr>\n",
       "      <th>3</th>\n",
       "      <td>linio</td>\n",
       "      <td>belleza</td>\n",
       "      <td>GE018HB1M77PJLACL</td>\n",
       "      <td>Productos de Belleza y Cuidado Personal - Lini...</td>\n",
       "      <td>34990.0</td>\n",
       "      <td>19880.0</td>\n",
       "      <td>48990.0</td>\n",
       "      <td>NaN</td>\n",
       "      <td>5.0</td>\n",
       "      <td>NaN</td>\n",
       "      <td>NaN</td>\n",
       "    </tr>\n",
       "    <tr>\n",
       "      <th>4</th>\n",
       "      <td>linio</td>\n",
       "      <td>belleza</td>\n",
       "      <td>CA148HB1KFMTTLACL</td>\n",
       "      <td>Productos de Belleza y Cuidado Personal - Lini...</td>\n",
       "      <td>89648.0</td>\n",
       "      <td>68960.0</td>\n",
       "      <td>53990.0</td>\n",
       "      <td>NaN</td>\n",
       "      <td>5.0</td>\n",
       "      <td>NaN</td>\n",
       "      <td>NaN</td>\n",
       "    </tr>\n",
       "  </tbody>\n",
       "</table>\n",
       "</div>"
      ],
      "text/plain": [
       "  retail categoria             codigo  \\\n",
       "0  linio   belleza  TO171HB0KQWUCLACL   \n",
       "1  linio   belleza  AG139HB1LZQPCLACL   \n",
       "2  linio   belleza  LA185HB09U9G6LACL   \n",
       "3  linio   belleza  GE018HB1M77PJLACL   \n",
       "4  linio   belleza  CA148HB1KFMTTLACL   \n",
       "\n",
       "                                            producto  precio_original  \\\n",
       "0  Productos de Belleza y Cuidado Personal - Lini...          36990.0   \n",
       "1  Productos de Belleza y Cuidado Personal - Lini...          19990.0   \n",
       "2  Productos de Belleza y Cuidado Personal - Lini...         110000.0   \n",
       "3  Productos de Belleza y Cuidado Personal - Lini...          34990.0   \n",
       "4  Productos de Belleza y Cuidado Personal - Lini...          89648.0   \n",
       "\n",
       "   precio_internet  precio_oferta comentario  rating  año  mes  \n",
       "0          19990.0        32990.0        NaN     5.0  NaN  NaN  \n",
       "1          14990.0        39990.0        NaN     5.0  NaN  NaN  \n",
       "2          75890.0        44990.0        NaN     5.0  NaN  NaN  \n",
       "3          19880.0        48990.0        NaN     5.0  NaN  NaN  \n",
       "4          68960.0        53990.0        NaN     5.0  NaN  NaN  "
      ]
     },
     "execution_count": 9,
     "metadata": {},
     "output_type": "execute_result"
    }
   ],
   "source": [
    "df_retail.head()"
   ]
  },
  {
   "cell_type": "markdown",
   "metadata": {},
   "source": [
    "A continuación se observan los atributos resultantes para el dataframe integrado entre retails."
   ]
  },
  {
   "cell_type": "code",
   "execution_count": 10,
   "metadata": {},
   "outputs": [
    {
     "name": "stdout",
     "output_type": "stream",
     "text": [
      "<class 'pandas.core.frame.DataFrame'>\n",
      "Int64Index: 129619 entries, 0 to 6508\n",
      "Data columns (total 11 columns):\n",
      " #   Column           Non-Null Count   Dtype  \n",
      "---  ------           --------------   -----  \n",
      " 0   retail           129619 non-null  object \n",
      " 1   categoria        129618 non-null  object \n",
      " 2   codigo           129323 non-null  object \n",
      " 3   producto         120439 non-null  object \n",
      " 4   precio_original  61778 non-null   float64\n",
      " 5   precio_internet  112999 non-null  float64\n",
      " 6   precio_oferta    11237 non-null   float64\n",
      " 7   comentario       63964 non-null   object \n",
      " 8   rating           26308 non-null   float64\n",
      " 9   año              30949 non-null   float64\n",
      " 10  mes              30949 non-null   float64\n",
      "dtypes: float64(6), object(5)\n",
      "memory usage: 11.9+ MB\n"
     ]
    }
   ],
   "source": [
    "df_retail.info()"
   ]
  },
  {
   "cell_type": "code",
   "execution_count": 11,
   "metadata": {},
   "outputs": [],
   "source": [
    "#df_retail.to_csv('total_retail.csv', index = False)"
   ]
  },
  {
   "cell_type": "markdown",
   "metadata": {},
   "source": [
    "<H1 align=\"center\"> <div class=\"alert alert-block alert-info\"><b></b> 7.  Análisis exploratorio</div></H1>"
   ]
  },
  {
   "cell_type": "markdown",
   "metadata": {},
   "source": [
    "El presente análisis exploratorio considera las siguientes etapas:\n",
    "\n",
    "    7.1 Análisis de representatividad de la data por años.\n",
    "    7.2 División de la data (Trainig y Validación).\n",
    "      7.2.1 Análisis de datos nulos\n",
    "      7.2.2 Análisis de correlaciones entre variables\n",
    "      7.2.3 Análisis de outlayers\n",
    "      \n",
    "Cada uno de los pasos detallados serán explicaos en detalle, en la medida en que sean instanciados."
   ]
  },
  {
   "cell_type": "markdown",
   "metadata": {},
   "source": [
    "## 7.1. Análisis de representatividad de la data por años y exploración inicial"
   ]
  },
  {
   "cell_type": "markdown",
   "metadata": {},
   "source": [
    "A continuación se puede ver la distribución de la data recolectada en función del año en que se generó. El grupo de información más importante corresponde al año 2020, alcanzando 20.129 registros, seguido por el año 2021 que alcanza los 2021 registros."
   ]
  },
  {
   "cell_type": "code",
   "execution_count": 12,
   "metadata": {},
   "outputs": [
    {
     "data": {
      "text/plain": [
       "2020.0    21029\n",
       "2021.0     5468\n",
       "2019.0     1968\n",
       "2018.0     1885\n",
       "2017.0      572\n",
       "2016.0       24\n",
       "2219.0        3\n",
       "Name: año, dtype: int64"
      ]
     },
     "execution_count": 12,
     "metadata": {},
     "output_type": "execute_result"
    }
   ],
   "source": [
    "# Frecuencia de rating por año\n",
    "df_retail['año'].value_counts()"
   ]
  },
  {
   "cell_type": "code",
   "execution_count": 13,
   "metadata": {},
   "outputs": [],
   "source": [
    "# Eliminación de años 2016, 2017,2018,2019,2219  \n",
    "df_retail = df_retail.drop(df_retail[df_retail['año']==2016.0].index)\n",
    "df_retail = df_retail.drop(df_retail[df_retail['año']==2017.0].index)\n",
    "df_retail = df_retail.drop(df_retail[df_retail['año']==2018.0].index)\n",
    "df_retail = df_retail.drop(df_retail[df_retail['año']==2019.0].index)\n",
    "df_retail = df_retail.drop(df_retail[df_retail['año']==2219.0].index)\n",
    "df_retail.reset_index(drop=True, inplace=True)"
   ]
  },
  {
   "cell_type": "code",
   "execution_count": 14,
   "metadata": {},
   "outputs": [
    {
     "data": {
      "text/plain": [
       "2020.0    20769\n",
       "2021.0     5384\n",
       "Name: año, dtype: int64"
      ]
     },
     "execution_count": 14,
     "metadata": {},
     "output_type": "execute_result"
    }
   ],
   "source": [
    "# Frecuencia de rating por año\n",
    "df_retail['año'].value_counts()"
   ]
  },
  {
   "cell_type": "code",
   "execution_count": 15,
   "metadata": {},
   "outputs": [],
   "source": [
    "#df_retail.head()"
   ]
  },
  {
   "cell_type": "code",
   "execution_count": 16,
   "metadata": {},
   "outputs": [
    {
     "data": {
      "image/png": "[encoded data removed]",
      "text/plain": [
       "<Figure size 1800x720 with 2 Axes>"
      ]
     },
     "metadata": {
      "needs_background": "light"
     },
     "output_type": "display_data"
    }
   ],
   "source": [
    "#Exploración de nulos de la data para años 2020 y 2021\n",
    "msno.matrix(df_retail)\n",
    "plt.title('Exploración de data nulos Años: 2020 y 2021', fontsize='xx-large');"
   ]
  },
  {
   "cell_type": "markdown",
   "metadata": {},
   "source": [
    "**Comentarios:**\n",
    "\n",
    "\n",
    "* En función de lo expuesto en la tabla anterior y tomando en cuenta como condición de borde del presente estudio la sitación de pandemia a nivel mundial, lo cual ha modificado drásticamente el comportamiento de compra de los clientes, es que sólo se analizará la data correspondiente a los años 2020 y 2021. La primera será asigbada como data de entrenamiento, mientras que la segunda correspondera a data de prueba. Consecuentemente, se procedido a la eliminación de la data fuera de esta temporalidad.\n",
    "\n",
    "\n",
    "* Se observa la existencia de uan alta cantidad de datos nulos para las columnas precio_oferta, rating, año, mes y comentario. En menor medida las columnas producto y precio_internet tienen datos nulos. En el próximo segmento se analizarán estos datos nulos por año."
   ]
  },
  {
   "cell_type": "markdown",
   "metadata": {},
   "source": [
    "## 7.2. División de la data(Training y Validación)"
   ]
  },
  {
   "cell_type": "code",
   "execution_count": 17,
   "metadata": {},
   "outputs": [],
   "source": [
    "df_retail_2020 = df_retail[df_retail['año']==2020.0]\n",
    "df_retail_2020.reset_index(drop=True, inplace=True)\n",
    "\n",
    "df_retail_2021 = df_retail[df_retail['año']==2021.0]\n",
    "df_retail_2021.reset_index(drop=True, inplace=True)"
   ]
  },
  {
   "cell_type": "code",
   "execution_count": 18,
   "metadata": {},
   "outputs": [
    {
     "data": {
      "text/plain": [
       "(20769, 11)"
      ]
     },
     "execution_count": 18,
     "metadata": {},
     "output_type": "execute_result"
    }
   ],
   "source": [
    "df_retail_2020.shape"
   ]
  },
  {
   "cell_type": "code",
   "execution_count": 19,
   "metadata": {},
   "outputs": [
    {
     "data": {
      "text/plain": [
       "(5384, 11)"
      ]
     },
     "execution_count": 19,
     "metadata": {},
     "output_type": "execute_result"
    }
   ],
   "source": [
    "df_retail_2021.shape"
   ]
  },
  {
   "cell_type": "markdown",
   "metadata": {},
   "source": [
    "### 7.2.1. Análisis de datos nulos"
   ]
  },
  {
   "cell_type": "code",
   "execution_count": 20,
   "metadata": {},
   "outputs": [
    {
     "data": {
      "image/png": "[encoded data removed]",
      "text/plain": [
       "<Figure size 1800x720 with 2 Axes>"
      ]
     },
     "metadata": {
      "needs_background": "light"
     },
     "output_type": "display_data"
    }
   ],
   "source": [
    "# Para año 2020\n",
    "msno.matrix(df_retail_2020)\n",
    "plt.title('Exploración de data nulos Años: 2020', fontsize='xx-large');"
   ]
  },
  {
   "cell_type": "code",
   "execution_count": 21,
   "metadata": {},
   "outputs": [
    {
     "data": {
      "image/png": "[encoded data removed]",
      "text/plain": [
       "<Figure size 1800x720 with 2 Axes>"
      ]
     },
     "metadata": {
      "needs_background": "light"
     },
     "output_type": "display_data"
    }
   ],
   "source": [
    "# Para año 2021\n",
    "msno.matrix(df_retail_2021)\n",
    "plt.title('Exploración de data nulos Años: 2021', fontsize='xx-large');"
   ]
  },
  {
   "cell_type": "code",
   "execution_count": 22,
   "metadata": {},
   "outputs": [],
   "source": [
    "# Se realiza copia para eliminar datos nulos \n",
    "df_retail_tmp = df_retail_2020.copy()\n",
    "df_retail_val_2021 = df_retail_2021.copy()"
   ]
  },
  {
   "cell_type": "code",
   "execution_count": 23,
   "metadata": {},
   "outputs": [],
   "source": [
    "# Se realiza copia para eliminar datos nulos\n",
    "df_retail_tmp = df_retail_tmp.dropna()\n",
    "df_retail_val_2021 = df_retail_val_2021.dropna()"
   ]
  },
  {
   "cell_type": "code",
   "execution_count": 24,
   "metadata": {},
   "outputs": [
    {
     "data": {
      "text/plain": [
       "(2002, 11)"
      ]
     },
     "execution_count": 24,
     "metadata": {},
     "output_type": "execute_result"
    }
   ],
   "source": [
    "df_retail_tmp.shape"
   ]
  },
  {
   "cell_type": "code",
   "execution_count": 25,
   "metadata": {},
   "outputs": [
    {
     "data": {
      "text/plain": [
       "(377, 11)"
      ]
     },
     "execution_count": 25,
     "metadata": {},
     "output_type": "execute_result"
    }
   ],
   "source": [
    "df_retail_val_2021.shape"
   ]
  },
  {
   "cell_type": "markdown",
   "metadata": {},
   "source": [
    "**Comentarios**\n",
    "\n",
    "*  Se decidió eliminar los valores NaN de las variables comentario, año, mes, producto y rating porque corresponde a campos no especificados en el ecommerce, y como el objetivo es predecir en base a los comentarios el rating, se hace necesario eliminar los registros donde no tenemos data para analizar."
   ]
  },
  {
   "cell_type": "markdown",
   "metadata": {},
   "source": [
    "### 7.2.2 Análisis de correlaciones entre variables"
   ]
  },
  {
   "cell_type": "markdown",
   "metadata": {},
   "source": [
    "#### Año 2020"
   ]
  },
  {
   "cell_type": "code",
   "execution_count": 26,
   "metadata": {},
   "outputs": [],
   "source": [
    "# Para año 2020\n",
    "corr_matrix_2020= df_retail_tmp.corr().round(decimals=2)"
   ]
  },
  {
   "cell_type": "code",
   "execution_count": 27,
   "metadata": {},
   "outputs": [
    {
     "data": {
      "image/png": "[encoded data removed]",
      "text/plain": [
       "<Figure size 864x576 with 2 Axes>"
      ]
     },
     "metadata": {
      "needs_background": "light"
     },
     "output_type": "display_data"
    }
   ],
   "source": [
    "plt.figure(figsize = (12,8))\n",
    "sns.heatmap(corr_matrix_2020, annot = True)\n",
    "plt.title('Matriz de correlaciones año 2020', fontsize='xx-large');\n",
    "plt.show()"
   ]
  },
  {
   "cell_type": "markdown",
   "metadata": {},
   "source": [
    "#### Año 2021"
   ]
  },
  {
   "cell_type": "code",
   "execution_count": 28,
   "metadata": {},
   "outputs": [],
   "source": [
    "# Para año 2021\n",
    "corr_matrix_2021= df_retail_val_2021.corr().round(decimals=2)"
   ]
  },
  {
   "cell_type": "code",
   "execution_count": 29,
   "metadata": {},
   "outputs": [
    {
     "data": {
      "image/png": "[encoded data removed]",
      "text/plain": [
       "<Figure size 864x576 with 2 Axes>"
      ]
     },
     "metadata": {
      "needs_background": "light"
     },
     "output_type": "display_data"
    }
   ],
   "source": [
    "plt.figure(figsize = (12,8))\n",
    "sns.heatmap(corr_matrix_2021, annot = True)\n",
    "plt.title('Matriz de correlaciones año 2021', fontsize='xx-large');\n",
    "plt.show()"
   ]
  },
  {
   "cell_type": "code",
   "execution_count": 30,
   "metadata": {},
   "outputs": [],
   "source": [
    "# Se descarta el uso de los atributos precio_original y precio_oferta\n",
    "df_retail_tmp = df_retail_tmp.drop(columns = ['precio_original', 'precio_oferta'])\n",
    "df_retail_val_2021 = df_retail_val_2021.drop(columns = ['precio_original', 'precio_oferta'])"
   ]
  },
  {
   "cell_type": "markdown",
   "metadata": {},
   "source": [
    "**Comentarios**\n",
    "\n",
    "* Se observa que las tres variables de precios estan fuertemente correlacionadas dado que se toma como criterio que son mayor a 90% y en el caso de precio_internet y precio oferta su correlación es de 1, lo que sugiere que estan intimamente relacionadas, razón por la que se toma decición de ocupar precio_internet por ser la variable que tiene más registros y eliminar `precio_original` y `precio_oferta` para no generar colinealidad en el modelamiento.\n",
    "\n",
    "\n",
    "* Se observan valores NaN para la determinación de la correlación de año con las otras variables, esto puede significar  que no existe una tendencia entre ambas variables (puede ocurrir que no exista relación o que la relación sea más compleja que una tendencia, por ejemplo, una relación en forma de U)."
   ]
  },
  {
   "cell_type": "markdown",
   "metadata": {},
   "source": [
    "### 7.2.3 Análisis de outlayers"
   ]
  },
  {
   "cell_type": "markdown",
   "metadata": {},
   "source": [
    "#### Año 2020"
   ]
  },
  {
   "cell_type": "code",
   "execution_count": 31,
   "metadata": {},
   "outputs": [
    {
     "data": {
      "image/png": "[encoded data removed]",
      "text/plain": [
       "<Figure size 1080x504 with 1 Axes>"
      ]
     },
     "metadata": {
      "needs_background": "light"
     },
     "output_type": "display_data"
    }
   ],
   "source": [
    "# Para año 2020\n",
    "plt.figure(figsize=(15,7))\n",
    "sns.boxplot(x= 'precio_internet', y= 'rating', data= df_retail_tmp, orient='h')\n",
    "plt.title('Boxplot para Precio Internet Año 2020 por calificaciones de usarios', fontsize='xx-large');\n",
    "plt.show()"
   ]
  },
  {
   "cell_type": "markdown",
   "metadata": {},
   "source": [
    "#### Año 2021"
   ]
  },
  {
   "cell_type": "code",
   "execution_count": 32,
   "metadata": {},
   "outputs": [
    {
     "data": {
      "image/png": "[encoded data removed]",
      "text/plain": [
       "<Figure size 1080x504 with 1 Axes>"
      ]
     },
     "metadata": {
      "needs_background": "light"
     },
     "output_type": "display_data"
    }
   ],
   "source": [
    "# Para año 2021\n",
    "plt.figure(figsize=(15,7))\n",
    "sns.boxplot(x= 'precio_internet', y= 'rating', data= df_retail_val_2021, orient='h')\n",
    "plt.title('Boxplot para Precio Internet Año 2021 por calificaciones de usarios', fontsize='xx-large');\n",
    "plt.show()"
   ]
  },
  {
   "cell_type": "markdown",
   "metadata": {},
   "source": [
    "**Comentarios**\n",
    "\n",
    "* Para el año 2020 se aprecian algunos registros detacados como outlayers, lo cual no será motivo de eliminación del registro. En términos de comportamiento global por nivel de calificación de usuario o rating, la distribución es bastante similar entre ellos, con rangos intercuartiles próximos entre si.\n",
    "\n",
    "\n",
    "* Para el año 2021 se presentan más valores outlayers, pero dado que el año está recién comenzando, no se podría afirmar que esos valores representan un real outlayer, ya que al comparar con al distribución de precios del año 2020, se visualiza que el 2021 está incompleto."
   ]
  },
  {
   "cell_type": "markdown",
   "metadata": {},
   "source": [
    "<H1 align=\"center\"> <div class=\"alert alert-block alert-info\"><b></b> 8. Análisis descriptivo</div></H1>"
   ]
  },
  {
   "cell_type": "markdown",
   "metadata": {},
   "source": [
    "En la presente sección analizaremos el comportamiento del vector objetivo, así como el comportamiento de los pricipales atributos, tales como: Categoría, Producto, Precio Intenet. "
   ]
  },
  {
   "cell_type": "markdown",
   "metadata": {},
   "source": [
    "## 8.1. Análisis del vector objetivo"
   ]
  },
  {
   "cell_type": "code",
   "execution_count": 33,
   "metadata": {},
   "outputs": [
    {
     "data": {
      "image/png": "[encoded data removed]",
      "text/plain": [
       "<Figure size 1080x504 with 1 Axes>"
      ]
     },
     "metadata": {
      "needs_background": "light"
     },
     "output_type": "display_data"
    }
   ],
   "source": [
    "# Descripción de frecuencia de las variable categórica 'rating' año 2020\n",
    "fx.visualizar_variables_categoricas(df_retail_tmp,'rating', 2020)"
   ]
  },
  {
   "cell_type": "code",
   "execution_count": 34,
   "metadata": {},
   "outputs": [
    {
     "data": {
      "image/png": "[encoded data removed]",
      "text/plain": [
       "<Figure size 1080x504 with 1 Axes>"
      ]
     },
     "metadata": {
      "needs_background": "light"
     },
     "output_type": "display_data"
    }
   ],
   "source": [
    "# Descripción de frecuencia de las variable categórica 'rating' año 2021\n",
    "fx.visualizar_variables_categoricas(df_retail_val_2021,'rating', 2021)"
   ]
  },
  {
   "cell_type": "markdown",
   "metadata": {},
   "source": [
    "**Comentarios**\n",
    "\n",
    "* Tanto para el año 2020 como para 2021 se observa el mismo tipo de comportamiento desbalanceado, en donde la categoria mayoriataria corresponde al rating 5 o valoración de 5 estrellas. Este hallazgo conllevará consideraciones extras en el proceso de modelamiento."
   ]
  },
  {
   "cell_type": "markdown",
   "metadata": {},
   "source": [
    "## 8.2. Análisis de atributos"
   ]
  },
  {
   "cell_type": "markdown",
   "metadata": {},
   "source": [
    "### 8.2.1. Análisis de atributo Categoria"
   ]
  },
  {
   "cell_type": "code",
   "execution_count": 35,
   "metadata": {},
   "outputs": [
    {
     "data": {
      "image/png": "[encoded data removed]",
      "text/plain": [
       "<Figure size 1080x504 with 1 Axes>"
      ]
     },
     "metadata": {
      "needs_background": "light"
     },
     "output_type": "display_data"
    }
   ],
   "source": [
    "# Descripción de frecuencia año 2020\n",
    "fx.visualizar_variables_categoricas(df_retail_tmp,'categoria', 2020)"
   ]
  },
  {
   "cell_type": "code",
   "execution_count": 36,
   "metadata": {},
   "outputs": [
    {
     "data": {
      "image/png": "[encoded data removed]",
      "text/plain": [
       "<Figure size 1080x504 with 1 Axes>"
      ]
     },
     "metadata": {
      "needs_background": "light"
     },
     "output_type": "display_data"
    }
   ],
   "source": [
    "# Descripción de frecuencia año 2021\n",
    "fx.visualizar_variables_categoricas(df_retail_val_2021,'categoria', 2021)"
   ]
  },
  {
   "cell_type": "markdown",
   "metadata": {},
   "source": [
    "**Comentarios**\n",
    "\n",
    "\n",
    "*  Con respecto a la característica categoría se observa la existencia de categorias minoritarias, lo que hace preciso realizar un `análisis de la Cantidad de Registros por Categoria y Desagregado por Rating` a fin de determinar posibles homologaciones de categorias o la aplicación de un criterio de eliminación de las categorias minoritarias. Dicho análisis se realiza a continuación."
   ]
  },
  {
   "cell_type": "code",
   "execution_count": 37,
   "metadata": {},
   "outputs": [
    {
     "data": {
      "image/png": "[encoded data removed]",
      "text/plain": [
       "<Figure size 1440x720 with 1 Axes>"
      ]
     },
     "metadata": {},
     "output_type": "display_data"
    }
   ],
   "source": [
    "# Cantidad de Registros por Categoria y Desagregado por Rating año 2020\n",
    "fx.registros_categ_rating(df_retail_tmp, 2020)"
   ]
  },
  {
   "cell_type": "code",
   "execution_count": 38,
   "metadata": {},
   "outputs": [
    {
     "data": {
      "image/png": "[encoded data removed]",
      "text/plain": [
       "<Figure size 1440x720 with 1 Axes>"
      ]
     },
     "metadata": {},
     "output_type": "display_data"
    }
   ],
   "source": [
    "fx.registros_categ_rating(df_retail_val_2021, 2021)"
   ]
  },
  {
   "cell_type": "markdown",
   "metadata": {},
   "source": [
    "*  A partir del comportamiento de las distribuciones de los registros de categorias por rating para el año 2020 se decide unificar las siguientes categorias, como se expresa a continuación:\n",
    "\n",
    "Tecnología = Tecnología + Computación\n",
    "\n",
    "Hogar = Hogar + Electro\n",
    "\n",
    "\n",
    "Se toma el criterio de eliminar los registros menores a 100 a efectos de balancear más las categorias. Se eliminan:\n",
    "\n",
    "supermercado, joyas, Deportes, Jugueteria, Fitness y Libros\n",
    "\n",
    "\n",
    "* Con respecto al año 2021 se observa para el año 2021 la existencia de 9 categorias, las cuales se deben homologar en:\n",
    "\n",
    "Tecnología = Tecnología + Computación\n",
    "\n",
    "Hogar = Hogar + Electro\n",
    "\n",
    "\n",
    "Se toma el criterio de eliminar los registros menores a 100 a efectos de balancear más las categorias. Se eliminan:\n",
    "\n",
    "Libros y Deportes\n",
    "\n",
    "\n",
    "* Luego de la homologación quedarían 7 categorías para el año 2021 al igual que las categorías del año 2020."
   ]
  },
  {
   "cell_type": "code",
   "execution_count": 39,
   "metadata": {},
   "outputs": [],
   "source": [
    "#Homologación de categorias año 2020\n",
    "df_retail_tmp= fx.homologar_categorias(df_retail_tmp)"
   ]
  },
  {
   "cell_type": "code",
   "execution_count": 40,
   "metadata": {},
   "outputs": [
    {
     "data": {
      "text/plain": [
       "hogar          1021\n",
       "tecnologia      387\n",
       "moda            261\n",
       "belleza         212\n",
       "videojuegos      28\n",
       "Name: categoria, dtype: int64"
      ]
     },
     "execution_count": 40,
     "metadata": {},
     "output_type": "execute_result"
    }
   ],
   "source": [
    "df_retail_tmp.categoria.value_counts()"
   ]
  },
  {
   "cell_type": "code",
   "execution_count": 41,
   "metadata": {},
   "outputs": [],
   "source": [
    "#Homologación de categorias año 2021\n",
    "df_retail_val_2021= fx.homologar_categorias(df_retail_val_2021)"
   ]
  },
  {
   "cell_type": "code",
   "execution_count": 42,
   "metadata": {},
   "outputs": [
    {
     "data": {
      "text/plain": [
       "tecnologia     130\n",
       "belleza        115\n",
       "videojuegos     58\n",
       "hogar           36\n",
       "moda             3\n",
       "Name: categoria, dtype: int64"
      ]
     },
     "execution_count": 42,
     "metadata": {},
     "output_type": "execute_result"
    }
   ],
   "source": [
    "df_retail_val_2021.categoria.value_counts()"
   ]
  },
  {
   "cell_type": "markdown",
   "metadata": {},
   "source": [
    "### 8.2.2. Análisis de la variable producto"
   ]
  },
  {
   "cell_type": "code",
   "execution_count": 43,
   "metadata": {},
   "outputs": [
    {
     "data": {
      "image/png": "[encoded data removed]",
      "text/plain": [
       "<Figure size 576x720 with 1 Axes>"
      ]
     },
     "metadata": {},
     "output_type": "display_data"
    }
   ],
   "source": [
    "# Cantidad de productos por categorias año 2020\n",
    "fx.q_prod_cate(df_retail_tmp, 2020)"
   ]
  },
  {
   "cell_type": "code",
   "execution_count": 44,
   "metadata": {},
   "outputs": [
    {
     "data": {
      "image/png": "[encoded data removed]",
      "text/plain": [
       "<Figure size 576x720 with 1 Axes>"
      ]
     },
     "metadata": {},
     "output_type": "display_data"
    }
   ],
   "source": [
    "# Cantidad de productos por categorias año 2021\n",
    "fx.q_prod_cate(df_retail_val_2021, 2021)"
   ]
  },
  {
   "cell_type": "markdown",
   "metadata": {},
   "source": [
    "### 8.2.2. Análisis de la variable producto"
   ]
  },
  {
   "cell_type": "code",
   "execution_count": 45,
   "metadata": {},
   "outputs": [
    {
     "data": {
      "text/html": [
       "<div>\n",
       "<style scoped>\n",
       "    .dataframe tbody tr th:only-of-type {\n",
       "        vertical-align: middle;\n",
       "    }\n",
       "\n",
       "    .dataframe tbody tr th {\n",
       "        vertical-align: top;\n",
       "    }\n",
       "\n",
       "    .dataframe thead th {\n",
       "        text-align: right;\n",
       "    }\n",
       "</style>\n",
       "<table border=\"1\" class=\"dataframe\">\n",
       "  <thead>\n",
       "    <tr style=\"text-align: right;\">\n",
       "      <th></th>\n",
       "      <th>Categoria</th>\n",
       "      <th>comentario por producto</th>\n",
       "    </tr>\n",
       "  </thead>\n",
       "  <tbody>\n",
       "    <tr>\n",
       "      <th>1</th>\n",
       "      <td>tecnologia</td>\n",
       "      <td>4.84</td>\n",
       "    </tr>\n",
       "    <tr>\n",
       "      <th>2</th>\n",
       "      <td>hogar</td>\n",
       "      <td>2.94</td>\n",
       "    </tr>\n",
       "    <tr>\n",
       "      <th>4</th>\n",
       "      <td>moda</td>\n",
       "      <td>2.72</td>\n",
       "    </tr>\n",
       "    <tr>\n",
       "      <th>0</th>\n",
       "      <td>belleza</td>\n",
       "      <td>2.10</td>\n",
       "    </tr>\n",
       "    <tr>\n",
       "      <th>3</th>\n",
       "      <td>videojuegos</td>\n",
       "      <td>1.75</td>\n",
       "    </tr>\n",
       "  </tbody>\n",
       "</table>\n",
       "</div>"
      ],
      "text/plain": [
       "     Categoria  comentario por producto\n",
       "1   tecnologia                     4.84\n",
       "2        hogar                     2.94\n",
       "4         moda                     2.72\n",
       "0      belleza                     2.10\n",
       "3  videojuegos                     1.75"
      ]
     },
     "execution_count": 45,
     "metadata": {},
     "output_type": "execute_result"
    }
   ],
   "source": [
    "# Cantidad promedio de comentarios por productos año 2020 \n",
    "fx.coments_by_prod_cat(df_retail_tmp)"
   ]
  },
  {
   "cell_type": "code",
   "execution_count": 46,
   "metadata": {},
   "outputs": [
    {
     "data": {
      "text/html": [
       "<div>\n",
       "<style scoped>\n",
       "    .dataframe tbody tr th:only-of-type {\n",
       "        vertical-align: middle;\n",
       "    }\n",
       "\n",
       "    .dataframe tbody tr th {\n",
       "        vertical-align: top;\n",
       "    }\n",
       "\n",
       "    .dataframe thead th {\n",
       "        text-align: right;\n",
       "    }\n",
       "</style>\n",
       "<table border=\"1\" class=\"dataframe\">\n",
       "  <thead>\n",
       "    <tr style=\"text-align: right;\">\n",
       "      <th></th>\n",
       "      <th>Categoria</th>\n",
       "      <th>comentario por producto</th>\n",
       "    </tr>\n",
       "  </thead>\n",
       "  <tbody>\n",
       "    <tr>\n",
       "      <th>2</th>\n",
       "      <td>hogar</td>\n",
       "      <td>3.27</td>\n",
       "    </tr>\n",
       "    <tr>\n",
       "      <th>1</th>\n",
       "      <td>tecnologia</td>\n",
       "      <td>3.10</td>\n",
       "    </tr>\n",
       "    <tr>\n",
       "      <th>3</th>\n",
       "      <td>videojuegos</td>\n",
       "      <td>3.05</td>\n",
       "    </tr>\n",
       "    <tr>\n",
       "      <th>4</th>\n",
       "      <td>moda</td>\n",
       "      <td>3.00</td>\n",
       "    </tr>\n",
       "    <tr>\n",
       "      <th>0</th>\n",
       "      <td>belleza</td>\n",
       "      <td>2.50</td>\n",
       "    </tr>\n",
       "  </tbody>\n",
       "</table>\n",
       "</div>"
      ],
      "text/plain": [
       "     Categoria  comentario por producto\n",
       "2        hogar                     3.27\n",
       "1   tecnologia                     3.10\n",
       "3  videojuegos                     3.05\n",
       "4         moda                     3.00\n",
       "0      belleza                     2.50"
      ]
     },
     "execution_count": 46,
     "metadata": {},
     "output_type": "execute_result"
    }
   ],
   "source": [
    "# Cantidad promedio de comentarios por productos año 2021\n",
    "fx.coments_by_prod_cat(df_retail_val_2021)"
   ]
  },
  {
   "cell_type": "code",
   "execution_count": 47,
   "metadata": {},
   "outputs": [
    {
     "data": {
      "text/html": [
       "<div>\n",
       "<style scoped>\n",
       "    .dataframe tbody tr th:only-of-type {\n",
       "        vertical-align: middle;\n",
       "    }\n",
       "\n",
       "    .dataframe tbody tr th {\n",
       "        vertical-align: top;\n",
       "    }\n",
       "\n",
       "    .dataframe thead th {\n",
       "        text-align: right;\n",
       "    }\n",
       "</style>\n",
       "<table border=\"1\" class=\"dataframe\">\n",
       "  <thead>\n",
       "    <tr style=\"text-align: right;\">\n",
       "      <th></th>\n",
       "      <th></th>\n",
       "      <th>producto</th>\n",
       "    </tr>\n",
       "    <tr>\n",
       "      <th>retail</th>\n",
       "      <th>categoria</th>\n",
       "      <th></th>\n",
       "    </tr>\n",
       "  </thead>\n",
       "  <tbody>\n",
       "    <tr>\n",
       "      <th rowspan=\"4\" valign=\"top\">linio</th>\n",
       "      <th>belleza</th>\n",
       "      <td>85</td>\n",
       "    </tr>\n",
       "    <tr>\n",
       "      <th>hogar</th>\n",
       "      <td>23</td>\n",
       "    </tr>\n",
       "    <tr>\n",
       "      <th>tecnologia</th>\n",
       "      <td>21</td>\n",
       "    </tr>\n",
       "    <tr>\n",
       "      <th>videojuegos</th>\n",
       "      <td>9</td>\n",
       "    </tr>\n",
       "    <tr>\n",
       "      <th rowspan=\"2\" valign=\"top\">paris</th>\n",
       "      <th>hogar</th>\n",
       "      <td>39</td>\n",
       "    </tr>\n",
       "    <tr>\n",
       "      <th>tecnologia</th>\n",
       "      <td>21</td>\n",
       "    </tr>\n",
       "    <tr>\n",
       "      <th rowspan=\"5\" valign=\"top\">ripley</th>\n",
       "      <th>belleza</th>\n",
       "      <td>16</td>\n",
       "    </tr>\n",
       "    <tr>\n",
       "      <th>hogar</th>\n",
       "      <td>285</td>\n",
       "    </tr>\n",
       "    <tr>\n",
       "      <th>moda</th>\n",
       "      <td>96</td>\n",
       "    </tr>\n",
       "    <tr>\n",
       "      <th>tecnologia</th>\n",
       "      <td>38</td>\n",
       "    </tr>\n",
       "    <tr>\n",
       "      <th>videojuegos</th>\n",
       "      <td>7</td>\n",
       "    </tr>\n",
       "  </tbody>\n",
       "</table>\n",
       "</div>"
      ],
      "text/plain": [
       "                    producto\n",
       "retail categoria            \n",
       "linio  belleza            85\n",
       "       hogar              23\n",
       "       tecnologia         21\n",
       "       videojuegos         9\n",
       "paris  hogar              39\n",
       "       tecnologia         21\n",
       "ripley belleza            16\n",
       "       hogar             285\n",
       "       moda               96\n",
       "       tecnologia         38\n",
       "       videojuegos         7"
      ]
     },
     "execution_count": 47,
     "metadata": {},
     "output_type": "execute_result"
    }
   ],
   "source": [
    "# Cantidad de productos por categoria y retail año 2020\n",
    "pd.DataFrame(df_retail_tmp.groupby(['retail', 'categoria'])['producto'].nunique())"
   ]
  },
  {
   "cell_type": "code",
   "execution_count": 48,
   "metadata": {},
   "outputs": [
    {
     "data": {
      "text/html": [
       "<div>\n",
       "<style scoped>\n",
       "    .dataframe tbody tr th:only-of-type {\n",
       "        vertical-align: middle;\n",
       "    }\n",
       "\n",
       "    .dataframe tbody tr th {\n",
       "        vertical-align: top;\n",
       "    }\n",
       "\n",
       "    .dataframe thead th {\n",
       "        text-align: right;\n",
       "    }\n",
       "</style>\n",
       "<table border=\"1\" class=\"dataframe\">\n",
       "  <thead>\n",
       "    <tr style=\"text-align: right;\">\n",
       "      <th></th>\n",
       "      <th></th>\n",
       "      <th>producto</th>\n",
       "    </tr>\n",
       "    <tr>\n",
       "      <th>retail</th>\n",
       "      <th>categoria</th>\n",
       "      <th></th>\n",
       "    </tr>\n",
       "  </thead>\n",
       "  <tbody>\n",
       "    <tr>\n",
       "      <th rowspan=\"5\" valign=\"top\">linio</th>\n",
       "      <th>belleza</th>\n",
       "      <td>46</td>\n",
       "    </tr>\n",
       "    <tr>\n",
       "      <th>hogar</th>\n",
       "      <td>9</td>\n",
       "    </tr>\n",
       "    <tr>\n",
       "      <th>moda</th>\n",
       "      <td>1</td>\n",
       "    </tr>\n",
       "    <tr>\n",
       "      <th>tecnologia</th>\n",
       "      <td>38</td>\n",
       "    </tr>\n",
       "    <tr>\n",
       "      <th>videojuegos</th>\n",
       "      <td>19</td>\n",
       "    </tr>\n",
       "    <tr>\n",
       "      <th rowspan=\"2\" valign=\"top\">paris</th>\n",
       "      <th>hogar</th>\n",
       "      <td>2</td>\n",
       "    </tr>\n",
       "    <tr>\n",
       "      <th>tecnologia</th>\n",
       "      <td>4</td>\n",
       "    </tr>\n",
       "  </tbody>\n",
       "</table>\n",
       "</div>"
      ],
      "text/plain": [
       "                    producto\n",
       "retail categoria            \n",
       "linio  belleza            46\n",
       "       hogar               9\n",
       "       moda                1\n",
       "       tecnologia         38\n",
       "       videojuegos        19\n",
       "paris  hogar               2\n",
       "       tecnologia          4"
      ]
     },
     "execution_count": 48,
     "metadata": {},
     "output_type": "execute_result"
    }
   ],
   "source": [
    "# Cantidad de productos por categoria y retail año 2021\n",
    "pd.DataFrame(df_retail_val_2021.groupby(['retail', 'categoria'])['producto'].nunique())"
   ]
  },
  {
   "cell_type": "markdown",
   "metadata": {},
   "source": [
    "### 8.2.3. Análisis de la variable precio_internet"
   ]
  },
  {
   "cell_type": "code",
   "execution_count": 49,
   "metadata": {},
   "outputs": [
    {
     "data": {
      "text/html": [
       "<div>\n",
       "<style scoped>\n",
       "    .dataframe tbody tr th:only-of-type {\n",
       "        vertical-align: middle;\n",
       "    }\n",
       "\n",
       "    .dataframe tbody tr th {\n",
       "        vertical-align: top;\n",
       "    }\n",
       "\n",
       "    .dataframe thead th {\n",
       "        text-align: right;\n",
       "    }\n",
       "</style>\n",
       "<table border=\"1\" class=\"dataframe\">\n",
       "  <thead>\n",
       "    <tr style=\"text-align: right;\">\n",
       "      <th></th>\n",
       "      <th>precio_internet</th>\n",
       "      <th>rating</th>\n",
       "      <th>año</th>\n",
       "      <th>mes</th>\n",
       "    </tr>\n",
       "  </thead>\n",
       "  <tbody>\n",
       "    <tr>\n",
       "      <th>count</th>\n",
       "      <td>1909</td>\n",
       "      <td>1909</td>\n",
       "      <td>1909</td>\n",
       "      <td>1909</td>\n",
       "    </tr>\n",
       "    <tr>\n",
       "      <th>mean</th>\n",
       "      <td>192137</td>\n",
       "      <td>4.02095</td>\n",
       "      <td>2020</td>\n",
       "      <td>8.41173</td>\n",
       "    </tr>\n",
       "    <tr>\n",
       "      <th>std</th>\n",
       "      <td>177318</td>\n",
       "      <td>1.50177</td>\n",
       "      <td>0</td>\n",
       "      <td>2.52621</td>\n",
       "    </tr>\n",
       "    <tr>\n",
       "      <th>min</th>\n",
       "      <td>3490</td>\n",
       "      <td>1</td>\n",
       "      <td>2020</td>\n",
       "      <td>1</td>\n",
       "    </tr>\n",
       "    <tr>\n",
       "      <th>25%</th>\n",
       "      <td>29870</td>\n",
       "      <td>3</td>\n",
       "      <td>2020</td>\n",
       "      <td>7</td>\n",
       "    </tr>\n",
       "    <tr>\n",
       "      <th>50%</th>\n",
       "      <td>149990</td>\n",
       "      <td>5</td>\n",
       "      <td>2020</td>\n",
       "      <td>9</td>\n",
       "    </tr>\n",
       "    <tr>\n",
       "      <th>75%</th>\n",
       "      <td>309990</td>\n",
       "      <td>5</td>\n",
       "      <td>2020</td>\n",
       "      <td>10</td>\n",
       "    </tr>\n",
       "    <tr>\n",
       "      <th>max</th>\n",
       "      <td>944990</td>\n",
       "      <td>5</td>\n",
       "      <td>2020</td>\n",
       "      <td>12</td>\n",
       "    </tr>\n",
       "  </tbody>\n",
       "</table>\n",
       "</div>"
      ],
      "text/plain": [
       "      precio_internet   rating   año      mes\n",
       "count            1909     1909  1909     1909\n",
       "mean           192137  4.02095  2020  8.41173\n",
       "std            177318  1.50177     0  2.52621\n",
       "min              3490        1  2020        1\n",
       "25%             29870        3  2020        7\n",
       "50%            149990        5  2020        9\n",
       "75%            309990        5  2020       10\n",
       "max            944990        5  2020       12"
      ]
     },
     "execution_count": 49,
     "metadata": {},
     "output_type": "execute_result"
    }
   ],
   "source": [
    "# Inspección visual de variables numéricas año 2020\n",
    "df_retail_tmp.describe().apply(lambda s: s.apply(lambda x: format(x, 'g')))"
   ]
  },
  {
   "cell_type": "code",
   "execution_count": 50,
   "metadata": {},
   "outputs": [
    {
     "data": {
      "text/html": [
       "<div>\n",
       "<style scoped>\n",
       "    .dataframe tbody tr th:only-of-type {\n",
       "        vertical-align: middle;\n",
       "    }\n",
       "\n",
       "    .dataframe tbody tr th {\n",
       "        vertical-align: top;\n",
       "    }\n",
       "\n",
       "    .dataframe thead th {\n",
       "        text-align: right;\n",
       "    }\n",
       "</style>\n",
       "<table border=\"1\" class=\"dataframe\">\n",
       "  <thead>\n",
       "    <tr style=\"text-align: right;\">\n",
       "      <th></th>\n",
       "      <th>precio_internet</th>\n",
       "      <th>rating</th>\n",
       "      <th>año</th>\n",
       "      <th>mes</th>\n",
       "    </tr>\n",
       "  </thead>\n",
       "  <tbody>\n",
       "    <tr>\n",
       "      <th>count</th>\n",
       "      <td>342</td>\n",
       "      <td>342</td>\n",
       "      <td>342</td>\n",
       "      <td>342</td>\n",
       "    </tr>\n",
       "    <tr>\n",
       "      <th>mean</th>\n",
       "      <td>146047</td>\n",
       "      <td>4.52632</td>\n",
       "      <td>2021</td>\n",
       "      <td>6.58187</td>\n",
       "    </tr>\n",
       "    <tr>\n",
       "      <th>std</th>\n",
       "      <td>170952</td>\n",
       "      <td>1.15546</td>\n",
       "      <td>0</td>\n",
       "      <td>3.84876</td>\n",
       "    </tr>\n",
       "    <tr>\n",
       "      <th>min</th>\n",
       "      <td>8990</td>\n",
       "      <td>1</td>\n",
       "      <td>2021</td>\n",
       "      <td>1</td>\n",
       "    </tr>\n",
       "    <tr>\n",
       "      <th>25%</th>\n",
       "      <td>30990</td>\n",
       "      <td>5</td>\n",
       "      <td>2021</td>\n",
       "      <td>3.25</td>\n",
       "    </tr>\n",
       "    <tr>\n",
       "      <th>50%</th>\n",
       "      <td>54800</td>\n",
       "      <td>5</td>\n",
       "      <td>2021</td>\n",
       "      <td>7</td>\n",
       "    </tr>\n",
       "    <tr>\n",
       "      <th>75%</th>\n",
       "      <td>209990</td>\n",
       "      <td>5</td>\n",
       "      <td>2021</td>\n",
       "      <td>10</td>\n",
       "    </tr>\n",
       "    <tr>\n",
       "      <th>max</th>\n",
       "      <td>969900</td>\n",
       "      <td>5</td>\n",
       "      <td>2021</td>\n",
       "      <td>12</td>\n",
       "    </tr>\n",
       "  </tbody>\n",
       "</table>\n",
       "</div>"
      ],
      "text/plain": [
       "      precio_internet   rating   año      mes\n",
       "count             342      342   342      342\n",
       "mean           146047  4.52632  2021  6.58187\n",
       "std            170952  1.15546     0  3.84876\n",
       "min              8990        1  2021        1\n",
       "25%             30990        5  2021     3.25\n",
       "50%             54800        5  2021        7\n",
       "75%            209990        5  2021       10\n",
       "max            969900        5  2021       12"
      ]
     },
     "execution_count": 50,
     "metadata": {},
     "output_type": "execute_result"
    }
   ],
   "source": [
    "# Inspección visual de variables numéricas año 2021\n",
    "df_retail_val_2021.describe().apply(lambda s: s.apply(lambda x: format(x, 'g')))"
   ]
  },
  {
   "cell_type": "code",
   "execution_count": 51,
   "metadata": {},
   "outputs": [],
   "source": [
    "# Histograma para la variable precio_internet año 2020\n",
    "#fx.histograma(df_retail_tmp, 2020)"
   ]
  },
  {
   "cell_type": "code",
   "execution_count": 52,
   "metadata": {},
   "outputs": [],
   "source": [
    "# Histograma para la variable precio_internet año 2021\n",
    "#fx.histograma(df_retail_val_2021, 2021)"
   ]
  },
  {
   "cell_type": "markdown",
   "metadata": {},
   "source": [
    "### 8.2.4. Análisis de la variable comentario "
   ]
  },
  {
   "cell_type": "code",
   "execution_count": 53,
   "metadata": {},
   "outputs": [
    {
     "name": "stdout",
     "output_type": "stream",
     "text": [
      "numero de comentarios con 1 estrella:  297  15.56%\n",
      "numero de comentarios con 2 estrella:  82   4.3%\n",
      "numero de comentarios con 3 estrella:  104   5.45%\n",
      "numero de comentarios con 4 estrella:  227   11.89%\n",
      "numero de comentarios con 5 estrella:  1199  62.81%\n",
      "Longitud de los datos:                 1909\n"
     ]
    }
   ],
   "source": [
    "# Explora la distribución de los comentarios por estrella año 2020\n",
    "fx.q_comentarios(df_retail_tmp)"
   ]
  },
  {
   "cell_type": "code",
   "execution_count": 54,
   "metadata": {},
   "outputs": [
    {
     "name": "stdout",
     "output_type": "stream",
     "text": [
      "numero de comentarios con 1 estrella:  27  7.89%\n",
      "numero de comentarios con 2 estrella:  5   1.46%\n",
      "numero de comentarios con 3 estrella:  8   2.34%\n",
      "numero de comentarios con 4 estrella:  23   6.73%\n",
      "numero de comentarios con 5 estrella:  279  81.58%\n",
      "Longitud de los datos:                 342\n"
     ]
    }
   ],
   "source": [
    "# Explora la distribución de los comentarios por estrella año 2021\n",
    "fx.q_comentarios(df_retail_val_2021)"
   ]
  },
  {
   "cell_type": "markdown",
   "metadata": {},
   "source": [
    "**Comentarios**\n",
    "\n",
    "*  A nivel general se observa que los compradores de los productos de los retails realizan más comentarios cuando califican con cinco estrellas un producto, siendo así que más del 62.81% de este e-commerce corresponde a una calificación 5 estrellas. El porcentaje restante se distribuye entre las otras estrellas. \n",
    "\n",
    "\n",
    "* En primera instancia, se puede sugerir que la mayoria de los clientes cuando estan satistechos al 100% con el producto realizan comentarios.\n",
    "\n",
    "\n",
    "* En segunda instancia se observa que los comentarios de 1 estrella y 4 estrellas tienen valores cercanos, los cuales var[ian entre un 11% a un 15%, es decir, la suma se ambos comentarios por estas estrellas alcanza el 27,45% del total de la data. Hecho similar ocurre con frecuencia distinta para los comentarios con estrellas 2 y 3."
   ]
  },
  {
   "cell_type": "markdown",
   "metadata": {},
   "source": [
    "<H1 align=\"center\"> <div class=\"alert alert-block alert-info\"><b></b> 9. Pre-proceasmiento de Lenguaje Natural</div></H1>"
   ]
  },
  {
   "cell_type": "markdown",
   "metadata": {},
   "source": [
    "### 9.1. Balanceo de clases"
   ]
  },
  {
   "cell_type": "code",
   "execution_count": 84,
   "metadata": {},
   "outputs": [],
   "source": [
    "df_retail_train_2020 = df_retail_tmp.copy()"
   ]
  },
  {
   "cell_type": "code",
   "execution_count": 88,
   "metadata": {},
   "outputs": [],
   "source": [
    "df_retail_train_2020 = df_retail_train_2020.drop(columns = ['retail','codigo','producto','año','mes'])"
   ]
  },
  {
   "cell_type": "code",
   "execution_count": 89,
   "metadata": {},
   "outputs": [
    {
     "data": {
      "text/html": [
       "<div>\n",
       "<style scoped>\n",
       "    .dataframe tbody tr th:only-of-type {\n",
       "        vertical-align: middle;\n",
       "    }\n",
       "\n",
       "    .dataframe tbody tr th {\n",
       "        vertical-align: top;\n",
       "    }\n",
       "\n",
       "    .dataframe thead th {\n",
       "        text-align: right;\n",
       "    }\n",
       "</style>\n",
       "<table border=\"1\" class=\"dataframe\">\n",
       "  <thead>\n",
       "    <tr style=\"text-align: right;\">\n",
       "      <th></th>\n",
       "      <th>retail</th>\n",
       "      <th>categoria</th>\n",
       "      <th>precio_internet</th>\n",
       "      <th>comentario</th>\n",
       "      <th>rating</th>\n",
       "    </tr>\n",
       "  </thead>\n",
       "  <tbody>\n",
       "    <tr>\n",
       "      <th>0</th>\n",
       "      <td>linio</td>\n",
       "      <td>belleza</td>\n",
       "      <td>55490.0</td>\n",
       "      <td>Excelente!</td>\n",
       "      <td>5.0</td>\n",
       "    </tr>\n",
       "    <tr>\n",
       "      <th>1</th>\n",
       "      <td>linio</td>\n",
       "      <td>belleza</td>\n",
       "      <td>60990.0</td>\n",
       "      <td>Me encanto el estuche, llego muy r...</td>\n",
       "      <td>5.0</td>\n",
       "    </tr>\n",
       "    <tr>\n",
       "      <th>2</th>\n",
       "      <td>linio</td>\n",
       "      <td>belleza</td>\n",
       "      <td>36999.0</td>\n",
       "      <td>rapido y seguro</td>\n",
       "      <td>5.0</td>\n",
       "    </tr>\n",
       "  </tbody>\n",
       "</table>\n",
       "</div>"
      ],
      "text/plain": [
       "  retail categoria  precio_internet  \\\n",
       "0  linio   belleza          55490.0   \n",
       "1  linio   belleza          60990.0   \n",
       "2  linio   belleza          36999.0   \n",
       "\n",
       "                                          comentario  rating  \n",
       "0                               Excelente!               5.0  \n",
       "1              Me encanto el estuche, llego muy r...     5.0  \n",
       "2                          rapido y seguro               5.0  "
      ]
     },
     "execution_count": 89,
     "metadata": {},
     "output_type": "execute_result"
    }
   ],
   "source": [
    "df_retail_train_2020.head(3)"
   ]
  },
  {
   "cell_type": "markdown",
   "metadata": {},
   "source": [
    "#### 9.1.1. Conteo de observaciones por rating"
   ]
  },
  {
   "cell_type": "code",
   "execution_count": null,
   "metadata": {},
   "outputs": [],
   "source": [
    "print('rating1': (df_retail_train_2020['rating']==1.0).value_counts()[1])"
   ]
  },
  {
   "cell_type": "code",
   "execution_count": 105,
   "metadata": {},
   "outputs": [
    {
     "data": {
      "text/plain": [
       "82"
      ]
     },
     "execution_count": 105,
     "metadata": {},
     "output_type": "execute_result"
    }
   ],
   "source": [
    "(df_retail_train_2020['rating']==2.0).value_counts()[1]"
   ]
  },
  {
   "cell_type": "code",
   "execution_count": 106,
   "metadata": {},
   "outputs": [
    {
     "data": {
      "text/plain": [
       "104"
      ]
     },
     "execution_count": 106,
     "metadata": {},
     "output_type": "execute_result"
    }
   ],
   "source": [
    "(df_retail_train_2020['rating']==3.0).value_counts()[1]"
   ]
  },
  {
   "cell_type": "code",
   "execution_count": 107,
   "metadata": {},
   "outputs": [
    {
     "data": {
      "text/plain": [
       "227"
      ]
     },
     "execution_count": 107,
     "metadata": {},
     "output_type": "execute_result"
    }
   ],
   "source": [
    "(df_retail_train_2020['rating']==4.0).value_counts()[1]"
   ]
  },
  {
   "cell_type": "code",
   "execution_count": 108,
   "metadata": {},
   "outputs": [
    {
     "data": {
      "text/plain": [
       "1199"
      ]
     },
     "execution_count": 108,
     "metadata": {},
     "output_type": "execute_result"
    }
   ],
   "source": [
    "(df_retail_train_2020['rating']==5.0).value_counts()[1]"
   ]
  },
  {
   "cell_type": "code",
   "execution_count": 133,
   "metadata": {},
   "outputs": [
    {
     "data": {
      "text/plain": [
       "4.04"
      ]
     },
     "execution_count": 133,
     "metadata": {},
     "output_type": "execute_result"
    }
   ],
   "source": [
    "# Rating 1\n",
    "r1 = (((df_retail_train_2020['rating']==5.0).value_counts())/((df_retail_train_2020['rating']==1.0).value_counts()))[1]\n",
    "r1p = round(r1,2)\n",
    "r1p"
   ]
  },
  {
   "cell_type": "code",
   "execution_count": 134,
   "metadata": {},
   "outputs": [
    {
     "data": {
      "text/plain": [
       "14.62"
      ]
     },
     "execution_count": 134,
     "metadata": {},
     "output_type": "execute_result"
    }
   ],
   "source": [
    "# Rating 2\n",
    "r2 = (((df_retail_train_2020['rating']==5.0).value_counts())/((df_retail_train_2020['rating']==2.0).value_counts()))[1]\n",
    "r2p = round(r2,2)\n",
    "r2p"
   ]
  },
  {
   "cell_type": "code",
   "execution_count": 135,
   "metadata": {},
   "outputs": [
    {
     "data": {
      "text/plain": [
       "11.53"
      ]
     },
     "execution_count": 135,
     "metadata": {},
     "output_type": "execute_result"
    }
   ],
   "source": [
    "# Rating 3\n",
    "r3 = (((df_retail_train_2020['rating']==5.0).value_counts())/((df_retail_train_2020['rating']==3.0).value_counts()))[1]\n",
    "r3p = round(r3,2)\n",
    "r3p"
   ]
  },
  {
   "cell_type": "code",
   "execution_count": 136,
   "metadata": {},
   "outputs": [
    {
     "data": {
      "text/plain": [
       "5.28"
      ]
     },
     "execution_count": 136,
     "metadata": {},
     "output_type": "execute_result"
    }
   ],
   "source": [
    "# Rating 4\n",
    "r4 = (((df_retail_train_2020['rating']==5.0).value_counts())/((df_retail_train_2020['rating']==4.0).value_counts()))[1]\n",
    "r4p = round(r4,2)\n",
    "r4p"
   ]
  },
  {
   "cell_type": "code",
   "execution_count": 109,
   "metadata": {},
   "outputs": [],
   "source": [
    "import random"
   ]
  },
  {
   "cell_type": "code",
   "execution_count": 224,
   "metadata": {},
   "outputs": [],
   "source": [
    "from googletrans import Translator\n",
    "translator = Translator()\n",
    "\n",
    "def english_translation(x):  \n",
    "    english_translation = translator.translate(x, dest='en')    \n",
    "    return english_translation.text\n",
    "\n",
    "def spanish_translation(x):  \n",
    "    spanish_translation = translator.translate(x, dest='es')    \n",
    "    return spanish_translation.text\n",
    "\n",
    "def portuguese_translation(x):  \n",
    "    portuguese_translation = translator.translate(x, dest='pt')    \n",
    "    return portuguese_translation.text\n",
    "\n",
    "def french_translation(x):  \n",
    "    french_translation = translator.translate(x, dest='fr')    \n",
    "    return french_translation.text\n",
    "\n",
    "def dutch_translation(x):  \n",
    "    dutch_translation = translator.translate(x, dest='nl')    \n",
    "    return dutch_translation.text\n",
    "\n",
    "def dutch_translation(x):  \n",
    "    dutch_translation = translator.translate(x, dest='nl')    \n",
    "    return dutch_translation.text\n",
    "\n",
    "def croatian_translation(x):  \n",
    "    croatian_translation = translator.translate(x, dest='hr')    \n",
    "    return croatian_translation.text"
   ]
  },
  {
   "cell_type": "markdown",
   "metadata": {},
   "source": [
    "#### 9.1.2. Segmentación por rating y aplicación de función para generar nuevas observaciones (similares)"
   ]
  },
  {
   "cell_type": "markdown",
   "metadata": {},
   "source": [
    "### Rating = 1"
   ]
  },
  {
   "cell_type": "code",
   "execution_count": 183,
   "metadata": {},
   "outputs": [],
   "source": [
    "# Segmentación del dataframe, rating = 1.0\n",
    "df_rating1 = df_retail_train_2020[df_retail_train_2020['rating']==1.0]"
   ]
  },
  {
   "cell_type": "code",
   "execution_count": 185,
   "metadata": {},
   "outputs": [],
   "source": [
    "# Extracción de categoria, precio_internet y comentarios por rating en listas.\n",
    "categoria_r1_ss1 = []\n",
    "precio_internet_r1_ss1 = []\n",
    "comentarios_r1_ss1 = []\n",
    "\n",
    "for i in df_rating1.index:\n",
    "    tmp1 = df_rating1['categoria'][i]\n",
    "    tmp2 = df_rating1['precio_internet'][i]\n",
    "    tmp3 = df_rating1['comentario'][i]\n",
    "    categoria_r1_ss1.append(tmp1)\n",
    "    precio_internet_r1_ss1.append(tmp2)\n",
    "    comentarios_r1_ss1.append(tmp3)"
   ]
  },
  {
   "cell_type": "code",
   "execution_count": 186,
   "metadata": {},
   "outputs": [
    {
     "name": "stdout",
     "output_type": "stream",
     "text": [
      "Wall time: 9min 27s\n"
     ]
    }
   ],
   "source": [
    "%%time\n",
    "# Rating 1 - Subset 1: Aplicación de función para traduccir comentarios de lista definida en paso anterior a INGLÉS, \n",
    "# para posteriormente traducirlos al ESPAÑOL.\n",
    "nuevos_comentarios_r1_ss1 = []\n",
    "for i in comentarios_r1_ss1:\n",
    "    x = english_translation(i)\n",
    "    y = spanish_translation(x)\n",
    "    nuevos_comentarios_r1_ss1.append(y)"
   ]
  },
  {
   "cell_type": "code",
   "execution_count": 187,
   "metadata": {},
   "outputs": [],
   "source": [
    "rating_1 = 1.0"
   ]
  },
  {
   "cell_type": "code",
   "execution_count": 188,
   "metadata": {},
   "outputs": [
    {
     "data": {
      "text/html": [
       "<div>\n",
       "<style scoped>\n",
       "    .dataframe tbody tr th:only-of-type {\n",
       "        vertical-align: middle;\n",
       "    }\n",
       "\n",
       "    .dataframe tbody tr th {\n",
       "        vertical-align: top;\n",
       "    }\n",
       "\n",
       "    .dataframe thead th {\n",
       "        text-align: right;\n",
       "    }\n",
       "</style>\n",
       "<table border=\"1\" class=\"dataframe\">\n",
       "  <thead>\n",
       "    <tr style=\"text-align: right;\">\n",
       "      <th></th>\n",
       "      <th>categoria</th>\n",
       "      <th>precio_internet</th>\n",
       "      <th>comentario</th>\n",
       "      <th>rating</th>\n",
       "    </tr>\n",
       "  </thead>\n",
       "  <tbody>\n",
       "    <tr>\n",
       "      <th>0</th>\n",
       "      <td>belleza</td>\n",
       "      <td>82000.0</td>\n",
       "      <td>excelente</td>\n",
       "      <td>1.0</td>\n",
       "    </tr>\n",
       "    <tr>\n",
       "      <th>1</th>\n",
       "      <td>belleza</td>\n",
       "      <td>32790.0</td>\n",
       "      <td>excelente</td>\n",
       "      <td>1.0</td>\n",
       "    </tr>\n",
       "    <tr>\n",
       "      <th>2</th>\n",
       "      <td>belleza</td>\n",
       "      <td>31500.0</td>\n",
       "      <td>Rapido muy bueno</td>\n",
       "      <td>1.0</td>\n",
       "    </tr>\n",
       "    <tr>\n",
       "      <th>3</th>\n",
       "      <td>belleza</td>\n",
       "      <td>12990.0</td>\n",
       "      <td>muy buen producto, llego enseguida...</td>\n",
       "      <td>1.0</td>\n",
       "    </tr>\n",
       "    <tr>\n",
       "      <th>4</th>\n",
       "      <td>belleza</td>\n",
       "      <td>21800.0</td>\n",
       "      <td>muy bueno</td>\n",
       "      <td>1.0</td>\n",
       "    </tr>\n",
       "    <tr>\n",
       "      <th>...</th>\n",
       "      <td>...</td>\n",
       "      <td>...</td>\n",
       "      <td>...</td>\n",
       "      <td>...</td>\n",
       "    </tr>\n",
       "    <tr>\n",
       "      <th>292</th>\n",
       "      <td>tecnologia</td>\n",
       "      <td>649990.0</td>\n",
       "      <td>Llego con falla &lt;span itemprop=description,El ...</td>\n",
       "      <td>1.0</td>\n",
       "    </tr>\n",
       "    <tr>\n",
       "      <th>293</th>\n",
       "      <td>hogar</td>\n",
       "      <td>309990.0</td>\n",
       "      <td>Pesima &lt;span itemprop=description,Compre ase u...</td>\n",
       "      <td>1.0</td>\n",
       "    </tr>\n",
       "    <tr>\n",
       "      <th>294</th>\n",
       "      <td>hogar</td>\n",
       "      <td>209990.0</td>\n",
       "      <td>Producto no cumple especificaciones! &lt;span ite...</td>\n",
       "      <td>1.0</td>\n",
       "    </tr>\n",
       "    <tr>\n",
       "      <th>295</th>\n",
       "      <td>hogar</td>\n",
       "      <td>82990.0</td>\n",
       "      <td>Problemas al hacer pan &lt;span itemprop=descript...</td>\n",
       "      <td>1.0</td>\n",
       "    </tr>\n",
       "    <tr>\n",
       "      <th>296</th>\n",
       "      <td>hogar</td>\n",
       "      <td>229990.0</td>\n",
       "      <td>No cumple su funcion &lt;span itemprop=descriptio...</td>\n",
       "      <td>1.0</td>\n",
       "    </tr>\n",
       "  </tbody>\n",
       "</table>\n",
       "<p>297 rows × 4 columns</p>\n",
       "</div>"
      ],
      "text/plain": [
       "      categoria  precio_internet  \\\n",
       "0       belleza          82000.0   \n",
       "1       belleza          32790.0   \n",
       "2       belleza          31500.0   \n",
       "3       belleza          12990.0   \n",
       "4       belleza          21800.0   \n",
       "..          ...              ...   \n",
       "292  tecnologia         649990.0   \n",
       "293       hogar         309990.0   \n",
       "294       hogar         209990.0   \n",
       "295       hogar          82990.0   \n",
       "296       hogar         229990.0   \n",
       "\n",
       "                                            comentario  rating  \n",
       "0                                  excelente               1.0  \n",
       "1                                  excelente               1.0  \n",
       "2                           Rapido muy bueno               1.0  \n",
       "3                muy buen producto, llego enseguida...     1.0  \n",
       "4                                  muy bueno               1.0  \n",
       "..                                                 ...     ...  \n",
       "292  Llego con falla <span itemprop=description,El ...     1.0  \n",
       "293  Pesima <span itemprop=description,Compre ase u...     1.0  \n",
       "294  Producto no cumple especificaciones! <span ite...     1.0  \n",
       "295  Problemas al hacer pan <span itemprop=descript...     1.0  \n",
       "296  No cumple su funcion <span itemprop=descriptio...     1.0  \n",
       "\n",
       "[297 rows x 4 columns]"
      ]
     },
     "execution_count": 188,
     "metadata": {},
     "output_type": "execute_result"
    }
   ],
   "source": [
    "# Transformación de listas del subset n°1, con comentarios \"nuevos\", en dataframe.\n",
    "rat1_ss1 = {\n",
    "    \"categoria\":categoria_r1_ss1,\n",
    "    'precio_internet':precio_internet_r1_ss1,\n",
    "    'comentario':nuevos_comentarios_r1_ss1,\n",
    "    'rating':rating_1,\n",
    "}\n",
    "data_rat1_ss1 = pd.DataFrame(rat1_ss1)\n",
    "data_rat1_ss1"
   ]
  },
  {
   "cell_type": "code",
   "execution_count": 189,
   "metadata": {},
   "outputs": [
    {
     "name": "stdout",
     "output_type": "stream",
     "text": [
      "Wall time: 9min 42s\n"
     ]
    }
   ],
   "source": [
    "%%time\n",
    "# Rating 1 - Subset 2: Aplicación de función para traduccir a FRANCÉS, para posteriormente traducirlos al ESPAÑOL.\n",
    "nuevos_comentarios_r1_ss2 = []\n",
    "for i in comentarios_r1_ss1:\n",
    "    x = french_translation(i)\n",
    "    y = spanish_translation(x)\n",
    "    nuevos_comentarios_r1_ss2.append(y)"
   ]
  },
  {
   "cell_type": "code",
   "execution_count": 190,
   "metadata": {
    "scrolled": false
   },
   "outputs": [
    {
     "data": {
      "text/html": [
       "<div>\n",
       "<style scoped>\n",
       "    .dataframe tbody tr th:only-of-type {\n",
       "        vertical-align: middle;\n",
       "    }\n",
       "\n",
       "    .dataframe tbody tr th {\n",
       "        vertical-align: top;\n",
       "    }\n",
       "\n",
       "    .dataframe thead th {\n",
       "        text-align: right;\n",
       "    }\n",
       "</style>\n",
       "<table border=\"1\" class=\"dataframe\">\n",
       "  <thead>\n",
       "    <tr style=\"text-align: right;\">\n",
       "      <th></th>\n",
       "      <th>categoria</th>\n",
       "      <th>precio_internet</th>\n",
       "      <th>comentario</th>\n",
       "      <th>rating</th>\n",
       "    </tr>\n",
       "  </thead>\n",
       "  <tbody>\n",
       "    <tr>\n",
       "      <th>0</th>\n",
       "      <td>belleza</td>\n",
       "      <td>82000.0</td>\n",
       "      <td>excelente</td>\n",
       "      <td>1.0</td>\n",
       "    </tr>\n",
       "    <tr>\n",
       "      <th>1</th>\n",
       "      <td>belleza</td>\n",
       "      <td>32790.0</td>\n",
       "      <td>excelente</td>\n",
       "      <td>1.0</td>\n",
       "    </tr>\n",
       "    <tr>\n",
       "      <th>2</th>\n",
       "      <td>belleza</td>\n",
       "      <td>31500.0</td>\n",
       "      <td>Rapido muy bueno</td>\n",
       "      <td>1.0</td>\n",
       "    </tr>\n",
       "    <tr>\n",
       "      <th>3</th>\n",
       "      <td>belleza</td>\n",
       "      <td>12990.0</td>\n",
       "      <td>muy buen producto, llego enseguida...</td>\n",
       "      <td>1.0</td>\n",
       "    </tr>\n",
       "    <tr>\n",
       "      <th>4</th>\n",
       "      <td>belleza</td>\n",
       "      <td>21800.0</td>\n",
       "      <td>muy bueno</td>\n",
       "      <td>1.0</td>\n",
       "    </tr>\n",
       "    <tr>\n",
       "      <th>...</th>\n",
       "      <td>...</td>\n",
       "      <td>...</td>\n",
       "      <td>...</td>\n",
       "      <td>...</td>\n",
       "    </tr>\n",
       "    <tr>\n",
       "      <th>292</th>\n",
       "      <td>tecnologia</td>\n",
       "      <td>649990.0</td>\n",
       "      <td>Llego con falla &lt;span itemprop=description,El ...</td>\n",
       "      <td>1.0</td>\n",
       "    </tr>\n",
       "    <tr>\n",
       "      <th>293</th>\n",
       "      <td>hogar</td>\n",
       "      <td>309990.0</td>\n",
       "      <td>Pesima &lt;span itemprop=description,Compre ase u...</td>\n",
       "      <td>1.0</td>\n",
       "    </tr>\n",
       "    <tr>\n",
       "      <th>294</th>\n",
       "      <td>hogar</td>\n",
       "      <td>209990.0</td>\n",
       "      <td>Producto no cumple especificaciones! &lt;span ite...</td>\n",
       "      <td>1.0</td>\n",
       "    </tr>\n",
       "    <tr>\n",
       "      <th>295</th>\n",
       "      <td>hogar</td>\n",
       "      <td>82990.0</td>\n",
       "      <td>Problemas al hacer pan &lt;span itemprop=descript...</td>\n",
       "      <td>1.0</td>\n",
       "    </tr>\n",
       "    <tr>\n",
       "      <th>296</th>\n",
       "      <td>hogar</td>\n",
       "      <td>229990.0</td>\n",
       "      <td>No cumple su funcion &lt;span itemprop=descriptio...</td>\n",
       "      <td>1.0</td>\n",
       "    </tr>\n",
       "  </tbody>\n",
       "</table>\n",
       "<p>297 rows × 4 columns</p>\n",
       "</div>"
      ],
      "text/plain": [
       "      categoria  precio_internet  \\\n",
       "0       belleza          82000.0   \n",
       "1       belleza          32790.0   \n",
       "2       belleza          31500.0   \n",
       "3       belleza          12990.0   \n",
       "4       belleza          21800.0   \n",
       "..          ...              ...   \n",
       "292  tecnologia         649990.0   \n",
       "293       hogar         309990.0   \n",
       "294       hogar         209990.0   \n",
       "295       hogar          82990.0   \n",
       "296       hogar         229990.0   \n",
       "\n",
       "                                            comentario  rating  \n",
       "0                                  excelente               1.0  \n",
       "1                                  excelente               1.0  \n",
       "2                           Rapido muy bueno               1.0  \n",
       "3                muy buen producto, llego enseguida...     1.0  \n",
       "4                                  muy bueno               1.0  \n",
       "..                                                 ...     ...  \n",
       "292  Llego con falla <span itemprop=description,El ...     1.0  \n",
       "293  Pesima <span itemprop=description,Compre ase u...     1.0  \n",
       "294  Producto no cumple especificaciones! <span ite...     1.0  \n",
       "295  Problemas al hacer pan <span itemprop=descript...     1.0  \n",
       "296  No cumple su funcion <span itemprop=descriptio...     1.0  \n",
       "\n",
       "[297 rows x 4 columns]"
      ]
     },
     "execution_count": 190,
     "metadata": {},
     "output_type": "execute_result"
    }
   ],
   "source": [
    "# Transformación de listas del subset n°2, con comentarios \"nuevos\", en dataframe.\n",
    "rat1_ss2 = {\n",
    "    \"categoria\":categoria_r1_ss1,\n",
    "    'precio_internet':precio_internet_r1_ss1,\n",
    "    'comentario':nuevos_comentarios_r1_ss2,\n",
    "    'rating':rating_1,\n",
    "}\n",
    "data_rat1_ss2 = pd.DataFrame(rat1_ss2)\n",
    "data_rat1_ss2"
   ]
  },
  {
   "cell_type": "code",
   "execution_count": 191,
   "metadata": {},
   "outputs": [
    {
     "name": "stdout",
     "output_type": "stream",
     "text": [
      "Wall time: 9min 15s\n"
     ]
    }
   ],
   "source": [
    "%%time\n",
    "# Rating 1 - Subset 3: Aplicación de función para traduccir a PORTUGUÉS, para posteriormente traducirlos al ESPAÑOL.\n",
    "nuevos_comentarios_r1_ss3 = []\n",
    "for i in comentarios_r1_ss1:\n",
    "    x = portuguese_translation(i)\n",
    "    y = spanish_translation(x)\n",
    "    nuevos_comentarios_r1_ss3.append(y)"
   ]
  },
  {
   "cell_type": "code",
   "execution_count": 192,
   "metadata": {},
   "outputs": [
    {
     "data": {
      "text/html": [
       "<div>\n",
       "<style scoped>\n",
       "    .dataframe tbody tr th:only-of-type {\n",
       "        vertical-align: middle;\n",
       "    }\n",
       "\n",
       "    .dataframe tbody tr th {\n",
       "        vertical-align: top;\n",
       "    }\n",
       "\n",
       "    .dataframe thead th {\n",
       "        text-align: right;\n",
       "    }\n",
       "</style>\n",
       "<table border=\"1\" class=\"dataframe\">\n",
       "  <thead>\n",
       "    <tr style=\"text-align: right;\">\n",
       "      <th></th>\n",
       "      <th>categoria</th>\n",
       "      <th>precio_internet</th>\n",
       "      <th>comentario</th>\n",
       "      <th>rating</th>\n",
       "    </tr>\n",
       "  </thead>\n",
       "  <tbody>\n",
       "    <tr>\n",
       "      <th>0</th>\n",
       "      <td>belleza</td>\n",
       "      <td>82000.0</td>\n",
       "      <td>excelente</td>\n",
       "      <td>1.0</td>\n",
       "    </tr>\n",
       "    <tr>\n",
       "      <th>1</th>\n",
       "      <td>belleza</td>\n",
       "      <td>32790.0</td>\n",
       "      <td>excelente</td>\n",
       "      <td>1.0</td>\n",
       "    </tr>\n",
       "    <tr>\n",
       "      <th>2</th>\n",
       "      <td>belleza</td>\n",
       "      <td>31500.0</td>\n",
       "      <td>Rapido muy bueno</td>\n",
       "      <td>1.0</td>\n",
       "    </tr>\n",
       "    <tr>\n",
       "      <th>3</th>\n",
       "      <td>belleza</td>\n",
       "      <td>12990.0</td>\n",
       "      <td>muy buen producto, llego enseguida...</td>\n",
       "      <td>1.0</td>\n",
       "    </tr>\n",
       "    <tr>\n",
       "      <th>4</th>\n",
       "      <td>belleza</td>\n",
       "      <td>21800.0</td>\n",
       "      <td>muy bueno</td>\n",
       "      <td>1.0</td>\n",
       "    </tr>\n",
       "    <tr>\n",
       "      <th>...</th>\n",
       "      <td>...</td>\n",
       "      <td>...</td>\n",
       "      <td>...</td>\n",
       "      <td>...</td>\n",
       "    </tr>\n",
       "    <tr>\n",
       "      <th>292</th>\n",
       "      <td>tecnologia</td>\n",
       "      <td>649990.0</td>\n",
       "      <td>Llego con falla &lt;span itemprop=description,El ...</td>\n",
       "      <td>1.0</td>\n",
       "    </tr>\n",
       "    <tr>\n",
       "      <th>293</th>\n",
       "      <td>hogar</td>\n",
       "      <td>309990.0</td>\n",
       "      <td>Pesima &lt;span itemprop=description,Compre ase u...</td>\n",
       "      <td>1.0</td>\n",
       "    </tr>\n",
       "    <tr>\n",
       "      <th>294</th>\n",
       "      <td>hogar</td>\n",
       "      <td>209990.0</td>\n",
       "      <td>Producto no cumple especificaciones! &lt;span ite...</td>\n",
       "      <td>1.0</td>\n",
       "    </tr>\n",
       "    <tr>\n",
       "      <th>295</th>\n",
       "      <td>hogar</td>\n",
       "      <td>82990.0</td>\n",
       "      <td>Problemas al hacer pan &lt;span itemprop=descript...</td>\n",
       "      <td>1.0</td>\n",
       "    </tr>\n",
       "    <tr>\n",
       "      <th>296</th>\n",
       "      <td>hogar</td>\n",
       "      <td>229990.0</td>\n",
       "      <td>No cumple su funcion &lt;span itemprop=descriptio...</td>\n",
       "      <td>1.0</td>\n",
       "    </tr>\n",
       "  </tbody>\n",
       "</table>\n",
       "<p>297 rows × 4 columns</p>\n",
       "</div>"
      ],
      "text/plain": [
       "      categoria  precio_internet  \\\n",
       "0       belleza          82000.0   \n",
       "1       belleza          32790.0   \n",
       "2       belleza          31500.0   \n",
       "3       belleza          12990.0   \n",
       "4       belleza          21800.0   \n",
       "..          ...              ...   \n",
       "292  tecnologia         649990.0   \n",
       "293       hogar         309990.0   \n",
       "294       hogar         209990.0   \n",
       "295       hogar          82990.0   \n",
       "296       hogar         229990.0   \n",
       "\n",
       "                                            comentario  rating  \n",
       "0                                  excelente               1.0  \n",
       "1                                  excelente               1.0  \n",
       "2                           Rapido muy bueno               1.0  \n",
       "3                muy buen producto, llego enseguida...     1.0  \n",
       "4                                  muy bueno               1.0  \n",
       "..                                                 ...     ...  \n",
       "292  Llego con falla <span itemprop=description,El ...     1.0  \n",
       "293  Pesima <span itemprop=description,Compre ase u...     1.0  \n",
       "294  Producto no cumple especificaciones! <span ite...     1.0  \n",
       "295  Problemas al hacer pan <span itemprop=descript...     1.0  \n",
       "296  No cumple su funcion <span itemprop=descriptio...     1.0  \n",
       "\n",
       "[297 rows x 4 columns]"
      ]
     },
     "execution_count": 192,
     "metadata": {},
     "output_type": "execute_result"
    }
   ],
   "source": [
    "# Transformación de listas del subset n°3, con comentarios \"nuevos\", en dataframe.\n",
    "rat1_ss3 = {\n",
    "    \"categoria\":categoria_r1_ss1,\n",
    "    'precio_internet':precio_internet_r1_ss1,\n",
    "    'comentario':nuevos_comentarios_r1_ss3,\n",
    "    'rating':rating_1,\n",
    "}\n",
    "data_rat1_ss3 = pd.DataFrame(rat1_ss3)\n",
    "data_rat1_ss3"
   ]
  },
  {
   "cell_type": "code",
   "execution_count": 195,
   "metadata": {},
   "outputs": [],
   "source": [
    "# Concatenación de subsets creados (N°1, N°2 y N°3) para rating = 1.\n",
    "frames = [data_rat1_ss1,data_rat1_ss2,data_rat1_ss3]\n",
    "rating1_ss = pd.concat(frames,axis =0).reset_index().drop(columns = 'index')"
   ]
  },
  {
   "cell_type": "code",
   "execution_count": 196,
   "metadata": {
    "scrolled": true
   },
   "outputs": [
    {
     "data": {
      "text/html": [
       "<div>\n",
       "<style scoped>\n",
       "    .dataframe tbody tr th:only-of-type {\n",
       "        vertical-align: middle;\n",
       "    }\n",
       "\n",
       "    .dataframe tbody tr th {\n",
       "        vertical-align: top;\n",
       "    }\n",
       "\n",
       "    .dataframe thead th {\n",
       "        text-align: right;\n",
       "    }\n",
       "</style>\n",
       "<table border=\"1\" class=\"dataframe\">\n",
       "  <thead>\n",
       "    <tr style=\"text-align: right;\">\n",
       "      <th></th>\n",
       "      <th>categoria</th>\n",
       "      <th>precio_internet</th>\n",
       "      <th>comentario</th>\n",
       "      <th>rating</th>\n",
       "    </tr>\n",
       "  </thead>\n",
       "  <tbody>\n",
       "    <tr>\n",
       "      <th>0</th>\n",
       "      <td>belleza</td>\n",
       "      <td>82000.0</td>\n",
       "      <td>excelente</td>\n",
       "      <td>1.0</td>\n",
       "    </tr>\n",
       "    <tr>\n",
       "      <th>1</th>\n",
       "      <td>belleza</td>\n",
       "      <td>32790.0</td>\n",
       "      <td>excelente</td>\n",
       "      <td>1.0</td>\n",
       "    </tr>\n",
       "    <tr>\n",
       "      <th>2</th>\n",
       "      <td>belleza</td>\n",
       "      <td>31500.0</td>\n",
       "      <td>Rapido muy bueno</td>\n",
       "      <td>1.0</td>\n",
       "    </tr>\n",
       "    <tr>\n",
       "      <th>3</th>\n",
       "      <td>belleza</td>\n",
       "      <td>12990.0</td>\n",
       "      <td>muy buen producto, llego enseguida...</td>\n",
       "      <td>1.0</td>\n",
       "    </tr>\n",
       "    <tr>\n",
       "      <th>4</th>\n",
       "      <td>belleza</td>\n",
       "      <td>21800.0</td>\n",
       "      <td>muy bueno</td>\n",
       "      <td>1.0</td>\n",
       "    </tr>\n",
       "    <tr>\n",
       "      <th>...</th>\n",
       "      <td>...</td>\n",
       "      <td>...</td>\n",
       "      <td>...</td>\n",
       "      <td>...</td>\n",
       "    </tr>\n",
       "    <tr>\n",
       "      <th>886</th>\n",
       "      <td>tecnologia</td>\n",
       "      <td>649990.0</td>\n",
       "      <td>Llego con falla &lt;span itemprop=description,El ...</td>\n",
       "      <td>1.0</td>\n",
       "    </tr>\n",
       "    <tr>\n",
       "      <th>887</th>\n",
       "      <td>hogar</td>\n",
       "      <td>309990.0</td>\n",
       "      <td>Pesima &lt;span itemprop=description,Compre ase u...</td>\n",
       "      <td>1.0</td>\n",
       "    </tr>\n",
       "    <tr>\n",
       "      <th>888</th>\n",
       "      <td>hogar</td>\n",
       "      <td>209990.0</td>\n",
       "      <td>Producto no cumple especificaciones! &lt;span ite...</td>\n",
       "      <td>1.0</td>\n",
       "    </tr>\n",
       "    <tr>\n",
       "      <th>889</th>\n",
       "      <td>hogar</td>\n",
       "      <td>82990.0</td>\n",
       "      <td>Problemas al hacer pan &lt;span itemprop=descript...</td>\n",
       "      <td>1.0</td>\n",
       "    </tr>\n",
       "    <tr>\n",
       "      <th>890</th>\n",
       "      <td>hogar</td>\n",
       "      <td>229990.0</td>\n",
       "      <td>No cumple su funcion &lt;span itemprop=descriptio...</td>\n",
       "      <td>1.0</td>\n",
       "    </tr>\n",
       "  </tbody>\n",
       "</table>\n",
       "<p>891 rows × 4 columns</p>\n",
       "</div>"
      ],
      "text/plain": [
       "      categoria  precio_internet  \\\n",
       "0       belleza          82000.0   \n",
       "1       belleza          32790.0   \n",
       "2       belleza          31500.0   \n",
       "3       belleza          12990.0   \n",
       "4       belleza          21800.0   \n",
       "..          ...              ...   \n",
       "886  tecnologia         649990.0   \n",
       "887       hogar         309990.0   \n",
       "888       hogar         209990.0   \n",
       "889       hogar          82990.0   \n",
       "890       hogar         229990.0   \n",
       "\n",
       "                                            comentario  rating  \n",
       "0                                  excelente               1.0  \n",
       "1                                  excelente               1.0  \n",
       "2                           Rapido muy bueno               1.0  \n",
       "3                muy buen producto, llego enseguida...     1.0  \n",
       "4                                  muy bueno               1.0  \n",
       "..                                                 ...     ...  \n",
       "886  Llego con falla <span itemprop=description,El ...     1.0  \n",
       "887  Pesima <span itemprop=description,Compre ase u...     1.0  \n",
       "888  Producto no cumple especificaciones! <span ite...     1.0  \n",
       "889  Problemas al hacer pan <span itemprop=descript...     1.0  \n",
       "890  No cumple su funcion <span itemprop=descriptio...     1.0  \n",
       "\n",
       "[891 rows x 4 columns]"
      ]
     },
     "execution_count": 196,
     "metadata": {},
     "output_type": "execute_result"
    }
   ],
   "source": [
    "rating1_ss"
   ]
  },
  {
   "cell_type": "markdown",
   "metadata": {},
   "source": [
    "### Rating = 2"
   ]
  },
  {
   "cell_type": "code",
   "execution_count": 197,
   "metadata": {},
   "outputs": [],
   "source": [
    "# Segmentación del dataframe, rating = 2.0\n",
    "df_rating2 = df_retail_train_2020[df_retail_train_2020['rating']==2.0]"
   ]
  },
  {
   "cell_type": "code",
   "execution_count": 199,
   "metadata": {},
   "outputs": [],
   "source": [
    "# Extracción de categoria, precio_internet y comentarios por rating en listas.\n",
    "categoria_r2_ss1 = []\n",
    "precio_internet_r2_ss1 = []\n",
    "comentarios_r2_ss1 = []\n",
    "\n",
    "for i in df_rating2.index:\n",
    "    tmp1 = df_rating2['categoria'][i]\n",
    "    tmp2 = df_rating2['precio_internet'][i]\n",
    "    tmp3 = df_rating2['comentario'][i]\n",
    "    categoria_r2_ss1.append(tmp1)\n",
    "    precio_internet_r2_ss1.append(tmp2)\n",
    "    comentarios_r2_ss1.append(tmp3)"
   ]
  },
  {
   "cell_type": "code",
   "execution_count": 200,
   "metadata": {},
   "outputs": [
    {
     "name": "stdout",
     "output_type": "stream",
     "text": [
      "Wall time: 2min 32s\n"
     ]
    }
   ],
   "source": [
    "%%time\n",
    "# Rating 2 - Subset 1: Aplicación de función para traduccir comentarios de lista definida en paso anterior a FRANCÉS, \n",
    "# para posteriormente traducirlos al ESPAÑOL.\n",
    "nuevos_comentarios_r2_ss1 = []\n",
    "for i in comentarios_r2_ss1:\n",
    "    x = french_translation(i)\n",
    "    y = spanish_translation(x)\n",
    "    nuevos_comentarios_r2_ss1.append(y)"
   ]
  },
  {
   "cell_type": "code",
   "execution_count": 201,
   "metadata": {},
   "outputs": [],
   "source": [
    "rating_2 = 2.0"
   ]
  },
  {
   "cell_type": "code",
   "execution_count": 202,
   "metadata": {
    "scrolled": true
   },
   "outputs": [
    {
     "data": {
      "text/html": [
       "<div>\n",
       "<style scoped>\n",
       "    .dataframe tbody tr th:only-of-type {\n",
       "        vertical-align: middle;\n",
       "    }\n",
       "\n",
       "    .dataframe tbody tr th {\n",
       "        vertical-align: top;\n",
       "    }\n",
       "\n",
       "    .dataframe thead th {\n",
       "        text-align: right;\n",
       "    }\n",
       "</style>\n",
       "<table border=\"1\" class=\"dataframe\">\n",
       "  <thead>\n",
       "    <tr style=\"text-align: right;\">\n",
       "      <th></th>\n",
       "      <th>categoria</th>\n",
       "      <th>precio_internet</th>\n",
       "      <th>comentario</th>\n",
       "      <th>rating</th>\n",
       "    </tr>\n",
       "  </thead>\n",
       "  <tbody>\n",
       "    <tr>\n",
       "      <th>0</th>\n",
       "      <td>tecnologia</td>\n",
       "      <td>499990.0</td>\n",
       "      <td>El equipo muy bueno e incluso lleg...</td>\n",
       "      <td>2.0</td>\n",
       "    </tr>\n",
       "    <tr>\n",
       "      <th>1</th>\n",
       "      <td>belleza</td>\n",
       "      <td>51500.0</td>\n",
       "      <td>me encanto</td>\n",
       "      <td>2.0</td>\n",
       "    </tr>\n",
       "    <tr>\n",
       "      <th>2</th>\n",
       "      <td>belleza</td>\n",
       "      <td>71300.0</td>\n",
       "      <td>muy buena</td>\n",
       "      <td>2.0</td>\n",
       "    </tr>\n",
       "    <tr>\n",
       "      <th>3</th>\n",
       "      <td>moda</td>\n",
       "      <td>10490.0</td>\n",
       "      <td>El color del estampado no es como de muestra e...</td>\n",
       "      <td>2.0</td>\n",
       "    </tr>\n",
       "    <tr>\n",
       "      <th>4</th>\n",
       "      <td>moda</td>\n",
       "      <td>9090.0</td>\n",
       "      <td>La tela es pesima!! Se agranda despues de poco...</td>\n",
       "      <td>2.0</td>\n",
       "    </tr>\n",
       "    <tr>\n",
       "      <th>...</th>\n",
       "      <td>...</td>\n",
       "      <td>...</td>\n",
       "      <td>...</td>\n",
       "      <td>...</td>\n",
       "    </tr>\n",
       "    <tr>\n",
       "      <th>77</th>\n",
       "      <td>tecnologia</td>\n",
       "      <td>389990.0</td>\n",
       "      <td>No tiene colores reales desde los Angulos &lt;spa...</td>\n",
       "      <td>2.0</td>\n",
       "    </tr>\n",
       "    <tr>\n",
       "      <th>78</th>\n",
       "      <td>hogar</td>\n",
       "      <td>309990.0</td>\n",
       "      <td>Horno muy lento &lt;span itemprop=description,Se ...</td>\n",
       "      <td>2.0</td>\n",
       "    </tr>\n",
       "    <tr>\n",
       "      <th>79</th>\n",
       "      <td>tecnologia</td>\n",
       "      <td>389990.0</td>\n",
       "      <td>Se apaga &lt;span itemprop=description,Se apaga y...</td>\n",
       "      <td>2.0</td>\n",
       "    </tr>\n",
       "    <tr>\n",
       "      <th>80</th>\n",
       "      <td>hogar</td>\n",
       "      <td>479990.0</td>\n",
       "      <td>No vale lo que cuesta &lt;span itemprop=descripti...</td>\n",
       "      <td>2.0</td>\n",
       "    </tr>\n",
       "    <tr>\n",
       "      <th>81</th>\n",
       "      <td>tecnologia</td>\n",
       "      <td>329990.0</td>\n",
       "      <td>No es lo que esperaba &lt;span itemprop=descripti...</td>\n",
       "      <td>2.0</td>\n",
       "    </tr>\n",
       "  </tbody>\n",
       "</table>\n",
       "<p>82 rows × 4 columns</p>\n",
       "</div>"
      ],
      "text/plain": [
       "     categoria  precio_internet  \\\n",
       "0   tecnologia         499990.0   \n",
       "1      belleza          51500.0   \n",
       "2      belleza          71300.0   \n",
       "3         moda          10490.0   \n",
       "4         moda           9090.0   \n",
       "..         ...              ...   \n",
       "77  tecnologia         389990.0   \n",
       "78       hogar         309990.0   \n",
       "79  tecnologia         389990.0   \n",
       "80       hogar         479990.0   \n",
       "81  tecnologia         329990.0   \n",
       "\n",
       "                                           comentario  rating  \n",
       "0               El equipo muy bueno e incluso lleg...     2.0  \n",
       "1                                me encanto               2.0  \n",
       "2                                 muy buena               2.0  \n",
       "3   El color del estampado no es como de muestra e...     2.0  \n",
       "4   La tela es pesima!! Se agranda despues de poco...     2.0  \n",
       "..                                                ...     ...  \n",
       "77  No tiene colores reales desde los Angulos <spa...     2.0  \n",
       "78  Horno muy lento <span itemprop=description,Se ...     2.0  \n",
       "79  Se apaga <span itemprop=description,Se apaga y...     2.0  \n",
       "80  No vale lo que cuesta <span itemprop=descripti...     2.0  \n",
       "81  No es lo que esperaba <span itemprop=descripti...     2.0  \n",
       "\n",
       "[82 rows x 4 columns]"
      ]
     },
     "execution_count": 202,
     "metadata": {},
     "output_type": "execute_result"
    }
   ],
   "source": [
    "# Transformación de listas del subset n°1, con comentarios \"nuevos\", en dataframe.\n",
    "rat2_ss1 = {\n",
    "    \"categoria\":categoria_r2_ss1,\n",
    "    'precio_internet':precio_internet_r2_ss1,\n",
    "    'comentario':nuevos_comentarios_r2_ss1,\n",
    "    'rating':rating_2\n",
    "}\n",
    "data_rat2_ss1 = pd.DataFrame(rat2_ss1)\n",
    "data_rat2_ss1"
   ]
  },
  {
   "cell_type": "code",
   "execution_count": 203,
   "metadata": {},
   "outputs": [
    {
     "name": "stdout",
     "output_type": "stream",
     "text": [
      "Wall time: 2min 27s\n"
     ]
    }
   ],
   "source": [
    "%%time\n",
    "# Rating 2 - Subset 2: Aplicación de función para traduccir a INGLÉS, para posteriormente traducirlos al ESPAÑOL.\n",
    "nuevos_comentarios_r2_ss2 = []\n",
    "for i in comentarios_r2_ss1:\n",
    "    x = english_translation(i)\n",
    "    y = spanish_translation(x)\n",
    "    nuevos_comentarios_r2_ss2.append(y)"
   ]
  },
  {
   "cell_type": "code",
   "execution_count": 204,
   "metadata": {},
   "outputs": [
    {
     "data": {
      "text/html": [
       "<div>\n",
       "<style scoped>\n",
       "    .dataframe tbody tr th:only-of-type {\n",
       "        vertical-align: middle;\n",
       "    }\n",
       "\n",
       "    .dataframe tbody tr th {\n",
       "        vertical-align: top;\n",
       "    }\n",
       "\n",
       "    .dataframe thead th {\n",
       "        text-align: right;\n",
       "    }\n",
       "</style>\n",
       "<table border=\"1\" class=\"dataframe\">\n",
       "  <thead>\n",
       "    <tr style=\"text-align: right;\">\n",
       "      <th></th>\n",
       "      <th>categoria</th>\n",
       "      <th>precio_internet</th>\n",
       "      <th>comentario</th>\n",
       "      <th>rating</th>\n",
       "    </tr>\n",
       "  </thead>\n",
       "  <tbody>\n",
       "    <tr>\n",
       "      <th>0</th>\n",
       "      <td>tecnologia</td>\n",
       "      <td>499990.0</td>\n",
       "      <td>El equipo muy bueno e incluso lleg...</td>\n",
       "      <td>2.0</td>\n",
       "    </tr>\n",
       "    <tr>\n",
       "      <th>1</th>\n",
       "      <td>belleza</td>\n",
       "      <td>51500.0</td>\n",
       "      <td>me encanto</td>\n",
       "      <td>2.0</td>\n",
       "    </tr>\n",
       "    <tr>\n",
       "      <th>2</th>\n",
       "      <td>belleza</td>\n",
       "      <td>71300.0</td>\n",
       "      <td>muy buena</td>\n",
       "      <td>2.0</td>\n",
       "    </tr>\n",
       "    <tr>\n",
       "      <th>3</th>\n",
       "      <td>moda</td>\n",
       "      <td>10490.0</td>\n",
       "      <td>El color del estampado no es como de muestra e...</td>\n",
       "      <td>2.0</td>\n",
       "    </tr>\n",
       "    <tr>\n",
       "      <th>4</th>\n",
       "      <td>moda</td>\n",
       "      <td>9090.0</td>\n",
       "      <td>La tela es pesima!! Se agranda despues de poco...</td>\n",
       "      <td>2.0</td>\n",
       "    </tr>\n",
       "    <tr>\n",
       "      <th>...</th>\n",
       "      <td>...</td>\n",
       "      <td>...</td>\n",
       "      <td>...</td>\n",
       "      <td>...</td>\n",
       "    </tr>\n",
       "    <tr>\n",
       "      <th>77</th>\n",
       "      <td>tecnologia</td>\n",
       "      <td>389990.0</td>\n",
       "      <td>No tiene colores reales desde los Angulos &lt;spa...</td>\n",
       "      <td>2.0</td>\n",
       "    </tr>\n",
       "    <tr>\n",
       "      <th>78</th>\n",
       "      <td>hogar</td>\n",
       "      <td>309990.0</td>\n",
       "      <td>Horno muy lento &lt;span itemprop=description,Se ...</td>\n",
       "      <td>2.0</td>\n",
       "    </tr>\n",
       "    <tr>\n",
       "      <th>79</th>\n",
       "      <td>tecnologia</td>\n",
       "      <td>389990.0</td>\n",
       "      <td>Se apaga &lt;span itemprop=description,Se apaga y...</td>\n",
       "      <td>2.0</td>\n",
       "    </tr>\n",
       "    <tr>\n",
       "      <th>80</th>\n",
       "      <td>hogar</td>\n",
       "      <td>479990.0</td>\n",
       "      <td>No vale lo que cuesta &lt;span itemprop=descripti...</td>\n",
       "      <td>2.0</td>\n",
       "    </tr>\n",
       "    <tr>\n",
       "      <th>81</th>\n",
       "      <td>tecnologia</td>\n",
       "      <td>329990.0</td>\n",
       "      <td>No es lo que esperaba &lt;span itemprop=descripti...</td>\n",
       "      <td>2.0</td>\n",
       "    </tr>\n",
       "  </tbody>\n",
       "</table>\n",
       "<p>82 rows × 4 columns</p>\n",
       "</div>"
      ],
      "text/plain": [
       "     categoria  precio_internet  \\\n",
       "0   tecnologia         499990.0   \n",
       "1      belleza          51500.0   \n",
       "2      belleza          71300.0   \n",
       "3         moda          10490.0   \n",
       "4         moda           9090.0   \n",
       "..         ...              ...   \n",
       "77  tecnologia         389990.0   \n",
       "78       hogar         309990.0   \n",
       "79  tecnologia         389990.0   \n",
       "80       hogar         479990.0   \n",
       "81  tecnologia         329990.0   \n",
       "\n",
       "                                           comentario  rating  \n",
       "0               El equipo muy bueno e incluso lleg...     2.0  \n",
       "1                                me encanto               2.0  \n",
       "2                                 muy buena               2.0  \n",
       "3   El color del estampado no es como de muestra e...     2.0  \n",
       "4   La tela es pesima!! Se agranda despues de poco...     2.0  \n",
       "..                                                ...     ...  \n",
       "77  No tiene colores reales desde los Angulos <spa...     2.0  \n",
       "78  Horno muy lento <span itemprop=description,Se ...     2.0  \n",
       "79  Se apaga <span itemprop=description,Se apaga y...     2.0  \n",
       "80  No vale lo que cuesta <span itemprop=descripti...     2.0  \n",
       "81  No es lo que esperaba <span itemprop=descripti...     2.0  \n",
       "\n",
       "[82 rows x 4 columns]"
      ]
     },
     "execution_count": 204,
     "metadata": {},
     "output_type": "execute_result"
    }
   ],
   "source": [
    "# Transformación de listas del subset n°2, con comentarios \"nuevos\", en dataframe.\n",
    "rat2_ss2 = {\n",
    "    \"categoria\":categoria_r2_ss1,\n",
    "    'precio_internet':precio_internet_r2_ss1,\n",
    "    'comentario':nuevos_comentarios_r2_ss2,\n",
    "    'rating':rating_2\n",
    "}\n",
    "data_rat2_ss2 = pd.DataFrame(rat2_ss2)\n",
    "data_rat2_ss2"
   ]
  },
  {
   "cell_type": "code",
   "execution_count": 207,
   "metadata": {},
   "outputs": [
    {
     "name": "stdout",
     "output_type": "stream",
     "text": [
      "Wall time: 2min 41s\n"
     ]
    }
   ],
   "source": [
    "%%time\n",
    "# Rating 2 - Subset 3: Aplicación de función para traduccir a PORTUGUÉS, para posteriormente traducirlos al ESPAÑOL.\n",
    "nuevos_comentarios_r2_ss3 = []\n",
    "for i in comentarios_r2_ss1:\n",
    "    x = portuguese_translation(i)\n",
    "    y = spanish_translation(x)\n",
    "    nuevos_comentarios_r2_ss3.append(y)"
   ]
  },
  {
   "cell_type": "code",
   "execution_count": 208,
   "metadata": {},
   "outputs": [
    {
     "data": {
      "text/html": [
       "<div>\n",
       "<style scoped>\n",
       "    .dataframe tbody tr th:only-of-type {\n",
       "        vertical-align: middle;\n",
       "    }\n",
       "\n",
       "    .dataframe tbody tr th {\n",
       "        vertical-align: top;\n",
       "    }\n",
       "\n",
       "    .dataframe thead th {\n",
       "        text-align: right;\n",
       "    }\n",
       "</style>\n",
       "<table border=\"1\" class=\"dataframe\">\n",
       "  <thead>\n",
       "    <tr style=\"text-align: right;\">\n",
       "      <th></th>\n",
       "      <th>categoria</th>\n",
       "      <th>precio_internet</th>\n",
       "      <th>comentario</th>\n",
       "      <th>rating</th>\n",
       "    </tr>\n",
       "  </thead>\n",
       "  <tbody>\n",
       "    <tr>\n",
       "      <th>0</th>\n",
       "      <td>tecnologia</td>\n",
       "      <td>499990.0</td>\n",
       "      <td>El equipo muy bueno e incluso lleg...</td>\n",
       "      <td>2.0</td>\n",
       "    </tr>\n",
       "    <tr>\n",
       "      <th>1</th>\n",
       "      <td>belleza</td>\n",
       "      <td>51500.0</td>\n",
       "      <td>me encanto</td>\n",
       "      <td>2.0</td>\n",
       "    </tr>\n",
       "    <tr>\n",
       "      <th>2</th>\n",
       "      <td>belleza</td>\n",
       "      <td>71300.0</td>\n",
       "      <td>muy buena</td>\n",
       "      <td>2.0</td>\n",
       "    </tr>\n",
       "    <tr>\n",
       "      <th>3</th>\n",
       "      <td>moda</td>\n",
       "      <td>10490.0</td>\n",
       "      <td>El color del estampado no es como de muestra e...</td>\n",
       "      <td>2.0</td>\n",
       "    </tr>\n",
       "    <tr>\n",
       "      <th>4</th>\n",
       "      <td>moda</td>\n",
       "      <td>9090.0</td>\n",
       "      <td>La tela es pesima!! Se agranda despues de poco...</td>\n",
       "      <td>2.0</td>\n",
       "    </tr>\n",
       "    <tr>\n",
       "      <th>...</th>\n",
       "      <td>...</td>\n",
       "      <td>...</td>\n",
       "      <td>...</td>\n",
       "      <td>...</td>\n",
       "    </tr>\n",
       "    <tr>\n",
       "      <th>77</th>\n",
       "      <td>tecnologia</td>\n",
       "      <td>389990.0</td>\n",
       "      <td>No tiene colores reales desde los Angulos &lt;spa...</td>\n",
       "      <td>2.0</td>\n",
       "    </tr>\n",
       "    <tr>\n",
       "      <th>78</th>\n",
       "      <td>hogar</td>\n",
       "      <td>309990.0</td>\n",
       "      <td>Horno muy lento &lt;span itemprop=description,Se ...</td>\n",
       "      <td>2.0</td>\n",
       "    </tr>\n",
       "    <tr>\n",
       "      <th>79</th>\n",
       "      <td>tecnologia</td>\n",
       "      <td>389990.0</td>\n",
       "      <td>Se apaga &lt;span itemprop=description,Se apaga y...</td>\n",
       "      <td>2.0</td>\n",
       "    </tr>\n",
       "    <tr>\n",
       "      <th>80</th>\n",
       "      <td>hogar</td>\n",
       "      <td>479990.0</td>\n",
       "      <td>No vale lo que cuesta &lt;span itemprop=descripti...</td>\n",
       "      <td>2.0</td>\n",
       "    </tr>\n",
       "    <tr>\n",
       "      <th>81</th>\n",
       "      <td>tecnologia</td>\n",
       "      <td>329990.0</td>\n",
       "      <td>No es lo que esperaba &lt;span itemprop=descripti...</td>\n",
       "      <td>2.0</td>\n",
       "    </tr>\n",
       "  </tbody>\n",
       "</table>\n",
       "<p>82 rows × 4 columns</p>\n",
       "</div>"
      ],
      "text/plain": [
       "     categoria  precio_internet  \\\n",
       "0   tecnologia         499990.0   \n",
       "1      belleza          51500.0   \n",
       "2      belleza          71300.0   \n",
       "3         moda          10490.0   \n",
       "4         moda           9090.0   \n",
       "..         ...              ...   \n",
       "77  tecnologia         389990.0   \n",
       "78       hogar         309990.0   \n",
       "79  tecnologia         389990.0   \n",
       "80       hogar         479990.0   \n",
       "81  tecnologia         329990.0   \n",
       "\n",
       "                                           comentario  rating  \n",
       "0               El equipo muy bueno e incluso lleg...     2.0  \n",
       "1                                me encanto               2.0  \n",
       "2                                 muy buena               2.0  \n",
       "3   El color del estampado no es como de muestra e...     2.0  \n",
       "4   La tela es pesima!! Se agranda despues de poco...     2.0  \n",
       "..                                                ...     ...  \n",
       "77  No tiene colores reales desde los Angulos <spa...     2.0  \n",
       "78  Horno muy lento <span itemprop=description,Se ...     2.0  \n",
       "79  Se apaga <span itemprop=description,Se apaga y...     2.0  \n",
       "80  No vale lo que cuesta <span itemprop=descripti...     2.0  \n",
       "81  No es lo que esperaba <span itemprop=descripti...     2.0  \n",
       "\n",
       "[82 rows x 4 columns]"
      ]
     },
     "execution_count": 208,
     "metadata": {},
     "output_type": "execute_result"
    }
   ],
   "source": [
    "# Transformación de listas del subset n°3, con comentarios \"nuevos\", en dataframe.\n",
    "rat2_ss3 = {\n",
    "    \"categoria\":categoria_r2_ss1,\n",
    "    'precio_internet':precio_internet_r2_ss1,\n",
    "    'comentario':nuevos_comentarios_r2_ss3,\n",
    "    'rating':rating_2\n",
    "}\n",
    "data_rat2_ss3 = pd.DataFrame(rat2_ss3)\n",
    "data_rat2_ss3"
   ]
  },
  {
   "cell_type": "code",
   "execution_count": 222,
   "metadata": {},
   "outputs": [
    {
     "name": "stdout",
     "output_type": "stream",
     "text": [
      "Wall time: 2min 42s\n"
     ]
    }
   ],
   "source": [
    "%%time\n",
    "# Rating 2 - Subset 4: Aplicación de función para traduccir a HOLANDÉS, para posteriormente traducirlos al ESPAÑOL.\n",
    "nuevos_comentarios_r2_ss4 = []\n",
    "for i in comentarios_r2_ss1:\n",
    "    x = dutch_translation(i)\n",
    "    y = spanish_translation(x)\n",
    "    nuevos_comentarios_r2_ss4.append(y)"
   ]
  },
  {
   "cell_type": "code",
   "execution_count": 223,
   "metadata": {},
   "outputs": [
    {
     "data": {
      "text/html": [
       "<div>\n",
       "<style scoped>\n",
       "    .dataframe tbody tr th:only-of-type {\n",
       "        vertical-align: middle;\n",
       "    }\n",
       "\n",
       "    .dataframe tbody tr th {\n",
       "        vertical-align: top;\n",
       "    }\n",
       "\n",
       "    .dataframe thead th {\n",
       "        text-align: right;\n",
       "    }\n",
       "</style>\n",
       "<table border=\"1\" class=\"dataframe\">\n",
       "  <thead>\n",
       "    <tr style=\"text-align: right;\">\n",
       "      <th></th>\n",
       "      <th>categoria</th>\n",
       "      <th>precio_internet</th>\n",
       "      <th>comentario</th>\n",
       "      <th>rating</th>\n",
       "    </tr>\n",
       "  </thead>\n",
       "  <tbody>\n",
       "    <tr>\n",
       "      <th>0</th>\n",
       "      <td>tecnologia</td>\n",
       "      <td>499990.0</td>\n",
       "      <td>El equipo muy bueno e incluso lleg...</td>\n",
       "      <td>2.0</td>\n",
       "    </tr>\n",
       "    <tr>\n",
       "      <th>1</th>\n",
       "      <td>belleza</td>\n",
       "      <td>51500.0</td>\n",
       "      <td>me encanto</td>\n",
       "      <td>2.0</td>\n",
       "    </tr>\n",
       "    <tr>\n",
       "      <th>2</th>\n",
       "      <td>belleza</td>\n",
       "      <td>71300.0</td>\n",
       "      <td>muy buena</td>\n",
       "      <td>2.0</td>\n",
       "    </tr>\n",
       "    <tr>\n",
       "      <th>3</th>\n",
       "      <td>moda</td>\n",
       "      <td>10490.0</td>\n",
       "      <td>El color del estampado no es como de muestra e...</td>\n",
       "      <td>2.0</td>\n",
       "    </tr>\n",
       "    <tr>\n",
       "      <th>4</th>\n",
       "      <td>moda</td>\n",
       "      <td>9090.0</td>\n",
       "      <td>La tela es pesima!! Se agranda despues de poco...</td>\n",
       "      <td>2.0</td>\n",
       "    </tr>\n",
       "    <tr>\n",
       "      <th>...</th>\n",
       "      <td>...</td>\n",
       "      <td>...</td>\n",
       "      <td>...</td>\n",
       "      <td>...</td>\n",
       "    </tr>\n",
       "    <tr>\n",
       "      <th>77</th>\n",
       "      <td>tecnologia</td>\n",
       "      <td>389990.0</td>\n",
       "      <td>No tiene colores reales desde los Angulos &lt;spa...</td>\n",
       "      <td>2.0</td>\n",
       "    </tr>\n",
       "    <tr>\n",
       "      <th>78</th>\n",
       "      <td>hogar</td>\n",
       "      <td>309990.0</td>\n",
       "      <td>Horno muy lento &lt;span itemprop=description,Se ...</td>\n",
       "      <td>2.0</td>\n",
       "    </tr>\n",
       "    <tr>\n",
       "      <th>79</th>\n",
       "      <td>tecnologia</td>\n",
       "      <td>389990.0</td>\n",
       "      <td>Se apaga &lt;span itemprop=description,Se apaga y...</td>\n",
       "      <td>2.0</td>\n",
       "    </tr>\n",
       "    <tr>\n",
       "      <th>80</th>\n",
       "      <td>hogar</td>\n",
       "      <td>479990.0</td>\n",
       "      <td>No vale lo que cuesta &lt;span itemprop=descripti...</td>\n",
       "      <td>2.0</td>\n",
       "    </tr>\n",
       "    <tr>\n",
       "      <th>81</th>\n",
       "      <td>tecnologia</td>\n",
       "      <td>329990.0</td>\n",
       "      <td>No es lo que esperaba &lt;span itemprop=descripti...</td>\n",
       "      <td>2.0</td>\n",
       "    </tr>\n",
       "  </tbody>\n",
       "</table>\n",
       "<p>82 rows × 4 columns</p>\n",
       "</div>"
      ],
      "text/plain": [
       "     categoria  precio_internet  \\\n",
       "0   tecnologia         499990.0   \n",
       "1      belleza          51500.0   \n",
       "2      belleza          71300.0   \n",
       "3         moda          10490.0   \n",
       "4         moda           9090.0   \n",
       "..         ...              ...   \n",
       "77  tecnologia         389990.0   \n",
       "78       hogar         309990.0   \n",
       "79  tecnologia         389990.0   \n",
       "80       hogar         479990.0   \n",
       "81  tecnologia         329990.0   \n",
       "\n",
       "                                           comentario  rating  \n",
       "0               El equipo muy bueno e incluso lleg...     2.0  \n",
       "1                                me encanto               2.0  \n",
       "2                                 muy buena               2.0  \n",
       "3   El color del estampado no es como de muestra e...     2.0  \n",
       "4   La tela es pesima!! Se agranda despues de poco...     2.0  \n",
       "..                                                ...     ...  \n",
       "77  No tiene colores reales desde los Angulos <spa...     2.0  \n",
       "78  Horno muy lento <span itemprop=description,Se ...     2.0  \n",
       "79  Se apaga <span itemprop=description,Se apaga y...     2.0  \n",
       "80  No vale lo que cuesta <span itemprop=descripti...     2.0  \n",
       "81  No es lo que esperaba <span itemprop=descripti...     2.0  \n",
       "\n",
       "[82 rows x 4 columns]"
      ]
     },
     "execution_count": 223,
     "metadata": {},
     "output_type": "execute_result"
    }
   ],
   "source": [
    "# Transformación de listas del subset n°3, con comentarios \"nuevos\", en dataframe.\n",
    "rat2_ss4 = {\n",
    "    \"categoria\":categoria_r2_ss1,\n",
    "    'precio_internet':precio_internet_r2_ss1,\n",
    "    'comentario':nuevos_comentarios_r2_ss4,\n",
    "    'rating':rating_2\n",
    "}\n",
    "data_rat2_ss4 = pd.DataFrame(rat2_ss4)\n",
    "data_rat2_ss4"
   ]
  },
  {
   "cell_type": "code",
   "execution_count": 225,
   "metadata": {},
   "outputs": [
    {
     "name": "stdout",
     "output_type": "stream",
     "text": [
      "Wall time: 2min 33s\n"
     ]
    }
   ],
   "source": [
    "%%time\n",
    "# Rating 2 - Subset 5: Aplicación de función para traduccir a HOLANDÉS, para posteriormente traducirlos al ESPAÑOL.\n",
    "nuevos_comentarios_r2_ss5 = []\n",
    "for i in comentarios_r2_ss1:\n",
    "    x = croatian_translation(i)\n",
    "    y = spanish_translation(x)\n",
    "    nuevos_comentarios_r2_ss5.append(y)"
   ]
  },
  {
   "cell_type": "code",
   "execution_count": 226,
   "metadata": {},
   "outputs": [
    {
     "data": {
      "text/html": [
       "<div>\n",
       "<style scoped>\n",
       "    .dataframe tbody tr th:only-of-type {\n",
       "        vertical-align: middle;\n",
       "    }\n",
       "\n",
       "    .dataframe tbody tr th {\n",
       "        vertical-align: top;\n",
       "    }\n",
       "\n",
       "    .dataframe thead th {\n",
       "        text-align: right;\n",
       "    }\n",
       "</style>\n",
       "<table border=\"1\" class=\"dataframe\">\n",
       "  <thead>\n",
       "    <tr style=\"text-align: right;\">\n",
       "      <th></th>\n",
       "      <th>categoria</th>\n",
       "      <th>precio_internet</th>\n",
       "      <th>comentario</th>\n",
       "      <th>rating</th>\n",
       "    </tr>\n",
       "  </thead>\n",
       "  <tbody>\n",
       "    <tr>\n",
       "      <th>0</th>\n",
       "      <td>tecnologia</td>\n",
       "      <td>499990.0</td>\n",
       "      <td>El equipo muy bueno e incluso lleg...</td>\n",
       "      <td>2.0</td>\n",
       "    </tr>\n",
       "    <tr>\n",
       "      <th>1</th>\n",
       "      <td>belleza</td>\n",
       "      <td>51500.0</td>\n",
       "      <td>me encanto</td>\n",
       "      <td>2.0</td>\n",
       "    </tr>\n",
       "    <tr>\n",
       "      <th>2</th>\n",
       "      <td>belleza</td>\n",
       "      <td>71300.0</td>\n",
       "      <td>muy buena</td>\n",
       "      <td>2.0</td>\n",
       "    </tr>\n",
       "    <tr>\n",
       "      <th>3</th>\n",
       "      <td>moda</td>\n",
       "      <td>10490.0</td>\n",
       "      <td>El color del estampado no es como de muestra e...</td>\n",
       "      <td>2.0</td>\n",
       "    </tr>\n",
       "    <tr>\n",
       "      <th>4</th>\n",
       "      <td>moda</td>\n",
       "      <td>9090.0</td>\n",
       "      <td>La tela es pesima!! Se agranda despues de poco...</td>\n",
       "      <td>2.0</td>\n",
       "    </tr>\n",
       "    <tr>\n",
       "      <th>...</th>\n",
       "      <td>...</td>\n",
       "      <td>...</td>\n",
       "      <td>...</td>\n",
       "      <td>...</td>\n",
       "    </tr>\n",
       "    <tr>\n",
       "      <th>77</th>\n",
       "      <td>tecnologia</td>\n",
       "      <td>389990.0</td>\n",
       "      <td>No tiene colores reales desde los Angulos &lt;spa...</td>\n",
       "      <td>2.0</td>\n",
       "    </tr>\n",
       "    <tr>\n",
       "      <th>78</th>\n",
       "      <td>hogar</td>\n",
       "      <td>309990.0</td>\n",
       "      <td>Horno muy lento &lt;span itemprop=description,Se ...</td>\n",
       "      <td>2.0</td>\n",
       "    </tr>\n",
       "    <tr>\n",
       "      <th>79</th>\n",
       "      <td>tecnologia</td>\n",
       "      <td>389990.0</td>\n",
       "      <td>Se apaga &lt;span itemprop=description,Se apaga y...</td>\n",
       "      <td>2.0</td>\n",
       "    </tr>\n",
       "    <tr>\n",
       "      <th>80</th>\n",
       "      <td>hogar</td>\n",
       "      <td>479990.0</td>\n",
       "      <td>No vale lo que cuesta &lt;span itemprop=descripti...</td>\n",
       "      <td>2.0</td>\n",
       "    </tr>\n",
       "    <tr>\n",
       "      <th>81</th>\n",
       "      <td>tecnologia</td>\n",
       "      <td>329990.0</td>\n",
       "      <td>No es lo que esperaba &lt;span itemprop=descripti...</td>\n",
       "      <td>2.0</td>\n",
       "    </tr>\n",
       "  </tbody>\n",
       "</table>\n",
       "<p>82 rows × 4 columns</p>\n",
       "</div>"
      ],
      "text/plain": [
       "     categoria  precio_internet  \\\n",
       "0   tecnologia         499990.0   \n",
       "1      belleza          51500.0   \n",
       "2      belleza          71300.0   \n",
       "3         moda          10490.0   \n",
       "4         moda           9090.0   \n",
       "..         ...              ...   \n",
       "77  tecnologia         389990.0   \n",
       "78       hogar         309990.0   \n",
       "79  tecnologia         389990.0   \n",
       "80       hogar         479990.0   \n",
       "81  tecnologia         329990.0   \n",
       "\n",
       "                                           comentario  rating  \n",
       "0               El equipo muy bueno e incluso lleg...     2.0  \n",
       "1                                me encanto               2.0  \n",
       "2                                 muy buena               2.0  \n",
       "3   El color del estampado no es como de muestra e...     2.0  \n",
       "4   La tela es pesima!! Se agranda despues de poco...     2.0  \n",
       "..                                                ...     ...  \n",
       "77  No tiene colores reales desde los Angulos <spa...     2.0  \n",
       "78  Horno muy lento <span itemprop=description,Se ...     2.0  \n",
       "79  Se apaga <span itemprop=description,Se apaga y...     2.0  \n",
       "80  No vale lo que cuesta <span itemprop=descripti...     2.0  \n",
       "81  No es lo que esperaba <span itemprop=descripti...     2.0  \n",
       "\n",
       "[82 rows x 4 columns]"
      ]
     },
     "execution_count": 226,
     "metadata": {},
     "output_type": "execute_result"
    }
   ],
   "source": [
    "# Transformación de listas del subset n°3, con comentarios \"nuevos\", en dataframe.\n",
    "rat2_ss5 = {\n",
    "    \"categoria\":categoria_r2_ss1,\n",
    "    'precio_internet':precio_internet_r2_ss1,\n",
    "    'comentario':nuevos_comentarios_r2_ss5,\n",
    "    'rating':rating_2\n",
    "}\n",
    "data_rat2_ss5 = pd.DataFrame(rat2_ss5)\n",
    "data_rat2_ss5"
   ]
  },
  {
   "cell_type": "code",
   "execution_count": 227,
   "metadata": {},
   "outputs": [],
   "source": [
    "# Concatenación de subsets creados (N°1, N°2, N°3,N°4,N°5) para rating = 2.\n",
    "frames_r2 = [data_rat2_ss1,data_rat2_ss2,data_rat2_ss3,data_rat2_ss4,data_rat2_ss5]\n",
    "rating2_ss = pd.concat(frames_r2,axis =0).reset_index().drop(columns = 'index')"
   ]
  },
  {
   "cell_type": "code",
   "execution_count": 228,
   "metadata": {},
   "outputs": [
    {
     "data": {
      "text/plain": [
       "(410, 4)"
      ]
     },
     "execution_count": 228,
     "metadata": {},
     "output_type": "execute_result"
    }
   ],
   "source": [
    "rating2_ss.shape"
   ]
  },
  {
   "cell_type": "markdown",
   "metadata": {},
   "source": [
    "### Rating = 3"
   ]
  },
  {
   "cell_type": "code",
   "execution_count": 210,
   "metadata": {},
   "outputs": [],
   "source": [
    "# Segmentación del dataframe, rating = 3.0\n",
    "df_rating3 = df_retail_train_2020[df_retail_train_2020['rating']==3.0]"
   ]
  },
  {
   "cell_type": "code",
   "execution_count": 211,
   "metadata": {},
   "outputs": [],
   "source": [
    "# Extracción de categoria, precio_internet y comentarios por rating en listas.\n",
    "categoria_r3_ss1 = []\n",
    "precio_internet_r3_ss1 = []\n",
    "comentarios_r3_ss1 = []\n",
    "\n",
    "for i in df_rating3.index:\n",
    "    tmp1 = df_rating3['categoria'][i]\n",
    "    tmp2 = df_rating3['precio_internet'][i]\n",
    "    tmp3 = df_rating3['comentario'][i]\n",
    "    categoria_r3_ss1.append(tmp1)\n",
    "    precio_internet_r3_ss1.append(tmp2)\n",
    "    comentarios_r3_ss1.append(tmp3)"
   ]
  },
  {
   "cell_type": "code",
   "execution_count": 212,
   "metadata": {},
   "outputs": [
    {
     "name": "stdout",
     "output_type": "stream",
     "text": [
      "Wall time: 3min 16s\n"
     ]
    }
   ],
   "source": [
    "%%time\n",
    "# Rating 3 - Subset 1: Aplicación de función para traduccir comentarios de lista definida en paso anterior a FRANCÉS, \n",
    "# para posteriormente traducirlos al ESPAÑOL.\n",
    "nuevos_comentarios_r3_ss1 = []\n",
    "for i in comentarios_r3_ss1:\n",
    "    x = french_translation(i)\n",
    "    y = spanish_translation(x)\n",
    "    nuevos_comentarios_r3_ss1.append(y)"
   ]
  },
  {
   "cell_type": "code",
   "execution_count": 213,
   "metadata": {},
   "outputs": [],
   "source": [
    "rating_3 = 3.0"
   ]
  },
  {
   "cell_type": "code",
   "execution_count": 214,
   "metadata": {},
   "outputs": [
    {
     "data": {
      "text/html": [
       "<div>\n",
       "<style scoped>\n",
       "    .dataframe tbody tr th:only-of-type {\n",
       "        vertical-align: middle;\n",
       "    }\n",
       "\n",
       "    .dataframe tbody tr th {\n",
       "        vertical-align: top;\n",
       "    }\n",
       "\n",
       "    .dataframe thead th {\n",
       "        text-align: right;\n",
       "    }\n",
       "</style>\n",
       "<table border=\"1\" class=\"dataframe\">\n",
       "  <thead>\n",
       "    <tr style=\"text-align: right;\">\n",
       "      <th></th>\n",
       "      <th>categoria</th>\n",
       "      <th>precio_internet</th>\n",
       "      <th>comentario</th>\n",
       "      <th>rating</th>\n",
       "    </tr>\n",
       "  </thead>\n",
       "  <tbody>\n",
       "    <tr>\n",
       "      <th>0</th>\n",
       "      <td>belleza</td>\n",
       "      <td>29990.0</td>\n",
       "      <td>Olor super rico y duradero, cumple...</td>\n",
       "      <td>3.0</td>\n",
       "    </tr>\n",
       "    <tr>\n",
       "      <th>1</th>\n",
       "      <td>tecnologia</td>\n",
       "      <td>189990.0</td>\n",
       "      <td>Todo bien</td>\n",
       "      <td>3.0</td>\n",
       "    </tr>\n",
       "    <tr>\n",
       "      <th>2</th>\n",
       "      <td>belleza</td>\n",
       "      <td>33940.0</td>\n",
       "      <td>excelente</td>\n",
       "      <td>3.0</td>\n",
       "    </tr>\n",
       "    <tr>\n",
       "      <th>3</th>\n",
       "      <td>belleza</td>\n",
       "      <td>29990.0</td>\n",
       "      <td>no tiene buena fijacion, da la imp...</td>\n",
       "      <td>3.0</td>\n",
       "    </tr>\n",
       "    <tr>\n",
       "      <th>4</th>\n",
       "      <td>tecnologia</td>\n",
       "      <td>559990.0</td>\n",
       "      <td>El telefono venia bien Funcionando...</td>\n",
       "      <td>3.0</td>\n",
       "    </tr>\n",
       "    <tr>\n",
       "      <th>...</th>\n",
       "      <td>...</td>\n",
       "      <td>...</td>\n",
       "      <td>...</td>\n",
       "      <td>...</td>\n",
       "    </tr>\n",
       "    <tr>\n",
       "      <th>99</th>\n",
       "      <td>hogar</td>\n",
       "      <td>244990.0</td>\n",
       "      <td>producto bueno despacho malo &lt;span itemprop=de...</td>\n",
       "      <td>3.0</td>\n",
       "    </tr>\n",
       "    <tr>\n",
       "      <th>100</th>\n",
       "      <td>hogar</td>\n",
       "      <td>184990.0</td>\n",
       "      <td>Es muy peque na &lt;span itemprop=description,Es ...</td>\n",
       "      <td>3.0</td>\n",
       "    </tr>\n",
       "    <tr>\n",
       "      <th>101</th>\n",
       "      <td>hogar</td>\n",
       "      <td>244990.0</td>\n",
       "      <td>buena la aspiradora &lt;span itemprop=description...</td>\n",
       "      <td>3.0</td>\n",
       "    </tr>\n",
       "    <tr>\n",
       "      <th>102</th>\n",
       "      <td>hogar</td>\n",
       "      <td>519990.0</td>\n",
       "      <td>Informacion incorrecta &lt;span itemprop=descript...</td>\n",
       "      <td>3.0</td>\n",
       "    </tr>\n",
       "    <tr>\n",
       "      <th>103</th>\n",
       "      <td>tecnologia</td>\n",
       "      <td>559990.0</td>\n",
       "      <td>Bien &lt;span itemprop=description,El TV excelent...</td>\n",
       "      <td>3.0</td>\n",
       "    </tr>\n",
       "  </tbody>\n",
       "</table>\n",
       "<p>104 rows × 4 columns</p>\n",
       "</div>"
      ],
      "text/plain": [
       "      categoria  precio_internet  \\\n",
       "0       belleza          29990.0   \n",
       "1    tecnologia         189990.0   \n",
       "2       belleza          33940.0   \n",
       "3       belleza          29990.0   \n",
       "4    tecnologia         559990.0   \n",
       "..          ...              ...   \n",
       "99        hogar         244990.0   \n",
       "100       hogar         184990.0   \n",
       "101       hogar         244990.0   \n",
       "102       hogar         519990.0   \n",
       "103  tecnologia         559990.0   \n",
       "\n",
       "                                            comentario  rating  \n",
       "0                Olor super rico y duradero, cumple...     3.0  \n",
       "1                                  Todo bien               3.0  \n",
       "2                                  excelente               3.0  \n",
       "3                no tiene buena fijacion, da la imp...     3.0  \n",
       "4                El telefono venia bien Funcionando...     3.0  \n",
       "..                                                 ...     ...  \n",
       "99   producto bueno despacho malo <span itemprop=de...     3.0  \n",
       "100  Es muy peque na <span itemprop=description,Es ...     3.0  \n",
       "101  buena la aspiradora <span itemprop=description...     3.0  \n",
       "102  Informacion incorrecta <span itemprop=descript...     3.0  \n",
       "103  Bien <span itemprop=description,El TV excelent...     3.0  \n",
       "\n",
       "[104 rows x 4 columns]"
      ]
     },
     "execution_count": 214,
     "metadata": {},
     "output_type": "execute_result"
    }
   ],
   "source": [
    "# Transformación de listas del subset n°1, con comentarios \"nuevos\", en dataframe.\n",
    "rat3_ss1 = {\n",
    "    \"categoria\":categoria_r3_ss1,\n",
    "    'precio_internet':precio_internet_r3_ss1,\n",
    "    'comentario':nuevos_comentarios_r3_ss1,\n",
    "    'rating':rating_3\n",
    "}\n",
    "data_rat3_ss1 = pd.DataFrame(rat3_ss1)\n",
    "data_rat3_ss1"
   ]
  },
  {
   "cell_type": "code",
   "execution_count": 215,
   "metadata": {},
   "outputs": [
    {
     "name": "stdout",
     "output_type": "stream",
     "text": [
      "Wall time: 3min 14s\n"
     ]
    }
   ],
   "source": [
    "%%time\n",
    "# Rating 3 - Subset 2: Aplicación de función para traduccir a INGLÉS, para posteriormente traducirlos al ESPAÑOL.\n",
    "nuevos_comentarios_r3_ss2 = []\n",
    "for i in comentarios_r3_ss1:\n",
    "    x = english_translation(i)\n",
    "    y = spanish_translation(x)\n",
    "    nuevos_comentarios_r3_ss2.append(y)"
   ]
  },
  {
   "cell_type": "code",
   "execution_count": 216,
   "metadata": {},
   "outputs": [
    {
     "data": {
      "text/html": [
       "<div>\n",
       "<style scoped>\n",
       "    .dataframe tbody tr th:only-of-type {\n",
       "        vertical-align: middle;\n",
       "    }\n",
       "\n",
       "    .dataframe tbody tr th {\n",
       "        vertical-align: top;\n",
       "    }\n",
       "\n",
       "    .dataframe thead th {\n",
       "        text-align: right;\n",
       "    }\n",
       "</style>\n",
       "<table border=\"1\" class=\"dataframe\">\n",
       "  <thead>\n",
       "    <tr style=\"text-align: right;\">\n",
       "      <th></th>\n",
       "      <th>categoria</th>\n",
       "      <th>precio_internet</th>\n",
       "      <th>comentario</th>\n",
       "      <th>rating</th>\n",
       "    </tr>\n",
       "  </thead>\n",
       "  <tbody>\n",
       "    <tr>\n",
       "      <th>0</th>\n",
       "      <td>belleza</td>\n",
       "      <td>29990.0</td>\n",
       "      <td>Olor super rico y duradero, cumple...</td>\n",
       "      <td>3.0</td>\n",
       "    </tr>\n",
       "    <tr>\n",
       "      <th>1</th>\n",
       "      <td>tecnologia</td>\n",
       "      <td>189990.0</td>\n",
       "      <td>Todo bien</td>\n",
       "      <td>3.0</td>\n",
       "    </tr>\n",
       "    <tr>\n",
       "      <th>2</th>\n",
       "      <td>belleza</td>\n",
       "      <td>33940.0</td>\n",
       "      <td>excelente</td>\n",
       "      <td>3.0</td>\n",
       "    </tr>\n",
       "    <tr>\n",
       "      <th>3</th>\n",
       "      <td>belleza</td>\n",
       "      <td>29990.0</td>\n",
       "      <td>no tiene buena fijacion, da la imp...</td>\n",
       "      <td>3.0</td>\n",
       "    </tr>\n",
       "    <tr>\n",
       "      <th>4</th>\n",
       "      <td>tecnologia</td>\n",
       "      <td>559990.0</td>\n",
       "      <td>El telefono venia bien Funcionando...</td>\n",
       "      <td>3.0</td>\n",
       "    </tr>\n",
       "    <tr>\n",
       "      <th>...</th>\n",
       "      <td>...</td>\n",
       "      <td>...</td>\n",
       "      <td>...</td>\n",
       "      <td>...</td>\n",
       "    </tr>\n",
       "    <tr>\n",
       "      <th>99</th>\n",
       "      <td>hogar</td>\n",
       "      <td>244990.0</td>\n",
       "      <td>producto bueno despacho malo &lt;span itemprop=de...</td>\n",
       "      <td>3.0</td>\n",
       "    </tr>\n",
       "    <tr>\n",
       "      <th>100</th>\n",
       "      <td>hogar</td>\n",
       "      <td>184990.0</td>\n",
       "      <td>Es muy peque na &lt;span itemprop=description,Es ...</td>\n",
       "      <td>3.0</td>\n",
       "    </tr>\n",
       "    <tr>\n",
       "      <th>101</th>\n",
       "      <td>hogar</td>\n",
       "      <td>244990.0</td>\n",
       "      <td>buena la aspiradora &lt;span itemprop=description...</td>\n",
       "      <td>3.0</td>\n",
       "    </tr>\n",
       "    <tr>\n",
       "      <th>102</th>\n",
       "      <td>hogar</td>\n",
       "      <td>519990.0</td>\n",
       "      <td>Informacion incorrecta &lt;span itemprop=descript...</td>\n",
       "      <td>3.0</td>\n",
       "    </tr>\n",
       "    <tr>\n",
       "      <th>103</th>\n",
       "      <td>tecnologia</td>\n",
       "      <td>559990.0</td>\n",
       "      <td>Bien &lt;span itemprop=description,El TV excelent...</td>\n",
       "      <td>3.0</td>\n",
       "    </tr>\n",
       "  </tbody>\n",
       "</table>\n",
       "<p>104 rows × 4 columns</p>\n",
       "</div>"
      ],
      "text/plain": [
       "      categoria  precio_internet  \\\n",
       "0       belleza          29990.0   \n",
       "1    tecnologia         189990.0   \n",
       "2       belleza          33940.0   \n",
       "3       belleza          29990.0   \n",
       "4    tecnologia         559990.0   \n",
       "..          ...              ...   \n",
       "99        hogar         244990.0   \n",
       "100       hogar         184990.0   \n",
       "101       hogar         244990.0   \n",
       "102       hogar         519990.0   \n",
       "103  tecnologia         559990.0   \n",
       "\n",
       "                                            comentario  rating  \n",
       "0                Olor super rico y duradero, cumple...     3.0  \n",
       "1                                  Todo bien               3.0  \n",
       "2                                  excelente               3.0  \n",
       "3                no tiene buena fijacion, da la imp...     3.0  \n",
       "4                El telefono venia bien Funcionando...     3.0  \n",
       "..                                                 ...     ...  \n",
       "99   producto bueno despacho malo <span itemprop=de...     3.0  \n",
       "100  Es muy peque na <span itemprop=description,Es ...     3.0  \n",
       "101  buena la aspiradora <span itemprop=description...     3.0  \n",
       "102  Informacion incorrecta <span itemprop=descript...     3.0  \n",
       "103  Bien <span itemprop=description,El TV excelent...     3.0  \n",
       "\n",
       "[104 rows x 4 columns]"
      ]
     },
     "execution_count": 216,
     "metadata": {},
     "output_type": "execute_result"
    }
   ],
   "source": [
    "# Transformación de listas del subset n°2, con comentarios \"nuevos\", en dataframe.\n",
    "rat3_ss2 = {\n",
    "    \"categoria\":categoria_r3_ss1,\n",
    "    'precio_internet':precio_internet_r3_ss1,\n",
    "    'comentario':nuevos_comentarios_r3_ss2,\n",
    "    'rating':rating_3\n",
    "}\n",
    "data_rat3_ss2 = pd.DataFrame(rat3_ss2)\n",
    "data_rat3_ss2"
   ]
  },
  {
   "cell_type": "code",
   "execution_count": 217,
   "metadata": {},
   "outputs": [
    {
     "name": "stdout",
     "output_type": "stream",
     "text": [
      "Wall time: 3min 5s\n"
     ]
    }
   ],
   "source": [
    "%%time\n",
    "# Rating 3 - Subset 3: Aplicación de función para traduccir a PORTUGUÉS, para posteriormente traducirlos al ESPAÑOL.\n",
    "nuevos_comentarios_r3_ss3 = []\n",
    "for i in comentarios_r3_ss1:\n",
    "    x = portuguese_translation(i)\n",
    "    y = spanish_translation(x)\n",
    "    nuevos_comentarios_r3_ss3.append(y)"
   ]
  },
  {
   "cell_type": "code",
   "execution_count": 218,
   "metadata": {},
   "outputs": [
    {
     "data": {
      "text/html": [
       "<div>\n",
       "<style scoped>\n",
       "    .dataframe tbody tr th:only-of-type {\n",
       "        vertical-align: middle;\n",
       "    }\n",
       "\n",
       "    .dataframe tbody tr th {\n",
       "        vertical-align: top;\n",
       "    }\n",
       "\n",
       "    .dataframe thead th {\n",
       "        text-align: right;\n",
       "    }\n",
       "</style>\n",
       "<table border=\"1\" class=\"dataframe\">\n",
       "  <thead>\n",
       "    <tr style=\"text-align: right;\">\n",
       "      <th></th>\n",
       "      <th>categoria</th>\n",
       "      <th>precio_internet</th>\n",
       "      <th>comentario</th>\n",
       "      <th>rating</th>\n",
       "    </tr>\n",
       "  </thead>\n",
       "  <tbody>\n",
       "    <tr>\n",
       "      <th>0</th>\n",
       "      <td>belleza</td>\n",
       "      <td>29990.0</td>\n",
       "      <td>Olor super rico y duradero, cumple...</td>\n",
       "      <td>3.0</td>\n",
       "    </tr>\n",
       "    <tr>\n",
       "      <th>1</th>\n",
       "      <td>tecnologia</td>\n",
       "      <td>189990.0</td>\n",
       "      <td>Todo bien</td>\n",
       "      <td>3.0</td>\n",
       "    </tr>\n",
       "    <tr>\n",
       "      <th>2</th>\n",
       "      <td>belleza</td>\n",
       "      <td>33940.0</td>\n",
       "      <td>excelente</td>\n",
       "      <td>3.0</td>\n",
       "    </tr>\n",
       "    <tr>\n",
       "      <th>3</th>\n",
       "      <td>belleza</td>\n",
       "      <td>29990.0</td>\n",
       "      <td>no tiene buena fijacion, da la imp...</td>\n",
       "      <td>3.0</td>\n",
       "    </tr>\n",
       "    <tr>\n",
       "      <th>4</th>\n",
       "      <td>tecnologia</td>\n",
       "      <td>559990.0</td>\n",
       "      <td>El telefono venia bien Funcionando...</td>\n",
       "      <td>3.0</td>\n",
       "    </tr>\n",
       "    <tr>\n",
       "      <th>...</th>\n",
       "      <td>...</td>\n",
       "      <td>...</td>\n",
       "      <td>...</td>\n",
       "      <td>...</td>\n",
       "    </tr>\n",
       "    <tr>\n",
       "      <th>99</th>\n",
       "      <td>hogar</td>\n",
       "      <td>244990.0</td>\n",
       "      <td>producto bueno despacho malo &lt;span itemprop=de...</td>\n",
       "      <td>3.0</td>\n",
       "    </tr>\n",
       "    <tr>\n",
       "      <th>100</th>\n",
       "      <td>hogar</td>\n",
       "      <td>184990.0</td>\n",
       "      <td>Es muy peque na &lt;span itemprop=description,Es ...</td>\n",
       "      <td>3.0</td>\n",
       "    </tr>\n",
       "    <tr>\n",
       "      <th>101</th>\n",
       "      <td>hogar</td>\n",
       "      <td>244990.0</td>\n",
       "      <td>buena la aspiradora &lt;span itemprop=description...</td>\n",
       "      <td>3.0</td>\n",
       "    </tr>\n",
       "    <tr>\n",
       "      <th>102</th>\n",
       "      <td>hogar</td>\n",
       "      <td>519990.0</td>\n",
       "      <td>Informacion incorrecta &lt;span itemprop=descript...</td>\n",
       "      <td>3.0</td>\n",
       "    </tr>\n",
       "    <tr>\n",
       "      <th>103</th>\n",
       "      <td>tecnologia</td>\n",
       "      <td>559990.0</td>\n",
       "      <td>Bien &lt;span itemprop=description,El TV excelent...</td>\n",
       "      <td>3.0</td>\n",
       "    </tr>\n",
       "  </tbody>\n",
       "</table>\n",
       "<p>104 rows × 4 columns</p>\n",
       "</div>"
      ],
      "text/plain": [
       "      categoria  precio_internet  \\\n",
       "0       belleza          29990.0   \n",
       "1    tecnologia         189990.0   \n",
       "2       belleza          33940.0   \n",
       "3       belleza          29990.0   \n",
       "4    tecnologia         559990.0   \n",
       "..          ...              ...   \n",
       "99        hogar         244990.0   \n",
       "100       hogar         184990.0   \n",
       "101       hogar         244990.0   \n",
       "102       hogar         519990.0   \n",
       "103  tecnologia         559990.0   \n",
       "\n",
       "                                            comentario  rating  \n",
       "0                Olor super rico y duradero, cumple...     3.0  \n",
       "1                                  Todo bien               3.0  \n",
       "2                                  excelente               3.0  \n",
       "3                no tiene buena fijacion, da la imp...     3.0  \n",
       "4                El telefono venia bien Funcionando...     3.0  \n",
       "..                                                 ...     ...  \n",
       "99   producto bueno despacho malo <span itemprop=de...     3.0  \n",
       "100  Es muy peque na <span itemprop=description,Es ...     3.0  \n",
       "101  buena la aspiradora <span itemprop=description...     3.0  \n",
       "102  Informacion incorrecta <span itemprop=descript...     3.0  \n",
       "103  Bien <span itemprop=description,El TV excelent...     3.0  \n",
       "\n",
       "[104 rows x 4 columns]"
      ]
     },
     "execution_count": 218,
     "metadata": {},
     "output_type": "execute_result"
    }
   ],
   "source": [
    "# Transformación de listas del subset n°3, con comentarios \"nuevos\", en dataframe.\n",
    "rat3_ss3 = {\n",
    "    \"categoria\":categoria_r3_ss1,\n",
    "    'precio_internet':precio_internet_r3_ss1,\n",
    "    'comentario':nuevos_comentarios_r3_ss3,\n",
    "    'rating':rating_3\n",
    "}\n",
    "data_rat3_ss3 = pd.DataFrame(rat3_ss3)\n",
    "data_rat3_ss3"
   ]
  },
  {
   "cell_type": "code",
   "execution_count": 229,
   "metadata": {},
   "outputs": [
    {
     "name": "stdout",
     "output_type": "stream",
     "text": [
      "Wall time: 3min 8s\n"
     ]
    }
   ],
   "source": [
    "%%time\n",
    "# Rating 3 - Subset 4: Aplicación de función para traduccir a HOLANDÉS, para posteriormente traducirlos al ESPAÑOL.\n",
    "nuevos_comentarios_r3_ss4 = []\n",
    "for i in comentarios_r3_ss1:\n",
    "    x = dutch_translation(i)\n",
    "    y = spanish_translation(x)\n",
    "    nuevos_comentarios_r3_ss4.append(y)"
   ]
  },
  {
   "cell_type": "code",
   "execution_count": 230,
   "metadata": {},
   "outputs": [
    {
     "data": {
      "text/html": [
       "<div>\n",
       "<style scoped>\n",
       "    .dataframe tbody tr th:only-of-type {\n",
       "        vertical-align: middle;\n",
       "    }\n",
       "\n",
       "    .dataframe tbody tr th {\n",
       "        vertical-align: top;\n",
       "    }\n",
       "\n",
       "    .dataframe thead th {\n",
       "        text-align: right;\n",
       "    }\n",
       "</style>\n",
       "<table border=\"1\" class=\"dataframe\">\n",
       "  <thead>\n",
       "    <tr style=\"text-align: right;\">\n",
       "      <th></th>\n",
       "      <th>categoria</th>\n",
       "      <th>precio_internet</th>\n",
       "      <th>comentario</th>\n",
       "      <th>rating</th>\n",
       "    </tr>\n",
       "  </thead>\n",
       "  <tbody>\n",
       "    <tr>\n",
       "      <th>0</th>\n",
       "      <td>belleza</td>\n",
       "      <td>29990.0</td>\n",
       "      <td>Olor super rico y duradero, cumple...</td>\n",
       "      <td>3.0</td>\n",
       "    </tr>\n",
       "    <tr>\n",
       "      <th>1</th>\n",
       "      <td>tecnologia</td>\n",
       "      <td>189990.0</td>\n",
       "      <td>Todo bien</td>\n",
       "      <td>3.0</td>\n",
       "    </tr>\n",
       "    <tr>\n",
       "      <th>2</th>\n",
       "      <td>belleza</td>\n",
       "      <td>33940.0</td>\n",
       "      <td>excelente</td>\n",
       "      <td>3.0</td>\n",
       "    </tr>\n",
       "    <tr>\n",
       "      <th>3</th>\n",
       "      <td>belleza</td>\n",
       "      <td>29990.0</td>\n",
       "      <td>no tiene buena fijacion, da la imp...</td>\n",
       "      <td>3.0</td>\n",
       "    </tr>\n",
       "    <tr>\n",
       "      <th>4</th>\n",
       "      <td>tecnologia</td>\n",
       "      <td>559990.0</td>\n",
       "      <td>El telefono venia bien Funcionando...</td>\n",
       "      <td>3.0</td>\n",
       "    </tr>\n",
       "    <tr>\n",
       "      <th>...</th>\n",
       "      <td>...</td>\n",
       "      <td>...</td>\n",
       "      <td>...</td>\n",
       "      <td>...</td>\n",
       "    </tr>\n",
       "    <tr>\n",
       "      <th>99</th>\n",
       "      <td>hogar</td>\n",
       "      <td>244990.0</td>\n",
       "      <td>producto bueno despacho malo &lt;span itemprop=de...</td>\n",
       "      <td>3.0</td>\n",
       "    </tr>\n",
       "    <tr>\n",
       "      <th>100</th>\n",
       "      <td>hogar</td>\n",
       "      <td>184990.0</td>\n",
       "      <td>Es muy peque na &lt;span itemprop=description,Es ...</td>\n",
       "      <td>3.0</td>\n",
       "    </tr>\n",
       "    <tr>\n",
       "      <th>101</th>\n",
       "      <td>hogar</td>\n",
       "      <td>244990.0</td>\n",
       "      <td>buena la aspiradora &lt;span itemprop=description...</td>\n",
       "      <td>3.0</td>\n",
       "    </tr>\n",
       "    <tr>\n",
       "      <th>102</th>\n",
       "      <td>hogar</td>\n",
       "      <td>519990.0</td>\n",
       "      <td>Informacion incorrecta &lt;span itemprop=descript...</td>\n",
       "      <td>3.0</td>\n",
       "    </tr>\n",
       "    <tr>\n",
       "      <th>103</th>\n",
       "      <td>tecnologia</td>\n",
       "      <td>559990.0</td>\n",
       "      <td>Bien &lt;span itemprop=description,El TV excelent...</td>\n",
       "      <td>3.0</td>\n",
       "    </tr>\n",
       "  </tbody>\n",
       "</table>\n",
       "<p>104 rows × 4 columns</p>\n",
       "</div>"
      ],
      "text/plain": [
       "      categoria  precio_internet  \\\n",
       "0       belleza          29990.0   \n",
       "1    tecnologia         189990.0   \n",
       "2       belleza          33940.0   \n",
       "3       belleza          29990.0   \n",
       "4    tecnologia         559990.0   \n",
       "..          ...              ...   \n",
       "99        hogar         244990.0   \n",
       "100       hogar         184990.0   \n",
       "101       hogar         244990.0   \n",
       "102       hogar         519990.0   \n",
       "103  tecnologia         559990.0   \n",
       "\n",
       "                                            comentario  rating  \n",
       "0                Olor super rico y duradero, cumple...     3.0  \n",
       "1                                  Todo bien               3.0  \n",
       "2                                  excelente               3.0  \n",
       "3                no tiene buena fijacion, da la imp...     3.0  \n",
       "4                El telefono venia bien Funcionando...     3.0  \n",
       "..                                                 ...     ...  \n",
       "99   producto bueno despacho malo <span itemprop=de...     3.0  \n",
       "100  Es muy peque na <span itemprop=description,Es ...     3.0  \n",
       "101  buena la aspiradora <span itemprop=description...     3.0  \n",
       "102  Informacion incorrecta <span itemprop=descript...     3.0  \n",
       "103  Bien <span itemprop=description,El TV excelent...     3.0  \n",
       "\n",
       "[104 rows x 4 columns]"
      ]
     },
     "execution_count": 230,
     "metadata": {},
     "output_type": "execute_result"
    }
   ],
   "source": [
    "# Transformación de listas del subset n°3, con comentarios \"nuevos\", en dataframe.\n",
    "rat3_ss4 = {\n",
    "    \"categoria\":categoria_r3_ss1,\n",
    "    'precio_internet':precio_internet_r3_ss1,\n",
    "    'comentario':nuevos_comentarios_r3_ss4,\n",
    "    'rating':rating_3\n",
    "}\n",
    "data_rat3_ss4 = pd.DataFrame(rat3_ss4)\n",
    "data_rat3_ss4"
   ]
  },
  {
   "cell_type": "code",
   "execution_count": 231,
   "metadata": {},
   "outputs": [
    {
     "name": "stdout",
     "output_type": "stream",
     "text": [
      "Wall time: 3min 6s\n"
     ]
    }
   ],
   "source": [
    "%%time\n",
    "# Rating 3 - Subset 5: Aplicación de función para traduccir a CROATA, para posteriormente traducirlos al ESPAÑOL.\n",
    "nuevos_comentarios_r3_ss5 = []\n",
    "for i in comentarios_r3_ss1:\n",
    "    x = dutch_translation(i)\n",
    "    y = spanish_translation(x)\n",
    "    nuevos_comentarios_r3_ss5.append(y)"
   ]
  },
  {
   "cell_type": "code",
   "execution_count": 232,
   "metadata": {},
   "outputs": [
    {
     "data": {
      "text/html": [
       "<div>\n",
       "<style scoped>\n",
       "    .dataframe tbody tr th:only-of-type {\n",
       "        vertical-align: middle;\n",
       "    }\n",
       "\n",
       "    .dataframe tbody tr th {\n",
       "        vertical-align: top;\n",
       "    }\n",
       "\n",
       "    .dataframe thead th {\n",
       "        text-align: right;\n",
       "    }\n",
       "</style>\n",
       "<table border=\"1\" class=\"dataframe\">\n",
       "  <thead>\n",
       "    <tr style=\"text-align: right;\">\n",
       "      <th></th>\n",
       "      <th>categoria</th>\n",
       "      <th>precio_internet</th>\n",
       "      <th>comentario</th>\n",
       "      <th>rating</th>\n",
       "    </tr>\n",
       "  </thead>\n",
       "  <tbody>\n",
       "    <tr>\n",
       "      <th>0</th>\n",
       "      <td>belleza</td>\n",
       "      <td>29990.0</td>\n",
       "      <td>Olor super rico y duradero, cumple...</td>\n",
       "      <td>3.0</td>\n",
       "    </tr>\n",
       "    <tr>\n",
       "      <th>1</th>\n",
       "      <td>tecnologia</td>\n",
       "      <td>189990.0</td>\n",
       "      <td>Todo bien</td>\n",
       "      <td>3.0</td>\n",
       "    </tr>\n",
       "    <tr>\n",
       "      <th>2</th>\n",
       "      <td>belleza</td>\n",
       "      <td>33940.0</td>\n",
       "      <td>excelente</td>\n",
       "      <td>3.0</td>\n",
       "    </tr>\n",
       "    <tr>\n",
       "      <th>3</th>\n",
       "      <td>belleza</td>\n",
       "      <td>29990.0</td>\n",
       "      <td>no tiene buena fijacion, da la imp...</td>\n",
       "      <td>3.0</td>\n",
       "    </tr>\n",
       "    <tr>\n",
       "      <th>4</th>\n",
       "      <td>tecnologia</td>\n",
       "      <td>559990.0</td>\n",
       "      <td>El telefono venia bien Funcionando...</td>\n",
       "      <td>3.0</td>\n",
       "    </tr>\n",
       "    <tr>\n",
       "      <th>...</th>\n",
       "      <td>...</td>\n",
       "      <td>...</td>\n",
       "      <td>...</td>\n",
       "      <td>...</td>\n",
       "    </tr>\n",
       "    <tr>\n",
       "      <th>99</th>\n",
       "      <td>hogar</td>\n",
       "      <td>244990.0</td>\n",
       "      <td>producto bueno despacho malo &lt;span itemprop=de...</td>\n",
       "      <td>3.0</td>\n",
       "    </tr>\n",
       "    <tr>\n",
       "      <th>100</th>\n",
       "      <td>hogar</td>\n",
       "      <td>184990.0</td>\n",
       "      <td>Es muy peque na &lt;span itemprop=description,Es ...</td>\n",
       "      <td>3.0</td>\n",
       "    </tr>\n",
       "    <tr>\n",
       "      <th>101</th>\n",
       "      <td>hogar</td>\n",
       "      <td>244990.0</td>\n",
       "      <td>buena la aspiradora &lt;span itemprop=description...</td>\n",
       "      <td>3.0</td>\n",
       "    </tr>\n",
       "    <tr>\n",
       "      <th>102</th>\n",
       "      <td>hogar</td>\n",
       "      <td>519990.0</td>\n",
       "      <td>Informacion incorrecta &lt;span itemprop=descript...</td>\n",
       "      <td>3.0</td>\n",
       "    </tr>\n",
       "    <tr>\n",
       "      <th>103</th>\n",
       "      <td>tecnologia</td>\n",
       "      <td>559990.0</td>\n",
       "      <td>Bien &lt;span itemprop=description,El TV excelent...</td>\n",
       "      <td>3.0</td>\n",
       "    </tr>\n",
       "  </tbody>\n",
       "</table>\n",
       "<p>104 rows × 4 columns</p>\n",
       "</div>"
      ],
      "text/plain": [
       "      categoria  precio_internet  \\\n",
       "0       belleza          29990.0   \n",
       "1    tecnologia         189990.0   \n",
       "2       belleza          33940.0   \n",
       "3       belleza          29990.0   \n",
       "4    tecnologia         559990.0   \n",
       "..          ...              ...   \n",
       "99        hogar         244990.0   \n",
       "100       hogar         184990.0   \n",
       "101       hogar         244990.0   \n",
       "102       hogar         519990.0   \n",
       "103  tecnologia         559990.0   \n",
       "\n",
       "                                            comentario  rating  \n",
       "0                Olor super rico y duradero, cumple...     3.0  \n",
       "1                                  Todo bien               3.0  \n",
       "2                                  excelente               3.0  \n",
       "3                no tiene buena fijacion, da la imp...     3.0  \n",
       "4                El telefono venia bien Funcionando...     3.0  \n",
       "..                                                 ...     ...  \n",
       "99   producto bueno despacho malo <span itemprop=de...     3.0  \n",
       "100  Es muy peque na <span itemprop=description,Es ...     3.0  \n",
       "101  buena la aspiradora <span itemprop=description...     3.0  \n",
       "102  Informacion incorrecta <span itemprop=descript...     3.0  \n",
       "103  Bien <span itemprop=description,El TV excelent...     3.0  \n",
       "\n",
       "[104 rows x 4 columns]"
      ]
     },
     "execution_count": 232,
     "metadata": {},
     "output_type": "execute_result"
    }
   ],
   "source": [
    "# Transformación de listas del subset n°5, con comentarios \"nuevos\", en dataframe.\n",
    "rat3_ss5 = {\n",
    "    \"categoria\":categoria_r3_ss1,\n",
    "    'precio_internet':precio_internet_r3_ss1,\n",
    "    'comentario':nuevos_comentarios_r3_ss5,\n",
    "    'rating':rating_3\n",
    "}\n",
    "data_rat3_ss5 = pd.DataFrame(rat3_ss5)\n",
    "data_rat3_ss5"
   ]
  },
  {
   "cell_type": "code",
   "execution_count": 233,
   "metadata": {},
   "outputs": [],
   "source": [
    "# Concatenación de subsets creados (N°1, N°2 y N°3) para rating = 3.\n",
    "frames_r3 = [data_rat3_ss1,data_rat3_ss2,data_rat3_ss3,data_rat3_ss4,data_rat3_ss5]\n",
    "rating3_ss = pd.concat(frames_r3,axis =0).reset_index().drop(columns = 'index')"
   ]
  },
  {
   "cell_type": "code",
   "execution_count": 234,
   "metadata": {},
   "outputs": [
    {
     "data": {
      "text/html": [
       "<div>\n",
       "<style scoped>\n",
       "    .dataframe tbody tr th:only-of-type {\n",
       "        vertical-align: middle;\n",
       "    }\n",
       "\n",
       "    .dataframe tbody tr th {\n",
       "        vertical-align: top;\n",
       "    }\n",
       "\n",
       "    .dataframe thead th {\n",
       "        text-align: right;\n",
       "    }\n",
       "</style>\n",
       "<table border=\"1\" class=\"dataframe\">\n",
       "  <thead>\n",
       "    <tr style=\"text-align: right;\">\n",
       "      <th></th>\n",
       "      <th>categoria</th>\n",
       "      <th>precio_internet</th>\n",
       "      <th>comentario</th>\n",
       "      <th>rating</th>\n",
       "    </tr>\n",
       "  </thead>\n",
       "  <tbody>\n",
       "    <tr>\n",
       "      <th>0</th>\n",
       "      <td>belleza</td>\n",
       "      <td>29990.0</td>\n",
       "      <td>Olor super rico y duradero, cumple...</td>\n",
       "      <td>3.0</td>\n",
       "    </tr>\n",
       "    <tr>\n",
       "      <th>1</th>\n",
       "      <td>tecnologia</td>\n",
       "      <td>189990.0</td>\n",
       "      <td>Todo bien</td>\n",
       "      <td>3.0</td>\n",
       "    </tr>\n",
       "    <tr>\n",
       "      <th>2</th>\n",
       "      <td>belleza</td>\n",
       "      <td>33940.0</td>\n",
       "      <td>excelente</td>\n",
       "      <td>3.0</td>\n",
       "    </tr>\n",
       "    <tr>\n",
       "      <th>3</th>\n",
       "      <td>belleza</td>\n",
       "      <td>29990.0</td>\n",
       "      <td>no tiene buena fijacion, da la imp...</td>\n",
       "      <td>3.0</td>\n",
       "    </tr>\n",
       "    <tr>\n",
       "      <th>4</th>\n",
       "      <td>tecnologia</td>\n",
       "      <td>559990.0</td>\n",
       "      <td>El telefono venia bien Funcionando...</td>\n",
       "      <td>3.0</td>\n",
       "    </tr>\n",
       "    <tr>\n",
       "      <th>...</th>\n",
       "      <td>...</td>\n",
       "      <td>...</td>\n",
       "      <td>...</td>\n",
       "      <td>...</td>\n",
       "    </tr>\n",
       "    <tr>\n",
       "      <th>515</th>\n",
       "      <td>hogar</td>\n",
       "      <td>244990.0</td>\n",
       "      <td>producto bueno despacho malo &lt;span itemprop=de...</td>\n",
       "      <td>3.0</td>\n",
       "    </tr>\n",
       "    <tr>\n",
       "      <th>516</th>\n",
       "      <td>hogar</td>\n",
       "      <td>184990.0</td>\n",
       "      <td>Es muy peque na &lt;span itemprop=description,Es ...</td>\n",
       "      <td>3.0</td>\n",
       "    </tr>\n",
       "    <tr>\n",
       "      <th>517</th>\n",
       "      <td>hogar</td>\n",
       "      <td>244990.0</td>\n",
       "      <td>buena la aspiradora &lt;span itemprop=description...</td>\n",
       "      <td>3.0</td>\n",
       "    </tr>\n",
       "    <tr>\n",
       "      <th>518</th>\n",
       "      <td>hogar</td>\n",
       "      <td>519990.0</td>\n",
       "      <td>Informacion incorrecta &lt;span itemprop=descript...</td>\n",
       "      <td>3.0</td>\n",
       "    </tr>\n",
       "    <tr>\n",
       "      <th>519</th>\n",
       "      <td>tecnologia</td>\n",
       "      <td>559990.0</td>\n",
       "      <td>Bien &lt;span itemprop=description,El TV excelent...</td>\n",
       "      <td>3.0</td>\n",
       "    </tr>\n",
       "  </tbody>\n",
       "</table>\n",
       "<p>520 rows × 4 columns</p>\n",
       "</div>"
      ],
      "text/plain": [
       "      categoria  precio_internet  \\\n",
       "0       belleza          29990.0   \n",
       "1    tecnologia         189990.0   \n",
       "2       belleza          33940.0   \n",
       "3       belleza          29990.0   \n",
       "4    tecnologia         559990.0   \n",
       "..          ...              ...   \n",
       "515       hogar         244990.0   \n",
       "516       hogar         184990.0   \n",
       "517       hogar         244990.0   \n",
       "518       hogar         519990.0   \n",
       "519  tecnologia         559990.0   \n",
       "\n",
       "                                            comentario  rating  \n",
       "0                Olor super rico y duradero, cumple...     3.0  \n",
       "1                                  Todo bien               3.0  \n",
       "2                                  excelente               3.0  \n",
       "3                no tiene buena fijacion, da la imp...     3.0  \n",
       "4                El telefono venia bien Funcionando...     3.0  \n",
       "..                                                 ...     ...  \n",
       "515  producto bueno despacho malo <span itemprop=de...     3.0  \n",
       "516  Es muy peque na <span itemprop=description,Es ...     3.0  \n",
       "517  buena la aspiradora <span itemprop=description...     3.0  \n",
       "518  Informacion incorrecta <span itemprop=descript...     3.0  \n",
       "519  Bien <span itemprop=description,El TV excelent...     3.0  \n",
       "\n",
       "[520 rows x 4 columns]"
      ]
     },
     "execution_count": 234,
     "metadata": {},
     "output_type": "execute_result"
    }
   ],
   "source": [
    "rating3_ss"
   ]
  },
  {
   "cell_type": "code",
   "execution_count": 236,
   "metadata": {},
   "outputs": [],
   "source": [
    "# Concatenación dataframe original y generados a partir de las traducciones\n",
    "dframes = [df_retail_train_2020, rating1_ss, rating2_ss, rating3_ss]\n",
    "df_retail_train_2020 = pd.concat(dframes,axis =0).reset_index().drop(columns = 'index')"
   ]
  },
  {
   "cell_type": "code",
   "execution_count": 237,
   "metadata": {},
   "outputs": [
    {
     "data": {
      "text/plain": [
       "(3730, 5)"
      ]
     },
     "execution_count": 237,
     "metadata": {},
     "output_type": "execute_result"
    }
   ],
   "source": [
    "df_retail_train_2020.shape"
   ]
  },
  {
   "cell_type": "code",
   "execution_count": 239,
   "metadata": {},
   "outputs": [],
   "source": [
    "# Homologación de rating, de 2.0 a 3.0\n",
    "df_retail_train_2020['rating'] = np.where(df_retail_train_2020['rating'] == 2.0, 3.0, df_retail_train_2020['rating'])"
   ]
  },
  {
   "cell_type": "code",
   "execution_count": 241,
   "metadata": {},
   "outputs": [],
   "source": [
    "# Homologación de rating, de 4.0 a 5.0\n",
    "df_retail_train_2020['rating'] = np.where(df_retail_train_2020['rating'] == 4.0, 5.0, df_retail_train_2020['rating'])"
   ]
  },
  {
   "cell_type": "code",
   "execution_count": 242,
   "metadata": {},
   "outputs": [
    {
     "data": {
      "text/plain": [
       "5.0    1426\n",
       "1.0    1188\n",
       "3.0    1116\n",
       "Name: rating, dtype: int64"
      ]
     },
     "execution_count": 242,
     "metadata": {},
     "output_type": "execute_result"
    }
   ],
   "source": [
    "# Revisión de frecuencias por rating\n",
    "df_retail_train_2020['rating'].value_counts()"
   ]
  },
  {
   "cell_type": "code",
   "execution_count": 243,
   "metadata": {},
   "outputs": [],
   "source": [
    "#df_retail_train_2020.to_csv('df_train_2020.csv', index = False)"
   ]
  },
  {
   "cell_type": "markdown",
   "metadata": {},
   "source": [
    "En esta sección se realiza uno de los procesos clave previo al modelamiento, el cual corresponde al proceso de vectorización junto con el cual se desarrolla en paralelo el Preprocesamiento de Lenguaje Natural. Dentro de las acciones desarrolladas en este punto se encuentran las siguientes:\n",
    "\n",
    "  * Eliminación de expresiones regulares, a través del uso de la librería re.\n",
    "  * Eliminación stopwords desdes la libreria nltk.\n",
    "  * Correción de palabras por diccionario desde la libreria Spellcheker\n",
    "  * Lemmatización desde la libreria spacy\n",
    "  * Vectorización con countvectorizer desde la libreriia scikitlearn\n",
    "  \n",
    "Se menciona que en este punto, la matriz dispersa resultante será serializada a través de librería pickle."
   ]
  },
  {
   "cell_type": "markdown",
   "metadata": {},
   "source": [
    "```python\n",
    "df_words = fx.prep_cv(df_retail_tmp)\n",
    "pickle.dump(df_words, open('df_words.sav', 'wb'))\n",
    "```"
   ]
  },
  {
   "cell_type": "code",
   "execution_count": 55,
   "metadata": {},
   "outputs": [],
   "source": [
    "#df_words = pickle.load(open('df_words.sav', 'rb' ))"
   ]
  },
  {
   "cell_type": "code",
   "execution_count": 56,
   "metadata": {},
   "outputs": [],
   "source": [
    "#df_words[0:20].T"
   ]
  },
  {
   "cell_type": "code",
   "execution_count": 244,
   "metadata": {},
   "outputs": [],
   "source": [
    "#df_words.head(20).plot(x='words', y='frecuencia', kind = 'barh', figsize = (10,8), title = 'Palabras más frecuentes')"
   ]
  },
  {
   "cell_type": "markdown",
   "metadata": {},
   "source": [
    "**Comentarios:**\n",
    "\n",
    "\n",
    "  * La gráfica superior detalla las fecuencias de las 20 palabras comunes encontradas tras el proceso de pre-procesamiento de NLP y vectorización.\n",
    "  \n",
    "  \n",
    "  * De forma preliminar se puede ser que las palabras más frencuentes hacen referencia a buenos sentimientos, lo cual podría estar influenciado por el desbalance de clases presente el vector objetivo y sesgado hacia la calificación de 5 estrellas."
   ]
  },
  {
   "cell_type": "markdown",
   "metadata": {},
   "source": [
    "<H1 align=\"center\"> <div class=\"alert alert-block alert-info\"><b></b>10. Etapa de modelamiento</div></H1>"
   ]
  },
  {
   "cell_type": "markdown",
   "metadata": {},
   "source": [
    "## 10.1. Criterios considerados para el modelamiento\n",
    "El proceso de modelamiento realizado a la fecha considera los siguientes criterios:\n",
    "- Data set y división de muestras:  Para realizar el proceso de **entrenamiento y testing** se utilizará la data correspondiente al **año 2020**, implementando en ella la división de la muestra por medio de train_test_split, preservando un **60% para train y un 40% para test**. Por otra parte, la data perteneciente al **año 2021** se empleará en su totalidad para el proceso de **validación**.\n",
    "\n",
    "\n",
    "- En vista de los datos requeridos para 'sentitruster', se define que la **matriz de atributos** contenga las siguientes variables: **'categoria', 'precio_internet' y 'comentario'**, mientras que el **vector objetivo**, como se mencionó anteriormente, es **'rating'**.\n",
    "\n",
    "\n",
    "- Se implementará un **Pipeline**, en el cual se aplicará **OneHotEncoder** a la variable **'categoria'**, generándose una columna por cada categoría presente en el data set; asimismo la variable **'comentario'** pasará por el proceso asociado a la aplicación de **CountVectorizer**.\n",
    "\n",
    "\n",
    "- Con miras a realizar un análisis apropiado y obtener los mejores resultados, el proceso de modelamiento se dividirá en las siguientes sub-etapas:\n",
    "\n",
    "    1. Modelamiento sobre **data general**: \n",
    "    \n",
    "        - En primera instancia se implementarán **7 modelos sin modificación alguna de sus hiperparámetros** sobre la **data en general**, es decir, **sin segmentar por categoría**. Éstos constituirán los **modelos base**, a fin de definir aquellos con mejor desempeño y para establecer una posterior **comparación** con aquellos modelos en los que sí se aplicará una **modificación** de hiperparámetros. Para la evaluación se considerará si hubo sobreajuste sobre el train set, y para el test set se analizará la capacidad predictiva de las clases y el desempeño general en base a la métrica F1 macro avg y F1 weighted avg.\n",
    "        \n",
    "        - En segundo lugar, se procederá con la implementación de los **2 modelos con mejores resultados** del paso anterior,  **modificando sus hiperparámetros** en función de una **grilla** específica para cada uno, mediante **GridSearch**. Y también se generará y revisará la **matriz de confusión**. \n",
    "        \n",
    "        - De acuerdo a los resultados obtenidos del paso anterior se aplicará, en ellos (uno o ambos) el método **SMOTE oversampling** para abordar el **desbalanceo de clases**, del cual se escogerá el **mejor modelo**. \n",
    "        \n",
    "    2. Modelamiento sobre **data segmentada**: \n",
    "    \n",
    "        - Se aplicarán los pasos descritos con anterioridad, pero a partir de los **2 modelos** identificados con mejor desempeño del punto anterior. La **segmentación** se realizará en base a **categorías de producto**, agrupando aquellas que respondan a **características de población y distribución similar**, analizando si de aquella forma es posible mejorar la **capacidad predictiva** de los modelos.## 9.1. Criterios considerados para el modelamiento\n",
    "El proceso de modelamiento realizado a la fecha considera los siguientes criterios:\n",
    "- Data set y división de muestras:  Para realizar el proceso de **entrenamiento y testing** se utilizará la data correspondiente al **año 2020**, implementando en ella la división de la muestra por medio de train_test_split, preservando un **60% para train y un 40% para test**. Por otra parte, la data perteneciente al **año 2021** se empleará en su totalidad para el proceso de **validación**.\n",
    "\n",
    "\n",
    "- En vista de los datos requeridos para 'sentitruster', se define que la **matriz de atributos** contenga las siguientes variables: **'categoria', 'precio_internet' y 'comentario'**, mientras que el **vector objetivo**, como se mencionó anteriormente, es **'rating'**.\n",
    "\n",
    "\n",
    "- Se implementará un **Pipeline**, en el cual se aplicará **OneHotEncoder** a la variable **'categoria'**, generándose una columna por cada categoría presente en el data set; asimismo la variable **'comentario'** pasará por el proceso asociado a la aplicación de **CountVectorizer**.\n",
    "\n",
    "\n",
    "- Con miras a realizar un análisis apropiado y obtener los mejores resultados, el proceso de modelamiento se dividirá en las siguientes sub-etapas:\n",
    "\n",
    "    1. Modelamiento sobre **data general**: \n",
    "    \n",
    "        - En primera instancia se implementarán **7 modelos sin modificación alguna de sus hiperparámetros** sobre la **data en general**, es decir, **sin segmentar por categoría**. Éstos constituirán los **modelos base**, a fin de definir aquellos con mejor desempeño y para establecer una posterior **comparación** con aquellos modelos en los que sí se aplicará una **modificación** de hiperparámetros. Para la evaluación se considerará si hubo sobreajuste sobre el train set, y para el test set se analizará la capacidad predictiva de las clases y el desempeño general en base a la métrica F1 macro avg y F1 weighted avg.\n",
    "        \n",
    "        - En segundo lugar, se procederá con la implementación de los **2 modelos con mejores resultados** del paso anterior,  **modificando sus hiperparámetros** en función de una **grilla** específica para cada uno, mediante **GridSearch**. Y también se generará y revisará la **matriz de confusión**. \n",
    "        \n",
    "        - De acuerdo a los resultados obtenidos del paso anterior se aplicará, en ellos (uno o ambos) el método **SMOTE oversampling** para abordar el **desbalanceo de clases**, del cual se escogerá el **mejor modelo**. \n",
    "        \n",
    "    2. Modelamiento sobre **data segmentada**: \n",
    "    \n",
    "        - Se aplicarán los pasos descritos con anterioridad, pero a partir de los **2 modelos** identificados con mejor desempeño del punto anterior. La **segmentación** se realizará en base a **categorías de producto**, agrupando aquellas que respondan a **características de población y distribución similar**, analizando si de aquella forma es posible mejorar la **capacidad predictiva** de los modelos."
   ]
  },
  {
   "cell_type": "markdown",
   "metadata": {},
   "source": [
    "## 10.2 Implementación countvectorizer"
   ]
  },
  {
   "cell_type": "code",
   "execution_count": 245,
   "metadata": {},
   "outputs": [],
   "source": [
    "df_retail_2020 = pd.read_csv('df_train_2020.csv')"
   ]
  },
  {
   "cell_type": "code",
   "execution_count": 247,
   "metadata": {},
   "outputs": [],
   "source": [
    "df_retail_2020 = df_retail_2020.drop(columns = ['retail'])"
   ]
  },
  {
   "cell_type": "code",
   "execution_count": 249,
   "metadata": {},
   "outputs": [
    {
     "data": {
      "text/html": [
       "<div>\n",
       "<style scoped>\n",
       "    .dataframe tbody tr th:only-of-type {\n",
       "        vertical-align: middle;\n",
       "    }\n",
       "\n",
       "    .dataframe tbody tr th {\n",
       "        vertical-align: top;\n",
       "    }\n",
       "\n",
       "    .dataframe thead th {\n",
       "        text-align: right;\n",
       "    }\n",
       "</style>\n",
       "<table border=\"1\" class=\"dataframe\">\n",
       "  <thead>\n",
       "    <tr style=\"text-align: right;\">\n",
       "      <th></th>\n",
       "      <th>categoria</th>\n",
       "      <th>precio_internet</th>\n",
       "      <th>comentario</th>\n",
       "      <th>rating</th>\n",
       "    </tr>\n",
       "  </thead>\n",
       "  <tbody>\n",
       "    <tr>\n",
       "      <th>0</th>\n",
       "      <td>belleza</td>\n",
       "      <td>55490.0</td>\n",
       "      <td>Excelente!</td>\n",
       "      <td>5.0</td>\n",
       "    </tr>\n",
       "    <tr>\n",
       "      <th>1</th>\n",
       "      <td>belleza</td>\n",
       "      <td>60990.0</td>\n",
       "      <td>Me encanto el estuche, llego muy r...</td>\n",
       "      <td>5.0</td>\n",
       "    </tr>\n",
       "  </tbody>\n",
       "</table>\n",
       "</div>"
      ],
      "text/plain": [
       "  categoria  precio_internet  \\\n",
       "0   belleza          55490.0   \n",
       "1   belleza          60990.0   \n",
       "\n",
       "                                          comentario  rating  \n",
       "0                               Excelente!               5.0  \n",
       "1              Me encanto el estuche, llego muy r...     5.0  "
      ]
     },
     "execution_count": 249,
     "metadata": {},
     "output_type": "execute_result"
    }
   ],
   "source": [
    "df_retail_2020.head(2)"
   ]
  },
  {
   "cell_type": "code",
   "execution_count": 62,
   "metadata": {},
   "outputs": [
    {
     "name": "stdout",
     "output_type": "stream",
     "text": [
      "Wall time: 22min 19s\n"
     ]
    }
   ],
   "source": [
    "%%time\n",
    "cv_prep =CountVectorizer(analyzer = 'word',\n",
    "                    preprocessor = fx.preprocess_text,\n",
    "                    stop_words = fx.new_stop_words, \n",
    "                    min_df =1,\n",
    "                    ngram_range =(1,3),\n",
    "                    lowercase = True)\n",
    "\n",
    "\n",
    "cv_fit = cv_prep.fit_transform(df_retail_2020['comentario'])"
   ]
  },
  {
   "cell_type": "markdown",
   "metadata": {},
   "source": [
    "## 10.3 Definición de Pipeline para modelamiento"
   ]
  },
  {
   "cell_type": "markdown",
   "metadata": {},
   "source": [
    "Se asignan las variables del dataset para apropiada implementación del pipeline:"
   ]
  },
  {
   "cell_type": "code",
   "execution_count": 63,
   "metadata": {},
   "outputs": [],
   "source": [
    "# Variable categórica - Aplicación OneHotEncoder.\n",
    "is_cat = 'categoria'\n",
    "\n",
    "# Variable que será abordada con CountVectorizer.\n",
    "var_vec = 'comentario'"
   ]
  },
  {
   "cell_type": "markdown",
   "metadata": {},
   "source": [
    "Definición de los pasos y transformación:"
   ]
  },
  {
   "cell_type": "code",
   "execution_count": 64,
   "metadata": {},
   "outputs": [],
   "source": [
    "categoricas = Pipeline(steps = [\n",
    "    (\"ohe\", OneHotEncoder(use_cat_names = True))])\n",
    "\n",
    "vectorizada = Pipeline(steps = [\n",
    "    (\"cv_prep\", cv_prep)])\n",
    "\n",
    "tran = ColumnTransformer(transformers = [\n",
    "    (\"cat\", categoricas, is_cat),\n",
    "    (\"vec\",vectorizada, var_vec)])"
   ]
  },
  {
   "cell_type": "markdown",
   "metadata": {},
   "source": [
    "## 10.4 Definición de matriz de atributos y vector objetivo"
   ]
  },
  {
   "cell_type": "code",
   "execution_count": 250,
   "metadata": {},
   "outputs": [],
   "source": [
    "# Matriz de atributos\n",
    "X = df_retail_2020.drop(columns = 'rating')\n",
    "\n",
    "# Vector objetivo\n",
    "y = df_retail_2020['rating']"
   ]
  },
  {
   "cell_type": "markdown",
   "metadata": {},
   "source": [
    "## 10.5 División de la muestra\n",
    "De la muestra total (data 2020) se destinará un 60% a entrenamiento y un 40% a testeo."
   ]
  },
  {
   "cell_type": "code",
   "execution_count": 251,
   "metadata": {},
   "outputs": [],
   "source": [
    "# División de la muestra\n",
    "X_train, X_test, y_train, y_test = train_test_split(X, y, test_size = 0.4, random_state = 123)\n",
    "\n",
    "# Serialización\n",
    "pickle.dump(X_train, open(\"X_train.sav\",\"wb\"))\n",
    "pickle.dump(X_test, open(\"X_test.sav\",\"wb\"))\n",
    "pickle.dump(y_train, open(\"y_train.sav\",\"wb\"))\n",
    "pickle.dump(y_test, open(\"y_test.sav\",\"wb\"))\n",
    "pickle.dump(X_train, open(\"X_train.pkl\",\"wb\"))\n",
    "pickle.dump(X_test, open(\"X_test.pkl\",\"wb\"))\n",
    "pickle.dump(y_train, open(\"y_train.pkl\",\"wb\"))\n",
    "pickle.dump(y_test, open(\"y_test.pkl\",\"wb\"))"
   ]
  },
  {
   "cell_type": "markdown",
   "metadata": {},
   "source": [
    "## 10.6 Modelamiento General - Modelos base (sin modificación de hiperparámetros)"
   ]
  },
  {
   "cell_type": "markdown",
   "metadata": {},
   "source": [
    "### Declaración de modelos a implementar"
   ]
  },
  {
   "cell_type": "code",
   "execution_count": 254,
   "metadata": {},
   "outputs": [],
   "source": [
    "modelo_svc = SVC(kernel='rbf',random_state = 123)\n",
    "modelo_mnb = MultinomialNB()\n",
    "modelo_rf = RandomForestClassifier(random_state = 123)\n",
    "modelo_dtc = DecisionTreeClassifier(random_state= 123)\n",
    "modelo_abc = AdaBoostClassifier(random_state = 123)\n",
    "modelo_gbc = GradientBoostingClassifier(random_state = 123)\n",
    "modelo_xgb = XGBClassifier(random_state = 123)\n",
    "modelo_cbc = CatBoostClassifier(random_state = 123)"
   ]
  },
  {
   "cell_type": "markdown",
   "metadata": {},
   "source": [
    "### Implementación de modelos base"
   ]
  },
  {
   "cell_type": "code",
   "execution_count": 69,
   "metadata": {},
   "outputs": [],
   "source": [
    "def prediccion_reporte_modelo(nombre_modelo):\n",
    "    # Carga de muestras\n",
    "    X_train = pickle.load(X_train, open(\"X_train.sav\",\"rb\"))\n",
    "    X_test = pickle.load(X_test, open(\"X_test.sav\",\"rb\"))\n",
    "    y_train = pickle.load(y_train, open(\"y_train.sav\",\"rb\"))\n",
    "    y_test = pickle.load(y_test, open(\"y_test.sav\",\"rb\"))\n",
    "    X_train = pickle.load(X_train, open(\"X_train.pkl\",\"rb\"))\n",
    "    X_test = pickle.load(X_test, open(\"X_test.pkl\",\"rb\"))\n",
    "    y_train = pickle.load(y_train, open(\"y_train.pkl\",\"rb\"))\n",
    "    y_test = pickle.load(y_test, open(\"y_test.pkl\",\"rb\"))\n",
    "    \n",
    "    # Carga del modelo con pickle\n",
    "    modelo_tmp = pickle.load(open(nombre_modelo,\"rb\"))\n",
    "\n",
    "    # Predicciones para modelo \n",
    "    y_pred_train = modelo_tmp.predict(X_train)\n",
    "    y_pred = modelo_tmp.predict(X_test)\n",
    "    \n",
    "    #serialización de la predicción - Train\n",
    "    pickle.dump(y_pred_train, open(nombre_modelo,\"wb\"))\n",
    "    \n",
    "    #serialización de la predicción - Test\n",
    "    pickle.dump(y_pred, open(nombre_modelo,\"wb\"))\n",
    "    \n",
    "    return report(y_train, y_pred_train, y_test, y_pred)"
   ]
  },
  {
   "cell_type": "code",
   "execution_count": 70,
   "metadata": {},
   "outputs": [],
   "source": [
    "# FUNCIÓN PARA OBTENER CLASSIFICATION REPORT:\n",
    "def report(y_train, y_pred_train, y_test, y_pred):\n",
    "    # Carga de muestras\n",
    "    X_train = pickle.load(X_train, open(\"X_train.sav\",\"rb\"))\n",
    "    X_test = pickle.load(X_test, open(\"X_test.sav\",\"rb\"))\n",
    "    y_train = pickle.load(y_train, open(\"y_train.sav\",\"rb\"))\n",
    "    y_test = pickle.load(y_test, open(\"y_test.sav\",\"rb\"))\n",
    "    X_train = pickle.load(X_train, open(\"X_train.pkl\",\"rb\"))\n",
    "    X_test = pickle.load(X_test, open(\"X_test.pkl\",\"rb\"))\n",
    "    y_train = pickle.load(y_train, open(\"y_train.pkl\",\"rb\"))\n",
    "    y_test = pickle.load(y_test, open(\"y_test.pkl\",\"rb\"))\n",
    "    \n",
    "    print(\"Classification report - TRAIN SET\")\n",
    "    print(classification_report(y_train, y_pred_train))\n",
    "    print(\"\\nClassification report - TEST SET\")\n",
    "    print(classification_report(y_test, y_pred))\n",
    "\n",
    "# FUNCIÓN PARA CLASSIFICATION REPORT - SÓLO TEST SET\n",
    "def test_classification_report(nombre_modelo, y_test, y_pred):\n",
    "    X_train = pickle.load(X_train, open(\"X_train.sav\",\"rb\"))\n",
    "    X_test = pickle.load(X_test, open(\"X_test.sav\",\"rb\"))\n",
    "    y_train = pickle.load(y_train, open(\"y_train.sav\",\"rb\"))\n",
    "    y_test = pickle.load(y_test, open(\"y_test.sav\",\"rb\"))\n",
    "    X_train = pickle.load(X_train, open(\"X_train.pkl\",\"rb\"))\n",
    "    X_test = pickle.load(X_test, open(\"X_test.pkl\",\"rb\"))\n",
    "    y_train = pickle.load(y_train, open(\"y_train.pkl\",\"rb\"))\n",
    "    y_test = pickle.load(y_test, open(\"y_test.pkl\",\"rb\"))\n",
    "   \n",
    "    print(\"\\nTEST SET - Classification report - {}\".format(nombre_modelo.upper()) )\n",
    "    print(classification_report(y_test, y_pred))"
   ]
  },
  {
   "cell_type": "markdown",
   "metadata": {},
   "source": [
    "### a. SVC\n"
   ]
  },
  {
   "cell_type": "code",
   "execution_count": 68,
   "metadata": {},
   "outputs": [],
   "source": [
    "pipe_1 = Pipeline(steps = [\n",
    "    (\"tran\", tran),\n",
    "    (\"modelo_1\", modelo_svc)\n",
    "])\n",
    "\n",
    "modelo1 = pipe_1.fit(X_train, y_train)\n",
    "\n",
    "#serialización\n",
    "pickle.dump(modelo1, open(\"modelo1_svc.sav\",\"wb\"))"
   ]
  },
  {
   "cell_type": "code",
   "execution_count": 71,
   "metadata": {},
   "outputs": [
    {
     "name": "stdout",
     "output_type": "stream",
     "text": [
      "Classification report - TRAIN SET\n",
      "              precision    recall  f1-score   support\n",
      "\n",
      "         1.0       0.99      0.98      0.98       162\n",
      "         2.0       1.00      1.00      1.00        50\n",
      "         3.0       1.00      0.97      0.98        61\n",
      "         4.0       1.00      0.87      0.93       141\n",
      "         5.0       0.97      1.00      0.98       731\n",
      "\n",
      "    accuracy                           0.98      1145\n",
      "   macro avg       0.99      0.96      0.98      1145\n",
      "weighted avg       0.98      0.98      0.98      1145\n",
      "\n",
      "\n",
      "Classification report - TEST SET\n",
      "              precision    recall  f1-score   support\n",
      "\n",
      "         1.0       0.77      0.66      0.71       135\n",
      "         2.0       0.20      0.06      0.10        32\n",
      "         3.0       0.23      0.21      0.22        43\n",
      "         4.0       0.26      0.22      0.24        86\n",
      "         5.0       0.79      0.89      0.84       468\n",
      "\n",
      "    accuracy                           0.70       764\n",
      "   macro avg       0.45      0.41      0.42       764\n",
      "weighted avg       0.67      0.70      0.68       764\n",
      "\n"
     ]
    }
   ],
   "source": [
    "prediccion_reporte_modelo(\"modelo1_svc.sav\", X_train, X_test, y_test)"
   ]
  },
  {
   "cell_type": "markdown",
   "metadata": {},
   "source": [
    "Para el modelo LinearSVC observamos que en el train set existe un marcado sobreajuste. En el test set, el modelo tiene la capacidad para predecir de buena forma las clases extremas (1 y 5), en desmedro del resto."
   ]
  },
  {
   "cell_type": "markdown",
   "metadata": {},
   "source": [
    "### b. MultinomialNB"
   ]
  },
  {
   "cell_type": "code",
   "execution_count": 72,
   "metadata": {},
   "outputs": [],
   "source": [
    "pipe_2 = Pipeline(steps = [\n",
    "    (\"tran\", tran),\n",
    "    (\"modelo_2\", modelo_mnb)\n",
    "])\n",
    "\n",
    "modelo2 = pipe_2.fit(X_train, y_train)\n",
    "\n",
    "#serialización\n",
    "pickle.dump(modelo2, open(\"modelo2_mnb.sav\",\"wb\"))"
   ]
  },
  {
   "cell_type": "code",
   "execution_count": 73,
   "metadata": {},
   "outputs": [
    {
     "name": "stdout",
     "output_type": "stream",
     "text": [
      "Classification report - TRAIN SET\n",
      "              precision    recall  f1-score   support\n",
      "\n",
      "         1.0       0.93      0.83      0.88       162\n",
      "         2.0       1.00      0.56      0.72        50\n",
      "         3.0       1.00      0.51      0.67        61\n",
      "         4.0       0.96      0.50      0.65       141\n",
      "         5.0       0.84      1.00      0.91       731\n",
      "\n",
      "    accuracy                           0.87      1145\n",
      "   macro avg       0.95      0.68      0.77      1145\n",
      "weighted avg       0.88      0.87      0.86      1145\n",
      "\n",
      "\n",
      "Classification report - TEST SET\n",
      "              precision    recall  f1-score   support\n",
      "\n",
      "         1.0       0.82      0.70      0.75       135\n",
      "         2.0       0.00      0.00      0.00        32\n",
      "         3.0       0.33      0.02      0.04        43\n",
      "         4.0       0.36      0.12      0.18        86\n",
      "         5.0       0.74      0.97      0.84       468\n",
      "\n",
      "    accuracy                           0.73       764\n",
      "   macro avg       0.45      0.36      0.36       764\n",
      "weighted avg       0.66      0.73      0.67       764\n",
      "\n"
     ]
    }
   ],
   "source": [
    "prediccion_reporte_modelo(\"modelo2_mnb.sav\", X_train, X_test, y_test)"
   ]
  },
  {
   "cell_type": "markdown",
   "metadata": {},
   "source": [
    "En la implementación de MultinomialNB, y considerando los resultados del modelo anterior, vemos que no existiría un sobreajuste considerable en el train set. La métrica F1 es aceptable, pero un tanto inferior en términos ponderados (weighted avg)."
   ]
  },
  {
   "cell_type": "markdown",
   "metadata": {},
   "source": [
    "### c. RandomForest"
   ]
  },
  {
   "cell_type": "code",
   "execution_count": 74,
   "metadata": {},
   "outputs": [],
   "source": [
    "pipe_3 = Pipeline(steps = [\n",
    "    (\"tran\", tran),\n",
    "    (\"modelo_3\", modelo_rf)\n",
    "])\n",
    "modelo3 = pipe_3.fit(X_train, y_train)\n",
    "\n",
    "#serialización\n",
    "pickle.dump(modelo3, open(\"modelo3_rf.sav\",\"wb\"))\n",
    "pickle.dump(modelo3, open(\"modelo3_rf.pkl\",\"wb\"))"
   ]
  },
  {
   "cell_type": "code",
   "execution_count": 75,
   "metadata": {},
   "outputs": [
    {
     "name": "stdout",
     "output_type": "stream",
     "text": [
      "Classification report - TRAIN SET\n",
      "              precision    recall  f1-score   support\n",
      "\n",
      "         1.0       0.99      0.99      0.99       162\n",
      "         2.0       1.00      1.00      1.00        50\n",
      "         3.0       1.00      0.98      0.99        61\n",
      "         4.0       1.00      0.98      0.99       141\n",
      "         5.0       0.99      1.00      1.00       731\n",
      "\n",
      "    accuracy                           0.99      1145\n",
      "   macro avg       1.00      0.99      0.99      1145\n",
      "weighted avg       0.99      0.99      0.99      1145\n",
      "\n",
      "\n",
      "Classification report - TEST SET\n",
      "              precision    recall  f1-score   support\n",
      "\n",
      "         1.0       0.76      0.69      0.72       135\n",
      "         2.0       0.00      0.00      0.00        32\n",
      "         3.0       0.60      0.07      0.12        43\n",
      "         4.0       0.31      0.06      0.10        86\n",
      "         5.0       0.73      0.96      0.83       468\n",
      "\n",
      "    accuracy                           0.72       764\n",
      "   macro avg       0.48      0.36      0.35       764\n",
      "weighted avg       0.65      0.72      0.65       764\n",
      "\n"
     ]
    }
   ],
   "source": [
    "prediccion_reporte_modelo(\"modelo3_rf.sav\", X_train, X_test, y_test)"
   ]
  },
  {
   "cell_type": "markdown",
   "metadata": {},
   "source": [
    "Para el modelo con RandomFores observamos la existencia de un gran sobreajuste en el train set, por tanto se descartará seguir con este en los próximos pasos."
   ]
  },
  {
   "cell_type": "markdown",
   "metadata": {},
   "source": [
    "### d. DecisionTree Classifier"
   ]
  },
  {
   "cell_type": "code",
   "execution_count": 76,
   "metadata": {},
   "outputs": [
    {
     "name": "stdout",
     "output_type": "stream",
     "text": [
      "Wall time: 6min 59s\n"
     ]
    }
   ],
   "source": [
    "%%time\n",
    "pipe_4 = Pipeline(steps = [\n",
    "    (\"tran\", tran),\n",
    "    (\"modelo_4\", modelo_dtc)\n",
    "])\n",
    "modelo4 = pipe_4.fit(X_train, y_train)\n",
    "\n",
    "#serialización\n",
    "pickle.dump(modelo4, open(\"modelo4_dtc.sav\",\"wb\"))"
   ]
  },
  {
   "cell_type": "code",
   "execution_count": 77,
   "metadata": {},
   "outputs": [
    {
     "name": "stdout",
     "output_type": "stream",
     "text": [
      "Classification report - TRAIN SET\n",
      "              precision    recall  f1-score   support\n",
      "\n",
      "         1.0       0.99      0.99      0.99       162\n",
      "         2.0       1.00      1.00      1.00        50\n",
      "         3.0       1.00      0.98      0.99        61\n",
      "         4.0       0.99      0.99      0.99       141\n",
      "         5.0       0.99      1.00      1.00       731\n",
      "\n",
      "    accuracy                           0.99      1145\n",
      "   macro avg       1.00      0.99      0.99      1145\n",
      "weighted avg       0.99      0.99      0.99      1145\n",
      "\n",
      "\n",
      "Classification report - TEST SET\n",
      "              precision    recall  f1-score   support\n",
      "\n",
      "         1.0       0.61      0.60      0.60       135\n",
      "         2.0       0.10      0.06      0.08        32\n",
      "         3.0       0.20      0.12      0.15        43\n",
      "         4.0       0.17      0.16      0.17        86\n",
      "         5.0       0.74      0.80      0.77       468\n",
      "\n",
      "    accuracy                           0.62       764\n",
      "   macro avg       0.36      0.35      0.35       764\n",
      "weighted avg       0.60      0.62      0.61       764\n",
      "\n"
     ]
    }
   ],
   "source": [
    "prediccion_reporte_modelo(\"modelo4_dtc.sav\", X_train, X_test, y_test)"
   ]
  },
  {
   "cell_type": "markdown",
   "metadata": {},
   "source": [
    "Al igual que con el modelo con RandomForest, observamos sobreajuste en el train set y una menor métrica F1 weighted average, por tanto, se descartará."
   ]
  },
  {
   "cell_type": "markdown",
   "metadata": {},
   "source": [
    "### e. AdaBoostClassifier\n"
   ]
  },
  {
   "cell_type": "code",
   "execution_count": 78,
   "metadata": {},
   "outputs": [
    {
     "name": "stdout",
     "output_type": "stream",
     "text": [
      "Wall time: 6min 6s\n"
     ]
    }
   ],
   "source": [
    "%%time\n",
    "pipe_5 = Pipeline(steps = [\n",
    "    (\"tran\", tran),\n",
    "    (\"modelo_5\", modelo_abc)\n",
    "])\n",
    "modelo5 = pipe_5.fit(X_train, y_train)\n",
    "\n",
    "#serialización\n",
    "pickle.dump(modelo5, open(\"modelo5_abc.sav\",\"wb\"))\n",
    "pickle.dump(modelo5, open(\"modelo5_abc.pkl\",\"wb\"))"
   ]
  },
  {
   "cell_type": "code",
   "execution_count": 79,
   "metadata": {
    "scrolled": false
   },
   "outputs": [
    {
     "name": "stdout",
     "output_type": "stream",
     "text": [
      "Classification report - TRAIN SET\n",
      "              precision    recall  f1-score   support\n",
      "\n",
      "         1.0       0.77      0.58      0.66       162\n",
      "         2.0       0.61      0.34      0.44        50\n",
      "         3.0       0.37      0.16      0.23        61\n",
      "         4.0       0.29      0.12      0.17       141\n",
      "         5.0       0.76      0.95      0.85       731\n",
      "\n",
      "    accuracy                           0.73      1145\n",
      "   macro avg       0.56      0.43      0.47      1145\n",
      "weighted avg       0.68      0.73      0.69      1145\n",
      "\n",
      "\n",
      "Classification report - TEST SET\n",
      "              precision    recall  f1-score   support\n",
      "\n",
      "         1.0       0.74      0.58      0.65       135\n",
      "         2.0       0.17      0.09      0.12        32\n",
      "         3.0       0.11      0.07      0.08        43\n",
      "         4.0       0.15      0.07      0.09        86\n",
      "         5.0       0.74      0.91      0.82       468\n",
      "\n",
      "    accuracy                           0.68       764\n",
      "   macro avg       0.38      0.34      0.35       764\n",
      "weighted avg       0.62      0.68      0.64       764\n",
      "\n"
     ]
    }
   ],
   "source": [
    "prediccion_reporte_modelo(\"modelo5_abc.sav\", X_train, X_test, y_test)"
   ]
  },
  {
   "cell_type": "markdown",
   "metadata": {},
   "source": [
    "A diferencia de los modelos implementados con anterioridad, no se evidencia sobreajuste en el train set y la métrica F1 weighted average es aceptable, no habiendo un mayor gap entre el test set y train set. "
   ]
  },
  {
   "cell_type": "markdown",
   "metadata": {},
   "source": [
    "### f. GradientBoosting Classifier\n"
   ]
  },
  {
   "cell_type": "code",
   "execution_count": 80,
   "metadata": {},
   "outputs": [
    {
     "name": "stdout",
     "output_type": "stream",
     "text": [
      "Wall time: 3h 17min 22s\n"
     ]
    }
   ],
   "source": [
    "%%time\n",
    "pipe_6 = Pipeline(steps = [\n",
    "    (\"tran\", tran),\n",
    "    (\"modelo_6\", modelo_gbc)\n",
    "])\n",
    "modelo6 = pipe_6.fit(X_train, y_train)\n",
    "\n",
    "#serialización\n",
    "pickle.dump(modelo6, open(\"modelo6_gbc.sav\",\"wb\"))\n",
    "pickle.dump(modelo6, open(\"modelo6_gbc.pkl\",\"wb\"))"
   ]
  },
  {
   "cell_type": "code",
   "execution_count": 81,
   "metadata": {},
   "outputs": [
    {
     "name": "stdout",
     "output_type": "stream",
     "text": [
      "Classification report - TRAIN SET\n",
      "              precision    recall  f1-score   support\n",
      "\n",
      "         1.0       0.97      0.87      0.92       162\n",
      "         2.0       1.00      0.86      0.92        50\n",
      "         3.0       1.00      0.74      0.85        61\n",
      "         4.0       1.00      0.50      0.67       141\n",
      "         5.0       0.87      1.00      0.93       731\n",
      "\n",
      "    accuracy                           0.90      1145\n",
      "   macro avg       0.97      0.79      0.86      1145\n",
      "weighted avg       0.91      0.90      0.89      1145\n",
      "\n",
      "\n",
      "Classification report - TEST SET\n",
      "              precision    recall  f1-score   support\n",
      "\n",
      "         1.0       0.80      0.64      0.71       135\n",
      "         2.0       0.09      0.03      0.05        32\n",
      "         3.0       0.12      0.02      0.04        43\n",
      "         4.0       0.37      0.08      0.13        86\n",
      "         5.0       0.72      0.95      0.82       468\n",
      "\n",
      "    accuracy                           0.71       764\n",
      "   macro avg       0.42      0.35      0.35       764\n",
      "weighted avg       0.64      0.71      0.65       764\n",
      "\n"
     ]
    }
   ],
   "source": [
    "prediccion_reporte_modelo(\"modelo6_gbc.sav\", X_train, X_test, y_test)"
   ]
  },
  {
   "cell_type": "markdown",
   "metadata": {},
   "source": [
    "Se obtienen resultados similares al modelo implementado con AdaBoost. No hay evidencia de sobreajuste y la métrica F1 weighted average es aceptable."
   ]
  },
  {
   "cell_type": "markdown",
   "metadata": {},
   "source": [
    "### g. XG Boosting"
   ]
  },
  {
   "cell_type": "code",
   "execution_count": 82,
   "metadata": {},
   "outputs": [
    {
     "ename": "KeyboardInterrupt",
     "evalue": "",
     "output_type": "error",
     "traceback": [
      "\u001b[1;31m---------------------------------------------------------------------------\u001b[0m",
      "\u001b[1;31mKeyboardInterrupt\u001b[0m                         Traceback (most recent call last)",
      "\u001b[1;32m<timed exec>\u001b[0m in \u001b[0;36m<module>\u001b[1;34m\u001b[0m\n",
      "\u001b[1;32m~\\anaconda3\\lib\\site-packages\\sklearn\\pipeline.py\u001b[0m in \u001b[0;36mfit\u001b[1;34m(self, X, y, **fit_params)\u001b[0m\n\u001b[0;32m    328\u001b[0m         \"\"\"\n\u001b[0;32m    329\u001b[0m         \u001b[0mfit_params_steps\u001b[0m \u001b[1;33m=\u001b[0m \u001b[0mself\u001b[0m\u001b[1;33m.\u001b[0m\u001b[0m_check_fit_params\u001b[0m\u001b[1;33m(\u001b[0m\u001b[1;33m**\u001b[0m\u001b[0mfit_params\u001b[0m\u001b[1;33m)\u001b[0m\u001b[1;33m\u001b[0m\u001b[1;33m\u001b[0m\u001b[0m\n\u001b[1;32m--> 330\u001b[1;33m         \u001b[0mXt\u001b[0m \u001b[1;33m=\u001b[0m \u001b[0mself\u001b[0m\u001b[1;33m.\u001b[0m\u001b[0m_fit\u001b[0m\u001b[1;33m(\u001b[0m\u001b[0mX\u001b[0m\u001b[1;33m,\u001b[0m \u001b[0my\u001b[0m\u001b[1;33m,\u001b[0m \u001b[1;33m**\u001b[0m\u001b[0mfit_params_steps\u001b[0m\u001b[1;33m)\u001b[0m\u001b[1;33m\u001b[0m\u001b[1;33m\u001b[0m\u001b[0m\n\u001b[0m\u001b[0;32m    331\u001b[0m         with _print_elapsed_time('Pipeline',\n\u001b[0;32m    332\u001b[0m                                  self._log_message(len(self.steps) - 1)):\n",
      "\u001b[1;32m~\\anaconda3\\lib\\site-packages\\sklearn\\pipeline.py\u001b[0m in \u001b[0;36m_fit\u001b[1;34m(self, X, y, **fit_params_steps)\u001b[0m\n\u001b[0;32m    290\u001b[0m                 \u001b[0mcloned_transformer\u001b[0m \u001b[1;33m=\u001b[0m \u001b[0mclone\u001b[0m\u001b[1;33m(\u001b[0m\u001b[0mtransformer\u001b[0m\u001b[1;33m)\u001b[0m\u001b[1;33m\u001b[0m\u001b[1;33m\u001b[0m\u001b[0m\n\u001b[0;32m    291\u001b[0m             \u001b[1;31m# Fit or load from cache the current transformer\u001b[0m\u001b[1;33m\u001b[0m\u001b[1;33m\u001b[0m\u001b[1;33m\u001b[0m\u001b[0m\n\u001b[1;32m--> 292\u001b[1;33m             X, fitted_transformer = fit_transform_one_cached(\n\u001b[0m\u001b[0;32m    293\u001b[0m                 \u001b[0mcloned_transformer\u001b[0m\u001b[1;33m,\u001b[0m \u001b[0mX\u001b[0m\u001b[1;33m,\u001b[0m \u001b[0my\u001b[0m\u001b[1;33m,\u001b[0m \u001b[1;32mNone\u001b[0m\u001b[1;33m,\u001b[0m\u001b[1;33m\u001b[0m\u001b[1;33m\u001b[0m\u001b[0m\n\u001b[0;32m    294\u001b[0m                 \u001b[0mmessage_clsname\u001b[0m\u001b[1;33m=\u001b[0m\u001b[1;34m'Pipeline'\u001b[0m\u001b[1;33m,\u001b[0m\u001b[1;33m\u001b[0m\u001b[1;33m\u001b[0m\u001b[0m\n",
      "\u001b[1;32m~\\anaconda3\\lib\\site-packages\\joblib\\memory.py\u001b[0m in \u001b[0;36m__call__\u001b[1;34m(self, *args, **kwargs)\u001b[0m\n\u001b[0;32m    350\u001b[0m \u001b[1;33m\u001b[0m\u001b[0m\n\u001b[0;32m    351\u001b[0m     \u001b[1;32mdef\u001b[0m \u001b[0m__call__\u001b[0m\u001b[1;33m(\u001b[0m\u001b[0mself\u001b[0m\u001b[1;33m,\u001b[0m \u001b[1;33m*\u001b[0m\u001b[0margs\u001b[0m\u001b[1;33m,\u001b[0m \u001b[1;33m**\u001b[0m\u001b[0mkwargs\u001b[0m\u001b[1;33m)\u001b[0m\u001b[1;33m:\u001b[0m\u001b[1;33m\u001b[0m\u001b[1;33m\u001b[0m\u001b[0m\n\u001b[1;32m--> 352\u001b[1;33m         \u001b[1;32mreturn\u001b[0m \u001b[0mself\u001b[0m\u001b[1;33m.\u001b[0m\u001b[0mfunc\u001b[0m\u001b[1;33m(\u001b[0m\u001b[1;33m*\u001b[0m\u001b[0margs\u001b[0m\u001b[1;33m,\u001b[0m \u001b[1;33m**\u001b[0m\u001b[0mkwargs\u001b[0m\u001b[1;33m)\u001b[0m\u001b[1;33m\u001b[0m\u001b[1;33m\u001b[0m\u001b[0m\n\u001b[0m\u001b[0;32m    353\u001b[0m \u001b[1;33m\u001b[0m\u001b[0m\n\u001b[0;32m    354\u001b[0m     \u001b[1;32mdef\u001b[0m \u001b[0mcall_and_shelve\u001b[0m\u001b[1;33m(\u001b[0m\u001b[0mself\u001b[0m\u001b[1;33m,\u001b[0m \u001b[1;33m*\u001b[0m\u001b[0margs\u001b[0m\u001b[1;33m,\u001b[0m \u001b[1;33m**\u001b[0m\u001b[0mkwargs\u001b[0m\u001b[1;33m)\u001b[0m\u001b[1;33m:\u001b[0m\u001b[1;33m\u001b[0m\u001b[1;33m\u001b[0m\u001b[0m\n",
      "\u001b[1;32m~\\anaconda3\\lib\\site-packages\\sklearn\\pipeline.py\u001b[0m in \u001b[0;36m_fit_transform_one\u001b[1;34m(transformer, X, y, weight, message_clsname, message, **fit_params)\u001b[0m\n\u001b[0;32m    738\u001b[0m     \u001b[1;32mwith\u001b[0m \u001b[0m_print_elapsed_time\u001b[0m\u001b[1;33m(\u001b[0m\u001b[0mmessage_clsname\u001b[0m\u001b[1;33m,\u001b[0m \u001b[0mmessage\u001b[0m\u001b[1;33m)\u001b[0m\u001b[1;33m:\u001b[0m\u001b[1;33m\u001b[0m\u001b[1;33m\u001b[0m\u001b[0m\n\u001b[0;32m    739\u001b[0m         \u001b[1;32mif\u001b[0m \u001b[0mhasattr\u001b[0m\u001b[1;33m(\u001b[0m\u001b[0mtransformer\u001b[0m\u001b[1;33m,\u001b[0m \u001b[1;34m'fit_transform'\u001b[0m\u001b[1;33m)\u001b[0m\u001b[1;33m:\u001b[0m\u001b[1;33m\u001b[0m\u001b[1;33m\u001b[0m\u001b[0m\n\u001b[1;32m--> 740\u001b[1;33m             \u001b[0mres\u001b[0m \u001b[1;33m=\u001b[0m \u001b[0mtransformer\u001b[0m\u001b[1;33m.\u001b[0m\u001b[0mfit_transform\u001b[0m\u001b[1;33m(\u001b[0m\u001b[0mX\u001b[0m\u001b[1;33m,\u001b[0m \u001b[0my\u001b[0m\u001b[1;33m,\u001b[0m \u001b[1;33m**\u001b[0m\u001b[0mfit_params\u001b[0m\u001b[1;33m)\u001b[0m\u001b[1;33m\u001b[0m\u001b[1;33m\u001b[0m\u001b[0m\n\u001b[0m\u001b[0;32m    741\u001b[0m         \u001b[1;32melse\u001b[0m\u001b[1;33m:\u001b[0m\u001b[1;33m\u001b[0m\u001b[1;33m\u001b[0m\u001b[0m\n\u001b[0;32m    742\u001b[0m             \u001b[0mres\u001b[0m \u001b[1;33m=\u001b[0m \u001b[0mtransformer\u001b[0m\u001b[1;33m.\u001b[0m\u001b[0mfit\u001b[0m\u001b[1;33m(\u001b[0m\u001b[0mX\u001b[0m\u001b[1;33m,\u001b[0m \u001b[0my\u001b[0m\u001b[1;33m,\u001b[0m \u001b[1;33m**\u001b[0m\u001b[0mfit_params\u001b[0m\u001b[1;33m)\u001b[0m\u001b[1;33m.\u001b[0m\u001b[0mtransform\u001b[0m\u001b[1;33m(\u001b[0m\u001b[0mX\u001b[0m\u001b[1;33m)\u001b[0m\u001b[1;33m\u001b[0m\u001b[1;33m\u001b[0m\u001b[0m\n",
      "\u001b[1;32m~\\anaconda3\\lib\\site-packages\\sklearn\\compose\\_column_transformer.py\u001b[0m in \u001b[0;36mfit_transform\u001b[1;34m(self, X, y)\u001b[0m\n\u001b[0;32m    529\u001b[0m         \u001b[0mself\u001b[0m\u001b[1;33m.\u001b[0m\u001b[0m_validate_remainder\u001b[0m\u001b[1;33m(\u001b[0m\u001b[0mX\u001b[0m\u001b[1;33m)\u001b[0m\u001b[1;33m\u001b[0m\u001b[1;33m\u001b[0m\u001b[0m\n\u001b[0;32m    530\u001b[0m \u001b[1;33m\u001b[0m\u001b[0m\n\u001b[1;32m--> 531\u001b[1;33m         \u001b[0mresult\u001b[0m \u001b[1;33m=\u001b[0m \u001b[0mself\u001b[0m\u001b[1;33m.\u001b[0m\u001b[0m_fit_transform\u001b[0m\u001b[1;33m(\u001b[0m\u001b[0mX\u001b[0m\u001b[1;33m,\u001b[0m \u001b[0my\u001b[0m\u001b[1;33m,\u001b[0m \u001b[0m_fit_transform_one\u001b[0m\u001b[1;33m)\u001b[0m\u001b[1;33m\u001b[0m\u001b[1;33m\u001b[0m\u001b[0m\n\u001b[0m\u001b[0;32m    532\u001b[0m \u001b[1;33m\u001b[0m\u001b[0m\n\u001b[0;32m    533\u001b[0m         \u001b[1;32mif\u001b[0m \u001b[1;32mnot\u001b[0m \u001b[0mresult\u001b[0m\u001b[1;33m:\u001b[0m\u001b[1;33m\u001b[0m\u001b[1;33m\u001b[0m\u001b[0m\n",
      "\u001b[1;32m~\\anaconda3\\lib\\site-packages\\sklearn\\compose\\_column_transformer.py\u001b[0m in \u001b[0;36m_fit_transform\u001b[1;34m(self, X, y, func, fitted)\u001b[0m\n\u001b[0;32m    456\u001b[0m             self._iter(fitted=fitted, replace_strings=True))\n\u001b[0;32m    457\u001b[0m         \u001b[1;32mtry\u001b[0m\u001b[1;33m:\u001b[0m\u001b[1;33m\u001b[0m\u001b[1;33m\u001b[0m\u001b[0m\n\u001b[1;32m--> 458\u001b[1;33m             return Parallel(n_jobs=self.n_jobs)(\n\u001b[0m\u001b[0;32m    459\u001b[0m                 delayed(func)(\n\u001b[0;32m    460\u001b[0m                     \u001b[0mtransformer\u001b[0m\u001b[1;33m=\u001b[0m\u001b[0mclone\u001b[0m\u001b[1;33m(\u001b[0m\u001b[0mtrans\u001b[0m\u001b[1;33m)\u001b[0m \u001b[1;32mif\u001b[0m \u001b[1;32mnot\u001b[0m \u001b[0mfitted\u001b[0m \u001b[1;32melse\u001b[0m \u001b[0mtrans\u001b[0m\u001b[1;33m,\u001b[0m\u001b[1;33m\u001b[0m\u001b[1;33m\u001b[0m\u001b[0m\n",
      "\u001b[1;32m~\\anaconda3\\lib\\site-packages\\joblib\\parallel.py\u001b[0m in \u001b[0;36m__call__\u001b[1;34m(self, iterable)\u001b[0m\n\u001b[0;32m   1030\u001b[0m                 \u001b[0mself\u001b[0m\u001b[1;33m.\u001b[0m\u001b[0m_iterating\u001b[0m \u001b[1;33m=\u001b[0m \u001b[0mself\u001b[0m\u001b[1;33m.\u001b[0m\u001b[0m_original_iterator\u001b[0m \u001b[1;32mis\u001b[0m \u001b[1;32mnot\u001b[0m \u001b[1;32mNone\u001b[0m\u001b[1;33m\u001b[0m\u001b[1;33m\u001b[0m\u001b[0m\n\u001b[0;32m   1031\u001b[0m \u001b[1;33m\u001b[0m\u001b[0m\n\u001b[1;32m-> 1032\u001b[1;33m             \u001b[1;32mwhile\u001b[0m \u001b[0mself\u001b[0m\u001b[1;33m.\u001b[0m\u001b[0mdispatch_one_batch\u001b[0m\u001b[1;33m(\u001b[0m\u001b[0miterator\u001b[0m\u001b[1;33m)\u001b[0m\u001b[1;33m:\u001b[0m\u001b[1;33m\u001b[0m\u001b[1;33m\u001b[0m\u001b[0m\n\u001b[0m\u001b[0;32m   1033\u001b[0m                 \u001b[1;32mpass\u001b[0m\u001b[1;33m\u001b[0m\u001b[1;33m\u001b[0m\u001b[0m\n\u001b[0;32m   1034\u001b[0m \u001b[1;33m\u001b[0m\u001b[0m\n",
      "\u001b[1;32m~\\anaconda3\\lib\\site-packages\\joblib\\parallel.py\u001b[0m in \u001b[0;36mdispatch_one_batch\u001b[1;34m(self, iterator)\u001b[0m\n\u001b[0;32m    845\u001b[0m                 \u001b[1;32mreturn\u001b[0m \u001b[1;32mFalse\u001b[0m\u001b[1;33m\u001b[0m\u001b[1;33m\u001b[0m\u001b[0m\n\u001b[0;32m    846\u001b[0m             \u001b[1;32melse\u001b[0m\u001b[1;33m:\u001b[0m\u001b[1;33m\u001b[0m\u001b[1;33m\u001b[0m\u001b[0m\n\u001b[1;32m--> 847\u001b[1;33m                 \u001b[0mself\u001b[0m\u001b[1;33m.\u001b[0m\u001b[0m_dispatch\u001b[0m\u001b[1;33m(\u001b[0m\u001b[0mtasks\u001b[0m\u001b[1;33m)\u001b[0m\u001b[1;33m\u001b[0m\u001b[1;33m\u001b[0m\u001b[0m\n\u001b[0m\u001b[0;32m    848\u001b[0m                 \u001b[1;32mreturn\u001b[0m \u001b[1;32mTrue\u001b[0m\u001b[1;33m\u001b[0m\u001b[1;33m\u001b[0m\u001b[0m\n\u001b[0;32m    849\u001b[0m \u001b[1;33m\u001b[0m\u001b[0m\n",
      "\u001b[1;32m~\\anaconda3\\lib\\site-packages\\joblib\\parallel.py\u001b[0m in \u001b[0;36m_dispatch\u001b[1;34m(self, batch)\u001b[0m\n\u001b[0;32m    763\u001b[0m         \u001b[1;32mwith\u001b[0m \u001b[0mself\u001b[0m\u001b[1;33m.\u001b[0m\u001b[0m_lock\u001b[0m\u001b[1;33m:\u001b[0m\u001b[1;33m\u001b[0m\u001b[1;33m\u001b[0m\u001b[0m\n\u001b[0;32m    764\u001b[0m             \u001b[0mjob_idx\u001b[0m \u001b[1;33m=\u001b[0m \u001b[0mlen\u001b[0m\u001b[1;33m(\u001b[0m\u001b[0mself\u001b[0m\u001b[1;33m.\u001b[0m\u001b[0m_jobs\u001b[0m\u001b[1;33m)\u001b[0m\u001b[1;33m\u001b[0m\u001b[1;33m\u001b[0m\u001b[0m\n\u001b[1;32m--> 765\u001b[1;33m             \u001b[0mjob\u001b[0m \u001b[1;33m=\u001b[0m \u001b[0mself\u001b[0m\u001b[1;33m.\u001b[0m\u001b[0m_backend\u001b[0m\u001b[1;33m.\u001b[0m\u001b[0mapply_async\u001b[0m\u001b[1;33m(\u001b[0m\u001b[0mbatch\u001b[0m\u001b[1;33m,\u001b[0m \u001b[0mcallback\u001b[0m\u001b[1;33m=\u001b[0m\u001b[0mcb\u001b[0m\u001b[1;33m)\u001b[0m\u001b[1;33m\u001b[0m\u001b[1;33m\u001b[0m\u001b[0m\n\u001b[0m\u001b[0;32m    766\u001b[0m             \u001b[1;31m# A job can complete so quickly than its callback is\u001b[0m\u001b[1;33m\u001b[0m\u001b[1;33m\u001b[0m\u001b[1;33m\u001b[0m\u001b[0m\n\u001b[0;32m    767\u001b[0m             \u001b[1;31m# called before we get here, causing self._jobs to\u001b[0m\u001b[1;33m\u001b[0m\u001b[1;33m\u001b[0m\u001b[1;33m\u001b[0m\u001b[0m\n",
      "\u001b[1;32m~\\anaconda3\\lib\\site-packages\\joblib\\_parallel_backends.py\u001b[0m in \u001b[0;36mapply_async\u001b[1;34m(self, func, callback)\u001b[0m\n\u001b[0;32m    206\u001b[0m     \u001b[1;32mdef\u001b[0m \u001b[0mapply_async\u001b[0m\u001b[1;33m(\u001b[0m\u001b[0mself\u001b[0m\u001b[1;33m,\u001b[0m \u001b[0mfunc\u001b[0m\u001b[1;33m,\u001b[0m \u001b[0mcallback\u001b[0m\u001b[1;33m=\u001b[0m\u001b[1;32mNone\u001b[0m\u001b[1;33m)\u001b[0m\u001b[1;33m:\u001b[0m\u001b[1;33m\u001b[0m\u001b[1;33m\u001b[0m\u001b[0m\n\u001b[0;32m    207\u001b[0m         \u001b[1;34m\"\"\"Schedule a func to be run\"\"\"\u001b[0m\u001b[1;33m\u001b[0m\u001b[1;33m\u001b[0m\u001b[0m\n\u001b[1;32m--> 208\u001b[1;33m         \u001b[0mresult\u001b[0m \u001b[1;33m=\u001b[0m \u001b[0mImmediateResult\u001b[0m\u001b[1;33m(\u001b[0m\u001b[0mfunc\u001b[0m\u001b[1;33m)\u001b[0m\u001b[1;33m\u001b[0m\u001b[1;33m\u001b[0m\u001b[0m\n\u001b[0m\u001b[0;32m    209\u001b[0m         \u001b[1;32mif\u001b[0m \u001b[0mcallback\u001b[0m\u001b[1;33m:\u001b[0m\u001b[1;33m\u001b[0m\u001b[1;33m\u001b[0m\u001b[0m\n\u001b[0;32m    210\u001b[0m             \u001b[0mcallback\u001b[0m\u001b[1;33m(\u001b[0m\u001b[0mresult\u001b[0m\u001b[1;33m)\u001b[0m\u001b[1;33m\u001b[0m\u001b[1;33m\u001b[0m\u001b[0m\n",
      "\u001b[1;32m~\\anaconda3\\lib\\site-packages\\joblib\\_parallel_backends.py\u001b[0m in \u001b[0;36m__init__\u001b[1;34m(self, batch)\u001b[0m\n\u001b[0;32m    570\u001b[0m         \u001b[1;31m# Don't delay the application, to avoid keeping the input\u001b[0m\u001b[1;33m\u001b[0m\u001b[1;33m\u001b[0m\u001b[1;33m\u001b[0m\u001b[0m\n\u001b[0;32m    571\u001b[0m         \u001b[1;31m# arguments in memory\u001b[0m\u001b[1;33m\u001b[0m\u001b[1;33m\u001b[0m\u001b[1;33m\u001b[0m\u001b[0m\n\u001b[1;32m--> 572\u001b[1;33m         \u001b[0mself\u001b[0m\u001b[1;33m.\u001b[0m\u001b[0mresults\u001b[0m \u001b[1;33m=\u001b[0m \u001b[0mbatch\u001b[0m\u001b[1;33m(\u001b[0m\u001b[1;33m)\u001b[0m\u001b[1;33m\u001b[0m\u001b[1;33m\u001b[0m\u001b[0m\n\u001b[0m\u001b[0;32m    573\u001b[0m \u001b[1;33m\u001b[0m\u001b[0m\n\u001b[0;32m    574\u001b[0m     \u001b[1;32mdef\u001b[0m \u001b[0mget\u001b[0m\u001b[1;33m(\u001b[0m\u001b[0mself\u001b[0m\u001b[1;33m)\u001b[0m\u001b[1;33m:\u001b[0m\u001b[1;33m\u001b[0m\u001b[1;33m\u001b[0m\u001b[0m\n",
      "\u001b[1;32m~\\anaconda3\\lib\\site-packages\\joblib\\parallel.py\u001b[0m in \u001b[0;36m__call__\u001b[1;34m(self)\u001b[0m\n\u001b[0;32m    250\u001b[0m         \u001b[1;31m# change the default number of processes to -1\u001b[0m\u001b[1;33m\u001b[0m\u001b[1;33m\u001b[0m\u001b[1;33m\u001b[0m\u001b[0m\n\u001b[0;32m    251\u001b[0m         \u001b[1;32mwith\u001b[0m \u001b[0mparallel_backend\u001b[0m\u001b[1;33m(\u001b[0m\u001b[0mself\u001b[0m\u001b[1;33m.\u001b[0m\u001b[0m_backend\u001b[0m\u001b[1;33m,\u001b[0m \u001b[0mn_jobs\u001b[0m\u001b[1;33m=\u001b[0m\u001b[0mself\u001b[0m\u001b[1;33m.\u001b[0m\u001b[0m_n_jobs\u001b[0m\u001b[1;33m)\u001b[0m\u001b[1;33m:\u001b[0m\u001b[1;33m\u001b[0m\u001b[1;33m\u001b[0m\u001b[0m\n\u001b[1;32m--> 252\u001b[1;33m             return [func(*args, **kwargs)\n\u001b[0m\u001b[0;32m    253\u001b[0m                     for func, args, kwargs in self.items]\n\u001b[0;32m    254\u001b[0m \u001b[1;33m\u001b[0m\u001b[0m\n",
      "\u001b[1;32m~\\anaconda3\\lib\\site-packages\\joblib\\parallel.py\u001b[0m in \u001b[0;36m<listcomp>\u001b[1;34m(.0)\u001b[0m\n\u001b[0;32m    250\u001b[0m         \u001b[1;31m# change the default number of processes to -1\u001b[0m\u001b[1;33m\u001b[0m\u001b[1;33m\u001b[0m\u001b[1;33m\u001b[0m\u001b[0m\n\u001b[0;32m    251\u001b[0m         \u001b[1;32mwith\u001b[0m \u001b[0mparallel_backend\u001b[0m\u001b[1;33m(\u001b[0m\u001b[0mself\u001b[0m\u001b[1;33m.\u001b[0m\u001b[0m_backend\u001b[0m\u001b[1;33m,\u001b[0m \u001b[0mn_jobs\u001b[0m\u001b[1;33m=\u001b[0m\u001b[0mself\u001b[0m\u001b[1;33m.\u001b[0m\u001b[0m_n_jobs\u001b[0m\u001b[1;33m)\u001b[0m\u001b[1;33m:\u001b[0m\u001b[1;33m\u001b[0m\u001b[1;33m\u001b[0m\u001b[0m\n\u001b[1;32m--> 252\u001b[1;33m             return [func(*args, **kwargs)\n\u001b[0m\u001b[0;32m    253\u001b[0m                     for func, args, kwargs in self.items]\n\u001b[0;32m    254\u001b[0m \u001b[1;33m\u001b[0m\u001b[0m\n",
      "\u001b[1;32m~\\anaconda3\\lib\\site-packages\\sklearn\\pipeline.py\u001b[0m in \u001b[0;36m_fit_transform_one\u001b[1;34m(transformer, X, y, weight, message_clsname, message, **fit_params)\u001b[0m\n\u001b[0;32m    738\u001b[0m     \u001b[1;32mwith\u001b[0m \u001b[0m_print_elapsed_time\u001b[0m\u001b[1;33m(\u001b[0m\u001b[0mmessage_clsname\u001b[0m\u001b[1;33m,\u001b[0m \u001b[0mmessage\u001b[0m\u001b[1;33m)\u001b[0m\u001b[1;33m:\u001b[0m\u001b[1;33m\u001b[0m\u001b[1;33m\u001b[0m\u001b[0m\n\u001b[0;32m    739\u001b[0m         \u001b[1;32mif\u001b[0m \u001b[0mhasattr\u001b[0m\u001b[1;33m(\u001b[0m\u001b[0mtransformer\u001b[0m\u001b[1;33m,\u001b[0m \u001b[1;34m'fit_transform'\u001b[0m\u001b[1;33m)\u001b[0m\u001b[1;33m:\u001b[0m\u001b[1;33m\u001b[0m\u001b[1;33m\u001b[0m\u001b[0m\n\u001b[1;32m--> 740\u001b[1;33m             \u001b[0mres\u001b[0m \u001b[1;33m=\u001b[0m \u001b[0mtransformer\u001b[0m\u001b[1;33m.\u001b[0m\u001b[0mfit_transform\u001b[0m\u001b[1;33m(\u001b[0m\u001b[0mX\u001b[0m\u001b[1;33m,\u001b[0m \u001b[0my\u001b[0m\u001b[1;33m,\u001b[0m \u001b[1;33m**\u001b[0m\u001b[0mfit_params\u001b[0m\u001b[1;33m)\u001b[0m\u001b[1;33m\u001b[0m\u001b[1;33m\u001b[0m\u001b[0m\n\u001b[0m\u001b[0;32m    741\u001b[0m         \u001b[1;32melse\u001b[0m\u001b[1;33m:\u001b[0m\u001b[1;33m\u001b[0m\u001b[1;33m\u001b[0m\u001b[0m\n\u001b[0;32m    742\u001b[0m             \u001b[0mres\u001b[0m \u001b[1;33m=\u001b[0m \u001b[0mtransformer\u001b[0m\u001b[1;33m.\u001b[0m\u001b[0mfit\u001b[0m\u001b[1;33m(\u001b[0m\u001b[0mX\u001b[0m\u001b[1;33m,\u001b[0m \u001b[0my\u001b[0m\u001b[1;33m,\u001b[0m \u001b[1;33m**\u001b[0m\u001b[0mfit_params\u001b[0m\u001b[1;33m)\u001b[0m\u001b[1;33m.\u001b[0m\u001b[0mtransform\u001b[0m\u001b[1;33m(\u001b[0m\u001b[0mX\u001b[0m\u001b[1;33m)\u001b[0m\u001b[1;33m\u001b[0m\u001b[1;33m\u001b[0m\u001b[0m\n",
      "\u001b[1;32m~\\anaconda3\\lib\\site-packages\\sklearn\\pipeline.py\u001b[0m in \u001b[0;36mfit_transform\u001b[1;34m(self, X, y, **fit_params)\u001b[0m\n\u001b[0;32m    374\u001b[0m             \u001b[0mfit_params_last_step\u001b[0m \u001b[1;33m=\u001b[0m \u001b[0mfit_params_steps\u001b[0m\u001b[1;33m[\u001b[0m\u001b[0mself\u001b[0m\u001b[1;33m.\u001b[0m\u001b[0msteps\u001b[0m\u001b[1;33m[\u001b[0m\u001b[1;33m-\u001b[0m\u001b[1;36m1\u001b[0m\u001b[1;33m]\u001b[0m\u001b[1;33m[\u001b[0m\u001b[1;36m0\u001b[0m\u001b[1;33m]\u001b[0m\u001b[1;33m]\u001b[0m\u001b[1;33m\u001b[0m\u001b[1;33m\u001b[0m\u001b[0m\n\u001b[0;32m    375\u001b[0m             \u001b[1;32mif\u001b[0m \u001b[0mhasattr\u001b[0m\u001b[1;33m(\u001b[0m\u001b[0mlast_step\u001b[0m\u001b[1;33m,\u001b[0m \u001b[1;34m'fit_transform'\u001b[0m\u001b[1;33m)\u001b[0m\u001b[1;33m:\u001b[0m\u001b[1;33m\u001b[0m\u001b[1;33m\u001b[0m\u001b[0m\n\u001b[1;32m--> 376\u001b[1;33m                 \u001b[1;32mreturn\u001b[0m \u001b[0mlast_step\u001b[0m\u001b[1;33m.\u001b[0m\u001b[0mfit_transform\u001b[0m\u001b[1;33m(\u001b[0m\u001b[0mXt\u001b[0m\u001b[1;33m,\u001b[0m \u001b[0my\u001b[0m\u001b[1;33m,\u001b[0m \u001b[1;33m**\u001b[0m\u001b[0mfit_params_last_step\u001b[0m\u001b[1;33m)\u001b[0m\u001b[1;33m\u001b[0m\u001b[1;33m\u001b[0m\u001b[0m\n\u001b[0m\u001b[0;32m    377\u001b[0m             \u001b[1;32melse\u001b[0m\u001b[1;33m:\u001b[0m\u001b[1;33m\u001b[0m\u001b[1;33m\u001b[0m\u001b[0m\n\u001b[0;32m    378\u001b[0m                 return last_step.fit(Xt, y,\n",
      "\u001b[1;32m~\\anaconda3\\lib\\site-packages\\sklearn\\feature_extraction\\text.py\u001b[0m in \u001b[0;36mfit_transform\u001b[1;34m(self, raw_documents, y)\u001b[0m\n\u001b[0;32m   1196\u001b[0m         \u001b[0mmax_features\u001b[0m \u001b[1;33m=\u001b[0m \u001b[0mself\u001b[0m\u001b[1;33m.\u001b[0m\u001b[0mmax_features\u001b[0m\u001b[1;33m\u001b[0m\u001b[1;33m\u001b[0m\u001b[0m\n\u001b[0;32m   1197\u001b[0m \u001b[1;33m\u001b[0m\u001b[0m\n\u001b[1;32m-> 1198\u001b[1;33m         vocabulary, X = self._count_vocab(raw_documents,\n\u001b[0m\u001b[0;32m   1199\u001b[0m                                           self.fixed_vocabulary_)\n\u001b[0;32m   1200\u001b[0m \u001b[1;33m\u001b[0m\u001b[0m\n",
      "\u001b[1;32m~\\anaconda3\\lib\\site-packages\\sklearn\\feature_extraction\\text.py\u001b[0m in \u001b[0;36m_count_vocab\u001b[1;34m(self, raw_documents, fixed_vocab)\u001b[0m\n\u001b[0;32m   1108\u001b[0m         \u001b[1;32mfor\u001b[0m \u001b[0mdoc\u001b[0m \u001b[1;32min\u001b[0m \u001b[0mraw_documents\u001b[0m\u001b[1;33m:\u001b[0m\u001b[1;33m\u001b[0m\u001b[1;33m\u001b[0m\u001b[0m\n\u001b[0;32m   1109\u001b[0m             \u001b[0mfeature_counter\u001b[0m \u001b[1;33m=\u001b[0m \u001b[1;33m{\u001b[0m\u001b[1;33m}\u001b[0m\u001b[1;33m\u001b[0m\u001b[1;33m\u001b[0m\u001b[0m\n\u001b[1;32m-> 1110\u001b[1;33m             \u001b[1;32mfor\u001b[0m \u001b[0mfeature\u001b[0m \u001b[1;32min\u001b[0m \u001b[0manalyze\u001b[0m\u001b[1;33m(\u001b[0m\u001b[0mdoc\u001b[0m\u001b[1;33m)\u001b[0m\u001b[1;33m:\u001b[0m\u001b[1;33m\u001b[0m\u001b[1;33m\u001b[0m\u001b[0m\n\u001b[0m\u001b[0;32m   1111\u001b[0m                 \u001b[1;32mtry\u001b[0m\u001b[1;33m:\u001b[0m\u001b[1;33m\u001b[0m\u001b[1;33m\u001b[0m\u001b[0m\n\u001b[0;32m   1112\u001b[0m                     \u001b[0mfeature_idx\u001b[0m \u001b[1;33m=\u001b[0m \u001b[0mvocabulary\u001b[0m\u001b[1;33m[\u001b[0m\u001b[0mfeature\u001b[0m\u001b[1;33m]\u001b[0m\u001b[1;33m\u001b[0m\u001b[1;33m\u001b[0m\u001b[0m\n",
      "\u001b[1;32m~\\anaconda3\\lib\\site-packages\\sklearn\\feature_extraction\\text.py\u001b[0m in \u001b[0;36m_analyze\u001b[1;34m(doc, analyzer, tokenizer, ngrams, preprocessor, decoder, stop_words)\u001b[0m\n\u001b[0;32m    102\u001b[0m     \u001b[1;32melse\u001b[0m\u001b[1;33m:\u001b[0m\u001b[1;33m\u001b[0m\u001b[1;33m\u001b[0m\u001b[0m\n\u001b[0;32m    103\u001b[0m         \u001b[1;32mif\u001b[0m \u001b[0mpreprocessor\u001b[0m \u001b[1;32mis\u001b[0m \u001b[1;32mnot\u001b[0m \u001b[1;32mNone\u001b[0m\u001b[1;33m:\u001b[0m\u001b[1;33m\u001b[0m\u001b[1;33m\u001b[0m\u001b[0m\n\u001b[1;32m--> 104\u001b[1;33m             \u001b[0mdoc\u001b[0m \u001b[1;33m=\u001b[0m \u001b[0mpreprocessor\u001b[0m\u001b[1;33m(\u001b[0m\u001b[0mdoc\u001b[0m\u001b[1;33m)\u001b[0m\u001b[1;33m\u001b[0m\u001b[1;33m\u001b[0m\u001b[0m\n\u001b[0m\u001b[0;32m    105\u001b[0m         \u001b[1;32mif\u001b[0m \u001b[0mtokenizer\u001b[0m \u001b[1;32mis\u001b[0m \u001b[1;32mnot\u001b[0m \u001b[1;32mNone\u001b[0m\u001b[1;33m:\u001b[0m\u001b[1;33m\u001b[0m\u001b[1;33m\u001b[0m\u001b[0m\n\u001b[0;32m    106\u001b[0m             \u001b[0mdoc\u001b[0m \u001b[1;33m=\u001b[0m \u001b[0mtokenizer\u001b[0m\u001b[1;33m(\u001b[0m\u001b[0mdoc\u001b[0m\u001b[1;33m)\u001b[0m\u001b[1;33m\u001b[0m\u001b[1;33m\u001b[0m\u001b[0m\n",
      "\u001b[1;32m~\\OneDrive\\Escritorio\\00_FINAL\\h2_funciones_auxiliares.py\u001b[0m in \u001b[0;36mpreprocess_text\u001b[1;34m(text)\u001b[0m\n\u001b[0;32m    827\u001b[0m \u001b[1;33m\u001b[0m\u001b[0m\n\u001b[0;32m    828\u001b[0m     \u001b[1;31m# Diccionario\u001b[0m\u001b[1;33m\u001b[0m\u001b[1;33m\u001b[0m\u001b[1;33m\u001b[0m\u001b[0m\n\u001b[1;32m--> 829\u001b[1;33m     \u001b[0mtext\u001b[0m \u001b[1;33m=\u001b[0m \u001b[1;34m' '\u001b[0m\u001b[1;33m.\u001b[0m\u001b[0mjoin\u001b[0m\u001b[1;33m(\u001b[0m\u001b[1;33m[\u001b[0m\u001b[0mspell\u001b[0m\u001b[1;33m.\u001b[0m\u001b[0mcorrection\u001b[0m\u001b[1;33m(\u001b[0m\u001b[0mword\u001b[0m\u001b[1;33m)\u001b[0m \u001b[1;32mfor\u001b[0m \u001b[0mword\u001b[0m \u001b[1;32min\u001b[0m \u001b[0mtext\u001b[0m\u001b[1;33m.\u001b[0m\u001b[0msplit\u001b[0m\u001b[1;33m(\u001b[0m\u001b[1;34m' '\u001b[0m\u001b[1;33m)\u001b[0m\u001b[1;33m]\u001b[0m\u001b[1;33m)\u001b[0m\u001b[1;33m\u001b[0m\u001b[1;33m\u001b[0m\u001b[0m\n\u001b[0m\u001b[0;32m    830\u001b[0m \u001b[1;33m\u001b[0m\u001b[0m\n\u001b[0;32m    831\u001b[0m     \u001b[1;31m# Lematizacion\u001b[0m\u001b[1;33m\u001b[0m\u001b[1;33m\u001b[0m\u001b[1;33m\u001b[0m\u001b[0m\n",
      "\u001b[1;32m~\\OneDrive\\Escritorio\\00_FINAL\\h2_funciones_auxiliares.py\u001b[0m in \u001b[0;36m<listcomp>\u001b[1;34m(.0)\u001b[0m\n\u001b[0;32m    827\u001b[0m \u001b[1;33m\u001b[0m\u001b[0m\n\u001b[0;32m    828\u001b[0m     \u001b[1;31m# Diccionario\u001b[0m\u001b[1;33m\u001b[0m\u001b[1;33m\u001b[0m\u001b[1;33m\u001b[0m\u001b[0m\n\u001b[1;32m--> 829\u001b[1;33m     \u001b[0mtext\u001b[0m \u001b[1;33m=\u001b[0m \u001b[1;34m' '\u001b[0m\u001b[1;33m.\u001b[0m\u001b[0mjoin\u001b[0m\u001b[1;33m(\u001b[0m\u001b[1;33m[\u001b[0m\u001b[0mspell\u001b[0m\u001b[1;33m.\u001b[0m\u001b[0mcorrection\u001b[0m\u001b[1;33m(\u001b[0m\u001b[0mword\u001b[0m\u001b[1;33m)\u001b[0m \u001b[1;32mfor\u001b[0m \u001b[0mword\u001b[0m \u001b[1;32min\u001b[0m \u001b[0mtext\u001b[0m\u001b[1;33m.\u001b[0m\u001b[0msplit\u001b[0m\u001b[1;33m(\u001b[0m\u001b[1;34m' '\u001b[0m\u001b[1;33m)\u001b[0m\u001b[1;33m]\u001b[0m\u001b[1;33m)\u001b[0m\u001b[1;33m\u001b[0m\u001b[1;33m\u001b[0m\u001b[0m\n\u001b[0m\u001b[0;32m    830\u001b[0m \u001b[1;33m\u001b[0m\u001b[0m\n\u001b[0;32m    831\u001b[0m     \u001b[1;31m# Lematizacion\u001b[0m\u001b[1;33m\u001b[0m\u001b[1;33m\u001b[0m\u001b[1;33m\u001b[0m\u001b[0m\n",
      "\u001b[1;32m~\\anaconda3\\lib\\site-packages\\spellchecker\\spellchecker.py\u001b[0m in \u001b[0;36mcorrection\u001b[1;34m(self, word)\u001b[0m\n\u001b[0;32m    146\u001b[0m                 str: The most likely candidate \"\"\"\n\u001b[0;32m    147\u001b[0m         \u001b[0mword\u001b[0m \u001b[1;33m=\u001b[0m \u001b[0mENSURE_UNICODE\u001b[0m\u001b[1;33m(\u001b[0m\u001b[0mword\u001b[0m\u001b[1;33m)\u001b[0m\u001b[1;33m\u001b[0m\u001b[1;33m\u001b[0m\u001b[0m\n\u001b[1;32m--> 148\u001b[1;33m         \u001b[0mcandidates\u001b[0m \u001b[1;33m=\u001b[0m \u001b[0mlist\u001b[0m\u001b[1;33m(\u001b[0m\u001b[0mself\u001b[0m\u001b[1;33m.\u001b[0m\u001b[0mcandidates\u001b[0m\u001b[1;33m(\u001b[0m\u001b[0mword\u001b[0m\u001b[1;33m)\u001b[0m\u001b[1;33m)\u001b[0m\u001b[1;33m\u001b[0m\u001b[1;33m\u001b[0m\u001b[0m\n\u001b[0m\u001b[0;32m    149\u001b[0m         \u001b[1;32mreturn\u001b[0m \u001b[0mmax\u001b[0m\u001b[1;33m(\u001b[0m\u001b[0msorted\u001b[0m\u001b[1;33m(\u001b[0m\u001b[0mcandidates\u001b[0m\u001b[1;33m)\u001b[0m\u001b[1;33m,\u001b[0m \u001b[0mkey\u001b[0m\u001b[1;33m=\u001b[0m\u001b[0mself\u001b[0m\u001b[1;33m.\u001b[0m\u001b[0mword_probability\u001b[0m\u001b[1;33m)\u001b[0m\u001b[1;33m\u001b[0m\u001b[1;33m\u001b[0m\u001b[0m\n\u001b[0;32m    150\u001b[0m \u001b[1;33m\u001b[0m\u001b[0m\n",
      "\u001b[1;32m~\\anaconda3\\lib\\site-packages\\spellchecker\\spellchecker.py\u001b[0m in \u001b[0;36mcandidates\u001b[1;34m(self, word)\u001b[0m\n\u001b[0;32m    171\u001b[0m         \u001b[1;31m# if still not found, use the edit distance 1 to calc edit distance 2\u001b[0m\u001b[1;33m\u001b[0m\u001b[1;33m\u001b[0m\u001b[1;33m\u001b[0m\u001b[0m\n\u001b[0;32m    172\u001b[0m         \u001b[1;32mif\u001b[0m \u001b[0mself\u001b[0m\u001b[1;33m.\u001b[0m\u001b[0m_distance\u001b[0m \u001b[1;33m==\u001b[0m \u001b[1;36m2\u001b[0m\u001b[1;33m:\u001b[0m\u001b[1;33m\u001b[0m\u001b[1;33m\u001b[0m\u001b[0m\n\u001b[1;32m--> 173\u001b[1;33m             \u001b[0mtmp\u001b[0m \u001b[1;33m=\u001b[0m \u001b[0mself\u001b[0m\u001b[1;33m.\u001b[0m\u001b[0mknown\u001b[0m\u001b[1;33m(\u001b[0m\u001b[1;33m[\u001b[0m\u001b[0mx\u001b[0m \u001b[1;32mfor\u001b[0m \u001b[0mx\u001b[0m \u001b[1;32min\u001b[0m \u001b[0mself\u001b[0m\u001b[1;33m.\u001b[0m\u001b[0m__edit_distance_alt\u001b[0m\u001b[1;33m(\u001b[0m\u001b[0mres\u001b[0m\u001b[1;33m)\u001b[0m\u001b[1;33m]\u001b[0m\u001b[1;33m)\u001b[0m\u001b[1;33m\u001b[0m\u001b[1;33m\u001b[0m\u001b[0m\n\u001b[0m\u001b[0;32m    174\u001b[0m             \u001b[1;32mif\u001b[0m \u001b[0mtmp\u001b[0m\u001b[1;33m:\u001b[0m\u001b[1;33m\u001b[0m\u001b[1;33m\u001b[0m\u001b[0m\n\u001b[0;32m    175\u001b[0m                 \u001b[1;32mreturn\u001b[0m \u001b[0mtmp\u001b[0m\u001b[1;33m\u001b[0m\u001b[1;33m\u001b[0m\u001b[0m\n",
      "\u001b[1;32m~\\anaconda3\\lib\\site-packages\\spellchecker\\spellchecker.py\u001b[0m in \u001b[0;36m__edit_distance_alt\u001b[1;34m(self, words)\u001b[0m\n\u001b[0;32m    260\u001b[0m             \u001b[1;32mif\u001b[0m \u001b[0mself\u001b[0m\u001b[1;33m.\u001b[0m\u001b[0m_check_if_should_check\u001b[0m\u001b[1;33m(\u001b[0m\u001b[0mw\u001b[0m\u001b[1;33m)\u001b[0m\u001b[1;33m\u001b[0m\u001b[1;33m\u001b[0m\u001b[0m\n\u001b[0;32m    261\u001b[0m         ]\n\u001b[1;32m--> 262\u001b[1;33m         \u001b[1;32mreturn\u001b[0m \u001b[1;33m[\u001b[0m\u001b[0me2\u001b[0m \u001b[1;32mfor\u001b[0m \u001b[0me1\u001b[0m \u001b[1;32min\u001b[0m \u001b[0mtmp\u001b[0m \u001b[1;32mfor\u001b[0m \u001b[0me2\u001b[0m \u001b[1;32min\u001b[0m \u001b[0mself\u001b[0m\u001b[1;33m.\u001b[0m\u001b[0mknown\u001b[0m\u001b[1;33m(\u001b[0m\u001b[0mself\u001b[0m\u001b[1;33m.\u001b[0m\u001b[0medit_distance_1\u001b[0m\u001b[1;33m(\u001b[0m\u001b[0me1\u001b[0m\u001b[1;33m)\u001b[0m\u001b[1;33m)\u001b[0m\u001b[1;33m]\u001b[0m\u001b[1;33m\u001b[0m\u001b[1;33m\u001b[0m\u001b[0m\n\u001b[0m\u001b[0;32m    263\u001b[0m \u001b[1;33m\u001b[0m\u001b[0m\n\u001b[0;32m    264\u001b[0m     \u001b[1;32mdef\u001b[0m \u001b[0m_check_if_should_check\u001b[0m\u001b[1;33m(\u001b[0m\u001b[0mself\u001b[0m\u001b[1;33m,\u001b[0m \u001b[0mword\u001b[0m\u001b[1;33m)\u001b[0m\u001b[1;33m:\u001b[0m\u001b[1;33m\u001b[0m\u001b[1;33m\u001b[0m\u001b[0m\n",
      "\u001b[1;32m~\\anaconda3\\lib\\site-packages\\spellchecker\\spellchecker.py\u001b[0m in \u001b[0;36m<listcomp>\u001b[1;34m(.0)\u001b[0m\n\u001b[0;32m    260\u001b[0m             \u001b[1;32mif\u001b[0m \u001b[0mself\u001b[0m\u001b[1;33m.\u001b[0m\u001b[0m_check_if_should_check\u001b[0m\u001b[1;33m(\u001b[0m\u001b[0mw\u001b[0m\u001b[1;33m)\u001b[0m\u001b[1;33m\u001b[0m\u001b[1;33m\u001b[0m\u001b[0m\n\u001b[0;32m    261\u001b[0m         ]\n\u001b[1;32m--> 262\u001b[1;33m         \u001b[1;32mreturn\u001b[0m \u001b[1;33m[\u001b[0m\u001b[0me2\u001b[0m \u001b[1;32mfor\u001b[0m \u001b[0me1\u001b[0m \u001b[1;32min\u001b[0m \u001b[0mtmp\u001b[0m \u001b[1;32mfor\u001b[0m \u001b[0me2\u001b[0m \u001b[1;32min\u001b[0m \u001b[0mself\u001b[0m\u001b[1;33m.\u001b[0m\u001b[0mknown\u001b[0m\u001b[1;33m(\u001b[0m\u001b[0mself\u001b[0m\u001b[1;33m.\u001b[0m\u001b[0medit_distance_1\u001b[0m\u001b[1;33m(\u001b[0m\u001b[0me1\u001b[0m\u001b[1;33m)\u001b[0m\u001b[1;33m)\u001b[0m\u001b[1;33m]\u001b[0m\u001b[1;33m\u001b[0m\u001b[1;33m\u001b[0m\u001b[0m\n\u001b[0m\u001b[0;32m    263\u001b[0m \u001b[1;33m\u001b[0m\u001b[0m\n\u001b[0;32m    264\u001b[0m     \u001b[1;32mdef\u001b[0m \u001b[0m_check_if_should_check\u001b[0m\u001b[1;33m(\u001b[0m\u001b[0mself\u001b[0m\u001b[1;33m,\u001b[0m \u001b[0mword\u001b[0m\u001b[1;33m)\u001b[0m\u001b[1;33m:\u001b[0m\u001b[1;33m\u001b[0m\u001b[1;33m\u001b[0m\u001b[0m\n",
      "\u001b[1;32m~\\anaconda3\\lib\\site-packages\\spellchecker\\spellchecker.py\u001b[0m in \u001b[0;36mknown\u001b[1;34m(self, words)\u001b[0m\n\u001b[0;32m    187\u001b[0m         \u001b[0mwords\u001b[0m \u001b[1;33m=\u001b[0m \u001b[1;33m[\u001b[0m\u001b[0mENSURE_UNICODE\u001b[0m\u001b[1;33m(\u001b[0m\u001b[0mw\u001b[0m\u001b[1;33m)\u001b[0m \u001b[1;32mfor\u001b[0m \u001b[0mw\u001b[0m \u001b[1;32min\u001b[0m \u001b[0mwords\u001b[0m\u001b[1;33m]\u001b[0m\u001b[1;33m\u001b[0m\u001b[1;33m\u001b[0m\u001b[0m\n\u001b[0;32m    188\u001b[0m         \u001b[0mtmp\u001b[0m \u001b[1;33m=\u001b[0m \u001b[1;33m[\u001b[0m\u001b[0mw\u001b[0m \u001b[1;32mif\u001b[0m \u001b[0mself\u001b[0m\u001b[1;33m.\u001b[0m\u001b[0m_case_sensitive\u001b[0m \u001b[1;32melse\u001b[0m \u001b[0mw\u001b[0m\u001b[1;33m.\u001b[0m\u001b[0mlower\u001b[0m\u001b[1;33m(\u001b[0m\u001b[1;33m)\u001b[0m \u001b[1;32mfor\u001b[0m \u001b[0mw\u001b[0m \u001b[1;32min\u001b[0m \u001b[0mwords\u001b[0m\u001b[1;33m]\u001b[0m\u001b[1;33m\u001b[0m\u001b[1;33m\u001b[0m\u001b[0m\n\u001b[1;32m--> 189\u001b[1;33m         return set(\n\u001b[0m\u001b[0;32m    190\u001b[0m             \u001b[0mw\u001b[0m\u001b[1;33m\u001b[0m\u001b[1;33m\u001b[0m\u001b[0m\n\u001b[0;32m    191\u001b[0m             \u001b[1;32mfor\u001b[0m \u001b[0mw\u001b[0m \u001b[1;32min\u001b[0m \u001b[0mtmp\u001b[0m\u001b[1;33m\u001b[0m\u001b[1;33m\u001b[0m\u001b[0m\n",
      "\u001b[1;32m~\\anaconda3\\lib\\site-packages\\spellchecker\\spellchecker.py\u001b[0m in \u001b[0;36m<genexpr>\u001b[1;34m(.0)\u001b[0m\n\u001b[0;32m    190\u001b[0m             \u001b[0mw\u001b[0m\u001b[1;33m\u001b[0m\u001b[1;33m\u001b[0m\u001b[0m\n\u001b[0;32m    191\u001b[0m             \u001b[1;32mfor\u001b[0m \u001b[0mw\u001b[0m \u001b[1;32min\u001b[0m \u001b[0mtmp\u001b[0m\u001b[1;33m\u001b[0m\u001b[1;33m\u001b[0m\u001b[0m\n\u001b[1;32m--> 192\u001b[1;33m             \u001b[1;32mif\u001b[0m \u001b[0mw\u001b[0m \u001b[1;32min\u001b[0m \u001b[0mself\u001b[0m\u001b[1;33m.\u001b[0m\u001b[0m_word_frequency\u001b[0m\u001b[1;33m.\u001b[0m\u001b[0mdictionary\u001b[0m\u001b[1;33m\u001b[0m\u001b[1;33m\u001b[0m\u001b[0m\n\u001b[0m\u001b[0;32m    193\u001b[0m             \u001b[1;32mand\u001b[0m \u001b[0mself\u001b[0m\u001b[1;33m.\u001b[0m\u001b[0m_check_if_should_check\u001b[0m\u001b[1;33m(\u001b[0m\u001b[0mw\u001b[0m\u001b[1;33m)\u001b[0m\u001b[1;33m\u001b[0m\u001b[1;33m\u001b[0m\u001b[0m\n\u001b[0;32m    194\u001b[0m         )\n",
      "\u001b[1;31mKeyboardInterrupt\u001b[0m: "
     ]
    }
   ],
   "source": [
    "%%time\n",
    "pipe_7 = Pipeline(steps = [\n",
    "    (\"tran\", tran),\n",
    "    (\"modelo_7\", modelo_xgb)\n",
    "])\n",
    "modelo7 = pipe_7.fit(X_train, y_train)\n",
    "\n",
    "#serialización\n",
    "pickle.dump(modelo7, open(\"modelo7_xgb.sav\",\"wb\"))\n",
    "pickle.dump(modelo7, open(\"modelo7_xgb.pkl\",\"wb\"))"
   ]
  },
  {
   "cell_type": "code",
   "execution_count": 83,
   "metadata": {},
   "outputs": [
    {
     "ename": "FileNotFoundError",
     "evalue": "[Errno 2] No such file or directory: 'modelo7_xgb.sav'",
     "output_type": "error",
     "traceback": [
      "\u001b[1;31m---------------------------------------------------------------------------\u001b[0m",
      "\u001b[1;31mFileNotFoundError\u001b[0m                         Traceback (most recent call last)",
      "\u001b[1;32m<ipython-input-83-cc8b76e27680>\u001b[0m in \u001b[0;36m<module>\u001b[1;34m\u001b[0m\n\u001b[1;32m----> 1\u001b[1;33m \u001b[0mprediccion_reporte_modelo\u001b[0m\u001b[1;33m(\u001b[0m\u001b[1;34m\"modelo7_xgb.sav\"\u001b[0m\u001b[1;33m,\u001b[0m \u001b[0mX_train\u001b[0m\u001b[1;33m,\u001b[0m \u001b[0mX_test\u001b[0m\u001b[1;33m,\u001b[0m \u001b[0my_test\u001b[0m\u001b[1;33m)\u001b[0m\u001b[1;33m\u001b[0m\u001b[1;33m\u001b[0m\u001b[0m\n\u001b[0m",
      "\u001b[1;32m<ipython-input-69-202c2c8b4585>\u001b[0m in \u001b[0;36mprediccion_reporte_modelo\u001b[1;34m(nombre_modelo, X_train, X_test, y_test)\u001b[0m\n\u001b[0;32m      1\u001b[0m \u001b[1;32mdef\u001b[0m \u001b[0mprediccion_reporte_modelo\u001b[0m\u001b[1;33m(\u001b[0m\u001b[0mnombre_modelo\u001b[0m\u001b[1;33m,\u001b[0m \u001b[0mX_train\u001b[0m\u001b[1;33m,\u001b[0m \u001b[0mX_test\u001b[0m\u001b[1;33m,\u001b[0m \u001b[0my_test\u001b[0m\u001b[1;33m)\u001b[0m\u001b[1;33m:\u001b[0m\u001b[1;33m\u001b[0m\u001b[1;33m\u001b[0m\u001b[0m\n\u001b[0;32m      2\u001b[0m     \u001b[1;31m# Carga del modelo con pickle\u001b[0m\u001b[1;33m\u001b[0m\u001b[1;33m\u001b[0m\u001b[1;33m\u001b[0m\u001b[0m\n\u001b[1;32m----> 3\u001b[1;33m     \u001b[0mmodelo_tmp\u001b[0m \u001b[1;33m=\u001b[0m \u001b[0mpickle\u001b[0m\u001b[1;33m.\u001b[0m\u001b[0mload\u001b[0m\u001b[1;33m(\u001b[0m\u001b[0mopen\u001b[0m\u001b[1;33m(\u001b[0m\u001b[0mnombre_modelo\u001b[0m\u001b[1;33m,\u001b[0m\u001b[1;34m\"rb\"\u001b[0m\u001b[1;33m)\u001b[0m\u001b[1;33m)\u001b[0m\u001b[1;33m\u001b[0m\u001b[1;33m\u001b[0m\u001b[0m\n\u001b[0m\u001b[0;32m      4\u001b[0m \u001b[1;33m\u001b[0m\u001b[0m\n\u001b[0;32m      5\u001b[0m     \u001b[1;31m# Predicciones para modelo\u001b[0m\u001b[1;33m\u001b[0m\u001b[1;33m\u001b[0m\u001b[1;33m\u001b[0m\u001b[0m\n",
      "\u001b[1;31mFileNotFoundError\u001b[0m: [Errno 2] No such file or directory: 'modelo7_xgb.sav'"
     ]
    }
   ],
   "source": [
    "prediccion_reporte_modelo(\"modelo7_xgb.sav\", X_train, X_test, y_test)"
   ]
  },
  {
   "cell_type": "markdown",
   "metadata": {},
   "source": [
    "El modelo implementado con XGBoosting presenta las mejores métrica de F1 en test set, tanto para macro average como para weighted average. Tampoco se visualiza sobreajuste."
   ]
  },
  {
   "cell_type": "code",
   "execution_count": null,
   "metadata": {},
   "outputs": [],
   "source": [
    "modelo_cbc = CatBoostingClassifier()"
   ]
  },
  {
   "cell_type": "code",
   "execution_count": null,
   "metadata": {},
   "outputs": [],
   "source": [
    "%%time\n",
    "pipe_8 = Pipeline(steps = [\n",
    "    (\"tran\", tran),\n",
    "    (\"modelo_8\", modelo_cbc)\n",
    "])\n",
    "modelo8 = pipe_8.fit(X_train, y_train)\n",
    "\n",
    "#serialización\n",
    "pickle.dump(modelo8, open(\"modelo8_cbc.sav\",\"wb\"))\n",
    "pickle.dump(modelo8, open(\"modelo8_cbc.pkl\",\"wb\"))"
   ]
  },
  {
   "cell_type": "code",
   "execution_count": null,
   "metadata": {},
   "outputs": [],
   "source": [
    "prediccion_reporte_modelo(\"modelo8_cbc.sav\", X_train, X_test, y_test)"
   ]
  },
  {
   "cell_type": "markdown",
   "metadata": {},
   "source": [
    "**De los modelos implementados y en base a métrica F1 weighted, se seleccionan los mejores dos modelos, correspondientes a GradientBoosting y XGBoosting.**"
   ]
  },
  {
   "cell_type": "markdown",
   "metadata": {},
   "source": [
    "### Modelamiento General -  Modelos implementados con GridSearch"
   ]
  },
  {
   "cell_type": "markdown",
   "metadata": {},
   "source": [
    "### a. GradientBoostingClassifier"
   ]
  },
  {
   "cell_type": "markdown",
   "metadata": {},
   "source": [
    "```python\n",
    "pipe6 = Pipeline(steps=[\n",
    "    (\"tran\", tran),\n",
    "    ('modelo_6', modelo_gbc)])\n",
    "```"
   ]
  },
  {
   "cell_type": "markdown",
   "metadata": {},
   "source": [
    "```python\n",
    "parametros_gbc = {\"modelo_6__learning_rate\": [0.01, 0.1],\n",
    "                  \"modelo_6__n_estimators\" : [100, 500],\n",
    "                  \"modelo_6__subsample\": [0.1,0.5]}\n",
    "```"
   ]
  },
  {
   "cell_type": "markdown",
   "metadata": {},
   "source": [
    "```python\n",
    "%%time\n",
    "search_gbc = GridSearchCV(pipe6, parametros_gbc, cv =2,n_jobs=-1).fit(X_train, y_train)\n",
    "best_model_gbc = search_gbc.best_estimator_\n",
    "\n",
    "pickle.dump(best_model_gbc, open(\"modelo_gbc_01.sav\",\"wb\"))\n",
    "```"
   ]
  },
  {
   "cell_type": "markdown",
   "metadata": {},
   "source": [
    "```python\n",
    "search_gbc.best_params_\n",
    "```"
   ]
  },
  {
   "cell_type": "markdown",
   "metadata": {},
   "source": [
    "```python\n",
    "# Carga del modelo con pickle\n",
    "modelo_gbc_01 = pickle.load(open(\"modelo_gbc_01.sav\",\"rb\"))\n",
    "\n",
    "#predicción\n",
    "y_pred_gbc = modelo_gbc_01.predict(X_test)\n",
    "y_pred_train_gbc = modelo_gbc_01.predict(X_train)\n",
    "```"
   ]
  },
  {
   "cell_type": "markdown",
   "metadata": {},
   "source": [
    "```python\n",
    "report(y_train,y_pred_train_gbc,y_test,y_pred_gbc)\n",
    "```"
   ]
  },
  {
   "cell_type": "markdown",
   "metadata": {},
   "source": [
    "Para la grilla de hiperparámetros definida, el modelo GradientBoosting Classifier, presenta un menor desempeño que el modelo de base. Resta modificar el set de hiperparámetros a fin de buscar un mejor desempeño.\n"
   ]
  },
  {
   "cell_type": "markdown",
   "metadata": {},
   "source": [
    "#### Matriz de confusión"
   ]
  },
  {
   "cell_type": "markdown",
   "metadata": {},
   "source": [
    "```python\n",
    "# Nombre de las clases.\n",
    "class_names = ['1','2','3','4','5']\n",
    "```"
   ]
  },
  {
   "cell_type": "markdown",
   "metadata": {},
   "source": [
    "```python\n",
    "# Gráfico para GradientBoosting\n",
    "disp = plot_confusion_matrix(modelo_2, X_test, y_test, display_labels=class_names, cmap=plt.cm.Blues)\n",
    "plt.show()\n",
    "```"
   ]
  },
  {
   "cell_type": "markdown",
   "metadata": {},
   "source": [
    "### g. XGBoost Classifier"
   ]
  },
  {
   "cell_type": "markdown",
   "metadata": {},
   "source": [
    "```python\n",
    "pipe7 = Pipeline(steps=[\n",
    "    (\"tran\", tran),\n",
    "    ('modelo_7', modelo_xgb)])\n",
    "```"
   ]
  },
  {
   "cell_type": "markdown",
   "metadata": {},
   "source": [
    "```python\n",
    "parametros_xgb = {\"modelo_7__learning_rate\": [0.01, 0.1],\n",
    "                  \"modelo_7__n_estimators\" : [100, 500],\n",
    "                  \"modelo_7__subsample\": [0.1,0.5]}\n",
    "```"
   ]
  },
  {
   "cell_type": "markdown",
   "metadata": {},
   "source": [
    "```python\n",
    "%%time\n",
    "search_xgb = GridSearchCV(pipe7, parametros_gbc, cv =2,n_jobs=-1).fit(X_train, y_train)\n",
    "best_model_xgb = search_xgb.best_estimator_\n",
    "\n",
    "pickle.dump(best_model_xgb, open(\"modelo_xgb_01.sav\",\"wb\"))\n",
    "```"
   ]
  },
  {
   "cell_type": "markdown",
   "metadata": {},
   "source": [
    "```python\n",
    "search_xgb.best_params_\n",
    "```"
   ]
  },
  {
   "cell_type": "markdown",
   "metadata": {},
   "source": [
    "```python\n",
    "# Carga del modelo con pickle\n",
    "modelo_xgb_01 = pickle.load(open(\"modelo_xgb_01.sav\",\"rb\"))\n",
    "\n",
    "#predicción\n",
    "y_pred_xgb = modelo_xgb_01.predict(X_test)\n",
    "y_pred_train_xgb = modelo_xgb_01.predict(X_train)\n",
    "```"
   ]
  },
  {
   "cell_type": "markdown",
   "metadata": {},
   "source": [
    "```python\n",
    "report(y_train,y_pred_train_xgb,y_test,y_pred_xgb)\n",
    "```"
   ]
  },
  {
   "cell_type": "markdown",
   "metadata": {},
   "source": [
    "Al igual que lo ocurrido con el modelo anterior, XGBoosting presenta un menor desempeño que el modelo de base para la grill de parámetros definida. Se indagará en un nuevo set para buscar un mejor desempeño."
   ]
  },
  {
   "cell_type": "markdown",
   "metadata": {},
   "source": [
    "#### Matriz de confusión"
   ]
  },
  {
   "cell_type": "markdown",
   "metadata": {},
   "source": [
    "```python\n",
    "# Gráfico para GradientBoosting\n",
    "disp = plot_confusion_matrix(modelo_2, X_test, y_test, display_labels=class_names, cmap=plt.cm.Blues)\n",
    "plt.show()\n",
    "```"
   ]
  },
  {
   "cell_type": "markdown",
   "metadata": {},
   "source": [
    "<H1 align=\"center\"> <div class=\"alert alert-block alert-info\"><b></b> Validación de Datos </div></H1>"
   ]
  },
  {
   "cell_type": "markdown",
   "metadata": {},
   "source": [
    "# Validación de datos Linio"
   ]
  },
  {
   "cell_type": "code",
   "execution_count": null,
   "metadata": {},
   "outputs": [],
   "source": [
    "df_linio_validacion = df_linio_preproc.sort_values('comentario')\n",
    "df_linio_validacion.iloc[[950,1400,1800,3000,4500]]"
   ]
  },
  {
   "cell_type": "markdown",
   "metadata": {},
   "source": [
    "### Links de de validación Linio\n",
    "\n",
    "**SU206BK1D8P5SLACL** https://www.linio.cl/p/barrio-bravo-mundial-lgiki2\n",
    "\n",
    "**VE172HB05IUTSLACL** https://www.linio.cl/p/versace-pour-femme-dylan-blue-100ml-edp-para-mujer-ykn5uk\n",
    "\n",
    "**HO547HL0RW2F4LACL** https://www.linio.cl/p/jarra-purificadora-de-agua-gran-green-brita-2400ml-vdveny\n",
    "\n",
    "**WO626HL194LLYLACL** https://www.linio.cl/p/metro-carpintero-plegable-de-madera-wolfcraft-n27a2n\n",
    "\n",
    "**GI153HB08QLBLACL**  https://www.linio.cl/p/ange-ou-demon-givenchy-edp-para-mujer-100-ml-wxd7as\n",
    "\n",
    "<img src=\"validación_linio.jpg\" width=800 height=800 align= center >"
   ]
  },
  {
   "cell_type": "markdown",
   "metadata": {},
   "source": [
    "# Validación de datos Paris"
   ]
  },
  {
   "cell_type": "code",
   "execution_count": null,
   "metadata": {},
   "outputs": [],
   "source": [
    "df_paris_validacion= df_paris_preproc.sort_values('comentario')\n",
    "df_paris_validacion.iloc[[3,100,200,349,687]]"
   ]
  },
  {
   "cell_type": "markdown",
   "metadata": {},
   "source": [
    "### Links de de validación Paris\n",
    "\n",
    "**919329999** https://www.paris.cl/lavadora-mabe-superior-9.5-kilos-lma0920wbcl0-919329999.html\n",
    "\n",
    "**510046999** https://www.paris.cl/aspiradora-ursus-trotter-silent1603-510046999.html\n",
    "\n",
    "**177422999** https://www.paris.cl/qled-samsung-50-q60t-4k-uhd-smart-tv-177422999.html\n",
    "\n",
    "**949616999** https://www.paris.cl/soundbar-sony-c-la9-ht-s100f-949616999.html\n",
    "\n",
    "**510660999** https://www.paris.cl/batidora-planetaria-ursus-trotter-klein700-510660999.html\n",
    "\n",
    "<img src=\"validacion_paris.jpg\" width=800 height=800 align= center >"
   ]
  },
  {
   "cell_type": "markdown",
   "metadata": {},
   "source": [
    "# Validación de datos Ripley"
   ]
  },
  {
   "cell_type": "code",
   "execution_count": null,
   "metadata": {},
   "outputs": [],
   "source": [
    "df_ripley_validacion= df_ripley_preproc.sort_index()   #values('producto',na_position='first')\n",
    "df_ripley_validacion.iloc[[99000,98000,85000,80000,70000]]"
   ]
  },
  {
   "cell_type": "markdown",
   "metadata": {},
   "source": [
    "### Links de de validación Ripley\n",
    "\n",
    "**2000379769834**  https://simple.ripley.cl/tabla-vidrio-verduras-paper-home-mpm00000186905?s=o\n",
    "\n",
    "**MPM00007741758** https://simple.ripley.cl/mug-410cc-san-bernardo-mpm00002322150?s=o\n",
    "\n",
    "**2000377220986P** https://simple.ripley.cl/go-baby-go-caracol-musical-mpm00005535534?s=o\n",
    "\n",
    "**2000379428137P** https://simple.ripley.cl/cartera-mochila-maternal-bumpy-cafe-head-mpm00011482558?color_80=cafe&s=o\n",
    "\n",
    "**MPM00002006138** https://simple.ripley.cl/accesorios-de-brazo-y-munequera-poy-rosa-pequeno-mpm00008062410?s=o\n",
    "\n",
    "\n",
    "<img src=\"validacion_ripley.jpg\" width=800 height=800 align= center >"
   ]
  },
  {
   "cell_type": "markdown",
   "metadata": {},
   "source": [
    "### Comentarios de validación de los retail.\n",
    "Como se puede apreciar la información de cada campo de los reatil es consistente con sus datos y los mismos pudieron ser verificados en el sitio web de origen donde además se incluyó una imagen del proceso de validación en caso de que el link dejara de funcionar debido a la falta de stock del mismo o eliminación de alguno de los productos."
   ]
  }
 ],
 "metadata": {
  "kernelspec": {
   "display_name": "Python 3",
   "language": "python",
   "name": "python3"
  }
 },
 "nbformat": 4,
 "nbformat_minor": 4
}
