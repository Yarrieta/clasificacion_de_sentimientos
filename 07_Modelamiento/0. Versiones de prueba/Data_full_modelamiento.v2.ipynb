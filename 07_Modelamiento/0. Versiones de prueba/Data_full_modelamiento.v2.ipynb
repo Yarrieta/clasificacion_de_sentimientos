{
 "cells": [
  {
   "cell_type": "markdown",
   "metadata": {},
   "source": [
    "<H1 align=\"center\"> <div class=\"alert alert-block alert-info\"><b></b>Etapa de modelamiento</div></H1>"
   ]
  },
  {
   "cell_type": "markdown",
   "metadata": {},
   "source": [
    "**Nota: Dejé al inicio las librerías para que sea más fácil el incorporar al notebook principal aquellas que faltan, y también las funciones que se deben traspasar al archivo auxiliar.**"
   ]
  },
  {
   "cell_type": "markdown",
   "metadata": {},
   "source": [
    "**Librerías**"
   ]
  },
  {
   "cell_type": "code",
   "execution_count": 19,
   "metadata": {},
   "outputs": [],
   "source": [
    "# Uso general y exploracion de data\n",
    "import pandas as pd\n",
    "import numpy as np\n",
    "import csv\n",
    "import missingno as msno\n",
    "import io\n",
    "import matplotlib.pyplot as plt\n",
    "\n",
    "# Procesamiento de Texto\n",
    "from spellchecker import SpellChecker\n",
    "spell = SpellChecker(language='es')\n",
    "from sklearn.feature_extraction.text import CountVectorizer\n",
    "import spacy\n",
    "nlp = spacy.load('es_core_news_sm', disable=[\"tagger\", \"parser\"])\n",
    "from nltk.corpus import stopwords\n",
    "from nltk.stem.snowball import SnowballStemmer\n",
    "stemmer = SnowballStemmer('spanish')\n",
    "from string import punctuation\n",
    "import re\n",
    "\n",
    "# funciones auxiliares\n",
    "import h2_funciones_auxiliares as fx\n",
    "\n",
    "from wordcloud import WordCloud\n",
    "from nltk.stem import WordNetLemmatizer\n",
    "lemmatizer = WordNetLemmatizer()\n",
    "\n",
    "# Para implementar modelos de machine learning.\n",
    "from sklearn.svm import SVC, LinearSVC\n",
    "from sklearn.naive_bayes import MultinomialNB\n",
    "from sklearn.tree import DecisionTreeClassifier, plot_tree, export_graphviz\n",
    "from sklearn.ensemble import RandomForestClassifier, AdaBoostClassifier, GradientBoostingClassifier\n",
    "from sklearn.metrics import plot_confusion_matrix\n",
    "from sklearn.metrics import confusion_matrix\n",
    "from xgboost import XGBClassifier\n",
    "\n",
    "from sklearn.model_selection import train_test_split, GridSearchCV\n",
    "from sklearn.preprocessing import StandardScaler, PowerTransformer\n",
    "from sklearn.pipeline import Pipeline\n",
    "from sklearn.compose import ColumnTransformer\n",
    "from sklearn.impute import SimpleImputer\n",
    "from sklearn.metrics import classification_report, roc_curve\n",
    "from sklearn import set_config\n",
    "set_config(display = 'diagram')\n",
    "\n",
    "# Para recodificación de atributos\n",
    "from category_encoders import TargetEncoder, OrdinalEncoder, OneHotEncoder\n",
    "\n",
    "from datetime import datetime\n",
    "\n",
    "# Para visualización\n",
    "import graphviz\n",
    "\n",
    "# Para serialización\n",
    "import pickle\n",
    "\n",
    "# Para evitar mensajes de deprecación\n",
    "import warnings \n",
    "warnings.filterwarnings(\"ignore\")"
   ]
  },
  {
   "cell_type": "markdown",
   "metadata": {},
   "source": [
    "#### Función para obtener classification report en train y test set."
   ]
  },
  {
   "cell_type": "code",
   "execution_count": 2,
   "metadata": {},
   "outputs": [],
   "source": [
    "# FUNCIÓN PARA OBTENER CLASSIFICATION REPORT:\n",
    "def report(y_train, y_pred_train, y_test, y_pred):\n",
    "    print(\"Classification report - TRAIN SET\")\n",
    "    print(classification_report(y_train, y_pred_train))\n",
    "    print(\"\\nClassification report - TEST SET\")\n",
    "    print(classification_report(y_test, y_pred))\n",
    "\n",
    "# FUNCIÓN PARA CLASSIFICATION REPORT - SÓLO TEST SET\n",
    "def test_classification_report(nombre_modelo, y_test, y_hat):\n",
    "    print(\"\\nTEST SET - Classification report - {}\".format(nombre_modelo.upper()) )\n",
    "    print(classification_report(y_test, y_hat))"
   ]
  },
  {
   "cell_type": "markdown",
   "metadata": {},
   "source": [
    "#### Función para depurar dataframe, previo al modelamiento."
   ]
  },
  {
   "cell_type": "code",
   "execution_count": 3,
   "metadata": {},
   "outputs": [],
   "source": [
    "def dataset_year_filter(dataframe,year):\n",
    "    \"\"\"\n",
    "    dataset_year_filter - Permite depurar el data set - con 9 columnas - en función del año requerido. \n",
    "\n",
    "    @parámetros:\n",
    "        - dataframe: Parámetro obligatorio. Set de datos por analizar, correspondiente al tipo pandas.core.frame.DataFrame.\n",
    "        - year: Parámetro obligatorio. Año por el cual se busca realizar el filtro de observaciones en el dataset. \n",
    "\n",
    "    @salida:\n",
    "        - Dataframe depurado.\n",
    "    \"\"\"\n",
    "    \n",
    "    if len(dataframe.columns) == 9:\n",
    "        \n",
    "        # Eliminación de columnas que no serán requeridas para generar el dataset depurado\n",
    "        dataframe_tmp = dataframe.drop(columns = ['retail','codigo','producto'])\n",
    "        \n",
    "        if year == 2020:\n",
    "            # Filtro por año\n",
    "            dataframe_tmp = dataframe_tmp[dataframe_tmp['año'] == 2020]\n",
    "            \n",
    "        if year == 2021:\n",
    "            dataframe_tmp = dataframe_tmp[dataframe_tmp['año'] == 2021]\n",
    "        \n",
    "        # Eliminación de columna año y mes\n",
    "        dataframe_tmp = dataframe_tmp.drop(columns = ['año','mes'])\n",
    "        \n",
    "        # Reseteo del índice del dataframe\n",
    "        dataframe_tmp = dataframe_tmp.reset_index().drop(columns=\"index\")\n",
    "        \n",
    "        return dataframe_tmp"
   ]
  },
  {
   "cell_type": "code",
   "execution_count": 4,
   "metadata": {},
   "outputs": [],
   "source": [
    "def entrenamiento_modelo_base(modelo, X_train, y_train, nombre_modelo):\n",
    "    \"\"\"\n",
    "    entrenamiento_modelo_base - Permite entrenar un modelo base sin modificación de hiperparámetros, obteniendo su serialización.\n",
    "\n",
    "    @parámetros:\n",
    "        - modelo: Parámetro obligatorio. Modelo a implementar, previamente instanciado. \n",
    "        - X_train: Parámetro obligatorio. Matriz de atributos de entrenamiento.\n",
    "        - y_train:Parámetro obligatorio. Vector objetivo de entrenamiento.\n",
    "        - nombre_modelo: Parámetro obligatorio. Nombre que se asignará al modelo, para identificación. \n",
    "    @salida:\n",
    "        - Modelo serializado.\n",
    "    \"\"\"\n",
    "    pipe = Pipeline(steps = [\n",
    "    (\"tran\", tran),\n",
    "    (\"modelo\", modelo)])\n",
    "    \n",
    "    modelo_tmp = pipe.fit(X_train, y_train)\n",
    "    \n",
    "    return modelo_tmp, pickle.dump(modelo_tmp, open(nombre_modelo,\"wb\"))"
   ]
  },
  {
   "cell_type": "code",
   "execution_count": 24,
   "metadata": {},
   "outputs": [],
   "source": [
    "def prediccion_reporte_modelo(nombre_modelo, X_train, X_test, y_test):\n",
    "    \"\"\"\n",
    "    prediccion_modelo - Permite realizar las predicciones en base a un modelo previamente serializado, \n",
    "    y obtener métricas de desempeño asociadas, tanto para el Train Set como para Test Set. \n",
    "\n",
    "    @parámetros:\n",
    "    - nombre_modelo: Parámetro obligatorio. Nombre de identificación del modelo serializado.\n",
    "    - X_train: Parámetro obligatorio. Matriz de atributos de entrenamiento.\n",
    "    - X_test: Parámetro obligatorio. Matriz de atributos para predicciones.\n",
    "    - y_test:Parámetro obligatorio. Vector objetivo de testeo.\n",
    "        \n",
    "    @salida:\n",
    "        - Reporte de las métricas obtenidas.\n",
    "    \"\"\"\n",
    "    \n",
    "    # Carga del modelo con pickle\n",
    "    modelo_tmp = pickle.load(open(nombre_modelo,\"rb\"))\n",
    "\n",
    "    # Predicciones para modelo \n",
    "    y_pred_train = modelo_tmp.predict(X_train)\n",
    "    y_pred = modelo_tmp.predict(X_test)\n",
    "    \n",
    "    return report(y_train, y_pred_train, y_test, y_pred)"
   ]
  },
  {
   "cell_type": "markdown",
   "metadata": {},
   "source": [
    "## 9.1. Criterios considerados para el modelamiento\n",
    "El proceso de modelamiento realizado a la fecha considera los siguientes criterios:\n",
    "- Data set y división de muestras:  Para realizar el proceso de **entrenamiento y testing** se utilizará la data correspondiente al **año 2020**, implementando en ella la división de la muestra por medio de train_test_split, preservando un **60% para train y un 40% para test**. Por otra parte, la data perteneciente al **año 2021** se empleará en su totalidad para el proceso de **validación**.\n",
    "\n",
    "\n",
    "- En vista de los datos requeridos para 'sentitruster', se define que la **matriz de atributos** contenga las siguientes variables: **'categoria', 'precio_internet' y 'comentario'**, mientras que el **vector objetivo**, como se mencionó anteriormente, es **'rating'**.\n",
    "\n",
    "\n",
    "- Se implementará un **Pipeline**, en el cual se aplicará **OneHotEncoder** a la variable **'categoria'**, generándose una columna por cada categoría presente en el data set; asimismo la variable **'comentario'** pasará por el proceso asociado a la aplicación de **CountVectorizer**.\n",
    "\n",
    "\n",
    "- Con miras a realizar un análisis apropiado y obtener los mejores resultados, el proceso de modelamiento se dividirá en las siguientes sub-etapas:\n",
    "\n",
    "    1. Modelamiento sobre **data general**: \n",
    "    \n",
    "        - En primera instancia se implementarán **7 modelos sin modificación alguna de sus hiperparámetros** sobre la **data en general**, es decir, **sin segmentar por categoría**. Éstos constituirán los **modelos base**, a fin de definir aquellos con mejor desempeño y para establecer una posterior **comparación** con aquellos modelos en los que sí se aplicará una **modificación** de hiperparámetros. Para la evaluación se considerará si hubo sobreajuste sobre el train set, y para el test set se analizará la capacidad predictiva de las clases y el desempeño general en base a la métrica F1 macro avg y F1 weighted avg.\n",
    "        \n",
    "        - En segundo lugar, se procederá con la implementación de los **2 modelos con mejores resultados** del paso anterior,  **modificando sus hiperparámetros** en función de una **grilla** específica para cada uno, mediante **GridSearch**. Y también se generará y revisará la **matriz de confusión**. \n",
    "        \n",
    "        - De acuerdo a los resultados obtenidos del paso anterior se aplicará, en ellos (uno o ambos) el método **SMOTE oversampling** para abordar el **desbalanceo de clases**, del cual se escogerá el **mejor modelo**. \n",
    "        \n",
    "    2. Modelamiento sobre **data segmentada**: \n",
    "    \n",
    "        - Se aplicarán los pasos descritos con anterioridad, pero a partir de los **2 modelos** identificados con mejor desempeño del punto anterior. La **segmentación** se realizará en base a **categorías de producto**, agrupando aquellas que respondan a **características de población y distribución similar**, analizando si de aquella forma es posible mejorar la **capacidad predictiva** de los modelos."
   ]
  },
  {
   "cell_type": "markdown",
   "metadata": {},
   "source": [
    "<H4 align=\"center\"> <div class=\"alert alert-block alert-info\"><b></b>Revisar si los pasos de este apartado se realizaron en etapas anteriores. De no ser así, hay que dejar aquellos que sean requeridos. Descartar los repetidos</div></H4>"
   ]
  },
  {
   "cell_type": "markdown",
   "metadata": {},
   "source": [
    "## 9.x. Carga y depuración del set de datos"
   ]
  },
  {
   "cell_type": "markdown",
   "metadata": {},
   "source": [
    "### x. Carga del set de datos"
   ]
  },
  {
   "cell_type": "code",
   "execution_count": 6,
   "metadata": {},
   "outputs": [],
   "source": [
    "df = pd.read_csv('retail_full.csv')"
   ]
  },
  {
   "cell_type": "markdown",
   "metadata": {},
   "source": [
    "### x. Filtro del set de datos para entrenamiento en función del año."
   ]
  },
  {
   "cell_type": "code",
   "execution_count": 7,
   "metadata": {},
   "outputs": [],
   "source": [
    "df_retail = dataset_year_filter(df,2020)"
   ]
  },
  {
   "cell_type": "markdown",
   "metadata": {},
   "source": [
    "### x. Implementación countvectorizer"
   ]
  },
  {
   "cell_type": "code",
   "execution_count": 8,
   "metadata": {},
   "outputs": [
    {
     "name": "stdout",
     "output_type": "stream",
     "text": [
      "CPU times: user 17min 9s, sys: 2.03 s, total: 17min 11s\n",
      "Wall time: 17min 20s\n"
     ]
    }
   ],
   "source": [
    "%%time\n",
    "cv_prep =CountVectorizer(analyzer = 'word',\n",
    "                    preprocessor = fx.preprocess_text,\n",
    "                    stop_words = fx.new_stop_words, \n",
    "                    min_df =1,\n",
    "                    ngram_range =(1,1),\n",
    "                    lowercase = True)\n",
    "\n",
    "\n",
    "cv_fit = cv_prep.fit_transform(df_retail['comentario'])"
   ]
  },
  {
   "cell_type": "markdown",
   "metadata": {},
   "source": [
    "<H4 align=\"center\"> <div class=\"alert alert-block alert-info\"><b></b>Fin del bloque a revisar</div></H4>"
   ]
  },
  {
   "cell_type": "markdown",
   "metadata": {},
   "source": [
    "## 9.2. Definición de Pipeline para modelamiento"
   ]
  },
  {
   "cell_type": "markdown",
   "metadata": {},
   "source": [
    "Se asignan las variables del dataset para apropiada implementación del pipeline:"
   ]
  },
  {
   "cell_type": "code",
   "execution_count": 14,
   "metadata": {},
   "outputs": [],
   "source": [
    "# Variable categórica - Aplicación OneHotEncoder.\n",
    "is_cat = 'categoria'\n",
    "\n",
    "# Variable que será abordada con CountVectorizer.\n",
    "var_vec = 'comentario'"
   ]
  },
  {
   "cell_type": "markdown",
   "metadata": {},
   "source": [
    "Definición de los pasos y transformación:"
   ]
  },
  {
   "cell_type": "code",
   "execution_count": 15,
   "metadata": {},
   "outputs": [],
   "source": [
    "categoricas = Pipeline(steps = [\n",
    "    (\"ohe\", OneHotEncoder(use_cat_names = True))])\n",
    "\n",
    "vectorizada = Pipeline(steps = [\n",
    "    (\"cv_prep\", cv_prep)])\n",
    "\n",
    "tran = ColumnTransformer(transformers = [\n",
    "    (\"cat\", categoricas, is_cat),\n",
    "    (\"vec\",vectorizada, var_vec)])"
   ]
  },
  {
   "cell_type": "markdown",
   "metadata": {},
   "source": [
    "### 9.3. Definición de matriz de atributos y vector objetivo"
   ]
  },
  {
   "cell_type": "code",
   "execution_count": 16,
   "metadata": {},
   "outputs": [],
   "source": [
    "# Matriz de atributos\n",
    "X = df_retail.drop(columns = 'rating')\n",
    "\n",
    "# Vector objetivo\n",
    "y = df_retail['rating']"
   ]
  },
  {
   "cell_type": "markdown",
   "metadata": {},
   "source": [
    "### 9.4. División de la muestra\n",
    "De la muestra total (data 2020) se destinará un 60% a entrenamiento y un 40% a testeo."
   ]
  },
  {
   "cell_type": "code",
   "execution_count": 17,
   "metadata": {},
   "outputs": [],
   "source": [
    "# División de la muestra\n",
    "X_train, X_test, y_train, y_test = train_test_split(X, y, test_size = 0.4, random_state = 123)"
   ]
  },
  {
   "cell_type": "markdown",
   "metadata": {},
   "source": [
    "### 9.5. Modelamiento General - Modelos base (sin modificación de hiperparámetros)"
   ]
  },
  {
   "cell_type": "markdown",
   "metadata": {},
   "source": [
    "### 9.5.1. Declaración de modelos a implementar"
   ]
  },
  {
   "cell_type": "code",
   "execution_count": 20,
   "metadata": {},
   "outputs": [],
   "source": [
    "modelo_svc = LinearSVC(random_state = 123)\n",
    "modelo_mnb = MultinomialNB()\n",
    "modelo_rf = RandomForestClassifier(random_state = 123)\n",
    "modelo_dtc = DecisionTreeClassifier(random_state= 123)\n",
    "modelo_abc = AdaBoostClassifier(random_state = 123)\n",
    "modelo_gbc = GradientBoostingClassifier(random_state = 123)\n",
    "modelo_xgb = XGBClassifier(random_state = 123)"
   ]
  },
  {
   "cell_type": "markdown",
   "metadata": {},
   "source": [
    "### 9.5.2. Implementación de modelos base"
   ]
  },
  {
   "cell_type": "markdown",
   "metadata": {},
   "source": [
    "### a. LinearSVC"
   ]
  },
  {
   "cell_type": "markdown",
   "metadata": {},
   "source": [
    "```python\n",
    "pipe_1 = Pipeline(steps = [\n",
    "    (\"tran\", tran),\n",
    "    (\"modelo_1\", modelo_svc)\n",
    "])\n",
    "\n",
    "modelo1 = pipe_1.fit(X_train, y_train)\n",
    "\n",
    "#serialización\n",
    "pickle.dump(modelo1, open(\"modelo1_svc.sav\",\"wb\"))\n",
    "````"
   ]
  },
  {
   "cell_type": "code",
   "execution_count": 23,
   "metadata": {},
   "outputs": [
    {
     "name": "stdout",
     "output_type": "stream",
     "text": [
      "Classification report - TRAIN SET\n",
      "              precision    recall  f1-score   support\n",
      "\n",
      "         1.0       0.97      0.88      0.93       627\n",
      "         2.0       1.00      0.91      0.96       186\n",
      "         3.0       1.00      0.83      0.91       263\n",
      "         4.0       1.00      0.73      0.84       553\n",
      "         5.0       0.93      1.00      0.96      3994\n",
      "\n",
      "    accuracy                           0.95      5623\n",
      "   macro avg       0.98      0.87      0.92      5623\n",
      "weighted avg       0.95      0.95      0.95      5623\n",
      "\n",
      "\n",
      "Classification report - TEST SET\n",
      "              precision    recall  f1-score   support\n",
      "\n",
      "         1.0       0.58      0.53      0.55       427\n",
      "         2.0       0.15      0.07      0.09       105\n",
      "         3.0       0.20      0.09      0.12       185\n",
      "         4.0       0.23      0.14      0.17       365\n",
      "         5.0       0.81      0.91      0.86      2667\n",
      "\n",
      "    accuracy                           0.73      3749\n",
      "   macro avg       0.39      0.35      0.36      3749\n",
      "weighted avg       0.68      0.73      0.70      3749\n",
      "\n"
     ]
    },
    {
     "data": {
      "text/plain": [
       "(None, array([5., 5., 5., ..., 5., 5., 1.]))"
      ]
     },
     "execution_count": 23,
     "metadata": {},
     "output_type": "execute_result"
    }
   ],
   "source": [
    "prediccion_reporte_modelo(\"modelo1_svc.sav\", X_train, X_test, y_test)"
   ]
  },
  {
   "cell_type": "markdown",
   "metadata": {},
   "source": [
    "Para el modelo LinearSVC observamos que en el train set existe un marcado sobreajuste. En el test set, el modelo tiene la capacidad para predecir de buena forma las clases extremas (1 y 5), en desmedro del resto."
   ]
  },
  {
   "cell_type": "markdown",
   "metadata": {},
   "source": [
    "### b. MultinomialNB"
   ]
  },
  {
   "cell_type": "markdown",
   "metadata": {},
   "source": [
    "```python\n",
    "pipe_2 = Pipeline(steps = [\n",
    "    (\"tran\", tran),\n",
    "    (\"modelo_2\", modelo_mnb)\n",
    "])\n",
    "\n",
    "modelo2 = pipe_2.fit(X_train, y_train)\n",
    "\n",
    "#serialización\n",
    "pickle.dump(modelo2, open(\"modelo2_mnb.sav\",\"wb\"))\n",
    "```"
   ]
  },
  {
   "cell_type": "code",
   "execution_count": 25,
   "metadata": {},
   "outputs": [
    {
     "name": "stdout",
     "output_type": "stream",
     "text": [
      "Classification report - TRAIN SET\n",
      "              precision    recall  f1-score   support\n",
      "\n",
      "         1.0       0.83      0.66      0.73       627\n",
      "         2.0       0.97      0.33      0.49       186\n",
      "         3.0       0.99      0.27      0.42       263\n",
      "         4.0       0.84      0.31      0.46       553\n",
      "         5.0       0.83      0.99      0.90      3994\n",
      "\n",
      "    accuracy                           0.83      5623\n",
      "   macro avg       0.89      0.51      0.60      5623\n",
      "weighted avg       0.84      0.83      0.80      5623\n",
      "\n",
      "\n",
      "Classification report - TEST SET\n",
      "              precision    recall  f1-score   support\n",
      "\n",
      "         1.0       0.67      0.54      0.60       427\n",
      "         2.0       0.67      0.02      0.04       105\n",
      "         3.0       0.14      0.01      0.01       185\n",
      "         4.0       0.25      0.04      0.07       365\n",
      "         5.0       0.78      0.98      0.87      2667\n",
      "\n",
      "    accuracy                           0.76      3749\n",
      "   macro avg       0.50      0.32      0.32      3749\n",
      "weighted avg       0.68      0.76      0.69      3749\n",
      "\n"
     ]
    }
   ],
   "source": [
    "prediccion_reporte_modelo(\"modelo2_mnb.sav\", X_train, X_test, y_test)"
   ]
  },
  {
   "cell_type": "markdown",
   "metadata": {},
   "source": [
    "En la implementación de MultinomialNB, y considerando los resultados del modelo anterior, vemos que no existiría un sobreajuste considerable en el train set. La métrica F1 es aceptable, pero un tanto inferior en términos ponderados (weighted avg)."
   ]
  },
  {
   "cell_type": "markdown",
   "metadata": {},
   "source": [
    "### c. RandomForest"
   ]
  },
  {
   "cell_type": "markdown",
   "metadata": {},
   "source": [
    "```python\n",
    "pipe_3 = Pipeline(steps = [\n",
    "    (\"tran\", tran),\n",
    "    (\"modelo_3\", modelo_rf)\n",
    "])\n",
    "modelo3 = pipe_3.fit(X_train, y_train)\n",
    "\n",
    "#serialización\n",
    "pickle.dump(modelo3, open(\"modelo3_rf.sav\",\"wb\"))\n",
    "````"
   ]
  },
  {
   "cell_type": "code",
   "execution_count": 26,
   "metadata": {},
   "outputs": [
    {
     "name": "stdout",
     "output_type": "stream",
     "text": [
      "Classification report - TRAIN SET\n",
      "              precision    recall  f1-score   support\n",
      "\n",
      "         1.0       1.00      0.96      0.98       627\n",
      "         2.0       0.99      0.97      0.98       186\n",
      "         3.0       1.00      0.94      0.97       263\n",
      "         4.0       0.99      0.91      0.95       553\n",
      "         5.0       0.98      1.00      0.99      3994\n",
      "\n",
      "    accuracy                           0.98      5623\n",
      "   macro avg       0.99      0.96      0.97      5623\n",
      "weighted avg       0.98      0.98      0.98      5623\n",
      "\n",
      "\n",
      "Classification report - TEST SET\n",
      "              precision    recall  f1-score   support\n",
      "\n",
      "         1.0       0.72      0.51      0.59       427\n",
      "         2.0       0.67      0.02      0.04       105\n",
      "         3.0       0.36      0.03      0.05       185\n",
      "         4.0       0.20      0.03      0.06       365\n",
      "         5.0       0.77      0.97      0.86      2667\n",
      "\n",
      "    accuracy                           0.76      3749\n",
      "   macro avg       0.54      0.31      0.32      3749\n",
      "weighted avg       0.69      0.76      0.69      3749\n",
      "\n"
     ]
    }
   ],
   "source": [
    "prediccion_reporte_modelo(\"modelo3_rf.sav\", X_train, X_test, y_test)"
   ]
  },
  {
   "cell_type": "markdown",
   "metadata": {},
   "source": [
    "Para el modelo con RandomFores observamos la existencia de un gran sobreajuste en el train set, por tanto se descartará seguir con este en los próximos pasos."
   ]
  },
  {
   "cell_type": "markdown",
   "metadata": {},
   "source": [
    "### d. DecisionTree Classifier"
   ]
  },
  {
   "cell_type": "markdown",
   "metadata": {},
   "source": [
    "```python\n",
    "pipe_4 = Pipeline(steps = [\n",
    "    (\"tran\", tran),\n",
    "    (\"modelo_4\", modelo_dtc)\n",
    "])\n",
    "modelo4 = pipe_4.fit(X_train, y_train)\n",
    "\n",
    "#serialización\n",
    "pickle.dump(modelo4, open(\"modelo4_dtc.sav\",\"wb\"))\n",
    "````"
   ]
  },
  {
   "cell_type": "code",
   "execution_count": 27,
   "metadata": {},
   "outputs": [
    {
     "name": "stdout",
     "output_type": "stream",
     "text": [
      "Classification report - TRAIN SET\n",
      "              precision    recall  f1-score   support\n",
      "\n",
      "         1.0       0.99      0.96      0.98       627\n",
      "         2.0       0.99      0.98      0.98       186\n",
      "         3.0       1.00      0.94      0.97       263\n",
      "         4.0       0.97      0.93      0.95       553\n",
      "         5.0       0.98      0.99      0.99      3994\n",
      "\n",
      "    accuracy                           0.98      5623\n",
      "   macro avg       0.99      0.96      0.97      5623\n",
      "weighted avg       0.98      0.98      0.98      5623\n",
      "\n",
      "\n",
      "Classification report - TEST SET\n",
      "              precision    recall  f1-score   support\n",
      "\n",
      "         1.0       0.46      0.48      0.47       427\n",
      "         2.0       0.13      0.10      0.11       105\n",
      "         3.0       0.10      0.07      0.08       185\n",
      "         4.0       0.13      0.12      0.13       365\n",
      "         5.0       0.80      0.83      0.81      2667\n",
      "\n",
      "    accuracy                           0.66      3749\n",
      "   macro avg       0.32      0.32      0.32      3749\n",
      "weighted avg       0.64      0.66      0.65      3749\n",
      "\n"
     ]
    }
   ],
   "source": [
    "prediccion_reporte_modelo(\"modelo4_dtc.sav\", X_train, X_test, y_test)"
   ]
  },
  {
   "cell_type": "markdown",
   "metadata": {},
   "source": [
    "Al igual que con el modelo con RandomForest, observamos sobreajuste en el train set y una menor métrica F1 weighted average, por tanto, se descartará."
   ]
  },
  {
   "cell_type": "markdown",
   "metadata": {},
   "source": [
    "### e. AdaBoostClassifier"
   ]
  },
  {
   "cell_type": "markdown",
   "metadata": {},
   "source": [
    "```python\n",
    "pipe_5 = Pipeline(steps = [\n",
    "    (\"tran\", tran),\n",
    "    (\"modelo_5\", modelo_abc)\n",
    "])\n",
    "modelo5 = pipe_5.fit(X_train, y_train)\n",
    "\n",
    "#serialización\n",
    "pickle.dump(modelo5, open(\"modelo5_abc.sav\",\"wb\"))\n",
    "````"
   ]
  },
  {
   "cell_type": "code",
   "execution_count": 28,
   "metadata": {},
   "outputs": [
    {
     "name": "stdout",
     "output_type": "stream",
     "text": [
      "Classification report - TRAIN SET\n",
      "              precision    recall  f1-score   support\n",
      "\n",
      "         1.0       0.67      0.39      0.50       627\n",
      "         2.0       0.34      0.15      0.21       186\n",
      "         3.0       0.60      0.01      0.02       263\n",
      "         4.0       0.26      0.01      0.02       553\n",
      "         5.0       0.76      0.98      0.86      3994\n",
      "\n",
      "    accuracy                           0.75      5623\n",
      "   macro avg       0.53      0.31      0.32      5623\n",
      "weighted avg       0.68      0.75      0.67      5623\n",
      "\n",
      "\n",
      "Classification report - TEST SET\n",
      "              precision    recall  f1-score   support\n",
      "\n",
      "         1.0       0.71      0.42      0.53       427\n",
      "         2.0       0.11      0.06      0.07       105\n",
      "         3.0       0.11      0.01      0.01       185\n",
      "         4.0       0.27      0.01      0.02       365\n",
      "         5.0       0.76      0.98      0.86      2667\n",
      "\n",
      "    accuracy                           0.75      3749\n",
      "   macro avg       0.39      0.29      0.30      3749\n",
      "weighted avg       0.66      0.75      0.68      3749\n",
      "\n"
     ]
    }
   ],
   "source": [
    "prediccion_reporte_modelo(\"modelo5_abc.sav\", X_train, X_test, y_test)"
   ]
  },
  {
   "cell_type": "markdown",
   "metadata": {},
   "source": [
    "A diferencia de los modelos implementados con anterioridad, no se evidencia sobreajuste en el train set y la métrica F1 weighted average es aceptable, no habiendo un mayor gap entre el test set y train set. "
   ]
  },
  {
   "cell_type": "markdown",
   "metadata": {},
   "source": [
    "### f. GradientBoosting Classifier"
   ]
  },
  {
   "cell_type": "markdown",
   "metadata": {},
   "source": [
    "```python\n",
    "pipe_6 = Pipeline(steps = [\n",
    "    (\"tran\", tran),\n",
    "    (\"modelo_6\", modelo_gbc)\n",
    "])\n",
    "modelo6 = pipe_6.fit(X_train, y_train)\n",
    "\n",
    "#serialización\n",
    "pickle.dump(modelo6, open(\"modelo6_gbc.sav\",\"wb\"))\n",
    "````"
   ]
  },
  {
   "cell_type": "code",
   "execution_count": 29,
   "metadata": {},
   "outputs": [
    {
     "name": "stdout",
     "output_type": "stream",
     "text": [
      "Classification report - TRAIN SET\n",
      "              precision    recall  f1-score   support\n",
      "\n",
      "         1.0       0.84      0.47      0.60       627\n",
      "         2.0       1.00      0.32      0.48       186\n",
      "         3.0       1.00      0.12      0.21       263\n",
      "         4.0       0.95      0.11      0.19       553\n",
      "         5.0       0.78      1.00      0.87      3994\n",
      "\n",
      "    accuracy                           0.79      5623\n",
      "   macro avg       0.91      0.40      0.47      5623\n",
      "weighted avg       0.82      0.79      0.73      5623\n",
      "\n",
      "\n",
      "Classification report - TEST SET\n",
      "              precision    recall  f1-score   support\n",
      "\n",
      "         1.0       0.74      0.42      0.54       427\n",
      "         2.0       0.18      0.03      0.05       105\n",
      "         3.0       0.13      0.01      0.02       185\n",
      "         4.0       0.35      0.02      0.05       365\n",
      "         5.0       0.76      0.99      0.86      2667\n",
      "\n",
      "    accuracy                           0.75      3749\n",
      "   macro avg       0.43      0.29      0.30      3749\n",
      "weighted avg       0.67      0.75      0.68      3749\n",
      "\n"
     ]
    }
   ],
   "source": [
    "prediccion_reporte_modelo(\"modelo6_gbc.sav\", X_train, X_test, y_test)"
   ]
  },
  {
   "cell_type": "markdown",
   "metadata": {},
   "source": [
    "Se obtienen resultados similares al modelo implementado con AdaBoost. No hay evidencia de sobreajuste y la métrica F1 weighted average es aceptable."
   ]
  },
  {
   "cell_type": "markdown",
   "metadata": {},
   "source": [
    "### g. XG Boosting"
   ]
  },
  {
   "cell_type": "markdown",
   "metadata": {},
   "source": [
    "```python\n",
    "pipe_7 = Pipeline(steps = [\n",
    "    (\"tran\", tran),\n",
    "    (\"modelo_7\", modelo_xgb)\n",
    "])\n",
    "modelo7 = pipe_7.fit(X_train, y_train)\n",
    "\n",
    "#serialización\n",
    "pickle.dump(modelo7, open(\"modelo7_xgb.sav\",\"wb\"))\n",
    "````"
   ]
  },
  {
   "cell_type": "code",
   "execution_count": 30,
   "metadata": {},
   "outputs": [
    {
     "name": "stdout",
     "output_type": "stream",
     "text": [
      "Classification report - TRAIN SET\n",
      "              precision    recall  f1-score   support\n",
      "\n",
      "         1.0       0.90      0.64      0.75       627\n",
      "         2.0       0.99      0.49      0.66       186\n",
      "         3.0       0.97      0.37      0.53       263\n",
      "         4.0       0.99      0.31      0.47       553\n",
      "         5.0       0.83      1.00      0.90      3994\n",
      "\n",
      "    accuracy                           0.84      5623\n",
      "   macro avg       0.93      0.56      0.66      5623\n",
      "weighted avg       0.86      0.84      0.82      5623\n",
      "\n",
      "\n",
      "Classification report - TEST SET\n",
      "              precision    recall  f1-score   support\n",
      "\n",
      "         1.0       0.73      0.54      0.62       427\n",
      "         2.0       0.14      0.03      0.05       105\n",
      "         3.0       0.29      0.04      0.07       185\n",
      "         4.0       0.35      0.07      0.11       365\n",
      "         5.0       0.78      0.97      0.87      2667\n",
      "\n",
      "    accuracy                           0.76      3749\n",
      "   macro avg       0.46      0.33      0.34      3749\n",
      "weighted avg       0.69      0.76      0.70      3749\n",
      "\n"
     ]
    }
   ],
   "source": [
    "prediccion_reporte_modelo(\"modelo7_xgb.sav\", X_train, X_test, y_test)"
   ]
  },
  {
   "cell_type": "markdown",
   "metadata": {},
   "source": [
    "El modelo implementado con XGBoosting presenta las mejores métrica de F1 en test set, tanto para macro average como para weighted average. Tampoco se visualiza sobreajuste. "
   ]
  },
  {
   "cell_type": "markdown",
   "metadata": {},
   "source": [
    "**De los modelos implementados y en base a métrica F1 weighted, se seleccionan los mejores dos modelos, correspondientes a GradientBoosting y XGBoosting.**"
   ]
  },
  {
   "cell_type": "markdown",
   "metadata": {},
   "source": [
    "### 9.6. Modelamiento General -  Modelos implementados con GridSearch"
   ]
  },
  {
   "cell_type": "markdown",
   "metadata": {},
   "source": [
    "### a. GradientBoostingClassifier"
   ]
  },
  {
   "cell_type": "markdown",
   "metadata": {},
   "source": [
    "```python\n",
    "pipe6 = Pipeline(steps=[\n",
    "    (\"tran\", tran),\n",
    "    ('modelo_6', modelo_gbc)])\n",
    "\n",
    "parametros_gbc = {\"modelo_6__learning_rate\": [0.01, 0.1],\n",
    "                  \"modelo_6__n_estimators\" : [100, 500],\n",
    "                  \"modelo_6__subsample\": [0.1,0.5]}\n",
    "```"
   ]
  },
  {
   "cell_type": "code",
   "execution_count": 46,
   "metadata": {},
   "outputs": [
    {
     "name": "stdout",
     "output_type": "stream",
     "text": [
      "CPU times: user 9min 57s, sys: 947 ms, total: 9min 58s\n",
      "Wall time: 1h 42min 13s\n"
     ]
    }
   ],
   "source": [
    "%%time\n",
    "search_gbc = GridSearchCV(pipe6, parametros_gbc, cv =2,n_jobs=-1).fit(X_train, y_train)\n",
    "best_model_gbc = search_gbc.best_estimator_\n",
    "\n",
    "pickle.dump(best_model_gbc, open(\"modelo_gbc_01.sav\",\"wb\"))"
   ]
  },
  {
   "cell_type": "code",
   "execution_count": 47,
   "metadata": {},
   "outputs": [
    {
     "data": {
      "text/plain": [
       "{'modelo_6__learning_rate': 0.01,\n",
       " 'modelo_6__n_estimators': 500,\n",
       " 'modelo_6__subsample': 0.5}"
      ]
     },
     "execution_count": 47,
     "metadata": {},
     "output_type": "execute_result"
    }
   ],
   "source": [
    "search_gbc.best_params_"
   ]
  },
  {
   "cell_type": "code",
   "execution_count": 48,
   "metadata": {},
   "outputs": [],
   "source": [
    "# Carga del modelo con pickle\n",
    "modelo_gbc_01 = pickle.load(open(\"modelo_gbc_01.sav\",\"rb\"))\n",
    "\n",
    "#predicción\n",
    "y_pred_gbc = modelo_gbc_01.predict(X_test)\n",
    "y_pred_train_gbc = modelo_gbc_01.predict(X_train)"
   ]
  },
  {
   "cell_type": "code",
   "execution_count": 49,
   "metadata": {
    "scrolled": false
   },
   "outputs": [
    {
     "name": "stdout",
     "output_type": "stream",
     "text": [
      "Classification report - TRAIN SET\n",
      "              precision    recall  f1-score   support\n",
      "\n",
      "         1.0       0.82      0.40      0.54       627\n",
      "         2.0       0.93      0.13      0.23       186\n",
      "         3.0       0.95      0.08      0.15       263\n",
      "         4.0       0.84      0.05      0.09       553\n",
      "         5.0       0.76      1.00      0.86      3994\n",
      "\n",
      "    accuracy                           0.76      5623\n",
      "   macro avg       0.86      0.33      0.37      5623\n",
      "weighted avg       0.79      0.76      0.70      5623\n",
      "\n",
      "\n",
      "Classification report - TEST SET\n",
      "              precision    recall  f1-score   support\n",
      "\n",
      "         1.0       0.75      0.40      0.52       427\n",
      "         2.0       0.17      0.01      0.02       105\n",
      "         3.0       0.20      0.01      0.02       185\n",
      "         4.0       0.37      0.02      0.04       365\n",
      "         5.0       0.76      0.99      0.86      2667\n",
      "\n",
      "    accuracy                           0.75      3749\n",
      "   macro avg       0.45      0.29      0.29      3749\n",
      "weighted avg       0.67      0.75      0.67      3749\n",
      "\n"
     ]
    }
   ],
   "source": [
    "report(y_train,y_pred_train_gbc,y_test,y_pred_gbc)"
   ]
  },
  {
   "cell_type": "markdown",
   "metadata": {},
   "source": [
    "Para la grilla de hiperparámetros definida, el modelo GradientBoosting Classifier, presenta un menor desempeño que el modelo de base. Resta modificar el set de hiperparámetros a fin de buscar un mejor desempeño."
   ]
  },
  {
   "cell_type": "markdown",
   "metadata": {},
   "source": [
    "#### Matriz de confusión"
   ]
  },
  {
   "cell_type": "code",
   "execution_count": 50,
   "metadata": {},
   "outputs": [],
   "source": [
    "# Nombre de las clases.\n",
    "class_names = ['1','2','3','4','5']"
   ]
  },
  {
   "cell_type": "code",
   "execution_count": 51,
   "metadata": {},
   "outputs": [
    {
     "data": {
      "image/png": "[encoded data removed]",
      "text/plain": [
       "<Figure size 432x288 with 2 Axes>"
      ]
     },
     "metadata": {
      "needs_background": "light"
     },
     "output_type": "display_data"
    }
   ],
   "source": [
    "# Gráfico para GradientBoosting\n",
    "disp = plot_confusion_matrix(best_model_gbc, X_test, y_test, display_labels=class_names, cmap=plt.cm.Blues)\n",
    "plt.show()"
   ]
  },
  {
   "cell_type": "markdown",
   "metadata": {},
   "source": [
    "### g. XGBoost Classifier"
   ]
  },
  {
   "cell_type": "markdown",
   "metadata": {},
   "source": [
    "```python\n",
    "pipe7 = Pipeline(steps=[\n",
    "    (\"tran\", tran),\n",
    "    ('modelo_7', modelo_xgb)])\n",
    "\n",
    "parametros_xgb = {\"modelo_7__learning_rate\": [0.01, 0.1],\n",
    "                  \"modelo_7__n_estimators\" : [100, 500],\n",
    "                  \"modelo_7__subsample\": [0.1,0.5]}\n",
    "```"
   ]
  },
  {
   "cell_type": "code",
   "execution_count": 56,
   "metadata": {},
   "outputs": [
    {
     "name": "stdout",
     "output_type": "stream",
     "text": [
      "CPU times: user 9min 50s, sys: 874 ms, total: 9min 51s\n",
      "Wall time: 1h 32min 28s\n"
     ]
    }
   ],
   "source": [
    "%%time\n",
    "search_xgb = GridSearchCV(pipe7, parametros_xgb, cv =2,n_jobs=-1).fit(X_train, y_train)\n",
    "best_model_xgb = search_xgb.best_estimator_\n",
    "\n",
    "pickle.dump(best_model_xgb, open(\"modelo_xgb_01.sav\",\"wb\"))"
   ]
  },
  {
   "cell_type": "code",
   "execution_count": 57,
   "metadata": {},
   "outputs": [
    {
     "data": {
      "text/plain": [
       "{'modelo_7__learning_rate': 0.1,\n",
       " 'modelo_7__n_estimators': 100,\n",
       " 'modelo_7__subsample': 0.5}"
      ]
     },
     "execution_count": 57,
     "metadata": {},
     "output_type": "execute_result"
    }
   ],
   "source": [
    "search_xgb.best_params_"
   ]
  },
  {
   "cell_type": "code",
   "execution_count": 58,
   "metadata": {},
   "outputs": [],
   "source": [
    "# Carga del modelo con pickle\n",
    "modelo_xgb_01 = pickle.load(open(\"modelo_xgb_01.sav\",\"rb\"))\n",
    "\n",
    "#predicción\n",
    "y_pred_xgb = modelo_xgb_01.predict(X_test)\n",
    "y_pred_train_xgb = modelo_xgb_01.predict(X_train)"
   ]
  },
  {
   "cell_type": "code",
   "execution_count": 59,
   "metadata": {},
   "outputs": [
    {
     "name": "stdout",
     "output_type": "stream",
     "text": [
      "Classification report - TRAIN SET\n",
      "              precision    recall  f1-score   support\n",
      "\n",
      "         1.0       0.80      0.53      0.64       627\n",
      "         2.0       0.94      0.18      0.31       186\n",
      "         3.0       0.86      0.14      0.24       263\n",
      "         4.0       0.91      0.16      0.27       553\n",
      "         5.0       0.79      0.99      0.88      3994\n",
      "\n",
      "    accuracy                           0.79      5623\n",
      "   macro avg       0.86      0.40      0.47      5623\n",
      "weighted avg       0.81      0.79      0.74      5623\n",
      "\n",
      "\n",
      "Classification report - TEST SET\n",
      "              precision    recall  f1-score   support\n",
      "\n",
      "         1.0       0.74      0.48      0.59       427\n",
      "         2.0       0.12      0.01      0.02       105\n",
      "         3.0       0.33      0.02      0.04       185\n",
      "         4.0       0.37      0.05      0.09       365\n",
      "         5.0       0.77      0.98      0.86      2667\n",
      "\n",
      "    accuracy                           0.76      3749\n",
      "   macro avg       0.47      0.31      0.32      3749\n",
      "weighted avg       0.69      0.76      0.69      3749\n",
      "\n"
     ]
    }
   ],
   "source": [
    "report(y_train,y_pred_train_xgb,y_test,y_pred_xgb)"
   ]
  },
  {
   "cell_type": "markdown",
   "metadata": {},
   "source": [
    "Al igual que lo ocurrido con el modelo anterior, XGBoosting presenta un menor desempeño que el modelo de base para la grill de parámetros definida. Se indagará en un nuevo set para buscar un mejor desempeño."
   ]
  },
  {
   "cell_type": "markdown",
   "metadata": {},
   "source": [
    "#### Matriz de confusión"
   ]
  },
  {
   "cell_type": "code",
   "execution_count": 60,
   "metadata": {},
   "outputs": [
    {
     "data": {
      "image/png": "[encoded data removed]",
      "text/plain": [
       "<Figure size 432x288 with 2 Axes>"
      ]
     },
     "metadata": {
      "needs_background": "light"
     },
     "output_type": "display_data"
    }
   ],
   "source": [
    "# Gráfico para GradientBoosting\n",
    "disp = plot_confusion_matrix(best_model_xgb, X_test, y_test, display_labels=class_names, cmap=plt.cm.Blues)\n",
    "plt.show()"
   ]
  },
  {
   "cell_type": "markdown",
   "metadata": {},
   "source": [
    "<H1 align=\"center\"> <div class=\"alert alert-block alert-info\"><b></b>Acá empieza aplicación de balanceo de clases</div></H1>"
   ]
  },
  {
   "cell_type": "markdown",
   "metadata": {},
   "source": [
    "### 9.7. Aplicación de SMOTE para balanceo de clases"
   ]
  },
  {
   "cell_type": "code",
   "execution_count": 88,
   "metadata": {},
   "outputs": [],
   "source": [
    "from imblearn.over_sampling import SMOTE\n",
    "from imblearn.pipeline import Pipeline as pipe\n",
    "smt = SMOTE(random_state = 123)"
   ]
  },
  {
   "cell_type": "code",
   "execution_count": 67,
   "metadata": {},
   "outputs": [],
   "source": [
    "# Definición de mejor modelo\n",
    "modelo_xgb_best = XGBClassifier(learning_rate = 0.1, n_estimators = 100, subsample=0.5, random_state = 123)"
   ]
  },
  {
   "cell_type": "code",
   "execution_count": 89,
   "metadata": {
    "scrolled": true
   },
   "outputs": [],
   "source": [
    "pipe_bm = pipe([(\"tran\", tran),\n",
    "              ('sampling', SMOTE()),\n",
    "              ('modelo_xgb_best', modelo_xgb_best)])\n",
    "\n",
    "pipe_bm.fit(X_train, y_train)\n",
    "y_pred = pipe_bm.predict(X_test)"
   ]
  },
  {
   "cell_type": "code",
   "execution_count": 91,
   "metadata": {},
   "outputs": [
    {
     "name": "stdout",
     "output_type": "stream",
     "text": [
      "\n",
      "TEST SET - Classification report - XGBOOST\n",
      "              precision    recall  f1-score   support\n",
      "\n",
      "         1.0       0.74      0.49      0.59       427\n",
      "         2.0       0.00      0.00      0.00       105\n",
      "         3.0       0.22      0.01      0.02       185\n",
      "         4.0       0.21      0.01      0.02       365\n",
      "         5.0       0.76      0.98      0.86      2667\n",
      "\n",
      "    accuracy                           0.76      3749\n",
      "   macro avg       0.39      0.30      0.30      3749\n",
      "weighted avg       0.66      0.76      0.68      3749\n",
      "\n"
     ]
    }
   ],
   "source": [
    "test_classification_report('XGBoost', y_test, y_pred)"
   ]
  },
  {
   "cell_type": "code",
   "execution_count": null,
   "metadata": {},
   "outputs": [],
   "source": [
    "# Gráfico para GradientBoosting\n",
    "disp = plot_confusion_matrix(best_model_xgb, X_test, y_test, display_labels=class_names, cmap=plt.cm.Blues)\n",
    "plt.show()"
   ]
  },
  {
   "cell_type": "code",
   "execution_count": null,
   "metadata": {},
   "outputs": [],
   "source": []
  }
 ],
 "metadata": {
  "kernelspec": {
   "display_name": "Python 3",
   "language": "python",
   "name": "python3"
  },
  "language_info": {
   "codemirror_mode": {
    "name": "ipython",
    "version": 3
   },
   "file_extension": ".py",
   "mimetype": "text/x-python",
   "name": "python",
   "nbconvert_exporter": "python",
   "pygments_lexer": "ipython3",
   "version": "3.7.6"
  }
 },
 "nbformat": 4,
 "nbformat_minor": 4
}
