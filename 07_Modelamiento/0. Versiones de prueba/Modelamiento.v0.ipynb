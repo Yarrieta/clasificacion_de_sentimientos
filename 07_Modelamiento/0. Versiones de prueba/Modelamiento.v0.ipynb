{
 "cells": [
  {
   "cell_type": "markdown",
   "metadata": {},
   "source": [
    "<H1 align=\"center\"> <div class=\"alert alert-block alert-info\"><b></b>Preliminares</div></H1>"
   ]
  },
  {
   "cell_type": "code",
   "execution_count": 1,
   "metadata": {},
   "outputs": [],
   "source": [
    "import pandas as pd\n",
    "import numpy as np\n",
    "import csv\n",
    "import re\n",
    "import h2_funciones_auxiliares as faux\n",
    "\n",
    "# Para preprocesar datos y realizar wordcloud.\n",
    "from sklearn.feature_extraction.text import CountVectorizer\n",
    "from wordcloud import WordCloud\n",
    "from nltk.corpus import stopwords\n",
    "from nltk.stem import WordNetLemmatizer\n",
    "lemmatizer = WordNetLemmatizer()\n",
    "import re\n",
    "from string import punctuation\n",
    "\n",
    "# Para implementar modelos de machine learning.\n",
    "from sklearn.svm import SVC, LinearSVC\n",
    "from sklearn.naive_bayes import MultinomialNB\n",
    "from sklearn.tree import DecisionTreeClassifier, plot_tree, export_graphviz\n",
    "from sklearn.ensemble import RandomForestClassifier, AdaBoostClassifier, GradientBoostingClassifier\n",
    "\n",
    "from sklearn.model_selection import train_test_split, GridSearchCV\n",
    "from sklearn.preprocessing import StandardScaler, PowerTransformer\n",
    "from sklearn.pipeline import Pipeline\n",
    "from sklearn.compose import ColumnTransformer\n",
    "from sklearn.impute import SimpleImputer\n",
    "from sklearn.metrics import classification_report, roc_curve\n",
    "from sklearn import set_config\n",
    "set_config(display = 'diagram')\n",
    "\n",
    "# Para recodificación de atributos\n",
    "from category_encoders import TargetEncoder, OrdinalEncoder, OneHotEncoder\n",
    "\n",
    "from datetime import datetime\n",
    "\n",
    "# Para visualización\n",
    "import graphviz\n",
    "\n",
    "# Para serialización\n",
    "import pickle\n",
    "\n",
    "# Para evitar mensajes de deprecación\n",
    "import warnings \n",
    "warnings.filterwarnings(\"ignore\")"
   ]
  },
  {
   "cell_type": "code",
   "execution_count": 2,
   "metadata": {},
   "outputs": [],
   "source": [
    "# FUNCIÓN PARA OBTENER CLASSIFICATION REPORT:\n",
    "def report(y_train, y_pred_train, y_test, y_pred):\n",
    "    print(\"Classification report - TRAIN SET\")\n",
    "    print(classification_report(y_train, y_pred_train))\n",
    "    print(\"\\nClassification report - TEST SET\")\n",
    "    print(classification_report(y_test, y_pred))\n",
    "\n",
    "# FUNCIÓN PARA CLASSIFICATION REPORT - SÓLO TEST SET\n",
    "def test_classification_report(nombre_modelo, y_test, y_hat):\n",
    "    print(\"\\nTEST SET - Classification report - {}\".format(nombre_modelo.upper()) )\n",
    "    print(classification_report(y_test, y_hat))"
   ]
  },
  {
   "cell_type": "code",
   "execution_count": 3,
   "metadata": {},
   "outputs": [],
   "source": [
    "df = pd.read_csv('mod_ripley.csv').drop(columns = 'comentario').dropna()"
   ]
  },
  {
   "cell_type": "code",
   "execution_count": 4,
   "metadata": {},
   "outputs": [],
   "source": [
    "df = df.drop(df[df['rating'] == 0].index)"
   ]
  },
  {
   "cell_type": "code",
   "execution_count": 5,
   "metadata": {},
   "outputs": [
    {
     "data": {
      "text/html": [
       "<div>\n",
       "<style scoped>\n",
       "    .dataframe tbody tr th:only-of-type {\n",
       "        vertical-align: middle;\n",
       "    }\n",
       "\n",
       "    .dataframe tbody tr th {\n",
       "        vertical-align: top;\n",
       "    }\n",
       "\n",
       "    .dataframe thead th {\n",
       "        text-align: right;\n",
       "    }\n",
       "</style>\n",
       "<table border=\"1\" class=\"dataframe\">\n",
       "  <thead>\n",
       "    <tr style=\"text-align: right;\">\n",
       "      <th></th>\n",
       "      <th>retail</th>\n",
       "      <th>categoria</th>\n",
       "      <th>producto</th>\n",
       "      <th>precio_original</th>\n",
       "      <th>precio_internet</th>\n",
       "      <th>precio_oferta</th>\n",
       "      <th>rating</th>\n",
       "      <th>comentario_sin_re</th>\n",
       "    </tr>\n",
       "  </thead>\n",
       "  <tbody>\n",
       "    <tr>\n",
       "      <th>309</th>\n",
       "      <td>ripley</td>\n",
       "      <td>ropa</td>\n",
       "      <td>SWEATER MG BOUTIQUE FANTASIA ROMBOS</td>\n",
       "      <td>29990</td>\n",
       "      <td>14990</td>\n",
       "      <td>0</td>\n",
       "      <td>5</td>\n",
       "      <td>excelente precioso y calce perfecto  recomendable</td>\n",
       "    </tr>\n",
       "    <tr>\n",
       "      <th>4578</th>\n",
       "      <td>ripley</td>\n",
       "      <td>hogar</td>\n",
       "      <td>ZAPATERO ORGANIZADOR RACK 30 PARES</td>\n",
       "      <td>16900</td>\n",
       "      <td>8990</td>\n",
       "      <td>0</td>\n",
       "      <td>1</td>\n",
       "      <td>malo malisimo  ni hagan ni tal de comprarlo te...</td>\n",
       "    </tr>\n",
       "  </tbody>\n",
       "</table>\n",
       "</div>"
      ],
      "text/plain": [
       "      retail categoria                             producto  precio_original  \\\n",
       "309   ripley      ropa  SWEATER MG BOUTIQUE FANTASIA ROMBOS            29990   \n",
       "4578  ripley     hogar   ZAPATERO ORGANIZADOR RACK 30 PARES            16900   \n",
       "\n",
       "      precio_internet  precio_oferta  rating  \\\n",
       "309             14990              0       5   \n",
       "4578             8990              0       1   \n",
       "\n",
       "                                      comentario_sin_re  \n",
       "309   excelente precioso y calce perfecto  recomendable  \n",
       "4578  malo malisimo  ni hagan ni tal de comprarlo te...  "
      ]
     },
     "execution_count": 5,
     "metadata": {},
     "output_type": "execute_result"
    }
   ],
   "source": [
    "df.sample(2)"
   ]
  },
  {
   "cell_type": "code",
   "execution_count": 6,
   "metadata": {},
   "outputs": [],
   "source": [
    "df = df.loc[:,'rating':'comentario_sin_re']"
   ]
  },
  {
   "cell_type": "code",
   "execution_count": 7,
   "metadata": {},
   "outputs": [],
   "source": [
    "df = df.drop(df[df['comentario_sin_re'] == np.nan].index)"
   ]
  },
  {
   "cell_type": "code",
   "execution_count": 8,
   "metadata": {},
   "outputs": [
    {
     "data": {
      "text/plain": [
       "(4538, 2)"
      ]
     },
     "execution_count": 8,
     "metadata": {},
     "output_type": "execute_result"
    }
   ],
   "source": [
    "df.shape"
   ]
  },
  {
   "cell_type": "markdown",
   "metadata": {},
   "source": [
    "<H1 align=\"center\"> <div class=\"alert alert-block alert-info\"><b></b>CountVectorizer</div></H1>"
   ]
  },
  {
   "cell_type": "code",
   "execution_count": 9,
   "metadata": {},
   "outputs": [],
   "source": [
    "sw = set(stopwords.words('spanish') + list(punctuation)+ ['mas', 'si','ve','asi','menos','igual','ser','tal','aun',\n",
    "                                                          'viene','ahora','puede','parte','todas'])"
   ]
  },
  {
   "cell_type": "code",
   "execution_count": 10,
   "metadata": {},
   "outputs": [],
   "source": [
    "pr = CountVectorizer(analyzer = 'word',\n",
    "                    stop_words = sw, \n",
    "                    min_df = 1,\n",
    "                    ngram_range =(1,3),\n",
    "                    lowercase = True)"
   ]
  },
  {
   "cell_type": "code",
   "execution_count": 11,
   "metadata": {},
   "outputs": [],
   "source": [
    "cv_fit = pr.fit_transform(df['comentario_sin_re'])"
   ]
  },
  {
   "cell_type": "code",
   "execution_count": 12,
   "metadata": {},
   "outputs": [
    {
     "data": {
      "text/html": [
       "<div>\n",
       "<style scoped>\n",
       "    .dataframe tbody tr th:only-of-type {\n",
       "        vertical-align: middle;\n",
       "    }\n",
       "\n",
       "    .dataframe tbody tr th {\n",
       "        vertical-align: top;\n",
       "    }\n",
       "\n",
       "    .dataframe thead th {\n",
       "        text-align: right;\n",
       "    }\n",
       "</style>\n",
       "<table border=\"1\" class=\"dataframe\">\n",
       "  <thead>\n",
       "    <tr style=\"text-align: right;\">\n",
       "      <th></th>\n",
       "      <th>52504</th>\n",
       "      <th>9817</th>\n",
       "      <th>27249</th>\n",
       "      <th>8107</th>\n",
       "      <th>7714</th>\n",
       "      <th>6122</th>\n",
       "      <th>62923</th>\n",
       "      <th>15420</th>\n",
       "      <th>62205</th>\n",
       "      <th>56380</th>\n",
       "      <th>8144</th>\n",
       "      <th>38142</th>\n",
       "      <th>13413</th>\n",
       "      <th>24449</th>\n",
       "      <th>64133</th>\n",
       "      <th>7922</th>\n",
       "      <th>14890</th>\n",
       "      <th>51310</th>\n",
       "      <th>29740</th>\n",
       "      <th>8745</th>\n",
       "    </tr>\n",
       "  </thead>\n",
       "  <tbody>\n",
       "    <tr>\n",
       "      <th>words</th>\n",
       "      <td>producto</td>\n",
       "      <td>calidad</td>\n",
       "      <td>excelente</td>\n",
       "      <td>buena</td>\n",
       "      <td>buen</td>\n",
       "      <td>bien</td>\n",
       "      <td>talla</td>\n",
       "      <td>compre</td>\n",
       "      <td>super</td>\n",
       "      <td>recomiendo</td>\n",
       "      <td>buena calidad</td>\n",
       "      <td>lindo</td>\n",
       "      <td>color</td>\n",
       "      <td>encanto</td>\n",
       "      <td>tela</td>\n",
       "      <td>buen producto</td>\n",
       "      <td>compra</td>\n",
       "      <td>precio</td>\n",
       "      <td>foto</td>\n",
       "      <td>bueno</td>\n",
       "    </tr>\n",
       "    <tr>\n",
       "      <th>frecuencia</th>\n",
       "      <td>885</td>\n",
       "      <td>712</td>\n",
       "      <td>709</td>\n",
       "      <td>629</td>\n",
       "      <td>517</td>\n",
       "      <td>498</td>\n",
       "      <td>494</td>\n",
       "      <td>447</td>\n",
       "      <td>352</td>\n",
       "      <td>341</td>\n",
       "      <td>306</td>\n",
       "      <td>295</td>\n",
       "      <td>287</td>\n",
       "      <td>283</td>\n",
       "      <td>267</td>\n",
       "      <td>252</td>\n",
       "      <td>247</td>\n",
       "      <td>227</td>\n",
       "      <td>224</td>\n",
       "      <td>224</td>\n",
       "    </tr>\n",
       "  </tbody>\n",
       "</table>\n",
       "</div>"
      ],
      "text/plain": [
       "               52504    9817       27249  8107  7714  6122   62923   15420  \\\n",
       "words       producto  calidad  excelente  buena  buen  bien  talla  compre   \n",
       "frecuencia       885      712        709    629   517   498    494     447   \n",
       "\n",
       "            62205       56380          8144   38142  13413    24449 64133  \\\n",
       "words       super  recomiendo  buena calidad  lindo  color  encanto  tela   \n",
       "frecuencia    352         341            306    295    287      283   267   \n",
       "\n",
       "                    7922    14890   51310 29740  8745   \n",
       "words       buen producto  compra  precio  foto  bueno  \n",
       "frecuencia            252     247     227   224    224  "
      ]
     },
     "execution_count": 12,
     "metadata": {},
     "output_type": "execute_result"
    }
   ],
   "source": [
    "#extraer palabras\n",
    "wrds = pr.get_feature_names()\n",
    "wrds_freq = cv_fit.toarray().sum(axis=0)\n",
    "df_wrd = pd.DataFrame({'words':wrds, 'frecuencia':wrds_freq}).sort_values(by='frecuencia', ascending=False)\n",
    "df_wrd[:20].T"
   ]
  },
  {
   "cell_type": "markdown",
   "metadata": {},
   "source": [
    "<H1 align=\"center\"> <div class=\"alert alert-block alert-info\"><b></b>Matriz de atributos y vector objetivo</div></H1>"
   ]
  },
  {
   "cell_type": "code",
   "execution_count": 13,
   "metadata": {},
   "outputs": [],
   "source": [
    "# Matriz de atributos\n",
    "X = df['comentario_sin_re'] #Sólo columna con los comentarios\n",
    "\n",
    "# Vector objetivo\n",
    "y = df['rating']"
   ]
  },
  {
   "cell_type": "markdown",
   "metadata": {},
   "source": [
    "<H1 align=\"center\"> <div class=\"alert alert-block alert-info\"><b></b>División de la muestra</div></H1>"
   ]
  },
  {
   "cell_type": "code",
   "execution_count": 14,
   "metadata": {},
   "outputs": [],
   "source": [
    "# Proporción 70/30\n",
    "X_train, X_test, y_train, y_test = train_test_split(X, y, test_size = 0.4, random_state = 123)"
   ]
  },
  {
   "cell_type": "code",
   "execution_count": 15,
   "metadata": {},
   "outputs": [],
   "source": [
    "# Proporción 65/35\n",
    "X_train_2, X_test_2, y_train_2, y_test_2 = train_test_split(X, y, test_size = 0.35, random_state = 123)"
   ]
  },
  {
   "cell_type": "code",
   "execution_count": 16,
   "metadata": {},
   "outputs": [],
   "source": [
    "# Proporción 60/40\n",
    "X_train_3, X_test_3, y_train_3, y_test_3 = train_test_split(X, y,  test_size = 0.3, random_state = 123)"
   ]
  },
  {
   "cell_type": "markdown",
   "metadata": {},
   "source": [
    "<H1 align=\"center\"> <div class=\"alert alert-block alert-info\"><b></b>Definiciones pasos Pipeline</div></H1>"
   ]
  },
  {
   "cell_type": "code",
   "execution_count": 17,
   "metadata": {},
   "outputs": [],
   "source": [
    "var_vec = 'comentario_sin_re'"
   ]
  },
  {
   "cell_type": "code",
   "execution_count": 18,
   "metadata": {},
   "outputs": [],
   "source": [
    "vectorizada = Pipeline(steps = [(\"pr_vec\", pr)])"
   ]
  },
  {
   "cell_type": "code",
   "execution_count": 19,
   "metadata": {},
   "outputs": [],
   "source": [
    "prep = ColumnTransformer(transformers = [(\"vec\",vectorizada, var_vec)])"
   ]
  },
  {
   "cell_type": "markdown",
   "metadata": {},
   "source": [
    "<H1 align=\"center\"> <div class=\"alert alert-block alert-info\"><b></b>Modelos a implementar</div></H1>"
   ]
  },
  {
   "cell_type": "code",
   "execution_count": 20,
   "metadata": {},
   "outputs": [],
   "source": [
    "# Declaración de modelos\n",
    "modelo_svc = LinearSVC(random_state = 123)\n",
    "modelo_mnb = MultinomialNB()\n",
    "modelo_rf = RandomForestClassifier(random_state = 123)\n",
    "modelo_dtc = DecisionTreeClassifier(random_state= 123)\n",
    "modelo_abc = AdaBoostClassifier(random_state = 123)\n",
    "modelo_gbc = GradientBoostingClassifier(random_state = 123)"
   ]
  },
  {
   "cell_type": "markdown",
   "metadata": {},
   "source": [
    "<H1 align=\"center\"> <div class=\"alert alert-block alert-info\"><b></b>Entrenamiento 70/30</div></H1>"
   ]
  },
  {
   "cell_type": "markdown",
   "metadata": {},
   "source": [
    "### 1. LinearSVC"
   ]
  },
  {
   "cell_type": "code",
   "execution_count": 21,
   "metadata": {},
   "outputs": [],
   "source": [
    "pipe_1 = Pipeline(steps = [\n",
    "    (\"prep\", pr),\n",
    "    (\"modelo_1\", modelo_svc)\n",
    "])"
   ]
  },
  {
   "cell_type": "code",
   "execution_count": 22,
   "metadata": {},
   "outputs": [],
   "source": [
    "parametros_svc = {'modelo_1__C':[0.01,0.1,1,10, 100, 1000],\n",
    "                  'modelo_1__max_iter': [1000,10000]}"
   ]
  },
  {
   "cell_type": "code",
   "execution_count": 23,
   "metadata": {},
   "outputs": [
    {
     "name": "stdout",
     "output_type": "stream",
     "text": [
      "CPU times: user 1.15 s, sys: 98.8 ms, total: 1.25 s\n",
      "Wall time: 1min 6s\n"
     ]
    }
   ],
   "source": [
    "%%time\n",
    "search_svc = GridSearchCV(pipe_1, parametros_svc, cv =5,n_jobs=-1).fit(X_train, y_train)"
   ]
  },
  {
   "cell_type": "code",
   "execution_count": 24,
   "metadata": {},
   "outputs": [
    {
     "data": {
      "text/plain": [
       "{'modelo_1__C': 0.1, 'modelo_1__max_iter': 1000}"
      ]
     },
     "execution_count": 24,
     "metadata": {},
     "output_type": "execute_result"
    }
   ],
   "source": [
    "search_svc.best_params_"
   ]
  },
  {
   "cell_type": "code",
   "execution_count": 25,
   "metadata": {},
   "outputs": [],
   "source": [
    "#predicción\n",
    "y_pred_svc = search_svc.best_estimator_.predict(X_test)\n",
    "y_pred_train_svc = search_svc.best_estimator_.predict(X_train)"
   ]
  },
  {
   "cell_type": "code",
   "execution_count": 26,
   "metadata": {
    "scrolled": true
   },
   "outputs": [
    {
     "name": "stdout",
     "output_type": "stream",
     "text": [
      "Classification report - TRAIN SET\n",
      "              precision    recall  f1-score   support\n",
      "\n",
      "           1       1.00      0.98      0.99       429\n",
      "           2       1.00      0.98      0.99       125\n",
      "           3       1.00      0.94      0.97       163\n",
      "           4       1.00      0.90      0.95       298\n",
      "           5       0.97      1.00      0.99      1707\n",
      "\n",
      "    accuracy                           0.98      2722\n",
      "   macro avg       0.99      0.96      0.98      2722\n",
      "weighted avg       0.98      0.98      0.98      2722\n",
      "\n",
      "\n",
      "Classification report - TEST SET\n",
      "              precision    recall  f1-score   support\n",
      "\n",
      "           1       0.80      0.71      0.75       305\n",
      "           2       0.50      0.03      0.05        76\n",
      "           3       0.50      0.08      0.14       109\n",
      "           4       0.42      0.11      0.17       225\n",
      "           5       0.74      0.98      0.84      1101\n",
      "\n",
      "    accuracy                           0.73      1816\n",
      "   macro avg       0.59      0.38      0.39      1816\n",
      "weighted avg       0.68      0.73      0.67      1816\n",
      "\n"
     ]
    }
   ],
   "source": [
    "report(y_train,y_pred_train_svc,y_test,y_pred_svc)"
   ]
  },
  {
   "cell_type": "markdown",
   "metadata": {},
   "source": [
    "### 2. MultinomialNB"
   ]
  },
  {
   "cell_type": "code",
   "execution_count": 27,
   "metadata": {},
   "outputs": [],
   "source": [
    "pipe_2 = Pipeline(steps=[\n",
    "    ('prep', pr),\n",
    "    ('modelo_2', modelo_mnb)])"
   ]
  },
  {
   "cell_type": "code",
   "execution_count": 28,
   "metadata": {},
   "outputs": [],
   "source": [
    "parametros_mnb = {'modelo_2__alpha':(0.1,0.5,1.0),\n",
    "                  'modelo_2__fit_prior':[True]}"
   ]
  },
  {
   "cell_type": "code",
   "execution_count": 29,
   "metadata": {},
   "outputs": [
    {
     "name": "stdout",
     "output_type": "stream",
     "text": [
      "CPU times: user 361 ms, sys: 12.4 ms, total: 374 ms\n",
      "Wall time: 1.77 s\n"
     ]
    }
   ],
   "source": [
    "%%time\n",
    "search_mnb = GridSearchCV(pipe_2, parametros_mnb, cv =5,n_jobs=-1).fit(X_train, y_train)"
   ]
  },
  {
   "cell_type": "code",
   "execution_count": 30,
   "metadata": {},
   "outputs": [
    {
     "data": {
      "text/plain": [
       "{'modelo_2__alpha': 0.5, 'modelo_2__fit_prior': True}"
      ]
     },
     "execution_count": 30,
     "metadata": {},
     "output_type": "execute_result"
    }
   ],
   "source": [
    "search_mnb.best_params_"
   ]
  },
  {
   "cell_type": "code",
   "execution_count": 31,
   "metadata": {},
   "outputs": [],
   "source": [
    "#predicción\n",
    "y_pred_mnb = search_mnb.best_estimator_.predict(X_test)\n",
    "y_pred_train_mnb = search_mnb.best_estimator_.predict(X_train)"
   ]
  },
  {
   "cell_type": "code",
   "execution_count": 32,
   "metadata": {
    "scrolled": true
   },
   "outputs": [
    {
     "name": "stdout",
     "output_type": "stream",
     "text": [
      "Classification report - TRAIN SET\n",
      "              precision    recall  f1-score   support\n",
      "\n",
      "           1       0.99      0.98      0.99       429\n",
      "           2       1.00      0.97      0.98       125\n",
      "           3       0.99      0.91      0.95       163\n",
      "           4       1.00      0.89      0.94       298\n",
      "           5       0.97      1.00      0.98      1707\n",
      "\n",
      "    accuracy                           0.98      2722\n",
      "   macro avg       0.99      0.95      0.97      2722\n",
      "weighted avg       0.98      0.98      0.98      2722\n",
      "\n",
      "\n",
      "Classification report - TEST SET\n",
      "              precision    recall  f1-score   support\n",
      "\n",
      "           1       0.83      0.76      0.79       305\n",
      "           2       0.33      0.03      0.05        76\n",
      "           3       0.00      0.00      0.00       109\n",
      "           4       0.42      0.06      0.11       225\n",
      "           5       0.73      0.99      0.84      1101\n",
      "\n",
      "    accuracy                           0.74      1816\n",
      "   macro avg       0.46      0.37      0.36      1816\n",
      "weighted avg       0.65      0.74      0.66      1816\n",
      "\n"
     ]
    }
   ],
   "source": [
    "report(y_train,y_pred_train_mnb,y_test,y_pred_mnb)"
   ]
  },
  {
   "cell_type": "markdown",
   "metadata": {},
   "source": [
    "### 3. RandomForest"
   ]
  },
  {
   "cell_type": "code",
   "execution_count": 33,
   "metadata": {},
   "outputs": [],
   "source": [
    "pipe_3 = Pipeline(steps=[\n",
    "    ('prep', pr),\n",
    "    ('modelo_3', modelo_rf)])"
   ]
  },
  {
   "cell_type": "code",
   "execution_count": 34,
   "metadata": {},
   "outputs": [],
   "source": [
    "parametros_rf ={\"modelo_3__ccp_alpha\" : [0.001, 0.01, 0.1, 0.3, 0.5],\n",
    "                \"modelo_3__max_depth\" : [3, 5, 10],\n",
    "                \"modelo_3__n_estimators\": [250, 300, 500]}"
   ]
  },
  {
   "cell_type": "code",
   "execution_count": 35,
   "metadata": {},
   "outputs": [
    {
     "name": "stdout",
     "output_type": "stream",
     "text": [
      "CPU times: user 3.57 s, sys: 103 ms, total: 3.68 s\n",
      "Wall time: 2min 9s\n"
     ]
    }
   ],
   "source": [
    "%%time\n",
    "search_rf = GridSearchCV(pipe_3, parametros_rf, cv =5,n_jobs=-1).fit(X_train, y_train)"
   ]
  },
  {
   "cell_type": "code",
   "execution_count": 36,
   "metadata": {},
   "outputs": [
    {
     "data": {
      "text/plain": [
       "{'modelo_3__ccp_alpha': 0.001,\n",
       " 'modelo_3__max_depth': 3,\n",
       " 'modelo_3__n_estimators': 250}"
      ]
     },
     "execution_count": 36,
     "metadata": {},
     "output_type": "execute_result"
    }
   ],
   "source": [
    "search_rf.best_params_"
   ]
  },
  {
   "cell_type": "code",
   "execution_count": 37,
   "metadata": {},
   "outputs": [],
   "source": [
    "#predicción\n",
    "y_pred_rf = search_rf.best_estimator_.predict(X_test)\n",
    "y_pred_train_rf = search_rf.best_estimator_.predict(X_train)"
   ]
  },
  {
   "cell_type": "code",
   "execution_count": 38,
   "metadata": {
    "scrolled": true
   },
   "outputs": [
    {
     "name": "stdout",
     "output_type": "stream",
     "text": [
      "Classification report - TRAIN SET\n",
      "              precision    recall  f1-score   support\n",
      "\n",
      "           1       0.00      0.00      0.00       429\n",
      "           2       0.00      0.00      0.00       125\n",
      "           3       0.00      0.00      0.00       163\n",
      "           4       0.00      0.00      0.00       298\n",
      "           5       0.63      1.00      0.77      1707\n",
      "\n",
      "    accuracy                           0.63      2722\n",
      "   macro avg       0.13      0.20      0.15      2722\n",
      "weighted avg       0.39      0.63      0.48      2722\n",
      "\n",
      "\n",
      "Classification report - TEST SET\n",
      "              precision    recall  f1-score   support\n",
      "\n",
      "           1       0.00      0.00      0.00       305\n",
      "           2       0.00      0.00      0.00        76\n",
      "           3       0.00      0.00      0.00       109\n",
      "           4       0.00      0.00      0.00       225\n",
      "           5       0.61      1.00      0.75      1101\n",
      "\n",
      "    accuracy                           0.61      1816\n",
      "   macro avg       0.12      0.20      0.15      1816\n",
      "weighted avg       0.37      0.61      0.46      1816\n",
      "\n"
     ]
    }
   ],
   "source": [
    "report(y_train,y_pred_train_rf,y_test,y_pred_rf)"
   ]
  },
  {
   "cell_type": "markdown",
   "metadata": {},
   "source": [
    "### 4. DecisionTreeClassifier"
   ]
  },
  {
   "cell_type": "code",
   "execution_count": 39,
   "metadata": {},
   "outputs": [],
   "source": [
    "pipe_4 = Pipeline(steps=[\n",
    "    ('prep', pr),\n",
    "    ('modelo_4', modelo_dtc)])"
   ]
  },
  {
   "cell_type": "code",
   "execution_count": 40,
   "metadata": {},
   "outputs": [],
   "source": [
    "parametros_dtc = {'modelo_4__max_depth':(30,45,50,55),\n",
    "                  'modelo_4__min_samples_leaf': [1,75,100,125,150,175], \n",
    "                  'modelo_4__max_features':['sqrt','log2',None]}"
   ]
  },
  {
   "cell_type": "code",
   "execution_count": 41,
   "metadata": {},
   "outputs": [
    {
     "name": "stdout",
     "output_type": "stream",
     "text": [
      "CPU times: user 4.86 s, sys: 130 ms, total: 4.99 s\n",
      "Wall time: 43.1 s\n"
     ]
    }
   ],
   "source": [
    "%%time\n",
    "search_dtc = GridSearchCV(pipe_4, parametros_dtc, cv =5,n_jobs=-1).fit(X_train, y_train)"
   ]
  },
  {
   "cell_type": "code",
   "execution_count": 42,
   "metadata": {},
   "outputs": [
    {
     "data": {
      "text/plain": [
       "{'modelo_4__max_depth': 30,\n",
       " 'modelo_4__max_features': None,\n",
       " 'modelo_4__min_samples_leaf': 1}"
      ]
     },
     "execution_count": 42,
     "metadata": {},
     "output_type": "execute_result"
    }
   ],
   "source": [
    "search_dtc.best_params_"
   ]
  },
  {
   "cell_type": "code",
   "execution_count": 43,
   "metadata": {},
   "outputs": [],
   "source": [
    "#predicción\n",
    "y_pred_dtc = search_dtc.best_estimator_.predict(X_test)\n",
    "y_pred_train_dtc = search_dtc.best_estimator_.predict(X_train)"
   ]
  },
  {
   "cell_type": "code",
   "execution_count": 44,
   "metadata": {
    "scrolled": true
   },
   "outputs": [
    {
     "name": "stdout",
     "output_type": "stream",
     "text": [
      "Classification report - TRAIN SET\n",
      "              precision    recall  f1-score   support\n",
      "\n",
      "           1       0.97      0.74      0.84       429\n",
      "           2       0.93      0.50      0.65       125\n",
      "           3       1.00      0.42      0.59       163\n",
      "           4       0.99      0.45      0.62       298\n",
      "           5       0.80      1.00      0.89      1707\n",
      "\n",
      "    accuracy                           0.84      2722\n",
      "   macro avg       0.94      0.62      0.72      2722\n",
      "weighted avg       0.87      0.84      0.82      2722\n",
      "\n",
      "\n",
      "Classification report - TEST SET\n",
      "              precision    recall  f1-score   support\n",
      "\n",
      "           1       0.80      0.61      0.69       305\n",
      "           2       0.24      0.11      0.15        76\n",
      "           3       0.17      0.02      0.03       109\n",
      "           4       0.34      0.10      0.15       225\n",
      "           5       0.72      0.96      0.82      1101\n",
      "\n",
      "    accuracy                           0.70      1816\n",
      "   macro avg       0.45      0.36      0.37      1816\n",
      "weighted avg       0.63      0.70      0.64      1816\n",
      "\n"
     ]
    }
   ],
   "source": [
    "report(y_train,y_pred_train_dtc,y_test,y_pred_dtc)"
   ]
  },
  {
   "cell_type": "markdown",
   "metadata": {},
   "source": [
    "### 5. AdaBoostClassifier"
   ]
  },
  {
   "cell_type": "code",
   "execution_count": 45,
   "metadata": {},
   "outputs": [],
   "source": [
    "pipe_5 = Pipeline(steps=[\n",
    "    ('prep', pr),\n",
    "    ('modelo_5', modelo_abc)])"
   ]
  },
  {
   "cell_type": "code",
   "execution_count": 46,
   "metadata": {},
   "outputs": [],
   "source": [
    "parametros_abc = {'modelo_5__base_estimator' : [DecisionTreeClassifier(max_depth=2)],\n",
    "                  'modelo_5__n_estimators': [1, 50, 100, 500]}"
   ]
  },
  {
   "cell_type": "code",
   "execution_count": 47,
   "metadata": {},
   "outputs": [
    {
     "name": "stdout",
     "output_type": "stream",
     "text": [
      "CPU times: user 1.56 s, sys: 15.7 ms, total: 1.57 s\n",
      "Wall time: 44.1 s\n"
     ]
    }
   ],
   "source": [
    "%%time\n",
    "search_abc = GridSearchCV(pipe_5, parametros_abc, cv =5,n_jobs=-1).fit(X_train, y_train)"
   ]
  },
  {
   "cell_type": "code",
   "execution_count": 48,
   "metadata": {},
   "outputs": [
    {
     "data": {
      "text/plain": [
       "{'modelo_5__base_estimator': DecisionTreeClassifier(max_depth=2),\n",
       " 'modelo_5__n_estimators': 50}"
      ]
     },
     "execution_count": 48,
     "metadata": {},
     "output_type": "execute_result"
    }
   ],
   "source": [
    "search_abc.best_params_"
   ]
  },
  {
   "cell_type": "code",
   "execution_count": 49,
   "metadata": {},
   "outputs": [],
   "source": [
    "#predicción\n",
    "y_pred_abc = search_abc.best_estimator_.predict(X_test)\n",
    "y_pred_train_abc = search_abc.best_estimator_.predict(X_train)"
   ]
  },
  {
   "cell_type": "code",
   "execution_count": 50,
   "metadata": {
    "scrolled": true
   },
   "outputs": [
    {
     "name": "stdout",
     "output_type": "stream",
     "text": [
      "Classification report - TRAIN SET\n",
      "              precision    recall  f1-score   support\n",
      "\n",
      "           1       0.79      0.58      0.67       429\n",
      "           2       0.61      0.48      0.54       125\n",
      "           3       0.55      0.10      0.17       163\n",
      "           4       0.43      0.10      0.16       298\n",
      "           5       0.75      0.98      0.85      1707\n",
      "\n",
      "    accuracy                           0.74      2722\n",
      "   macro avg       0.63      0.45      0.48      2722\n",
      "weighted avg       0.70      0.74      0.69      2722\n",
      "\n",
      "\n",
      "Classification report - TEST SET\n",
      "              precision    recall  f1-score   support\n",
      "\n",
      "           1       0.78      0.55      0.65       305\n",
      "           2       0.17      0.12      0.14        76\n",
      "           3       0.30      0.06      0.09       109\n",
      "           4       0.29      0.04      0.07       225\n",
      "           5       0.71      0.96      0.82      1101\n",
      "\n",
      "    accuracy                           0.69      1816\n",
      "   macro avg       0.45      0.35      0.35      1816\n",
      "weighted avg       0.62      0.69      0.63      1816\n",
      "\n"
     ]
    }
   ],
   "source": [
    "report(y_train,y_pred_train_abc,y_test,y_pred_abc)"
   ]
  },
  {
   "cell_type": "markdown",
   "metadata": {},
   "source": [
    "### 6. GradientBoostingClassifier"
   ]
  },
  {
   "cell_type": "code",
   "execution_count": 51,
   "metadata": {},
   "outputs": [],
   "source": [
    "pipe_6 = Pipeline(steps=[\n",
    "    ('prep', pr),\n",
    "    ('modelo_6', modelo_gbc)])"
   ]
  },
  {
   "cell_type": "code",
   "execution_count": 52,
   "metadata": {},
   "outputs": [],
   "source": [
    "parametros_gbc = {\"modelo_6__learning_rate\": [0.01, 0.1, 0.5],\n",
    "                  \"modelo_6__n_estimators\" : [50, 100, 500, 1000],\n",
    "                  \"modelo_6__subsample\": [0.1,0.5,0.9]}"
   ]
  },
  {
   "cell_type": "code",
   "execution_count": 53,
   "metadata": {},
   "outputs": [
    {
     "name": "stdout",
     "output_type": "stream",
     "text": [
      "CPU times: user 2min 15s, sys: 418 ms, total: 2min 16s\n",
      "Wall time: 49min 40s\n"
     ]
    }
   ],
   "source": [
    "%%time\n",
    "search_gbc = GridSearchCV(pipe_6, parametros_gbc, cv =3,n_jobs=-1).fit(X_train, y_train)"
   ]
  },
  {
   "cell_type": "code",
   "execution_count": 54,
   "metadata": {},
   "outputs": [
    {
     "data": {
      "text/plain": [
       "{'modelo_6__learning_rate': 0.01,\n",
       " 'modelo_6__n_estimators': 1000,\n",
       " 'modelo_6__subsample': 0.9}"
      ]
     },
     "execution_count": 54,
     "metadata": {},
     "output_type": "execute_result"
    }
   ],
   "source": [
    "search_gbc.best_params_"
   ]
  },
  {
   "cell_type": "code",
   "execution_count": 55,
   "metadata": {},
   "outputs": [],
   "source": [
    "#predicción\n",
    "y_pred_gbc = search_gbc.best_estimator_.predict(X_test)\n",
    "y_pred_train_gbc = search_gbc.best_estimator_.predict(X_train)"
   ]
  },
  {
   "cell_type": "code",
   "execution_count": 56,
   "metadata": {
    "scrolled": true
   },
   "outputs": [
    {
     "name": "stdout",
     "output_type": "stream",
     "text": [
      "Classification report - TRAIN SET\n",
      "              precision    recall  f1-score   support\n",
      "\n",
      "           1       0.93      0.70      0.80       429\n",
      "           2       1.00      0.29      0.45       125\n",
      "           3       0.95      0.23      0.37       163\n",
      "           4       0.94      0.26      0.40       298\n",
      "           5       0.76      1.00      0.86      1707\n",
      "\n",
      "    accuracy                           0.79      2722\n",
      "   macro avg       0.92      0.50      0.58      2722\n",
      "weighted avg       0.83      0.79      0.75      2722\n",
      "\n",
      "\n",
      "Classification report - TEST SET\n",
      "              precision    recall  f1-score   support\n",
      "\n",
      "           1       0.84      0.65      0.74       305\n",
      "           2       0.45      0.07      0.11        76\n",
      "           3       0.20      0.02      0.03       109\n",
      "           4       0.39      0.06      0.11       225\n",
      "           5       0.71      0.98      0.83      1101\n",
      "\n",
      "    accuracy                           0.72      1816\n",
      "   macro avg       0.52      0.36      0.36      1816\n",
      "weighted avg       0.65      0.72      0.64      1816\n",
      "\n"
     ]
    }
   ],
   "source": [
    "report(y_train,y_pred_train_gbc,y_test,y_pred_gbc)"
   ]
  },
  {
   "cell_type": "markdown",
   "metadata": {},
   "source": [
    "<H1 align=\"center\"> <div class=\"alert alert-block alert-info\"><b></b>Entrenamiento 65/35</div></H1>"
   ]
  },
  {
   "cell_type": "markdown",
   "metadata": {},
   "source": [
    "### 1. LinearSVC"
   ]
  },
  {
   "cell_type": "code",
   "execution_count": 57,
   "metadata": {},
   "outputs": [
    {
     "name": "stdout",
     "output_type": "stream",
     "text": [
      "CPU times: user 1.16 s, sys: 87.1 ms, total: 1.25 s\n",
      "Wall time: 1min 13s\n"
     ]
    }
   ],
   "source": [
    "%%time\n",
    "search_svc_2 = GridSearchCV(pipe_1, parametros_svc, cv =5,n_jobs=-1).fit(X_train_2, y_train_2)"
   ]
  },
  {
   "cell_type": "code",
   "execution_count": 58,
   "metadata": {},
   "outputs": [
    {
     "data": {
      "text/plain": [
       "{'modelo_1__C': 0.1, 'modelo_1__max_iter': 1000}"
      ]
     },
     "execution_count": 58,
     "metadata": {},
     "output_type": "execute_result"
    }
   ],
   "source": [
    "search_svc_2.best_params_"
   ]
  },
  {
   "cell_type": "code",
   "execution_count": 59,
   "metadata": {},
   "outputs": [],
   "source": [
    "#predicción\n",
    "y_pred_svc_2 = search_svc_2.best_estimator_.predict(X_test_2)\n",
    "y_pred_train_svc_2 = search_svc_2.best_estimator_.predict(X_train_2)"
   ]
  },
  {
   "cell_type": "code",
   "execution_count": 60,
   "metadata": {
    "scrolled": true
   },
   "outputs": [
    {
     "name": "stdout",
     "output_type": "stream",
     "text": [
      "Classification report - TRAIN SET\n",
      "              precision    recall  f1-score   support\n",
      "\n",
      "           1       1.00      0.98      0.99       471\n",
      "           2       1.00      0.98      0.99       134\n",
      "           3       1.00      0.94      0.97       172\n",
      "           4       1.00      0.90      0.95       323\n",
      "           5       0.97      1.00      0.99      1849\n",
      "\n",
      "    accuracy                           0.98      2949\n",
      "   macro avg       0.99      0.96      0.98      2949\n",
      "weighted avg       0.98      0.98      0.98      2949\n",
      "\n",
      "\n",
      "Classification report - TEST SET\n",
      "              precision    recall  f1-score   support\n",
      "\n",
      "           1       0.78      0.74      0.76       263\n",
      "           2       0.29      0.03      0.05        67\n",
      "           3       0.47      0.08      0.14       100\n",
      "           4       0.42      0.10      0.16       200\n",
      "           5       0.74      0.98      0.84       959\n",
      "\n",
      "    accuracy                           0.73      1589\n",
      "   macro avg       0.54      0.39      0.39      1589\n",
      "weighted avg       0.67      0.73      0.67      1589\n",
      "\n"
     ]
    }
   ],
   "source": [
    "report(y_train_2,y_pred_train_svc_2,y_test_2,y_pred_svc_2)"
   ]
  },
  {
   "cell_type": "markdown",
   "metadata": {},
   "source": [
    "### 2. MultinomialNB"
   ]
  },
  {
   "cell_type": "code",
   "execution_count": 61,
   "metadata": {},
   "outputs": [
    {
     "name": "stdout",
     "output_type": "stream",
     "text": [
      "CPU times: user 391 ms, sys: 13.9 ms, total: 405 ms\n",
      "Wall time: 2.08 s\n"
     ]
    }
   ],
   "source": [
    "%%time\n",
    "search_mnb_2 = GridSearchCV(pipe_2, parametros_mnb, cv =5,n_jobs=-1).fit(X_train_2, y_train_2)"
   ]
  },
  {
   "cell_type": "code",
   "execution_count": 62,
   "metadata": {},
   "outputs": [
    {
     "data": {
      "text/plain": [
       "{'modelo_2__alpha': 0.5, 'modelo_2__fit_prior': True}"
      ]
     },
     "execution_count": 62,
     "metadata": {},
     "output_type": "execute_result"
    }
   ],
   "source": [
    "search_mnb_2.best_params_"
   ]
  },
  {
   "cell_type": "code",
   "execution_count": 63,
   "metadata": {},
   "outputs": [],
   "source": [
    "#predicción\n",
    "y_pred_mnb_2 = search_mnb_2.best_estimator_.predict(X_test_2)\n",
    "y_pred_train_mnb_2 = search_mnb_2.best_estimator_.predict(X_train_2)"
   ]
  },
  {
   "cell_type": "code",
   "execution_count": 64,
   "metadata": {
    "scrolled": true
   },
   "outputs": [
    {
     "name": "stdout",
     "output_type": "stream",
     "text": [
      "Classification report - TRAIN SET\n",
      "              precision    recall  f1-score   support\n",
      "\n",
      "           1       0.99      0.98      0.99       471\n",
      "           2       1.00      0.97      0.98       134\n",
      "           3       0.99      0.91      0.95       172\n",
      "           4       1.00      0.88      0.94       323\n",
      "           5       0.97      1.00      0.98      1849\n",
      "\n",
      "    accuracy                           0.98      2949\n",
      "   macro avg       0.99      0.95      0.97      2949\n",
      "weighted avg       0.98      0.98      0.98      2949\n",
      "\n",
      "\n",
      "Classification report - TEST SET\n",
      "              precision    recall  f1-score   support\n",
      "\n",
      "           1       0.83      0.78      0.81       263\n",
      "           2       0.33      0.03      0.05        67\n",
      "           3       0.00      0.00      0.00       100\n",
      "           4       0.43      0.05      0.09       200\n",
      "           5       0.73      0.99      0.84       959\n",
      "\n",
      "    accuracy                           0.74      1589\n",
      "   macro avg       0.47      0.37      0.36      1589\n",
      "weighted avg       0.64      0.74      0.65      1589\n",
      "\n"
     ]
    }
   ],
   "source": [
    "report(y_train_2,y_pred_train_mnb_2,y_test_2,y_pred_mnb_2)"
   ]
  },
  {
   "cell_type": "markdown",
   "metadata": {},
   "source": [
    "### 3. RandomForest"
   ]
  },
  {
   "cell_type": "code",
   "execution_count": 65,
   "metadata": {},
   "outputs": [
    {
     "name": "stdout",
     "output_type": "stream",
     "text": [
      "CPU times: user 3.9 s, sys: 108 ms, total: 4 s\n",
      "Wall time: 2min 19s\n"
     ]
    }
   ],
   "source": [
    "%%time\n",
    "search_rf_2 = GridSearchCV(pipe_3, parametros_rf, cv =5,n_jobs=-1).fit(X_train_2, y_train_2)"
   ]
  },
  {
   "cell_type": "code",
   "execution_count": 66,
   "metadata": {},
   "outputs": [
    {
     "data": {
      "text/plain": [
       "{'modelo_3__ccp_alpha': 0.001,\n",
       " 'modelo_3__max_depth': 10,\n",
       " 'modelo_3__n_estimators': 250}"
      ]
     },
     "execution_count": 66,
     "metadata": {},
     "output_type": "execute_result"
    }
   ],
   "source": [
    "search_rf_2.best_params_"
   ]
  },
  {
   "cell_type": "code",
   "execution_count": 67,
   "metadata": {},
   "outputs": [],
   "source": [
    "#predicción\n",
    "y_pred_rf_2 = search_rf_2.best_estimator_.predict(X_test_2)\n",
    "y_pred_train_rf_2 = search_rf_2.best_estimator_.predict(X_train_2)"
   ]
  },
  {
   "cell_type": "code",
   "execution_count": 68,
   "metadata": {
    "scrolled": true
   },
   "outputs": [
    {
     "name": "stdout",
     "output_type": "stream",
     "text": [
      "Classification report - TRAIN SET\n",
      "              precision    recall  f1-score   support\n",
      "\n",
      "           1       1.00      0.00      0.00       471\n",
      "           2       0.00      0.00      0.00       134\n",
      "           3       0.00      0.00      0.00       172\n",
      "           4       0.00      0.00      0.00       323\n",
      "           5       0.63      1.00      0.77      1849\n",
      "\n",
      "    accuracy                           0.63      2949\n",
      "   macro avg       0.33      0.20      0.16      2949\n",
      "weighted avg       0.55      0.63      0.48      2949\n",
      "\n",
      "\n",
      "Classification report - TEST SET\n",
      "              precision    recall  f1-score   support\n",
      "\n",
      "           1       0.00      0.00      0.00       263\n",
      "           2       0.00      0.00      0.00        67\n",
      "           3       0.00      0.00      0.00       100\n",
      "           4       0.00      0.00      0.00       200\n",
      "           5       0.60      1.00      0.75       959\n",
      "\n",
      "    accuracy                           0.60      1589\n",
      "   macro avg       0.12      0.20      0.15      1589\n",
      "weighted avg       0.36      0.60      0.45      1589\n",
      "\n"
     ]
    }
   ],
   "source": [
    "report(y_train_2,y_pred_train_rf_2,y_test_2,y_pred_rf_2)"
   ]
  },
  {
   "cell_type": "markdown",
   "metadata": {},
   "source": [
    "### 4. DecisionTreeClassifier"
   ]
  },
  {
   "cell_type": "code",
   "execution_count": 69,
   "metadata": {},
   "outputs": [
    {
     "name": "stdout",
     "output_type": "stream",
     "text": [
      "CPU times: user 5.12 s, sys: 145 ms, total: 5.27 s\n",
      "Wall time: 44.5 s\n"
     ]
    }
   ],
   "source": [
    "%%time\n",
    "search_dtc_2 = GridSearchCV(pipe_4, parametros_dtc, cv =5,n_jobs=-1).fit(X_train_2, y_train_2)"
   ]
  },
  {
   "cell_type": "code",
   "execution_count": 70,
   "metadata": {},
   "outputs": [
    {
     "data": {
      "text/plain": [
       "{'modelo_4__max_depth': 30,\n",
       " 'modelo_4__max_features': None,\n",
       " 'modelo_4__min_samples_leaf': 1}"
      ]
     },
     "execution_count": 70,
     "metadata": {},
     "output_type": "execute_result"
    }
   ],
   "source": [
    "search_dtc_2.best_params_"
   ]
  },
  {
   "cell_type": "code",
   "execution_count": 71,
   "metadata": {},
   "outputs": [],
   "source": [
    "#predicción\n",
    "y_pred_dtc_2 = search_dtc_2.best_estimator_.predict(X_test_2)\n",
    "y_pred_train_dtc_2 = search_dtc_2.best_estimator_.predict(X_train_2)"
   ]
  },
  {
   "cell_type": "code",
   "execution_count": 72,
   "metadata": {
    "scrolled": true
   },
   "outputs": [
    {
     "name": "stdout",
     "output_type": "stream",
     "text": [
      "Classification report - TRAIN SET\n",
      "              precision    recall  f1-score   support\n",
      "\n",
      "           1       0.95      0.76      0.84       471\n",
      "           2       1.00      0.41      0.58       134\n",
      "           3       1.00      0.43      0.60       172\n",
      "           4       0.90      0.46      0.61       323\n",
      "           5       0.80      0.99      0.89      1849\n",
      "\n",
      "    accuracy                           0.84      2949\n",
      "   macro avg       0.93      0.61      0.70      2949\n",
      "weighted avg       0.86      0.84      0.82      2949\n",
      "\n",
      "\n",
      "Classification report - TEST SET\n",
      "              precision    recall  f1-score   support\n",
      "\n",
      "           1       0.76      0.68      0.72       263\n",
      "           2       0.27      0.04      0.08        67\n",
      "           3       0.24      0.05      0.08       100\n",
      "           4       0.28      0.07      0.12       200\n",
      "           5       0.72      0.96      0.82       959\n",
      "\n",
      "    accuracy                           0.70      1589\n",
      "   macro avg       0.46      0.36      0.36      1589\n",
      "weighted avg       0.62      0.70      0.64      1589\n",
      "\n"
     ]
    }
   ],
   "source": [
    "report(y_train_2,y_pred_train_dtc_2,y_test_2,y_pred_dtc_2)"
   ]
  },
  {
   "cell_type": "markdown",
   "metadata": {},
   "source": [
    "### 5. AdaBoostClassifier"
   ]
  },
  {
   "cell_type": "code",
   "execution_count": 73,
   "metadata": {},
   "outputs": [
    {
     "name": "stdout",
     "output_type": "stream",
     "text": [
      "CPU times: user 2.17 s, sys: 45.6 ms, total: 2.22 s\n",
      "Wall time: 1min 6s\n"
     ]
    }
   ],
   "source": [
    "%%time\n",
    "search_abc_2 = GridSearchCV(pipe_5, parametros_abc, cv =5,n_jobs=-1).fit(X_train_2, y_train_2)"
   ]
  },
  {
   "cell_type": "code",
   "execution_count": 74,
   "metadata": {},
   "outputs": [
    {
     "data": {
      "text/plain": [
       "{'modelo_5__base_estimator': DecisionTreeClassifier(max_depth=2),\n",
       " 'modelo_5__n_estimators': 50}"
      ]
     },
     "execution_count": 74,
     "metadata": {},
     "output_type": "execute_result"
    }
   ],
   "source": [
    "search_abc_2.best_params_"
   ]
  },
  {
   "cell_type": "code",
   "execution_count": 75,
   "metadata": {},
   "outputs": [],
   "source": [
    "#predicción\n",
    "y_pred_abc_2 = search_abc_2.best_estimator_.predict(X_test_2)\n",
    "y_pred_train_abc_2 = search_abc_2.best_estimator_.predict(X_train_2)"
   ]
  },
  {
   "cell_type": "code",
   "execution_count": 76,
   "metadata": {
    "scrolled": true
   },
   "outputs": [
    {
     "name": "stdout",
     "output_type": "stream",
     "text": [
      "Classification report - TRAIN SET\n",
      "              precision    recall  f1-score   support\n",
      "\n",
      "           1       0.81      0.59      0.69       471\n",
      "           2       0.66      0.46      0.54       134\n",
      "           3       0.58      0.18      0.28       172\n",
      "           4       0.43      0.09      0.15       323\n",
      "           5       0.75      0.97      0.85      1849\n",
      "\n",
      "    accuracy                           0.75      2949\n",
      "   macro avg       0.65      0.46      0.50      2949\n",
      "weighted avg       0.71      0.75      0.70      2949\n",
      "\n",
      "\n",
      "Classification report - TEST SET\n",
      "              precision    recall  f1-score   support\n",
      "\n",
      "           1       0.78      0.58      0.67       263\n",
      "           2       0.14      0.07      0.10        67\n",
      "           3       0.19      0.06      0.09       100\n",
      "           4       0.38      0.04      0.08       200\n",
      "           5       0.71      0.96      0.81       959\n",
      "\n",
      "    accuracy                           0.69      1589\n",
      "   macro avg       0.44      0.34      0.35      1589\n",
      "weighted avg       0.62      0.69      0.62      1589\n",
      "\n"
     ]
    }
   ],
   "source": [
    "report(y_train_2,y_pred_train_abc_2,y_test_2,y_pred_abc_2)"
   ]
  },
  {
   "cell_type": "markdown",
   "metadata": {},
   "source": [
    "### 6. GradientBoostingClassifier"
   ]
  },
  {
   "cell_type": "code",
   "execution_count": 77,
   "metadata": {},
   "outputs": [
    {
     "name": "stdout",
     "output_type": "stream",
     "text": [
      "CPU times: user 2min 27s, sys: 350 ms, total: 2min 27s\n",
      "Wall time: 32min 54s\n"
     ]
    }
   ],
   "source": [
    "%%time\n",
    "search_gbc_2 = GridSearchCV(pipe_6, parametros_gbc, cv =3,n_jobs=-1).fit(X_train_2, y_train_2)"
   ]
  },
  {
   "cell_type": "code",
   "execution_count": 78,
   "metadata": {},
   "outputs": [
    {
     "data": {
      "text/plain": [
       "{'modelo_6__learning_rate': 0.01,\n",
       " 'modelo_6__n_estimators': 1000,\n",
       " 'modelo_6__subsample': 0.9}"
      ]
     },
     "execution_count": 78,
     "metadata": {},
     "output_type": "execute_result"
    }
   ],
   "source": [
    "search_gbc_2.best_params_"
   ]
  },
  {
   "cell_type": "code",
   "execution_count": 79,
   "metadata": {},
   "outputs": [],
   "source": [
    "#predicción\n",
    "y_pred_gbc_2 = search_gbc_2.best_estimator_.predict(X_test_2)\n",
    "y_pred_train_gbc_2 = search_gbc_2.best_estimator_.predict(X_train_2)"
   ]
  },
  {
   "cell_type": "code",
   "execution_count": 80,
   "metadata": {
    "scrolled": true
   },
   "outputs": [
    {
     "name": "stdout",
     "output_type": "stream",
     "text": [
      "Classification report - TRAIN SET\n",
      "              precision    recall  f1-score   support\n",
      "\n",
      "           1       0.92      0.70      0.79       471\n",
      "           2       1.00      0.26      0.41       134\n",
      "           3       0.95      0.23      0.37       172\n",
      "           4       0.93      0.26      0.41       323\n",
      "           5       0.76      1.00      0.86      1849\n",
      "\n",
      "    accuracy                           0.79      2949\n",
      "   macro avg       0.91      0.49      0.57      2949\n",
      "weighted avg       0.83      0.79      0.75      2949\n",
      "\n",
      "\n",
      "Classification report - TEST SET\n",
      "              precision    recall  f1-score   support\n",
      "\n",
      "           1       0.84      0.66      0.74       263\n",
      "           2       0.31      0.06      0.10        67\n",
      "           3       0.30      0.03      0.05       100\n",
      "           4       0.35      0.04      0.07       200\n",
      "           5       0.70      0.98      0.82       959\n",
      "\n",
      "    accuracy                           0.71      1589\n",
      "   macro avg       0.50      0.35      0.36      1589\n",
      "weighted avg       0.64      0.71      0.63      1589\n",
      "\n"
     ]
    }
   ],
   "source": [
    "report(y_train_2,y_pred_train_gbc_2,y_test_2,y_pred_gbc_2)"
   ]
  },
  {
   "cell_type": "markdown",
   "metadata": {},
   "source": [
    "<H1 align=\"center\"> <div class=\"alert alert-block alert-info\"><b></b>Entrenamiento 60/40</div></H1>"
   ]
  },
  {
   "cell_type": "markdown",
   "metadata": {},
   "source": [
    "### 1. LinearSVC"
   ]
  },
  {
   "cell_type": "code",
   "execution_count": 81,
   "metadata": {},
   "outputs": [
    {
     "name": "stdout",
     "output_type": "stream",
     "text": [
      "CPU times: user 1.34 s, sys: 104 ms, total: 1.44 s\n",
      "Wall time: 1min 24s\n"
     ]
    }
   ],
   "source": [
    "%%time\n",
    "search_svc_3 = GridSearchCV(pipe_1, parametros_svc, cv =5,n_jobs=-1).fit(X_train_3, y_train_3)"
   ]
  },
  {
   "cell_type": "code",
   "execution_count": 82,
   "metadata": {},
   "outputs": [
    {
     "data": {
      "text/plain": [
       "{'modelo_1__C': 0.1, 'modelo_1__max_iter': 1000}"
      ]
     },
     "execution_count": 82,
     "metadata": {},
     "output_type": "execute_result"
    }
   ],
   "source": [
    "search_svc_3.best_params_"
   ]
  },
  {
   "cell_type": "code",
   "execution_count": 83,
   "metadata": {},
   "outputs": [],
   "source": [
    "#predicción\n",
    "y_pred_svc_3 = search_svc_3.best_estimator_.predict(X_test_3)\n",
    "y_pred_train_svc_3 = search_svc_3.best_estimator_.predict(X_train_3)"
   ]
  },
  {
   "cell_type": "code",
   "execution_count": 84,
   "metadata": {
    "scrolled": true
   },
   "outputs": [
    {
     "name": "stdout",
     "output_type": "stream",
     "text": [
      "Classification report - TRAIN SET\n",
      "              precision    recall  f1-score   support\n",
      "\n",
      "           1       1.00      0.98      0.99       507\n",
      "           2       1.00      0.97      0.99       143\n",
      "           3       1.00      0.95      0.98       189\n",
      "           4       1.00      0.90      0.95       352\n",
      "           5       0.97      1.00      0.99      1985\n",
      "\n",
      "    accuracy                           0.98      3176\n",
      "   macro avg       0.99      0.96      0.98      3176\n",
      "weighted avg       0.98      0.98      0.98      3176\n",
      "\n",
      "\n",
      "Classification report - TEST SET\n",
      "              precision    recall  f1-score   support\n",
      "\n",
      "           1       0.77      0.76      0.76       227\n",
      "           2       0.40      0.03      0.06        58\n",
      "           3       0.41      0.08      0.14        83\n",
      "           4       0.38      0.11      0.17       171\n",
      "           5       0.75      0.97      0.85       823\n",
      "\n",
      "    accuracy                           0.73      1362\n",
      "   macro avg       0.54      0.39      0.40      1362\n",
      "weighted avg       0.67      0.73      0.67      1362\n",
      "\n"
     ]
    }
   ],
   "source": [
    "report(y_train_3,y_pred_train_svc_3,y_test_3,y_pred_svc_3)"
   ]
  },
  {
   "cell_type": "markdown",
   "metadata": {},
   "source": [
    "### 2. MultinomialNB"
   ]
  },
  {
   "cell_type": "code",
   "execution_count": 85,
   "metadata": {},
   "outputs": [
    {
     "name": "stdout",
     "output_type": "stream",
     "text": [
      "CPU times: user 406 ms, sys: 15.4 ms, total: 421 ms\n",
      "Wall time: 2.27 s\n"
     ]
    }
   ],
   "source": [
    "%%time\n",
    "search_mnb_3 = GridSearchCV(pipe_2, parametros_mnb, cv =5,n_jobs=-1).fit(X_train_3, y_train_3)"
   ]
  },
  {
   "cell_type": "code",
   "execution_count": 86,
   "metadata": {},
   "outputs": [
    {
     "data": {
      "text/plain": [
       "{'modelo_2__alpha': 0.5, 'modelo_2__fit_prior': True}"
      ]
     },
     "execution_count": 86,
     "metadata": {},
     "output_type": "execute_result"
    }
   ],
   "source": [
    "search_mnb_3.best_params_"
   ]
  },
  {
   "cell_type": "code",
   "execution_count": 87,
   "metadata": {},
   "outputs": [],
   "source": [
    "#predicción\n",
    "y_pred_mnb_3 = search_mnb_3.best_estimator_.predict(X_test_3)\n",
    "y_pred_train_mnb_3 = search_mnb_3.best_estimator_.predict(X_train_3)"
   ]
  },
  {
   "cell_type": "code",
   "execution_count": 88,
   "metadata": {
    "scrolled": true
   },
   "outputs": [
    {
     "name": "stdout",
     "output_type": "stream",
     "text": [
      "Classification report - TRAIN SET\n",
      "              precision    recall  f1-score   support\n",
      "\n",
      "           1       0.99      0.98      0.99       507\n",
      "           2       1.00      0.96      0.98       143\n",
      "           3       0.99      0.92      0.96       189\n",
      "           4       1.00      0.88      0.94       352\n",
      "           5       0.97      1.00      0.98      1985\n",
      "\n",
      "    accuracy                           0.98      3176\n",
      "   macro avg       0.99      0.95      0.97      3176\n",
      "weighted avg       0.98      0.98      0.98      3176\n",
      "\n",
      "\n",
      "Classification report - TEST SET\n",
      "              precision    recall  f1-score   support\n",
      "\n",
      "           1       0.83      0.78      0.80       227\n",
      "           2       0.50      0.03      0.06        58\n",
      "           3       0.00      0.00      0.00        83\n",
      "           4       0.50      0.06      0.10       171\n",
      "           5       0.73      1.00      0.84       823\n",
      "\n",
      "    accuracy                           0.74      1362\n",
      "   macro avg       0.51      0.37      0.36      1362\n",
      "weighted avg       0.66      0.74      0.66      1362\n",
      "\n"
     ]
    }
   ],
   "source": [
    "report(y_train_3,y_pred_train_mnb_3,y_test_3,y_pred_mnb_3)"
   ]
  },
  {
   "cell_type": "markdown",
   "metadata": {},
   "source": [
    "### 3. RandomForest"
   ]
  },
  {
   "cell_type": "code",
   "execution_count": 89,
   "metadata": {},
   "outputs": [
    {
     "name": "stdout",
     "output_type": "stream",
     "text": [
      "CPU times: user 3.78 s, sys: 101 ms, total: 3.88 s\n",
      "Wall time: 2min 12s\n"
     ]
    }
   ],
   "source": [
    "%%time\n",
    "search_rf_3 = GridSearchCV(pipe_3, parametros_rf, cv =5,n_jobs=-1).fit(X_train_3, y_train_3)"
   ]
  },
  {
   "cell_type": "code",
   "execution_count": 90,
   "metadata": {},
   "outputs": [
    {
     "data": {
      "text/plain": [
       "{'modelo_3__ccp_alpha': 0.001,\n",
       " 'modelo_3__max_depth': 10,\n",
       " 'modelo_3__n_estimators': 250}"
      ]
     },
     "execution_count": 90,
     "metadata": {},
     "output_type": "execute_result"
    }
   ],
   "source": [
    "search_rf_3.best_params_"
   ]
  },
  {
   "cell_type": "code",
   "execution_count": 91,
   "metadata": {},
   "outputs": [],
   "source": [
    "#predicción\n",
    "y_pred_rf_3 = search_rf_3.best_estimator_.predict(X_test_3)\n",
    "y_pred_train_rf_3 = search_rf_3.best_estimator_.predict(X_train_3)"
   ]
  },
  {
   "cell_type": "code",
   "execution_count": 92,
   "metadata": {
    "scrolled": true
   },
   "outputs": [
    {
     "name": "stdout",
     "output_type": "stream",
     "text": [
      "Classification report - TRAIN SET\n",
      "              precision    recall  f1-score   support\n",
      "\n",
      "           1       1.00      0.00      0.00       507\n",
      "           2       0.00      0.00      0.00       143\n",
      "           3       0.00      0.00      0.00       189\n",
      "           4       0.00      0.00      0.00       352\n",
      "           5       0.63      1.00      0.77      1985\n",
      "\n",
      "    accuracy                           0.63      3176\n",
      "   macro avg       0.33      0.20      0.15      3176\n",
      "weighted avg       0.55      0.63      0.48      3176\n",
      "\n",
      "\n",
      "Classification report - TEST SET\n",
      "              precision    recall  f1-score   support\n",
      "\n",
      "           1       0.00      0.00      0.00       227\n",
      "           2       0.00      0.00      0.00        58\n",
      "           3       0.00      0.00      0.00        83\n",
      "           4       0.00      0.00      0.00       171\n",
      "           5       0.60      1.00      0.75       823\n",
      "\n",
      "    accuracy                           0.60      1362\n",
      "   macro avg       0.12      0.20      0.15      1362\n",
      "weighted avg       0.37      0.60      0.46      1362\n",
      "\n"
     ]
    }
   ],
   "source": [
    "report(y_train_3,y_pred_train_rf_3,y_test_3,y_pred_rf_3)"
   ]
  },
  {
   "cell_type": "markdown",
   "metadata": {},
   "source": [
    "### 4. DecisionTreeClassifier"
   ]
  },
  {
   "cell_type": "code",
   "execution_count": 93,
   "metadata": {},
   "outputs": [
    {
     "name": "stdout",
     "output_type": "stream",
     "text": [
      "CPU times: user 5.86 s, sys: 162 ms, total: 6.03 s\n",
      "Wall time: 59.3 s\n"
     ]
    }
   ],
   "source": [
    "%%time\n",
    "search_dtc_3 = GridSearchCV(pipe_4, parametros_dtc, cv =5,n_jobs=-1).fit(X_train_3, y_train_3)"
   ]
  },
  {
   "cell_type": "code",
   "execution_count": 94,
   "metadata": {},
   "outputs": [
    {
     "data": {
      "text/plain": [
       "{'modelo_4__max_depth': 30,\n",
       " 'modelo_4__max_features': None,\n",
       " 'modelo_4__min_samples_leaf': 1}"
      ]
     },
     "execution_count": 94,
     "metadata": {},
     "output_type": "execute_result"
    }
   ],
   "source": [
    "search_dtc_3.best_params_"
   ]
  },
  {
   "cell_type": "code",
   "execution_count": 95,
   "metadata": {},
   "outputs": [],
   "source": [
    "#predicción\n",
    "y_pred_dtc_3 = search_dtc_3.best_estimator_.predict(X_test_3)\n",
    "y_pred_train_dtc_3 = search_dtc_3.best_estimator_.predict(X_train_3)"
   ]
  },
  {
   "cell_type": "code",
   "execution_count": 96,
   "metadata": {
    "scrolled": true
   },
   "outputs": [
    {
     "name": "stdout",
     "output_type": "stream",
     "text": [
      "Classification report - TRAIN SET\n",
      "              precision    recall  f1-score   support\n",
      "\n",
      "           1       0.98      0.74      0.85       507\n",
      "           2       1.00      0.45      0.62       143\n",
      "           3       1.00      0.37      0.54       189\n",
      "           4       0.99      0.39      0.56       352\n",
      "           5       0.79      1.00      0.88      1985\n",
      "\n",
      "    accuracy                           0.83      3176\n",
      "   macro avg       0.95      0.59      0.69      3176\n",
      "weighted avg       0.86      0.83      0.81      3176\n",
      "\n",
      "\n",
      "Classification report - TEST SET\n",
      "              precision    recall  f1-score   support\n",
      "\n",
      "           1       0.81      0.68      0.74       227\n",
      "           2       0.25      0.09      0.13        58\n",
      "           3       0.29      0.07      0.12        83\n",
      "           4       0.41      0.11      0.17       171\n",
      "           5       0.72      0.95      0.82       823\n",
      "\n",
      "    accuracy                           0.71      1362\n",
      "   macro avg       0.50      0.38      0.39      1362\n",
      "weighted avg       0.65      0.71      0.65      1362\n",
      "\n"
     ]
    }
   ],
   "source": [
    "report(y_train_3,y_pred_train_dtc_3,y_test_3,y_pred_dtc_3)"
   ]
  },
  {
   "cell_type": "markdown",
   "metadata": {},
   "source": [
    "### 5. AdaBoostClassifier"
   ]
  },
  {
   "cell_type": "code",
   "execution_count": 97,
   "metadata": {},
   "outputs": [
    {
     "name": "stdout",
     "output_type": "stream",
     "text": [
      "CPU times: user 1.79 s, sys: 20.7 ms, total: 1.81 s\n",
      "Wall time: 59.8 s\n"
     ]
    }
   ],
   "source": [
    "%%time\n",
    "search_abc_3 = GridSearchCV(pipe_5, parametros_abc, cv =5,n_jobs=-1).fit(X_train_3, y_train_3)"
   ]
  },
  {
   "cell_type": "code",
   "execution_count": 98,
   "metadata": {},
   "outputs": [
    {
     "data": {
      "text/plain": [
       "{'modelo_5__base_estimator': DecisionTreeClassifier(max_depth=2),\n",
       " 'modelo_5__n_estimators': 50}"
      ]
     },
     "execution_count": 98,
     "metadata": {},
     "output_type": "execute_result"
    }
   ],
   "source": [
    "search_abc_3.best_params_"
   ]
  },
  {
   "cell_type": "code",
   "execution_count": 99,
   "metadata": {},
   "outputs": [],
   "source": [
    "#predicción\n",
    "y_pred_abc_3 = search_abc_3.best_estimator_.predict(X_test_3)\n",
    "y_pred_train_abc_3 = search_abc_3.best_estimator_.predict(X_train_3)"
   ]
  },
  {
   "cell_type": "code",
   "execution_count": 100,
   "metadata": {
    "scrolled": true
   },
   "outputs": [
    {
     "name": "stdout",
     "output_type": "stream",
     "text": [
      "Classification report - TRAIN SET\n",
      "              precision    recall  f1-score   support\n",
      "\n",
      "           1       0.82      0.64      0.72       507\n",
      "           2       0.80      0.46      0.59       143\n",
      "           3       0.48      0.15      0.23       189\n",
      "           4       0.43      0.07      0.13       352\n",
      "           5       0.75      0.98      0.85      1985\n",
      "\n",
      "    accuracy                           0.75      3176\n",
      "   macro avg       0.66      0.46      0.50      3176\n",
      "weighted avg       0.71      0.75      0.70      3176\n",
      "\n",
      "\n",
      "Classification report - TEST SET\n",
      "              precision    recall  f1-score   support\n",
      "\n",
      "           1       0.81      0.63      0.71       227\n",
      "           2       0.22      0.10      0.14        58\n",
      "           3       0.21      0.06      0.09        83\n",
      "           4       0.35      0.04      0.07       171\n",
      "           5       0.71      0.96      0.82       823\n",
      "\n",
      "    accuracy                           0.70      1362\n",
      "   macro avg       0.46      0.36      0.37      1362\n",
      "weighted avg       0.63      0.70      0.63      1362\n",
      "\n"
     ]
    }
   ],
   "source": [
    "report(y_train_3,y_pred_train_abc_3,y_test_3,y_pred_abc_3)"
   ]
  },
  {
   "cell_type": "markdown",
   "metadata": {},
   "source": [
    "### 6. GradientBoostingClassifier"
   ]
  },
  {
   "cell_type": "code",
   "execution_count": 105,
   "metadata": {},
   "outputs": [
    {
     "name": "stdout",
     "output_type": "stream",
     "text": [
      "CPU times: user 2min 58s, sys: 3.34 s, total: 3min 1s\n",
      "Wall time: 50min 2s\n"
     ]
    }
   ],
   "source": [
    "%%time\n",
    "search_gbc_3 = GridSearchCV(pipe_6, parametros_gbc, cv =3,n_jobs=-1).fit(X_train_3, y_train_3)"
   ]
  },
  {
   "cell_type": "code",
   "execution_count": 106,
   "metadata": {},
   "outputs": [
    {
     "data": {
      "text/plain": [
       "{'modelo_6__learning_rate': 0.01,\n",
       " 'modelo_6__n_estimators': 1000,\n",
       " 'modelo_6__subsample': 0.5}"
      ]
     },
     "execution_count": 106,
     "metadata": {},
     "output_type": "execute_result"
    }
   ],
   "source": [
    "search_gbc_3.best_params_"
   ]
  },
  {
   "cell_type": "code",
   "execution_count": 107,
   "metadata": {},
   "outputs": [],
   "source": [
    "#predicción\n",
    "y_pred_gbc_3 = search_gbc_3.best_estimator_.predict(X_test_3)\n",
    "y_pred_train_gbc_3 = search_gbc_3.best_estimator_.predict(X_train_3)"
   ]
  },
  {
   "cell_type": "code",
   "execution_count": 108,
   "metadata": {
    "scrolled": true
   },
   "outputs": [
    {
     "name": "stdout",
     "output_type": "stream",
     "text": [
      "Classification report - TRAIN SET\n",
      "              precision    recall  f1-score   support\n",
      "\n",
      "           1       0.91      0.68      0.78       507\n",
      "           2       0.91      0.36      0.52       143\n",
      "           3       0.93      0.30      0.45       189\n",
      "           4       0.85      0.23      0.37       352\n",
      "           5       0.77      1.00      0.87      1985\n",
      "\n",
      "    accuracy                           0.79      3176\n",
      "   macro avg       0.88      0.51      0.60      3176\n",
      "weighted avg       0.82      0.79      0.76      3176\n",
      "\n",
      "\n",
      "Classification report - TEST SET\n",
      "              precision    recall  f1-score   support\n",
      "\n",
      "           1       0.84      0.68      0.75       227\n",
      "           2       0.25      0.05      0.09        58\n",
      "           3       0.30      0.04      0.06        83\n",
      "           4       0.34      0.06      0.10       171\n",
      "           5       0.72      0.98      0.83       823\n",
      "\n",
      "    accuracy                           0.72      1362\n",
      "   macro avg       0.49      0.36      0.37      1362\n",
      "weighted avg       0.64      0.72      0.65      1362\n",
      "\n"
     ]
    }
   ],
   "source": [
    "report(y_train_3,y_pred_train_gbc_3,y_test_3,y_pred_gbc_3)"
   ]
  },
  {
   "cell_type": "markdown",
   "metadata": {},
   "source": [
    "<H1 align=\"center\"> <div class=\"alert alert-block alert-info\"><b></b>Curva ROC</div></H1>"
   ]
  },
  {
   "cell_type": "code",
   "execution_count": null,
   "metadata": {},
   "outputs": [],
   "source": [
    "def plot_roc_curve(model, xtest_std, ytest):\n",
    "    \"\"\"\n",
    "    plot_roc_curve - Plots ROC curve of given model.\n",
    "    \n",
    "    @parameters:\n",
    "        - model: a `statsmodels.formula.api` class generated method, which must be already fitted.\n",
    "        - xtest_std: numpy.ndarray. A standarized \"x\" sample, different from the one used in the model. Object.\n",
    "        - ytest: pandas.core.series.Series. The sample to compare with the generated predicted values. Object.\n",
    "        \n",
    "    @returns:\n",
    "        - A `matplotlib` object.\n",
    "    \"\"\"\n",
    "    yhat = model.predict_proba(xtest_std)[:, 1]\n",
    "    false_positive, true_positive, threshold = roc_curve(ytest, yhat)\n",
    "    # Plot ROC curve\n",
    "    plt.title('Curva ROC')\n",
    "    plt.plot(false_positive, true_positive, lw=1)\n",
    "    plt.plot([0, 1], ls=\"--\", lw=1)\n",
    "    plt.plot([0, 0], [1, 0] , c='limegreen', lw=3), plt.plot([1, 1] , c='limegreen', lw=3)\n",
    "    plt.ylabel('Verdaderos Positivos')\n",
    "    plt.xlabel('Falsos Positivos');"
   ]
  },
  {
   "cell_type": "code",
   "execution_count": null,
   "metadata": {},
   "outputs": [],
   "source": []
  }
 ],
 "metadata": {
  "kernelspec": {
   "display_name": "Python 3",
   "language": "python",
   "name": "python3"
  },
  "language_info": {
   "codemirror_mode": {
    "name": "ipython",
    "version": 3
   },
   "file_extension": ".py",
   "mimetype": "text/x-python",
   "name": "python",
   "nbconvert_exporter": "python",
   "pygments_lexer": "ipython3",
   "version": "3.7.6"
  }
 },
 "nbformat": 4,
 "nbformat_minor": 4
}
