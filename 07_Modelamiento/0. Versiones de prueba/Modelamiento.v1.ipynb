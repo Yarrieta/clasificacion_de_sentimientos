{
 "cells": [
  {
   "cell_type": "markdown",
   "metadata": {},
   "source": [
    "<H1 align=\"center\"> <div class=\"alert alert-block alert-info\"><b></b>Preliminares</div></H1>"
   ]
  },
  {
   "cell_type": "code",
   "execution_count": 1,
   "metadata": {},
   "outputs": [],
   "source": [
    "import pandas as pd\n",
    "import numpy as np\n",
    "import csv\n",
    "import re\n",
    "import h2_funciones_auxiliares as faux\n",
    "\n",
    "# Para preprocesar datos y realizar wordcloud.\n",
    "from sklearn.feature_extraction.text import CountVectorizer\n",
    "from wordcloud import WordCloud\n",
    "from nltk.corpus import stopwords\n",
    "from nltk.stem import WordNetLemmatizer\n",
    "lemmatizer = WordNetLemmatizer()\n",
    "import re\n",
    "from string import punctuation\n",
    "\n",
    "# Para implementar modelos de machine learning.\n",
    "from sklearn.svm import SVC, LinearSVC\n",
    "from sklearn.naive_bayes import MultinomialNB\n",
    "from sklearn.tree import DecisionTreeClassifier, plot_tree, export_graphviz\n",
    "from sklearn.ensemble import RandomForestClassifier, AdaBoostClassifier, GradientBoostingClassifier\n",
    "\n",
    "from sklearn.model_selection import train_test_split, GridSearchCV\n",
    "from sklearn.preprocessing import StandardScaler, PowerTransformer\n",
    "from sklearn.pipeline import Pipeline\n",
    "from sklearn.compose import ColumnTransformer\n",
    "from sklearn.impute import SimpleImputer\n",
    "from sklearn.metrics import classification_report, roc_curve\n",
    "from sklearn import set_config\n",
    "set_config(display = 'diagram')\n",
    "\n",
    "# Para recodificación de atributos\n",
    "from category_encoders import TargetEncoder, OrdinalEncoder, OneHotEncoder\n",
    "\n",
    "from datetime import datetime\n",
    "\n",
    "# Para visualización\n",
    "import graphviz\n",
    "\n",
    "# Para serialización\n",
    "import pickle\n",
    "\n",
    "# Para evitar mensajes de deprecación\n",
    "import warnings \n",
    "warnings.filterwarnings(\"ignore\")"
   ]
  },
  {
   "cell_type": "code",
   "execution_count": 2,
   "metadata": {},
   "outputs": [],
   "source": [
    "# FUNCIÓN PARA OBTENER CLASSIFICATION REPORT:\n",
    "def report(y_train, y_pred_train, y_test, y_pred):\n",
    "    print(\"Classification report - TRAIN SET\")\n",
    "    print(classification_report(y_train, y_pred_train))\n",
    "    print(\"\\nClassification report - TEST SET\")\n",
    "    print(classification_report(y_test, y_pred))\n",
    "\n",
    "# FUNCIÓN PARA CLASSIFICATION REPORT - SÓLO TEST SET\n",
    "def test_classification_report(nombre_modelo, y_test, y_hat):\n",
    "    print(\"\\nTEST SET - Classification report - {}\".format(nombre_modelo.upper()) )\n",
    "    print(classification_report(y_test, y_hat))"
   ]
  },
  {
   "cell_type": "code",
   "execution_count": 3,
   "metadata": {},
   "outputs": [],
   "source": [
    "df = pd.read_csv('mod_ripley.csv').drop(columns = 'comentario')"
   ]
  },
  {
   "cell_type": "code",
   "execution_count": 4,
   "metadata": {},
   "outputs": [
    {
     "data": {
      "text/html": [
       "<div>\n",
       "<style scoped>\n",
       "    .dataframe tbody tr th:only-of-type {\n",
       "        vertical-align: middle;\n",
       "    }\n",
       "\n",
       "    .dataframe tbody tr th {\n",
       "        vertical-align: top;\n",
       "    }\n",
       "\n",
       "    .dataframe thead th {\n",
       "        text-align: right;\n",
       "    }\n",
       "</style>\n",
       "<table border=\"1\" class=\"dataframe\">\n",
       "  <thead>\n",
       "    <tr style=\"text-align: right;\">\n",
       "      <th></th>\n",
       "      <th>retail</th>\n",
       "      <th>categoria</th>\n",
       "      <th>producto</th>\n",
       "      <th>precio_original</th>\n",
       "      <th>precio_internet</th>\n",
       "      <th>precio_oferta</th>\n",
       "      <th>rating</th>\n",
       "      <th>comentario_sin_re</th>\n",
       "    </tr>\n",
       "  </thead>\n",
       "  <tbody>\n",
       "    <tr>\n",
       "      <th>0</th>\n",
       "      <td>ripley</td>\n",
       "      <td>belleza</td>\n",
       "      <td>60 SLIM PATCH</td>\n",
       "      <td>16990</td>\n",
       "      <td>9990</td>\n",
       "      <td>0</td>\n",
       "      <td>4</td>\n",
       "      <td>personalmente lo ocupe solo por hr y de noche ...</td>\n",
       "    </tr>\n",
       "    <tr>\n",
       "      <th>1</th>\n",
       "      <td>ripley</td>\n",
       "      <td>belleza</td>\n",
       "      <td>AUTOBRONCEADOR CLINIQUE FACE BRONZING GEL TINT...</td>\n",
       "      <td>51990</td>\n",
       "      <td>25990</td>\n",
       "      <td>0</td>\n",
       "      <td>5</td>\n",
       "      <td>es muy bueno para el rostro</td>\n",
       "    </tr>\n",
       "    <tr>\n",
       "      <th>2</th>\n",
       "      <td>ripley</td>\n",
       "      <td>belleza</td>\n",
       "      <td>NaN</td>\n",
       "      <td>0</td>\n",
       "      <td>0</td>\n",
       "      <td>0</td>\n",
       "      <td>5</td>\n",
       "      <td>me encanta se absorbe rapido rico aroma de la ...</td>\n",
       "    </tr>\n",
       "  </tbody>\n",
       "</table>\n",
       "</div>"
      ],
      "text/plain": [
       "   retail categoria                                           producto  \\\n",
       "0  ripley   belleza                                      60 SLIM PATCH   \n",
       "1  ripley   belleza  AUTOBRONCEADOR CLINIQUE FACE BRONZING GEL TINT...   \n",
       "2  ripley   belleza                                                NaN   \n",
       "\n",
       "   precio_original  precio_internet  precio_oferta  rating  \\\n",
       "0            16990             9990              0       4   \n",
       "1            51990            25990              0       5   \n",
       "2                0                0              0       5   \n",
       "\n",
       "                                   comentario_sin_re  \n",
       "0  personalmente lo ocupe solo por hr y de noche ...  \n",
       "1                        es muy bueno para el rostro  \n",
       "2  me encanta se absorbe rapido rico aroma de la ...  "
      ]
     },
     "execution_count": 4,
     "metadata": {},
     "output_type": "execute_result"
    }
   ],
   "source": [
    "df.head(3)"
   ]
  },
  {
   "cell_type": "code",
   "execution_count": 5,
   "metadata": {},
   "outputs": [],
   "source": [
    "df = df.drop(df[df['rating'] == 0].index).dropna()"
   ]
  },
  {
   "cell_type": "code",
   "execution_count": 6,
   "metadata": {},
   "outputs": [
    {
     "data": {
      "text/plain": [
       "(4538, 8)"
      ]
     },
     "execution_count": 6,
     "metadata": {},
     "output_type": "execute_result"
    }
   ],
   "source": [
    "df.shape"
   ]
  },
  {
   "cell_type": "markdown",
   "metadata": {},
   "source": [
    "<H1 align=\"center\"> <div class=\"alert alert-block alert-info\"><b></b>CountVectorizer</div></H1>"
   ]
  },
  {
   "cell_type": "code",
   "execution_count": 7,
   "metadata": {},
   "outputs": [],
   "source": [
    "sw = set(stopwords.words('spanish') + list(punctuation)+ ['mas', 'si','ve','asi','menos','igual','ser','tal','aun',\n",
    "                                                          'viene','ahora','puede','parte','todas'])"
   ]
  },
  {
   "cell_type": "code",
   "execution_count": 8,
   "metadata": {},
   "outputs": [],
   "source": [
    "pr = CountVectorizer(analyzer = 'word',\n",
    "                    stop_words = sw, \n",
    "                    min_df = 1,\n",
    "                    ngram_range =(1,3),\n",
    "                    lowercase = True)"
   ]
  },
  {
   "cell_type": "code",
   "execution_count": 9,
   "metadata": {},
   "outputs": [],
   "source": [
    "cv_fit = pr.fit_transform(df['comentario_sin_re'])"
   ]
  },
  {
   "cell_type": "code",
   "execution_count": 10,
   "metadata": {},
   "outputs": [
    {
     "data": {
      "text/html": [
       "<div>\n",
       "<style scoped>\n",
       "    .dataframe tbody tr th:only-of-type {\n",
       "        vertical-align: middle;\n",
       "    }\n",
       "\n",
       "    .dataframe tbody tr th {\n",
       "        vertical-align: top;\n",
       "    }\n",
       "\n",
       "    .dataframe thead th {\n",
       "        text-align: right;\n",
       "    }\n",
       "</style>\n",
       "<table border=\"1\" class=\"dataframe\">\n",
       "  <thead>\n",
       "    <tr style=\"text-align: right;\">\n",
       "      <th></th>\n",
       "      <th>52504</th>\n",
       "      <th>9817</th>\n",
       "      <th>27249</th>\n",
       "      <th>8107</th>\n",
       "      <th>7714</th>\n",
       "      <th>6122</th>\n",
       "      <th>62923</th>\n",
       "      <th>15420</th>\n",
       "      <th>62205</th>\n",
       "      <th>56380</th>\n",
       "      <th>8144</th>\n",
       "      <th>38142</th>\n",
       "      <th>13413</th>\n",
       "      <th>24449</th>\n",
       "      <th>64133</th>\n",
       "      <th>7922</th>\n",
       "      <th>14890</th>\n",
       "      <th>51310</th>\n",
       "      <th>29740</th>\n",
       "      <th>8745</th>\n",
       "    </tr>\n",
       "  </thead>\n",
       "  <tbody>\n",
       "    <tr>\n",
       "      <th>words</th>\n",
       "      <td>producto</td>\n",
       "      <td>calidad</td>\n",
       "      <td>excelente</td>\n",
       "      <td>buena</td>\n",
       "      <td>buen</td>\n",
       "      <td>bien</td>\n",
       "      <td>talla</td>\n",
       "      <td>compre</td>\n",
       "      <td>super</td>\n",
       "      <td>recomiendo</td>\n",
       "      <td>buena calidad</td>\n",
       "      <td>lindo</td>\n",
       "      <td>color</td>\n",
       "      <td>encanto</td>\n",
       "      <td>tela</td>\n",
       "      <td>buen producto</td>\n",
       "      <td>compra</td>\n",
       "      <td>precio</td>\n",
       "      <td>foto</td>\n",
       "      <td>bueno</td>\n",
       "    </tr>\n",
       "    <tr>\n",
       "      <th>frecuencia</th>\n",
       "      <td>885</td>\n",
       "      <td>712</td>\n",
       "      <td>709</td>\n",
       "      <td>629</td>\n",
       "      <td>517</td>\n",
       "      <td>498</td>\n",
       "      <td>494</td>\n",
       "      <td>447</td>\n",
       "      <td>352</td>\n",
       "      <td>341</td>\n",
       "      <td>306</td>\n",
       "      <td>295</td>\n",
       "      <td>287</td>\n",
       "      <td>283</td>\n",
       "      <td>267</td>\n",
       "      <td>252</td>\n",
       "      <td>247</td>\n",
       "      <td>227</td>\n",
       "      <td>224</td>\n",
       "      <td>224</td>\n",
       "    </tr>\n",
       "  </tbody>\n",
       "</table>\n",
       "</div>"
      ],
      "text/plain": [
       "               52504    9817       27249  8107  7714  6122   62923   15420  \\\n",
       "words       producto  calidad  excelente  buena  buen  bien  talla  compre   \n",
       "frecuencia       885      712        709    629   517   498    494     447   \n",
       "\n",
       "            62205       56380          8144   38142  13413    24449 64133  \\\n",
       "words       super  recomiendo  buena calidad  lindo  color  encanto  tela   \n",
       "frecuencia    352         341            306    295    287      283   267   \n",
       "\n",
       "                    7922    14890   51310 29740  8745   \n",
       "words       buen producto  compra  precio  foto  bueno  \n",
       "frecuencia            252     247     227   224    224  "
      ]
     },
     "execution_count": 10,
     "metadata": {},
     "output_type": "execute_result"
    }
   ],
   "source": [
    "#extraer palabras\n",
    "wrds = pr.get_feature_names()\n",
    "wrds_freq = cv_fit.toarray().sum(axis=0)\n",
    "df_wrd = pd.DataFrame({'words':wrds, 'frecuencia':wrds_freq}).sort_values(by='frecuencia', ascending=False)\n",
    "df_wrd[:20].T"
   ]
  },
  {
   "cell_type": "markdown",
   "metadata": {},
   "source": [
    "<H1 align=\"center\"> <div class=\"alert alert-block alert-info\"><b></b>Matriz de atributos y vector objetivo</div></H1>"
   ]
  },
  {
   "cell_type": "code",
   "execution_count": 11,
   "metadata": {},
   "outputs": [],
   "source": [
    "# Matriz de atributos\n",
    "X = df.drop(columns = 'rating')\n",
    "\n",
    "# Vector objetivo\n",
    "y = df['rating']"
   ]
  },
  {
   "cell_type": "markdown",
   "metadata": {},
   "source": [
    "<H1 align=\"center\"> <div class=\"alert alert-block alert-info\"><b></b>División de la muestra</div></H1>"
   ]
  },
  {
   "cell_type": "code",
   "execution_count": 12,
   "metadata": {},
   "outputs": [],
   "source": [
    "# División de la muestra\n",
    "X_train, X_test, y_train, y_test = train_test_split(X, y, test_size = 0.3, random_state = 123)"
   ]
  },
  {
   "cell_type": "markdown",
   "metadata": {},
   "source": [
    "<H1 align=\"center\"> <div class=\"alert alert-block alert-info\"><b></b>Definiciones pasos Pipeline</div></H1>"
   ]
  },
  {
   "cell_type": "code",
   "execution_count": 13,
   "metadata": {},
   "outputs": [],
   "source": [
    "is_cat = ['categoria','producto']\n",
    "var_vec = 'comentario_sin_re'"
   ]
  },
  {
   "cell_type": "code",
   "execution_count": 14,
   "metadata": {},
   "outputs": [],
   "source": [
    "categoricas = Pipeline(steps = [\n",
    "    (\"ohe\", OneHotEncoder(use_cat_names = True))\n",
    "])\n",
    "\n",
    "vectorizada = Pipeline(steps = [\n",
    "    (\"pr_vec\", pr)\n",
    "])\n",
    "\n",
    "prep = ColumnTransformer(transformers = [\n",
    "    (\"cat\", categoricas, is_cat),\n",
    "    (\"vec\",vectorizada, var_vec)])"
   ]
  },
  {
   "cell_type": "markdown",
   "metadata": {},
   "source": [
    "<H1 align=\"center\"> <div class=\"alert alert-block alert-info\"><b></b>Modelos a implementar</div></H1>"
   ]
  },
  {
   "cell_type": "code",
   "execution_count": 15,
   "metadata": {},
   "outputs": [],
   "source": [
    "# Declaración de modelos\n",
    "modelo_svc = LinearSVC(random_state = 123)\n",
    "modelo_mnb = MultinomialNB()\n",
    "modelo_rf = RandomForestClassifier(random_state = 123)\n",
    "modelo_dtc = DecisionTreeClassifier(random_state= 123)\n",
    "modelo_abc = AdaBoostClassifier(random_state = 123)\n",
    "modelo_gbc = GradientBoostingClassifier(random_state = 123)"
   ]
  },
  {
   "cell_type": "markdown",
   "metadata": {},
   "source": [
    "<H1 align=\"center\"> <div class=\"alert alert-block alert-info\"><b></b>Entrenamiento 70/30</div></H1>"
   ]
  },
  {
   "cell_type": "markdown",
   "metadata": {},
   "source": [
    "### 1. LinearSVC"
   ]
  },
  {
   "cell_type": "code",
   "execution_count": 16,
   "metadata": {},
   "outputs": [],
   "source": [
    "pipe_1 = Pipeline(steps = [\n",
    "    (\"prep\", prep),\n",
    "    (\"modelo_1\", modelo_svc)\n",
    "])"
   ]
  },
  {
   "cell_type": "code",
   "execution_count": 17,
   "metadata": {},
   "outputs": [],
   "source": [
    "parametros_svc = {'modelo_1__C':[0.01,0.1,1,10, 100, 1000],\n",
    "                  'modelo_1__max_iter': [1000,10000]}"
   ]
  },
  {
   "cell_type": "code",
   "execution_count": 18,
   "metadata": {},
   "outputs": [
    {
     "name": "stdout",
     "output_type": "stream",
     "text": [
      "CPU times: user 1.92 s, sys: 275 ms, total: 2.2 s\n",
      "Wall time: 1min\n"
     ]
    }
   ],
   "source": [
    "%%time\n",
    "search_svc = GridSearchCV(pipe_1, parametros_svc, cv =5,n_jobs=-1).fit(X_train, y_train)"
   ]
  },
  {
   "cell_type": "code",
   "execution_count": 19,
   "metadata": {},
   "outputs": [
    {
     "data": {
      "text/plain": [
       "{'modelo_1__C': 0.1, 'modelo_1__max_iter': 1000}"
      ]
     },
     "execution_count": 19,
     "metadata": {},
     "output_type": "execute_result"
    }
   ],
   "source": [
    "search_svc.best_params_"
   ]
  },
  {
   "cell_type": "code",
   "execution_count": 20,
   "metadata": {},
   "outputs": [],
   "source": [
    "#predicción\n",
    "y_pred_svc = search_svc.best_estimator_.predict(X_test)\n",
    "y_pred_train_svc = search_svc.best_estimator_.predict(X_train)"
   ]
  },
  {
   "cell_type": "code",
   "execution_count": 21,
   "metadata": {
    "scrolled": true
   },
   "outputs": [
    {
     "name": "stdout",
     "output_type": "stream",
     "text": [
      "Classification report - TRAIN SET\n",
      "              precision    recall  f1-score   support\n",
      "\n",
      "           1       1.00      0.99      0.99       507\n",
      "           2       1.00      0.99      1.00       143\n",
      "           3       1.00      0.97      0.99       189\n",
      "           4       1.00      0.92      0.96       352\n",
      "           5       0.98      1.00      0.99      1985\n",
      "\n",
      "    accuracy                           0.99      3176\n",
      "   macro avg       1.00      0.97      0.98      3176\n",
      "weighted avg       0.99      0.99      0.99      3176\n",
      "\n",
      "\n",
      "Classification report - TEST SET\n",
      "              precision    recall  f1-score   support\n",
      "\n",
      "           1       0.79      0.75      0.77       227\n",
      "           2       0.43      0.05      0.09        58\n",
      "           3       0.41      0.08      0.14        83\n",
      "           4       0.47      0.14      0.22       171\n",
      "           5       0.75      0.98      0.85       823\n",
      "\n",
      "    accuracy                           0.74      1362\n",
      "   macro avg       0.57      0.40      0.41      1362\n",
      "weighted avg       0.69      0.74      0.68      1362\n",
      "\n"
     ]
    }
   ],
   "source": [
    "report(y_train,y_pred_train_svc,y_test,y_pred_svc)"
   ]
  },
  {
   "cell_type": "markdown",
   "metadata": {},
   "source": [
    "### 2. MultinomialNB"
   ]
  },
  {
   "cell_type": "code",
   "execution_count": 22,
   "metadata": {},
   "outputs": [],
   "source": [
    "pipe_2 = Pipeline(steps=[\n",
    "    ('prep', prep),\n",
    "    ('modelo_2', modelo_mnb)])"
   ]
  },
  {
   "cell_type": "code",
   "execution_count": 23,
   "metadata": {},
   "outputs": [],
   "source": [
    "parametros_mnb = {'modelo_2__alpha':(0.1,0.5,1.0),\n",
    "                  'modelo_2__fit_prior':[True]}"
   ]
  },
  {
   "cell_type": "code",
   "execution_count": 24,
   "metadata": {},
   "outputs": [
    {
     "name": "stdout",
     "output_type": "stream",
     "text": [
      "CPU times: user 901 ms, sys: 155 ms, total: 1.06 s\n",
      "Wall time: 7.89 s\n"
     ]
    }
   ],
   "source": [
    "%%time\n",
    "search_mnb = GridSearchCV(pipe_2, parametros_mnb, cv =5,n_jobs=-1).fit(X_train, y_train)"
   ]
  },
  {
   "cell_type": "code",
   "execution_count": 25,
   "metadata": {},
   "outputs": [
    {
     "data": {
      "text/plain": [
       "{'modelo_2__alpha': 0.5, 'modelo_2__fit_prior': True}"
      ]
     },
     "execution_count": 25,
     "metadata": {},
     "output_type": "execute_result"
    }
   ],
   "source": [
    "search_mnb.best_params_"
   ]
  },
  {
   "cell_type": "code",
   "execution_count": 26,
   "metadata": {},
   "outputs": [],
   "source": [
    "#predicción\n",
    "y_pred_mnb = search_mnb.best_estimator_.predict(X_test)\n",
    "y_pred_train_mnb = search_mnb.best_estimator_.predict(X_train)"
   ]
  },
  {
   "cell_type": "code",
   "execution_count": 27,
   "metadata": {
    "scrolled": true
   },
   "outputs": [
    {
     "name": "stdout",
     "output_type": "stream",
     "text": [
      "Classification report - TRAIN SET\n",
      "              precision    recall  f1-score   support\n",
      "\n",
      "           1       1.00      0.98      0.99       507\n",
      "           2       1.00      0.96      0.98       143\n",
      "           3       0.99      0.91      0.95       189\n",
      "           4       1.00      0.88      0.94       352\n",
      "           5       0.96      1.00      0.98      1985\n",
      "\n",
      "    accuracy                           0.98      3176\n",
      "   macro avg       0.99      0.95      0.97      3176\n",
      "weighted avg       0.98      0.98      0.98      3176\n",
      "\n",
      "\n",
      "Classification report - TEST SET\n",
      "              precision    recall  f1-score   support\n",
      "\n",
      "           1       0.83      0.74      0.78       227\n",
      "           2       0.50      0.03      0.06        58\n",
      "           3       0.00      0.00      0.00        83\n",
      "           4       0.62      0.06      0.11       171\n",
      "           5       0.72      1.00      0.83       823\n",
      "\n",
      "    accuracy                           0.73      1362\n",
      "   macro avg       0.53      0.36      0.36      1362\n",
      "weighted avg       0.67      0.73      0.65      1362\n",
      "\n"
     ]
    }
   ],
   "source": [
    "report(y_train,y_pred_train_mnb,y_test,y_pred_mnb)"
   ]
  },
  {
   "cell_type": "markdown",
   "metadata": {},
   "source": [
    "### 3. RandomForest"
   ]
  },
  {
   "cell_type": "code",
   "execution_count": 28,
   "metadata": {},
   "outputs": [],
   "source": [
    "pipe_3 = Pipeline(steps=[\n",
    "    ('prep', prep),\n",
    "    ('modelo_3', modelo_rf)])"
   ]
  },
  {
   "cell_type": "code",
   "execution_count": 29,
   "metadata": {},
   "outputs": [],
   "source": [
    "parametros_rf ={\"modelo_3__ccp_alpha\" : [0.001, 0.01, 0.1, 0.3, 0.5],\n",
    "                \"modelo_3__max_depth\" : [3, 5, 10],\n",
    "                \"modelo_3__n_estimators\": [250, 300, 500]}"
   ]
  },
  {
   "cell_type": "code",
   "execution_count": 30,
   "metadata": {},
   "outputs": [
    {
     "name": "stdout",
     "output_type": "stream",
     "text": [
      "CPU times: user 5.74 s, sys: 330 ms, total: 6.07 s\n",
      "Wall time: 4min 13s\n"
     ]
    }
   ],
   "source": [
    "%%time\n",
    "search_rf = GridSearchCV(pipe_3, parametros_rf, cv =5,n_jobs=-1).fit(X_train, y_train)"
   ]
  },
  {
   "cell_type": "code",
   "execution_count": 31,
   "metadata": {},
   "outputs": [
    {
     "data": {
      "text/plain": [
       "{'modelo_3__ccp_alpha': 0.001,\n",
       " 'modelo_3__max_depth': 10,\n",
       " 'modelo_3__n_estimators': 250}"
      ]
     },
     "execution_count": 31,
     "metadata": {},
     "output_type": "execute_result"
    }
   ],
   "source": [
    "search_rf.best_params_"
   ]
  },
  {
   "cell_type": "code",
   "execution_count": 32,
   "metadata": {},
   "outputs": [],
   "source": [
    "#predicción\n",
    "y_pred_rf = search_rf.best_estimator_.predict(X_test)\n",
    "y_pred_train_rf = search_rf.best_estimator_.predict(X_train)"
   ]
  },
  {
   "cell_type": "code",
   "execution_count": 33,
   "metadata": {
    "scrolled": true
   },
   "outputs": [
    {
     "name": "stdout",
     "output_type": "stream",
     "text": [
      "Classification report - TRAIN SET\n",
      "              precision    recall  f1-score   support\n",
      "\n",
      "           1       1.00      0.00      0.00       507\n",
      "           2       0.00      0.00      0.00       143\n",
      "           3       0.00      0.00      0.00       189\n",
      "           4       0.00      0.00      0.00       352\n",
      "           5       0.63      1.00      0.77      1985\n",
      "\n",
      "    accuracy                           0.63      3176\n",
      "   macro avg       0.33      0.20      0.15      3176\n",
      "weighted avg       0.55      0.63      0.48      3176\n",
      "\n",
      "\n",
      "Classification report - TEST SET\n",
      "              precision    recall  f1-score   support\n",
      "\n",
      "           1       0.00      0.00      0.00       227\n",
      "           2       0.00      0.00      0.00        58\n",
      "           3       0.00      0.00      0.00        83\n",
      "           4       0.00      0.00      0.00       171\n",
      "           5       0.60      1.00      0.75       823\n",
      "\n",
      "    accuracy                           0.60      1362\n",
      "   macro avg       0.12      0.20      0.15      1362\n",
      "weighted avg       0.37      0.60      0.46      1362\n",
      "\n"
     ]
    }
   ],
   "source": [
    "report(y_train,y_pred_train_rf,y_test,y_pred_rf)"
   ]
  },
  {
   "cell_type": "markdown",
   "metadata": {},
   "source": [
    "### 4. DecisionTreeClassifier"
   ]
  },
  {
   "cell_type": "code",
   "execution_count": 34,
   "metadata": {},
   "outputs": [],
   "source": [
    "pipe_4 = Pipeline(steps=[\n",
    "    ('prep', prep),\n",
    "    ('modelo_4', modelo_dtc)])"
   ]
  },
  {
   "cell_type": "code",
   "execution_count": 35,
   "metadata": {},
   "outputs": [],
   "source": [
    "parametros_dtc = {'modelo_4__max_depth':(30,45,50,55),\n",
    "                  'modelo_4__min_samples_leaf': [1,75,100,125,150,175], \n",
    "                  'modelo_4__max_features':['sqrt','log2',None]}"
   ]
  },
  {
   "cell_type": "code",
   "execution_count": 36,
   "metadata": {},
   "outputs": [
    {
     "name": "stdout",
     "output_type": "stream",
     "text": [
      "CPU times: user 7.81 s, sys: 399 ms, total: 8.21 s\n",
      "Wall time: 2min 45s\n"
     ]
    }
   ],
   "source": [
    "%%time\n",
    "search_dtc = GridSearchCV(pipe_4, parametros_dtc, cv =5,n_jobs=-1).fit(X_train, y_train)"
   ]
  },
  {
   "cell_type": "code",
   "execution_count": 37,
   "metadata": {},
   "outputs": [
    {
     "data": {
      "text/plain": [
       "{'modelo_4__max_depth': 30,\n",
       " 'modelo_4__max_features': None,\n",
       " 'modelo_4__min_samples_leaf': 1}"
      ]
     },
     "execution_count": 37,
     "metadata": {},
     "output_type": "execute_result"
    }
   ],
   "source": [
    "search_dtc.best_params_"
   ]
  },
  {
   "cell_type": "code",
   "execution_count": 38,
   "metadata": {},
   "outputs": [],
   "source": [
    "#predicción\n",
    "y_pred_dtc = search_dtc.best_estimator_.predict(X_test)\n",
    "y_pred_train_dtc = search_dtc.best_estimator_.predict(X_train)"
   ]
  },
  {
   "cell_type": "code",
   "execution_count": 39,
   "metadata": {
    "scrolled": true
   },
   "outputs": [
    {
     "name": "stdout",
     "output_type": "stream",
     "text": [
      "Classification report - TRAIN SET\n",
      "              precision    recall  f1-score   support\n",
      "\n",
      "           1       0.98      0.75      0.85       507\n",
      "           2       1.00      0.52      0.68       143\n",
      "           3       0.99      0.44      0.61       189\n",
      "           4       0.99      0.47      0.64       352\n",
      "           5       0.81      1.00      0.89      1985\n",
      "\n",
      "    accuracy                           0.85      3176\n",
      "   macro avg       0.95      0.63      0.73      3176\n",
      "weighted avg       0.87      0.85      0.83      3176\n",
      "\n",
      "\n",
      "Classification report - TEST SET\n",
      "              precision    recall  f1-score   support\n",
      "\n",
      "           1       0.79      0.69      0.74       227\n",
      "           2       0.45      0.09      0.14        58\n",
      "           3       0.06      0.01      0.02        83\n",
      "           4       0.34      0.09      0.15       171\n",
      "           5       0.71      0.95      0.81       823\n",
      "\n",
      "    accuracy                           0.70      1362\n",
      "   macro avg       0.47      0.37      0.37      1362\n",
      "weighted avg       0.63      0.70      0.64      1362\n",
      "\n"
     ]
    }
   ],
   "source": [
    "report(y_train,y_pred_train_dtc,y_test,y_pred_dtc)"
   ]
  },
  {
   "cell_type": "markdown",
   "metadata": {},
   "source": [
    "### 5. AdaBoostClassifier"
   ]
  },
  {
   "cell_type": "code",
   "execution_count": 40,
   "metadata": {},
   "outputs": [],
   "source": [
    "pipe_5 = Pipeline(steps=[\n",
    "    ('prep', prep),\n",
    "    ('modelo_5', modelo_abc)])"
   ]
  },
  {
   "cell_type": "code",
   "execution_count": 41,
   "metadata": {},
   "outputs": [],
   "source": [
    "parametros_abc = {'modelo_5__base_estimator' : [DecisionTreeClassifier(max_depth=2)],\n",
    "                  'modelo_5__n_estimators': [1, 50, 100, 500]}"
   ]
  },
  {
   "cell_type": "code",
   "execution_count": 42,
   "metadata": {},
   "outputs": [
    {
     "name": "stdout",
     "output_type": "stream",
     "text": [
      "CPU times: user 2.61 s, sys: 159 ms, total: 2.77 s\n",
      "Wall time: 39.8 s\n"
     ]
    }
   ],
   "source": [
    "%%time\n",
    "search_abc = GridSearchCV(pipe_5, parametros_abc, cv =3,n_jobs=-1).fit(X_train, y_train)"
   ]
  },
  {
   "cell_type": "code",
   "execution_count": 43,
   "metadata": {},
   "outputs": [
    {
     "data": {
      "text/plain": [
       "{'modelo_5__base_estimator': DecisionTreeClassifier(max_depth=2),\n",
       " 'modelo_5__n_estimators': 50}"
      ]
     },
     "execution_count": 43,
     "metadata": {},
     "output_type": "execute_result"
    }
   ],
   "source": [
    "search_abc.best_params_"
   ]
  },
  {
   "cell_type": "code",
   "execution_count": 44,
   "metadata": {},
   "outputs": [],
   "source": [
    "#predicción\n",
    "y_pred_abc = search_abc.best_estimator_.predict(X_test)\n",
    "y_pred_train_abc = search_abc.best_estimator_.predict(X_train)"
   ]
  },
  {
   "cell_type": "code",
   "execution_count": 45,
   "metadata": {
    "scrolled": true
   },
   "outputs": [
    {
     "name": "stdout",
     "output_type": "stream",
     "text": [
      "Classification report - TRAIN SET\n",
      "              precision    recall  f1-score   support\n",
      "\n",
      "           1       0.84      0.63      0.72       507\n",
      "           2       0.63      0.43      0.51       143\n",
      "           3       0.42      0.18      0.25       189\n",
      "           4       0.41      0.08      0.13       352\n",
      "           5       0.76      0.97      0.85      1985\n",
      "\n",
      "    accuracy                           0.75      3176\n",
      "   macro avg       0.61      0.46      0.49      3176\n",
      "weighted avg       0.70      0.75      0.70      3176\n",
      "\n",
      "\n",
      "Classification report - TEST SET\n",
      "              precision    recall  f1-score   support\n",
      "\n",
      "           1       0.76      0.59      0.66       227\n",
      "           2       0.28      0.12      0.17        58\n",
      "           3       0.35      0.08      0.14        83\n",
      "           4       0.33      0.06      0.10       171\n",
      "           5       0.71      0.96      0.82       823\n",
      "\n",
      "    accuracy                           0.70      1362\n",
      "   macro avg       0.49      0.36      0.38      1362\n",
      "weighted avg       0.63      0.70      0.63      1362\n",
      "\n"
     ]
    }
   ],
   "source": [
    "report(y_train,y_pred_train_abc,y_test,y_pred_abc)"
   ]
  },
  {
   "cell_type": "markdown",
   "metadata": {},
   "source": [
    "### 6. GradientBoostingClassifier"
   ]
  },
  {
   "cell_type": "code",
   "execution_count": 46,
   "metadata": {},
   "outputs": [],
   "source": [
    "pipe_6 = Pipeline(steps=[\n",
    "    ('prep', prep),\n",
    "    ('modelo_6', modelo_gbc)])"
   ]
  },
  {
   "cell_type": "code",
   "execution_count": 47,
   "metadata": {},
   "outputs": [],
   "source": [
    "parametros_gbc = {\"modelo_6__learning_rate\": [0.01, 0.1, 0.5],\n",
    "                  \"modelo_6__n_estimators\" : [50, 100, 500, 1000],\n",
    "                  \"modelo_6__subsample\": [0.1,0.5,0.9]}"
   ]
  },
  {
   "cell_type": "code",
   "execution_count": 48,
   "metadata": {},
   "outputs": [
    {
     "name": "stdout",
     "output_type": "stream",
     "text": [
      "CPU times: user 2min 14s, sys: 504 ms, total: 2min 15s\n",
      "Wall time: 41min 38s\n"
     ]
    }
   ],
   "source": [
    "%%time\n",
    "search_gbc = GridSearchCV(pipe_6, parametros_gbc, cv =3,n_jobs=-1).fit(X_train, y_train)"
   ]
  },
  {
   "cell_type": "code",
   "execution_count": 49,
   "metadata": {},
   "outputs": [
    {
     "data": {
      "text/plain": [
       "{'modelo_6__learning_rate': 0.01,\n",
       " 'modelo_6__n_estimators': 1000,\n",
       " 'modelo_6__subsample': 0.5}"
      ]
     },
     "execution_count": 49,
     "metadata": {},
     "output_type": "execute_result"
    }
   ],
   "source": [
    "search_gbc.best_params_"
   ]
  },
  {
   "cell_type": "code",
   "execution_count": 50,
   "metadata": {},
   "outputs": [],
   "source": [
    "#predicción\n",
    "y_pred_gbc = search_gbc.best_estimator_.predict(X_test)\n",
    "y_pred_train_gbc = search_gbc.best_estimator_.predict(X_train)"
   ]
  },
  {
   "cell_type": "code",
   "execution_count": 51,
   "metadata": {
    "scrolled": true
   },
   "outputs": [
    {
     "name": "stdout",
     "output_type": "stream",
     "text": [
      "Classification report - TRAIN SET\n",
      "              precision    recall  f1-score   support\n",
      "\n",
      "           1       0.92      0.68      0.78       507\n",
      "           2       0.94      0.36      0.52       143\n",
      "           3       0.90      0.30      0.45       189\n",
      "           4       0.84      0.22      0.35       352\n",
      "           5       0.76      1.00      0.87      1985\n",
      "\n",
      "    accuracy                           0.79      3176\n",
      "   macro avg       0.88      0.51      0.59      3176\n",
      "weighted avg       0.81      0.79      0.76      3176\n",
      "\n",
      "\n",
      "Classification report - TEST SET\n",
      "              precision    recall  f1-score   support\n",
      "\n",
      "           1       0.85      0.66      0.74       227\n",
      "           2       0.27      0.05      0.09        58\n",
      "           3       0.45      0.06      0.11        83\n",
      "           4       0.40      0.06      0.10       171\n",
      "           5       0.71      0.98      0.82       823\n",
      "\n",
      "    accuracy                           0.72      1362\n",
      "   macro avg       0.54      0.36      0.37      1362\n",
      "weighted avg       0.66      0.72      0.64      1362\n",
      "\n"
     ]
    }
   ],
   "source": [
    "report(y_train,y_pred_train_gbc,y_test,y_pred_gbc)"
   ]
  },
  {
   "cell_type": "markdown",
   "metadata": {},
   "source": [
    "<H1 align=\"center\"> <div class=\"alert alert-block alert-info\"><b></b>Entrenamiento 65/35</div></H1>"
   ]
  },
  {
   "cell_type": "code",
   "execution_count": 52,
   "metadata": {},
   "outputs": [],
   "source": [
    "# Proporción 65/35\n",
    "X_train_2, X_test_2, y_train_2, y_test_2 = train_test_split(X_train, y_train, test_size = 0.35, random_state = 123)"
   ]
  },
  {
   "cell_type": "markdown",
   "metadata": {},
   "source": [
    "### 1. LinearSVC"
   ]
  },
  {
   "cell_type": "code",
   "execution_count": 53,
   "metadata": {},
   "outputs": [
    {
     "name": "stdout",
     "output_type": "stream",
     "text": [
      "CPU times: user 1.32 s, sys: 86.3 ms, total: 1.41 s\n",
      "Wall time: 14 s\n"
     ]
    }
   ],
   "source": [
    "%%time\n",
    "search_svc_2 = GridSearchCV(pipe_1, parametros_svc, cv =5,n_jobs=-1).fit(X_train_2, y_train_2)"
   ]
  },
  {
   "cell_type": "code",
   "execution_count": 54,
   "metadata": {},
   "outputs": [
    {
     "data": {
      "text/plain": [
       "{'modelo_1__C': 0.1, 'modelo_1__max_iter': 1000}"
      ]
     },
     "execution_count": 54,
     "metadata": {},
     "output_type": "execute_result"
    }
   ],
   "source": [
    "search_svc_2.best_params_"
   ]
  },
  {
   "cell_type": "code",
   "execution_count": 55,
   "metadata": {},
   "outputs": [],
   "source": [
    "#predicción\n",
    "y_pred_svc_2 = search_svc_2.best_estimator_.predict(X_test_2)\n",
    "y_pred_train_svc_2 = search_svc_2.best_estimator_.predict(X_train_2)"
   ]
  },
  {
   "cell_type": "code",
   "execution_count": 56,
   "metadata": {
    "scrolled": true
   },
   "outputs": [
    {
     "name": "stdout",
     "output_type": "stream",
     "text": [
      "Classification report - TRAIN SET\n",
      "              precision    recall  f1-score   support\n",
      "\n",
      "           1       1.00      0.99      1.00       339\n",
      "           2       1.00      0.99      0.99       100\n",
      "           3       1.00      0.98      0.99       121\n",
      "           4       1.00      0.94      0.97       224\n",
      "           5       0.99      1.00      0.99      1280\n",
      "\n",
      "    accuracy                           0.99      2064\n",
      "   macro avg       1.00      0.98      0.99      2064\n",
      "weighted avg       0.99      0.99      0.99      2064\n",
      "\n",
      "\n",
      "Classification report - TEST SET\n",
      "              precision    recall  f1-score   support\n",
      "\n",
      "           1       0.75      0.71      0.73       168\n",
      "           2       0.00      0.00      0.00        43\n",
      "           3       0.67      0.09      0.16        68\n",
      "           4       0.52      0.09      0.16       128\n",
      "           5       0.75      0.98      0.85       705\n",
      "\n",
      "    accuracy                           0.75      1112\n",
      "   macro avg       0.54      0.37      0.38      1112\n",
      "weighted avg       0.69      0.75      0.68      1112\n",
      "\n"
     ]
    }
   ],
   "source": [
    "report(y_train_2,y_pred_train_svc_2,y_test_2,y_pred_svc_2)"
   ]
  },
  {
   "cell_type": "markdown",
   "metadata": {},
   "source": [
    "### 2. MultinomialNB"
   ]
  },
  {
   "cell_type": "code",
   "execution_count": 57,
   "metadata": {},
   "outputs": [
    {
     "name": "stdout",
     "output_type": "stream",
     "text": [
      "CPU times: user 510 ms, sys: 63.6 ms, total: 573 ms\n",
      "Wall time: 2.89 s\n"
     ]
    }
   ],
   "source": [
    "%%time\n",
    "search_mnb_2 = GridSearchCV(pipe_2, parametros_mnb, cv =5,n_jobs=-1).fit(X_train_2, y_train_2)"
   ]
  },
  {
   "cell_type": "code",
   "execution_count": 58,
   "metadata": {},
   "outputs": [
    {
     "data": {
      "text/plain": [
       "{'modelo_2__alpha': 0.5, 'modelo_2__fit_prior': True}"
      ]
     },
     "execution_count": 58,
     "metadata": {},
     "output_type": "execute_result"
    }
   ],
   "source": [
    "search_mnb_2.best_params_"
   ]
  },
  {
   "cell_type": "code",
   "execution_count": 59,
   "metadata": {},
   "outputs": [],
   "source": [
    "#predicción\n",
    "y_pred_mnb_2 = search_mnb_2.best_estimator_.predict(X_test_2)\n",
    "y_pred_train_mnb_2 = search_mnb_2.best_estimator_.predict(X_train_2)"
   ]
  },
  {
   "cell_type": "code",
   "execution_count": 60,
   "metadata": {
    "scrolled": true
   },
   "outputs": [
    {
     "name": "stdout",
     "output_type": "stream",
     "text": [
      "Classification report - TRAIN SET\n",
      "              precision    recall  f1-score   support\n",
      "\n",
      "           1       1.00      0.99      0.99       339\n",
      "           2       1.00      0.96      0.98       100\n",
      "           3       1.00      0.95      0.97       121\n",
      "           4       1.00      0.91      0.95       224\n",
      "           5       0.97      1.00      0.99      1280\n",
      "\n",
      "    accuracy                           0.98      2064\n",
      "   macro avg       0.99      0.96      0.98      2064\n",
      "weighted avg       0.98      0.98      0.98      2064\n",
      "\n",
      "\n",
      "Classification report - TEST SET\n",
      "              precision    recall  f1-score   support\n",
      "\n",
      "           1       0.81      0.70      0.75       168\n",
      "           2       0.00      0.00      0.00        43\n",
      "           3       1.00      0.01      0.03        68\n",
      "           4       0.58      0.05      0.10       128\n",
      "           5       0.74      0.99      0.84       705\n",
      "\n",
      "    accuracy                           0.74      1112\n",
      "   macro avg       0.63      0.35      0.35      1112\n",
      "weighted avg       0.72      0.74      0.66      1112\n",
      "\n"
     ]
    }
   ],
   "source": [
    "report(y_train_2,y_pred_train_mnb_2,y_test_2,y_pred_mnb_2)"
   ]
  },
  {
   "cell_type": "markdown",
   "metadata": {},
   "source": [
    "### 3. RandomForest"
   ]
  },
  {
   "cell_type": "code",
   "execution_count": 61,
   "metadata": {},
   "outputs": [
    {
     "name": "stdout",
     "output_type": "stream",
     "text": [
      "CPU times: user 4.73 s, sys: 159 ms, total: 4.89 s\n",
      "Wall time: 2min 12s\n"
     ]
    }
   ],
   "source": [
    "%%time\n",
    "search_rf_2 = GridSearchCV(pipe_3, parametros_rf, cv =5,n_jobs=-1).fit(X_train_2, y_train_2)"
   ]
  },
  {
   "cell_type": "code",
   "execution_count": 62,
   "metadata": {},
   "outputs": [
    {
     "data": {
      "text/plain": [
       "{'modelo_3__ccp_alpha': 0.001,\n",
       " 'modelo_3__max_depth': 10,\n",
       " 'modelo_3__n_estimators': 250}"
      ]
     },
     "execution_count": 62,
     "metadata": {},
     "output_type": "execute_result"
    }
   ],
   "source": [
    "search_rf_2.best_params_"
   ]
  },
  {
   "cell_type": "code",
   "execution_count": 63,
   "metadata": {},
   "outputs": [],
   "source": [
    "#predicción\n",
    "y_pred_rf_2 = search_rf_2.best_estimator_.predict(X_test_2)\n",
    "y_pred_train_rf_2 = search_rf_2.best_estimator_.predict(X_train_2)"
   ]
  },
  {
   "cell_type": "code",
   "execution_count": 64,
   "metadata": {
    "scrolled": true
   },
   "outputs": [
    {
     "name": "stdout",
     "output_type": "stream",
     "text": [
      "Classification report - TRAIN SET\n",
      "              precision    recall  f1-score   support\n",
      "\n",
      "           1       1.00      0.01      0.01       339\n",
      "           2       0.00      0.00      0.00       100\n",
      "           3       0.00      0.00      0.00       121\n",
      "           4       0.00      0.00      0.00       224\n",
      "           5       0.62      1.00      0.77      1280\n",
      "\n",
      "    accuracy                           0.62      2064\n",
      "   macro avg       0.32      0.20      0.16      2064\n",
      "weighted avg       0.55      0.62      0.48      2064\n",
      "\n",
      "\n",
      "Classification report - TEST SET\n",
      "              precision    recall  f1-score   support\n",
      "\n",
      "           1       0.00      0.00      0.00       168\n",
      "           2       0.00      0.00      0.00        43\n",
      "           3       0.00      0.00      0.00        68\n",
      "           4       0.00      0.00      0.00       128\n",
      "           5       0.63      1.00      0.78       705\n",
      "\n",
      "    accuracy                           0.63      1112\n",
      "   macro avg       0.13      0.20      0.16      1112\n",
      "weighted avg       0.40      0.63      0.49      1112\n",
      "\n"
     ]
    }
   ],
   "source": [
    "report(y_train_2,y_pred_train_rf_2,y_test_2,y_pred_rf_2)"
   ]
  },
  {
   "cell_type": "markdown",
   "metadata": {},
   "source": [
    "### 4. DecisionTreeClassifier"
   ]
  },
  {
   "cell_type": "code",
   "execution_count": 65,
   "metadata": {},
   "outputs": [
    {
     "name": "stdout",
     "output_type": "stream",
     "text": [
      "CPU times: user 6.23 s, sys: 208 ms, total: 6.44 s\n",
      "Wall time: 1min 6s\n"
     ]
    }
   ],
   "source": [
    "%%time\n",
    "search_dtc_2 = GridSearchCV(pipe_4, parametros_dtc, cv =5,n_jobs=-1).fit(X_train_2, y_train_2)"
   ]
  },
  {
   "cell_type": "code",
   "execution_count": 66,
   "metadata": {},
   "outputs": [
    {
     "data": {
      "text/plain": [
       "{'modelo_4__max_depth': 30,\n",
       " 'modelo_4__max_features': None,\n",
       " 'modelo_4__min_samples_leaf': 1}"
      ]
     },
     "execution_count": 66,
     "metadata": {},
     "output_type": "execute_result"
    }
   ],
   "source": [
    "search_dtc_2.best_params_"
   ]
  },
  {
   "cell_type": "code",
   "execution_count": 67,
   "metadata": {},
   "outputs": [],
   "source": [
    "#predicción\n",
    "y_pred_dtc_2 = search_dtc_2.best_estimator_.predict(X_test_2)\n",
    "y_pred_train_dtc_2 = search_dtc_2.best_estimator_.predict(X_train_2)"
   ]
  },
  {
   "cell_type": "code",
   "execution_count": 68,
   "metadata": {
    "scrolled": true
   },
   "outputs": [
    {
     "name": "stdout",
     "output_type": "stream",
     "text": [
      "Classification report - TRAIN SET\n",
      "              precision    recall  f1-score   support\n",
      "\n",
      "           1       1.00      0.75      0.86       339\n",
      "           2       1.00      0.56      0.72       100\n",
      "           3       1.00      0.41      0.58       121\n",
      "           4       1.00      0.55      0.71       224\n",
      "           5       0.81      1.00      0.90      1280\n",
      "\n",
      "    accuracy                           0.85      2064\n",
      "   macro avg       0.96      0.65      0.75      2064\n",
      "weighted avg       0.88      0.85      0.84      2064\n",
      "\n",
      "\n",
      "Classification report - TEST SET\n",
      "              precision    recall  f1-score   support\n",
      "\n",
      "           1       0.77      0.58      0.66       168\n",
      "           2       0.13      0.05      0.07        43\n",
      "           3       0.08      0.01      0.02        68\n",
      "           4       0.24      0.07      0.11       128\n",
      "           5       0.73      0.95      0.83       705\n",
      "\n",
      "    accuracy                           0.70      1112\n",
      "   macro avg       0.39      0.33      0.34      1112\n",
      "weighted avg       0.62      0.70      0.64      1112\n",
      "\n"
     ]
    }
   ],
   "source": [
    "report(y_train_2,y_pred_train_dtc_2,y_test_2,y_pred_dtc_2)"
   ]
  },
  {
   "cell_type": "markdown",
   "metadata": {},
   "source": [
    "### 5. AdaBoostClassifier"
   ]
  },
  {
   "cell_type": "code",
   "execution_count": 69,
   "metadata": {},
   "outputs": [
    {
     "name": "stdout",
     "output_type": "stream",
     "text": [
      "CPU times: user 503 ms, sys: 55.9 ms, total: 559 ms\n",
      "Wall time: 16.5 s\n"
     ]
    }
   ],
   "source": [
    "%%time\n",
    "search_abc_2 = GridSearchCV(pipe_5, parametros_abc, cv =3,n_jobs=-1).fit(X_train_2, y_train_2)"
   ]
  },
  {
   "cell_type": "code",
   "execution_count": 70,
   "metadata": {},
   "outputs": [
    {
     "data": {
      "text/plain": [
       "{'modelo_5__base_estimator': DecisionTreeClassifier(max_depth=2),\n",
       " 'modelo_5__n_estimators': 1}"
      ]
     },
     "execution_count": 70,
     "metadata": {},
     "output_type": "execute_result"
    }
   ],
   "source": [
    "search_abc_2.best_params_"
   ]
  },
  {
   "cell_type": "code",
   "execution_count": 71,
   "metadata": {},
   "outputs": [],
   "source": [
    "#predicción\n",
    "y_pred_abc_2 = search_abc_2.best_estimator_.predict(X_test_2)\n",
    "y_pred_train_abc_2 = search_abc_2.best_estimator_.predict(X_train_2)"
   ]
  },
  {
   "cell_type": "code",
   "execution_count": 72,
   "metadata": {
    "scrolled": true
   },
   "outputs": [
    {
     "name": "stdout",
     "output_type": "stream",
     "text": [
      "Classification report - TRAIN SET\n",
      "              precision    recall  f1-score   support\n",
      "\n",
      "           1       0.85      0.30      0.45       339\n",
      "           2       0.00      0.00      0.00       100\n",
      "           3       1.00      0.02      0.03       121\n",
      "           4       0.00      0.00      0.00       224\n",
      "           5       0.66      1.00      0.79      1280\n",
      "\n",
      "    accuracy                           0.67      2064\n",
      "   macro avg       0.50      0.26      0.25      2064\n",
      "weighted avg       0.61      0.67      0.57      2064\n",
      "\n",
      "\n",
      "Classification report - TEST SET\n",
      "              precision    recall  f1-score   support\n",
      "\n",
      "           1       0.89      0.32      0.47       168\n",
      "           2       0.00      0.00      0.00        43\n",
      "           3       0.00      0.00      0.00        68\n",
      "           4       0.00      0.00      0.00       128\n",
      "           5       0.67      1.00      0.80       705\n",
      "\n",
      "    accuracy                           0.68      1112\n",
      "   macro avg       0.31      0.26      0.25      1112\n",
      "weighted avg       0.56      0.68      0.58      1112\n",
      "\n"
     ]
    }
   ],
   "source": [
    "report(y_train_2,y_pred_train_abc_2,y_test_2,y_pred_abc_2)"
   ]
  },
  {
   "cell_type": "markdown",
   "metadata": {},
   "source": [
    "### 6. GradientBoostingClassifier"
   ]
  },
  {
   "cell_type": "code",
   "execution_count": 73,
   "metadata": {},
   "outputs": [
    {
     "name": "stdout",
     "output_type": "stream",
     "text": [
      "CPU times: user 12.4 s, sys: 133 ms, total: 12.5 s\n",
      "Wall time: 26min 43s\n"
     ]
    }
   ],
   "source": [
    "%%time\n",
    "search_gbc_2 = GridSearchCV(pipe_6, parametros_gbc, cv =3,n_jobs=-1).fit(X_train_2, y_train_2)"
   ]
  },
  {
   "cell_type": "code",
   "execution_count": 74,
   "metadata": {},
   "outputs": [
    {
     "data": {
      "text/plain": [
       "{'modelo_6__learning_rate': 0.1,\n",
       " 'modelo_6__n_estimators': 100,\n",
       " 'modelo_6__subsample': 0.9}"
      ]
     },
     "execution_count": 74,
     "metadata": {},
     "output_type": "execute_result"
    }
   ],
   "source": [
    "search_gbc_2.best_params_"
   ]
  },
  {
   "cell_type": "code",
   "execution_count": 75,
   "metadata": {},
   "outputs": [],
   "source": [
    "#predicción\n",
    "y_pred_gbc_2 = search_gbc_2.best_estimator_.predict(X_test_2)\n",
    "y_pred_train_gbc_2 = search_gbc_2.best_estimator_.predict(X_train_2)"
   ]
  },
  {
   "cell_type": "code",
   "execution_count": 76,
   "metadata": {
    "scrolled": true
   },
   "outputs": [
    {
     "name": "stdout",
     "output_type": "stream",
     "text": [
      "Classification report - TRAIN SET\n",
      "              precision    recall  f1-score   support\n",
      "\n",
      "           1       0.95      0.74      0.83       339\n",
      "           2       0.98      0.55      0.71       100\n",
      "           3       0.98      0.37      0.54       121\n",
      "           4       0.95      0.31      0.47       224\n",
      "           5       0.79      1.00      0.88      1280\n",
      "\n",
      "    accuracy                           0.82      2064\n",
      "   macro avg       0.93      0.59      0.69      2064\n",
      "weighted avg       0.85      0.82      0.80      2064\n",
      "\n",
      "\n",
      "Classification report - TEST SET\n",
      "              precision    recall  f1-score   support\n",
      "\n",
      "           1       0.82      0.61      0.70       168\n",
      "           2       0.25      0.02      0.04        43\n",
      "           3       0.50      0.03      0.06        68\n",
      "           4       0.20      0.03      0.05       128\n",
      "           5       0.72      0.98      0.83       705\n",
      "\n",
      "    accuracy                           0.72      1112\n",
      "   macro avg       0.50      0.34      0.34      1112\n",
      "weighted avg       0.64      0.72      0.64      1112\n",
      "\n"
     ]
    }
   ],
   "source": [
    "report(y_train_2,y_pred_train_gbc_2,y_test_2,y_pred_gbc_2)"
   ]
  },
  {
   "cell_type": "markdown",
   "metadata": {},
   "source": [
    "<H1 align=\"center\"> <div class=\"alert alert-block alert-info\"><b></b>Entrenamiento 60/40</div></H1>"
   ]
  },
  {
   "cell_type": "code",
   "execution_count": 77,
   "metadata": {},
   "outputs": [],
   "source": [
    "# Proporción 60/40\n",
    "X_train_3, X_test_3, y_train_3, y_test_3 = train_test_split(X_train, y_train,  test_size = 0.4, random_state = 123)"
   ]
  },
  {
   "cell_type": "markdown",
   "metadata": {},
   "source": [
    "### 1. LinearSVC"
   ]
  },
  {
   "cell_type": "code",
   "execution_count": 78,
   "metadata": {},
   "outputs": [
    {
     "name": "stdout",
     "output_type": "stream",
     "text": [
      "CPU times: user 1.24 s, sys: 70.2 ms, total: 1.31 s\n",
      "Wall time: 12.1 s\n"
     ]
    }
   ],
   "source": [
    "%%time\n",
    "search_svc_3 = GridSearchCV(pipe_1, parametros_svc, cv =5,n_jobs=-1).fit(X_train_3, y_train_3)"
   ]
  },
  {
   "cell_type": "code",
   "execution_count": 79,
   "metadata": {},
   "outputs": [
    {
     "data": {
      "text/plain": [
       "{'modelo_1__C': 0.1, 'modelo_1__max_iter': 1000}"
      ]
     },
     "execution_count": 79,
     "metadata": {},
     "output_type": "execute_result"
    }
   ],
   "source": [
    "search_svc_3.best_params_"
   ]
  },
  {
   "cell_type": "code",
   "execution_count": 80,
   "metadata": {},
   "outputs": [],
   "source": [
    "#predicción\n",
    "y_pred_svc_3 = search_svc_3.best_estimator_.predict(X_test_3)\n",
    "y_pred_train_svc_3 = search_svc_3.best_estimator_.predict(X_train_3)"
   ]
  },
  {
   "cell_type": "code",
   "execution_count": 81,
   "metadata": {
    "scrolled": true
   },
   "outputs": [
    {
     "name": "stdout",
     "output_type": "stream",
     "text": [
      "Classification report - TRAIN SET\n",
      "              precision    recall  f1-score   support\n",
      "\n",
      "           1       1.00      0.99      1.00       313\n",
      "           2       1.00      1.00      1.00        92\n",
      "           3       1.00      0.98      0.99       113\n",
      "           4       1.00      0.94      0.97       204\n",
      "           5       0.99      1.00      0.99      1183\n",
      "\n",
      "    accuracy                           0.99      1905\n",
      "   macro avg       1.00      0.98      0.99      1905\n",
      "weighted avg       0.99      0.99      0.99      1905\n",
      "\n",
      "\n",
      "Classification report - TEST SET\n",
      "              precision    recall  f1-score   support\n",
      "\n",
      "           1       0.76      0.70      0.73       194\n",
      "           2       0.50      0.02      0.04        51\n",
      "           3       0.73      0.11      0.18        76\n",
      "           4       0.50      0.09      0.15       148\n",
      "           5       0.75      0.98      0.85       802\n",
      "\n",
      "    accuracy                           0.74      1271\n",
      "   macro avg       0.65      0.38      0.39      1271\n",
      "weighted avg       0.71      0.74      0.68      1271\n",
      "\n"
     ]
    }
   ],
   "source": [
    "report(y_train_3,y_pred_train_svc_3,y_test_3,y_pred_svc_3)"
   ]
  },
  {
   "cell_type": "markdown",
   "metadata": {},
   "source": [
    "### 2. MultinomialNB"
   ]
  },
  {
   "cell_type": "code",
   "execution_count": 82,
   "metadata": {},
   "outputs": [
    {
     "name": "stdout",
     "output_type": "stream",
     "text": [
      "CPU times: user 540 ms, sys: 120 ms, total: 660 ms\n",
      "Wall time: 2.81 s\n"
     ]
    }
   ],
   "source": [
    "%%time\n",
    "search_mnb_3 = GridSearchCV(pipe_2, parametros_mnb, cv =5,n_jobs=-1).fit(X_train_3, y_train_3)"
   ]
  },
  {
   "cell_type": "code",
   "execution_count": 83,
   "metadata": {},
   "outputs": [
    {
     "data": {
      "text/plain": [
       "{'modelo_2__alpha': 0.5, 'modelo_2__fit_prior': True}"
      ]
     },
     "execution_count": 83,
     "metadata": {},
     "output_type": "execute_result"
    }
   ],
   "source": [
    "search_mnb_3.best_params_"
   ]
  },
  {
   "cell_type": "code",
   "execution_count": 84,
   "metadata": {},
   "outputs": [],
   "source": [
    "#predicción\n",
    "y_pred_mnb_3 = search_mnb_3.best_estimator_.predict(X_test_3)\n",
    "y_pred_train_mnb_3 = search_mnb_3.best_estimator_.predict(X_train_3)"
   ]
  },
  {
   "cell_type": "code",
   "execution_count": 85,
   "metadata": {
    "scrolled": true
   },
   "outputs": [
    {
     "name": "stdout",
     "output_type": "stream",
     "text": [
      "Classification report - TRAIN SET\n",
      "              precision    recall  f1-score   support\n",
      "\n",
      "           1       0.99      0.99      0.99       313\n",
      "           2       1.00      0.96      0.98        92\n",
      "           3       1.00      0.95      0.97       113\n",
      "           4       0.99      0.90      0.95       204\n",
      "           5       0.97      1.00      0.99      1183\n",
      "\n",
      "    accuracy                           0.98      1905\n",
      "   macro avg       0.99      0.96      0.97      1905\n",
      "weighted avg       0.98      0.98      0.98      1905\n",
      "\n",
      "\n",
      "Classification report - TEST SET\n",
      "              precision    recall  f1-score   support\n",
      "\n",
      "           1       0.79      0.70      0.74       194\n",
      "           2       1.00      0.02      0.04        51\n",
      "           3       1.00      0.01      0.03        76\n",
      "           4       0.50      0.03      0.06       148\n",
      "           5       0.73      1.00      0.85       802\n",
      "\n",
      "    accuracy                           0.74      1271\n",
      "   macro avg       0.81      0.35      0.34      1271\n",
      "weighted avg       0.74      0.74      0.66      1271\n",
      "\n"
     ]
    }
   ],
   "source": [
    "report(y_train_3,y_pred_train_mnb_3,y_test_3,y_pred_mnb_3)"
   ]
  },
  {
   "cell_type": "markdown",
   "metadata": {},
   "source": [
    "### 3. RandomForest"
   ]
  },
  {
   "cell_type": "code",
   "execution_count": 86,
   "metadata": {},
   "outputs": [
    {
     "name": "stdout",
     "output_type": "stream",
     "text": [
      "CPU times: user 4.77 s, sys: 155 ms, total: 4.92 s\n",
      "Wall time: 2min 11s\n"
     ]
    }
   ],
   "source": [
    "%%time\n",
    "search_rf_3 = GridSearchCV(pipe_3, parametros_rf, cv =5,n_jobs=-1).fit(X_train_3, y_train_3)"
   ]
  },
  {
   "cell_type": "code",
   "execution_count": 87,
   "metadata": {},
   "outputs": [
    {
     "data": {
      "text/plain": [
       "{'modelo_3__ccp_alpha': 0.001,\n",
       " 'modelo_3__max_depth': 10,\n",
       " 'modelo_3__n_estimators': 250}"
      ]
     },
     "execution_count": 87,
     "metadata": {},
     "output_type": "execute_result"
    }
   ],
   "source": [
    "search_rf_3.best_params_"
   ]
  },
  {
   "cell_type": "code",
   "execution_count": 88,
   "metadata": {},
   "outputs": [],
   "source": [
    "#predicción\n",
    "y_pred_rf_3 = search_rf_3.best_estimator_.predict(X_test_3)\n",
    "y_pred_train_rf_3 = search_rf_3.best_estimator_.predict(X_train_3)"
   ]
  },
  {
   "cell_type": "code",
   "execution_count": 89,
   "metadata": {
    "scrolled": true
   },
   "outputs": [
    {
     "name": "stdout",
     "output_type": "stream",
     "text": [
      "Classification report - TRAIN SET\n",
      "              precision    recall  f1-score   support\n",
      "\n",
      "           1       1.00      0.01      0.01       313\n",
      "           2       0.00      0.00      0.00        92\n",
      "           3       0.00      0.00      0.00       113\n",
      "           4       0.00      0.00      0.00       204\n",
      "           5       0.62      1.00      0.77      1183\n",
      "\n",
      "    accuracy                           0.62      1905\n",
      "   macro avg       0.32      0.20      0.16      1905\n",
      "weighted avg       0.55      0.62      0.48      1905\n",
      "\n",
      "\n",
      "Classification report - TEST SET\n",
      "              precision    recall  f1-score   support\n",
      "\n",
      "           1       0.00      0.00      0.00       194\n",
      "           2       0.00      0.00      0.00        51\n",
      "           3       0.00      0.00      0.00        76\n",
      "           4       0.00      0.00      0.00       148\n",
      "           5       0.63      1.00      0.77       802\n",
      "\n",
      "    accuracy                           0.63      1271\n",
      "   macro avg       0.13      0.20      0.15      1271\n",
      "weighted avg       0.40      0.63      0.49      1271\n",
      "\n"
     ]
    }
   ],
   "source": [
    "report(y_train_3,y_pred_train_rf_3,y_test_3,y_pred_rf_3)"
   ]
  },
  {
   "cell_type": "markdown",
   "metadata": {},
   "source": [
    "### 4. DecisionTreeClassifier"
   ]
  },
  {
   "cell_type": "code",
   "execution_count": 90,
   "metadata": {},
   "outputs": [
    {
     "name": "stdout",
     "output_type": "stream",
     "text": [
      "CPU times: user 6.22 s, sys: 195 ms, total: 6.42 s\n",
      "Wall time: 1min 2s\n"
     ]
    }
   ],
   "source": [
    "%%time\n",
    "search_dtc_3 = GridSearchCV(pipe_4, parametros_dtc, cv =5,n_jobs=-1).fit(X_train_3, y_train_3)"
   ]
  },
  {
   "cell_type": "code",
   "execution_count": 91,
   "metadata": {},
   "outputs": [
    {
     "data": {
      "text/plain": [
       "{'modelo_4__max_depth': 50,\n",
       " 'modelo_4__max_features': None,\n",
       " 'modelo_4__min_samples_leaf': 1}"
      ]
     },
     "execution_count": 91,
     "metadata": {},
     "output_type": "execute_result"
    }
   ],
   "source": [
    "search_dtc_3.best_params_"
   ]
  },
  {
   "cell_type": "code",
   "execution_count": 92,
   "metadata": {},
   "outputs": [],
   "source": [
    "#predicción\n",
    "y_pred_dtc_3 = search_dtc_3.best_estimator_.predict(X_test_3)\n",
    "y_pred_train_dtc_3 = search_dtc_3.best_estimator_.predict(X_train_3)"
   ]
  },
  {
   "cell_type": "code",
   "execution_count": 93,
   "metadata": {
    "scrolled": true
   },
   "outputs": [
    {
     "name": "stdout",
     "output_type": "stream",
     "text": [
      "Classification report - TRAIN SET\n",
      "              precision    recall  f1-score   support\n",
      "\n",
      "           1       0.99      0.81      0.89       313\n",
      "           2       1.00      0.76      0.86        92\n",
      "           3       1.00      0.70      0.82       113\n",
      "           4       1.00      0.76      0.86       204\n",
      "           5       0.88      1.00      0.93      1183\n",
      "\n",
      "    accuracy                           0.91      1905\n",
      "   macro avg       0.97      0.81      0.88      1905\n",
      "weighted avg       0.92      0.91      0.91      1905\n",
      "\n",
      "\n",
      "Classification report - TEST SET\n",
      "              precision    recall  f1-score   support\n",
      "\n",
      "           1       0.72      0.58      0.64       194\n",
      "           2       0.19      0.10      0.13        51\n",
      "           3       0.18      0.11      0.13        76\n",
      "           4       0.22      0.07      0.10       148\n",
      "           5       0.74      0.92      0.82       802\n",
      "\n",
      "    accuracy                           0.69      1271\n",
      "   macro avg       0.41      0.35      0.37      1271\n",
      "weighted avg       0.62      0.69      0.64      1271\n",
      "\n"
     ]
    }
   ],
   "source": [
    "report(y_train_3,y_pred_train_dtc_3,y_test_3,y_pred_dtc_3)"
   ]
  },
  {
   "cell_type": "markdown",
   "metadata": {},
   "source": [
    "### 5. AdaBoostClassifier"
   ]
  },
  {
   "cell_type": "code",
   "execution_count": 94,
   "metadata": {},
   "outputs": [
    {
     "name": "stdout",
     "output_type": "stream",
     "text": [
      "CPU times: user 1.33 s, sys: 53 ms, total: 1.39 s\n",
      "Wall time: 16.2 s\n"
     ]
    }
   ],
   "source": [
    "%%time\n",
    "search_abc_3 = GridSearchCV(pipe_5, parametros_abc, cv =3,n_jobs=-1).fit(X_train_3, y_train_3)"
   ]
  },
  {
   "cell_type": "code",
   "execution_count": 95,
   "metadata": {},
   "outputs": [
    {
     "data": {
      "text/plain": [
       "{'modelo_5__base_estimator': DecisionTreeClassifier(max_depth=2),\n",
       " 'modelo_5__n_estimators': 50}"
      ]
     },
     "execution_count": 95,
     "metadata": {},
     "output_type": "execute_result"
    }
   ],
   "source": [
    "search_abc_3.best_params_"
   ]
  },
  {
   "cell_type": "code",
   "execution_count": 96,
   "metadata": {},
   "outputs": [],
   "source": [
    "#predicción\n",
    "y_pred_abc_3 = search_abc_3.best_estimator_.predict(X_test_3)\n",
    "y_pred_train_abc_3 = search_abc_3.best_estimator_.predict(X_train_3)"
   ]
  },
  {
   "cell_type": "code",
   "execution_count": 97,
   "metadata": {
    "scrolled": true
   },
   "outputs": [
    {
     "name": "stdout",
     "output_type": "stream",
     "text": [
      "Classification report - TRAIN SET\n",
      "              precision    recall  f1-score   support\n",
      "\n",
      "           1       0.78      0.50      0.61       313\n",
      "           2       0.68      0.57      0.62        92\n",
      "           3       0.55      0.11      0.18       113\n",
      "           4       0.39      0.04      0.08       204\n",
      "           5       0.73      0.98      0.84      1183\n",
      "\n",
      "    accuracy                           0.73      1905\n",
      "   macro avg       0.63      0.44      0.46      1905\n",
      "weighted avg       0.69      0.73      0.67      1905\n",
      "\n",
      "\n",
      "Classification report - TEST SET\n",
      "              precision    recall  f1-score   support\n",
      "\n",
      "           1       0.77      0.47      0.59       194\n",
      "           2       0.00      0.00      0.00        51\n",
      "           3       0.08      0.01      0.02        76\n",
      "           4       0.00      0.00      0.00       148\n",
      "           5       0.71      0.98      0.82       802\n",
      "\n",
      "    accuracy                           0.69      1271\n",
      "   macro avg       0.31      0.29      0.29      1271\n",
      "weighted avg       0.57      0.69      0.61      1271\n",
      "\n"
     ]
    }
   ],
   "source": [
    "report(y_train_3,y_pred_train_abc_3,y_test_3,y_pred_abc_3)"
   ]
  },
  {
   "cell_type": "markdown",
   "metadata": {},
   "source": [
    "### 6. GradientBoostingClassifier"
   ]
  },
  {
   "cell_type": "code",
   "execution_count": 98,
   "metadata": {},
   "outputs": [
    {
     "name": "stdout",
     "output_type": "stream",
     "text": [
      "CPU times: user 1min 40s, sys: 355 ms, total: 1min 41s\n",
      "Wall time: 20min 14s\n"
     ]
    }
   ],
   "source": [
    "%%time\n",
    "search_gbc_3 = GridSearchCV(pipe_6, parametros_gbc, cv =3,n_jobs=-1).fit(X_train_3, y_train_3)"
   ]
  },
  {
   "cell_type": "code",
   "execution_count": 99,
   "metadata": {},
   "outputs": [
    {
     "data": {
      "text/plain": [
       "{'modelo_6__learning_rate': 0.01,\n",
       " 'modelo_6__n_estimators': 1000,\n",
       " 'modelo_6__subsample': 0.9}"
      ]
     },
     "execution_count": 99,
     "metadata": {},
     "output_type": "execute_result"
    }
   ],
   "source": [
    "search_gbc_3.best_params_"
   ]
  },
  {
   "cell_type": "code",
   "execution_count": 100,
   "metadata": {},
   "outputs": [],
   "source": [
    "#predicción\n",
    "y_pred_gbc_3 = search_gbc_3.best_estimator_.predict(X_test_3)\n",
    "y_pred_train_gbc_3 = search_gbc_3.best_estimator_.predict(X_train_3)"
   ]
  },
  {
   "cell_type": "code",
   "execution_count": 101,
   "metadata": {
    "scrolled": true
   },
   "outputs": [
    {
     "name": "stdout",
     "output_type": "stream",
     "text": [
      "Classification report - TRAIN SET\n",
      "              precision    recall  f1-score   support\n",
      "\n",
      "           1       0.94      0.72      0.82       313\n",
      "           2       0.97      0.38      0.55        92\n",
      "           3       1.00      0.28      0.44       113\n",
      "           4       0.97      0.32      0.48       204\n",
      "           5       0.77      1.00      0.87      1183\n",
      "\n",
      "    accuracy                           0.81      1905\n",
      "   macro avg       0.93      0.54      0.63      1905\n",
      "weighted avg       0.84      0.81      0.78      1905\n",
      "\n",
      "\n",
      "Classification report - TEST SET\n",
      "              precision    recall  f1-score   support\n",
      "\n",
      "           1       0.83      0.61      0.70       194\n",
      "           2       0.20      0.02      0.04        51\n",
      "           3       0.60      0.04      0.07        76\n",
      "           4       0.29      0.03      0.05       148\n",
      "           5       0.72      0.99      0.83       802\n",
      "\n",
      "    accuracy                           0.72      1271\n",
      "   macro avg       0.53      0.34      0.34      1271\n",
      "weighted avg       0.65      0.72      0.64      1271\n",
      "\n"
     ]
    }
   ],
   "source": [
    "report(y_train_3,y_pred_train_gbc_3,y_test_3,y_pred_gbc_3)"
   ]
  },
  {
   "cell_type": "markdown",
   "metadata": {},
   "source": [
    "<H1 align=\"center\"> <div class=\"alert alert-block alert-info\"><b></b>Apartado para probar funciones</div></H1>"
   ]
  },
  {
   "cell_type": "markdown",
   "metadata": {},
   "source": [
    "### CURVA ROC"
   ]
  },
  {
   "cell_type": "markdown",
   "metadata": {},
   "source": [
    "**El gráfico para la curva roc no soporta problemas multiclase**"
   ]
  },
  {
   "cell_type": "code",
   "execution_count": 46,
   "metadata": {},
   "outputs": [],
   "source": [
    "def plot_roc_curve(model, xtest_std, ytest):\n",
    "    \"\"\"\n",
    "    plot_roc_curve - Plots ROC curve of given model.\n",
    "    \n",
    "    @parameters:\n",
    "        - model: a `statsmodels.formula.api` class generated method, which must be already fitted.\n",
    "        - xtest_std: numpy.ndarray. A standarized \"x\" sample, different from the one used in the model. Object.\n",
    "        - ytest: pandas.core.series.Series. The sample to compare with the generated predicted values. Object.\n",
    "        \n",
    "    @returns:\n",
    "        - A `matplotlib` object.\n",
    "    \"\"\"\n",
    "    yhat = model.predict_proba(xtest_std)[:, 1]\n",
    "    false_positive, true_positive, threshold = roc_curve(ytest, yhat)\n",
    "    # Plot ROC curve\n",
    "    plt.title('Curva ROC')\n",
    "    plt.plot(false_positive, true_positive, lw=1)\n",
    "    plt.plot([0, 1], ls=\"--\", lw=1)\n",
    "    plt.plot([0, 0], [1, 0] , c='limegreen', lw=3), plt.plot([1, 1] , c='limegreen', lw=3)\n",
    "    plt.ylabel('Verdaderos Positivos')\n",
    "    plt.xlabel('Falsos Positivos');"
   ]
  }
 ],
 "metadata": {
  "kernelspec": {
   "display_name": "Python 3",
   "language": "python",
   "name": "python3"
  },
  "language_info": {
   "codemirror_mode": {
    "name": "ipython",
    "version": 3
   },
   "file_extension": ".py",
   "mimetype": "text/x-python",
   "name": "python",
   "nbconvert_exporter": "python",
   "pygments_lexer": "ipython3",
   "version": "3.7.6"
  }
 },
 "nbformat": 4,
 "nbformat_minor": 4
}
