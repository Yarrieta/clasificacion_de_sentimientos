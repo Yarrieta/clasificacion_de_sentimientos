{
 "cells": [
  {
   "cell_type": "markdown",
   "metadata": {},
   "source": [
    "### Librerías a utilizar para etapa de modelamiento"
   ]
  },
  {
   "cell_type": "code",
   "execution_count": 1,
   "metadata": {},
   "outputs": [],
   "source": [
    "# Para implementar modelos de machine learning.\n",
    "from sklearn.svm import SVC, LinearSVC\n",
    "from sklearn.naive_bayes import MultinomialNB\n",
    "from sklearn.tree import DecisionTreeClassifier, plot_tree, export_graphviz\n",
    "from sklearn.ensemble import RandomForestClassifier, AdaBoostClassifier, GradientBoostingClassifier\n",
    "\n",
    "from sklearn.model_selection import train_test_split, GridSearchCV\n",
    "from sklearn.preprocessing import StandardScaler, PowerTransformer\n",
    "from sklearn.pipeline import Pipeline\n",
    "from sklearn.compose import ColumnTransformer\n",
    "from sklearn.impute import SimpleImputer\n",
    "from sklearn.metrics import classification_report, roc_curve\n",
    "from sklearn import set_config\n",
    "set_config(display = 'diagram')\n",
    "\n",
    "# Para recodificación de atributos\n",
    "from category_encoders import TargetEncoder, OrdinalEncoder, OneHotEncoder\n",
    "\n",
    "from datetime import datetime\n",
    "\n",
    "# Para visualización\n",
    "import graphviz\n",
    "\n",
    "# Para serialización\n",
    "import pickle\n",
    "\n",
    "# Para evitar mensajes de deprecación\n",
    "import warnings \n",
    "warnings.filterwarnings(\"ignore\")"
   ]
  },
  {
   "cell_type": "markdown",
   "metadata": {},
   "source": [
    "#### Definición de la matriz de atributos y vector objetivo"
   ]
  },
  {
   "cell_type": "code",
   "execution_count": null,
   "metadata": {},
   "outputs": [],
   "source": [
    "X_train = df.drop(columns = \"rating\") #Todas las columnas, excepto la de rating, que es el vector objetivo\n",
    "y_train = df['rating']"
   ]
  },
  {
   "cell_type": "markdown",
   "metadata": {},
   "source": [
    "#### División de la muestra"
   ]
  },
  {
   "cell_type": "markdown",
   "metadata": {},
   "source": [
    "Con el fin de revisar el comportamiento de la data, para la primera etapa (sin modificación de hiperparámetros), se entrenarán los modelos con distintas proporciones para el set de entrenamiento y testing: \n",
    "1. 60% para entrenamiento y 40% para testeo.\n",
    "2. 65% para entrenamiento y 35% para testeo.\n",
    "3. 70% para entrenamiento y 30% para testeo."
   ]
  },
  {
   "cell_type": "code",
   "execution_count": null,
   "metadata": {},
   "outputs": [],
   "source": [
    "# Proporción 60/40\n",
    "X_train, X_test, y_train, y_test = train_test_split(X, y, test_size = 0.4, random_state = 123)"
   ]
  },
  {
   "cell_type": "code",
   "execution_count": 2,
   "metadata": {},
   "outputs": [],
   "source": [
    "# is_cat = y_train.dtypes == 'category'"
   ]
  },
  {
   "cell_type": "code",
   "execution_count": null,
   "metadata": {},
   "outputs": [],
   "source": [
    "# Proporción 65/35\n",
    "X_train_2, X_test_2, y_train_2, y_test_2 = train_test_split(X, y, test_size = 0.35, random_state = 123)"
   ]
  },
  {
   "cell_type": "code",
   "execution_count": null,
   "metadata": {},
   "outputs": [],
   "source": [
    "# Proporción 70/30\n",
    "X_train_3, X_test_3, y_train_3, y_test_3 = train_test_split(X, y, test_size = 0.3, random_state = 123)"
   ]
  },
  {
   "cell_type": "markdown",
   "metadata": {},
   "source": [
    "#### Modelos propuestos"
   ]
  },
  {
   "cell_type": "code",
   "execution_count": null,
   "metadata": {},
   "outputs": [],
   "source": [
    "# Declaración de modelos\n",
    "modelo_svc = LinearSVC(random_state = 123)\n",
    "modelo_mnb = MultinomialNB()\n",
    "modelo_rf = RandomForestClassifier(random_state = 123)\n",
    "modelo_dtc = DecisionTreeClassifier(random_state= 123)\n",
    "modelo_abc = AdaBoostClassifier(random_state = 123)\n",
    "modelo_gbc = GradientBoostingClassifier(random_state = 123)"
   ]
  },
  {
   "cell_type": "markdown",
   "metadata": {},
   "source": [
    "#### Entrenamiento de los modelos sin modificación de hiperparámetros - Proporción 60/40"
   ]
  },
  {
   "cell_type": "code",
   "execution_count": null,
   "metadata": {},
   "outputs": [],
   "source": [
    "# 1. Linear SVC\n",
    "modelo_svc.fit(X_train, y_train)\n",
    "\n",
    "# 2. Multinomial NB\n",
    "modelo_mnb.fit(X_train, y_train)\n",
    "\n",
    "# 3. Random Forest\n",
    "modelo_rf.fit(X_train, y_train)\n",
    "\n",
    "# 4. DecisionTree Classifier\n",
    "modelo_dtc.fit(X_train, y_train)\n",
    "\n",
    "# 5. AdaBoost Classifier\n",
    "modelo_abc.fit(X_train, y_train)\n",
    "\n",
    "# 6. GradientBoostingClassifier\n",
    "modelo_gbc.fit(X_train, y_train)"
   ]
  },
  {
   "cell_type": "markdown",
   "metadata": {},
   "source": [
    "#### Entrenamiento de los modelos sin modificación de hiperparámetros - Proporción 65/35"
   ]
  },
  {
   "cell_type": "code",
   "execution_count": null,
   "metadata": {},
   "outputs": [],
   "source": [
    "# 1. Linear SVC\n",
    "modelo_svc.fit(X_train_2, y_train_2)\n",
    "\n",
    "# 2. Multinomial NB\n",
    "modelo_mnb.fit(X_train_2, y_train_2)\n",
    "\n",
    "# 3. Random Forest\n",
    "modelo_rf.fit(X_train_2, y_train_2)\n",
    "\n",
    "# 4. DecisionTree Classifier\n",
    "modelo_dtc.fit(X_train_2, y_train_2)\n",
    "\n",
    "# 5. AdaBoost Classifier\n",
    "modelo_abc.fit(X_train_2, y_train_2)\n",
    "\n",
    "# 6. GradientBoostingClassifier\n",
    "modelo_gbc.fit(X_train_2, y_train_2)"
   ]
  },
  {
   "cell_type": "markdown",
   "metadata": {},
   "source": [
    "#### Entrenamiento de los modelos sin modificación de hiperparámetros - Proporción 70/30"
   ]
  },
  {
   "cell_type": "code",
   "execution_count": null,
   "metadata": {},
   "outputs": [],
   "source": [
    "# 1. Linear SVC\n",
    "modelo_svc.fit(X_train_3, y_train_3)\n",
    "\n",
    "# 2. Multinomial NB\n",
    "modelo_mnb.fit(X_train_3, y_train_3)\n",
    "\n",
    "# 3. Random Forest\n",
    "modelo_rf.fit(X_train_3, y_train_3)\n",
    "\n",
    "# 4. DecisionTree Classifier\n",
    "modelo_dtc.fit(X_train_3, y_train_3)\n",
    "\n",
    "# 5. AdaBoost Classifier\n",
    "modelo_abc.fit(X_train_3, y_train_3)\n",
    "\n",
    "# 6. GradientBoostingClassifier\n",
    "modelo_gbc.fit(X_train_3, y_train_3)"
   ]
  },
  {
   "cell_type": "markdown",
   "metadata": {},
   "source": [
    "#### Predicciones en base a modelos entrenados - Proporción 60/40"
   ]
  },
  {
   "cell_type": "code",
   "execution_count": null,
   "metadata": {},
   "outputs": [],
   "source": [
    "# 1. Linear SVC\n",
    "y_pred_svc = modelo_svc.predict(X_test)\n",
    "\n",
    "# 2. Multinomial NB\n",
    "y_pred_mnb = modelo_mnb.predict(X_test)\n",
    "\n",
    "# 3. Random Forest\n",
    "y_pred_rf = modelo_rf.predict(X_test)\n",
    "\n",
    "# 4. DecisionTree Classifier\n",
    "y_pred_dtc = modelo_dtc.predict(X_test)\n",
    "\n",
    "# 5. AdaBoost Classifier\n",
    "y_pred_abc = modelo_abc.predict(X_test)\n",
    "\n",
    "# 6. GradientBoostingClassifier\n",
    "y_pred_gbc = modelo_gbc.predict(X_test)"
   ]
  },
  {
   "cell_type": "code",
   "execution_count": null,
   "metadata": {},
   "outputs": [],
   "source": [
    "print('Train')\n",
    "print(classification_report(y_train, y_pred_train_modelo, digits = 3))\n",
    "\n",
    "print('Test')\n",
    "print(classification_report(y_test, y_pred_modelo, digits = 3))"
   ]
  },
  {
   "cell_type": "markdown",
   "metadata": {},
   "source": [
    "#### Predicciones en base a modelos entrenados - Proporción 65/35"
   ]
  },
  {
   "cell_type": "code",
   "execution_count": null,
   "metadata": {},
   "outputs": [],
   "source": [
    "# 1. Linear SVC\n",
    "y_pred_svc_2 = modelo_svc.predict(X_test_2)\n",
    "\n",
    "# 2. Multinomial NB\n",
    "y_pred_mnb_2 = modelo_mnb.predict(X_test_2)\n",
    "\n",
    "# 3. Random Forest\n",
    "y_pred_rf_2 = modelo_rf.predict(X_test_2)\n",
    "\n",
    "# 4. DecisionTree Classifier\n",
    "y_pred_dtc_2 = modelo_dtc.predict(X_test_2)\n",
    "\n",
    "# 5. AdaBoost Classifier\n",
    "y_pred_abc_2 = modelo_abc.predict(X_test_2)\n",
    "\n",
    "# 6. GradientBoostingClassifier\n",
    "y_pred_gbc_2 = modelo_gbc.predict(X_test_2)"
   ]
  },
  {
   "cell_type": "code",
   "execution_count": null,
   "metadata": {},
   "outputs": [],
   "source": [
    "print('Train')\n",
    "print(classification_report(y_train, y_pred_train_modelo, digits = 3))\n",
    "\n",
    "print('Test')\n",
    "print(classification_report(y_test, y_pred_modelo, digits = 3))"
   ]
  },
  {
   "cell_type": "markdown",
   "metadata": {},
   "source": [
    "#### Predicciones en base a modelos entrenados - Proporción 70/30"
   ]
  },
  {
   "cell_type": "code",
   "execution_count": null,
   "metadata": {},
   "outputs": [],
   "source": [
    "# 1. Linear SVC\n",
    "y_pred_svc_3 = modelo_svc.predict(X_test_3)\n",
    "\n",
    "# 2. Multinomial NB\n",
    "y_pred_mnb_3 = modelo_mnb.predict(X_test_3)\n",
    "\n",
    "# 3. Random Forest\n",
    "y_pred_rf_3 = modelo_rf.predict(X_test_3)\n",
    "\n",
    "# 4. DecisionTree Classifier\n",
    "y_pred_dtc_3 = modelo_dtc.predict(X_test_3)\n",
    "\n",
    "# 5. AdaBoost Classifier\n",
    "y_pred_abc_3 = modelo_abc.predict(X_test_3)\n",
    "\n",
    "# 6. GradientBoostingClassifier\n",
    "y_pred_gbc_3 = modelo_gbc.predict(X_test_3)"
   ]
  },
  {
   "cell_type": "code",
   "execution_count": null,
   "metadata": {},
   "outputs": [],
   "source": [
    "   # FUNCIÓN PARA OBTENER CLASSIFICATION REPORT:\n",
    "def report(y_train, y_pred_train, y_test, y_pred):\n",
    "    print(\"Classification report - TRAIN SET\")\n",
    "    print(classification_report(y_train, y_pred_train))\n",
    "    print(\"\\nClassification report - TEST SET\")\n",
    "    print(classification_report(y_test, y_pred))\n",
    "\n",
    "# FUNCIÓN PARA CLASSIFICATION REPORT - SÓLO TEST SET\n",
    "def test_classification_report(nombre_modelo, y_test, y_hat):\n",
    "    print(\"\\nTEST SET - Classification report - {}\".format(nombre_modelo.upper()) )\n",
    "    print(classification_report(y_test, y_hat))"
   ]
  },
  {
   "cell_type": "markdown",
   "metadata": {},
   "source": [
    "#### Propuesta de grilla de hiperparámetros para cada modelo"
   ]
  },
  {
   "cell_type": "code",
   "execution_count": null,
   "metadata": {},
   "outputs": [],
   "source": [
    "# 1. LinearSVC\n",
    "parametros_svc = {'clf4__C':[0.01,0.1,1,10, 100, 1000],\n",
    "                  'clf4__max_iter': [1000,10000]}\n",
    "\n",
    "# 2. MultinomialNB\n",
    "parametros_mbn = {'clf2__alpha':(0.1,0.5,1.0),\n",
    "                  'clf2__fit_prior':[True]}\n",
    "\n",
    "# 3. RandomForestClassifier\n",
    "parametros_rf ={\"ccp_alpha\" : [0.001, 0.01, 0.1, 0.3, 0.5],\n",
    "                \"max_depth\" : [3, 5, 10],\n",
    "                \"n_estimators\": [250, 300, 500]}\n",
    "\n",
    "# 4. DecisionTreeClassifier\n",
    "parametros_dt = {'clf3__max_depth':(30,45,50,55),\n",
    "                 'clf3__min_samples_leaf': [1,75,100,125,150,175], \n",
    "                 'clf3__max_features':['sqrt','log2',None]}\n",
    "\n",
    "# 5. AdaBoostClassifier\n",
    "parametros_abc = {'clf5__base_estimator' : [DecisionTreeClassifier(max_depth=2)],\n",
    "                  'clf5__n_estimators': [1, 50, 100, 500]}\n",
    "\n",
    "\n",
    "# 6. GradientBoostingClassifier\n",
    "parametros_gbc = {\"learning_rate\": [0.01, 0.1, 0.5],\n",
    "                  \"n_estimators\" : [50, 100, 500, 1000],\n",
    "                  \"subsample\": [0.1,0.5,0.9]}"
   ]
  },
  {
   "cell_type": "code",
   "execution_count": null,
   "metadata": {},
   "outputs": [],
   "source": [
    "# Implementación GridsearchCV\n",
    "search_abc = GridSearchCV(AdaBoostClassifier(base_estimator = LogisticRegression(),random_state = 123), \n",
    "                          parametros_abc, cv = 3, n_jobs = -1)\n",
    "\n",
    "search_abc.fit(X_train_sc, y_train);\n",
    "\n",
    "search_abc.best_params_"
   ]
  },
  {
   "cell_type": "code",
   "execution_count": null,
   "metadata": {},
   "outputs": [],
   "source": [
    "# Para realizar la predicción en base a modelo serializado y SearchCV + Comparación con Train set\n",
    "y_pred_modelo = modelo_asignado.best_estimator_.predict(X_test)\n",
    "y_pred_train_modelo = modelo_asignado.best_estimator_.predict(X_train)"
   ]
  },
  {
   "cell_type": "code",
   "execution_count": null,
   "metadata": {},
   "outputs": [],
   "source": [
    "# Revisión de resultados\n",
    "pd.DataFrame(search_abc.cv_results_).sort_values(by = \"rank_test_score\")[0:3]"
   ]
  },
  {
   "cell_type": "code",
   "execution_count": null,
   "metadata": {},
   "outputs": [],
   "source": [
    "# Para extraer los mejores parámetros de la búsqueda de grilla\n",
    "nombre_del_modelo_asignado.best_params_"
   ]
  },
  {
   "cell_type": "markdown",
   "metadata": {},
   "source": [
    "#### Para serialización de modelo y posterior carga"
   ]
  },
  {
   "cell_type": "code",
   "execution_count": null,
   "metadata": {},
   "outputs": [],
   "source": [
    "# Para generar la serialización de los modelos entrenados\n",
    "pickle.dump(nombre_asignado, open('nombre_asignado_2.sav','wb'))"
   ]
  },
  {
   "cell_type": "code",
   "execution_count": null,
   "metadata": {},
   "outputs": [],
   "source": [
    "# Para cargar el modelo serializado\n",
    "nombre_asignado = pickle.load(open('nombre_asignado_2.sav','rb'))"
   ]
  }
 ],
 "metadata": {
  "kernelspec": {
   "display_name": "Python 3",
   "language": "python",
   "name": "python3"
  },
  "language_info": {
   "codemirror_mode": {
    "name": "ipython",
    "version": 3
   },
   "file_extension": ".py",
   "mimetype": "text/x-python",
   "name": "python",
   "nbconvert_exporter": "python",
   "pygments_lexer": "ipython3",
   "version": "3.7.6"
  }
 },
 "nbformat": 4,
 "nbformat_minor": 4
}
